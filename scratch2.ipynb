{
 "cells": [
  {
   "cell_type": "code",
   "execution_count": 41,
   "id": "670e4f48-32ab-446d-8d54-6fb11bbb8938",
   "metadata": {},
   "outputs": [],
   "source": [
    "import numpy as np\n",
    "import pandas as pd\n",
    "import plotly.express as px"
   ]
  },
  {
   "cell_type": "code",
   "execution_count": 42,
   "id": "20882168-2d0d-4506-9203-ac91cb589e3d",
   "metadata": {},
   "outputs": [
    {
     "name": "stderr",
     "output_type": "stream",
     "text": [
      "/var/folders/vm/70vjm63s4j19_zfv4zc5lz480000gn/T/ipykernel_10608/915817643.py:1: DtypeWarning:\n",
      "\n",
      "Columns (5,7) have mixed types. Specify dtype option on import or set low_memory=False.\n",
      "\n"
     ]
    },
    {
     "data": {
      "text/html": [
       "<div>\n",
       "<style scoped>\n",
       "    .dataframe tbody tr th:only-of-type {\n",
       "        vertical-align: middle;\n",
       "    }\n",
       "\n",
       "    .dataframe tbody tr th {\n",
       "        vertical-align: top;\n",
       "    }\n",
       "\n",
       "    .dataframe thead th {\n",
       "        text-align: right;\n",
       "    }\n",
       "</style>\n",
       "<table border=\"1\" class=\"dataframe\">\n",
       "  <thead>\n",
       "    <tr style=\"text-align: right;\">\n",
       "      <th></th>\n",
       "      <th>ride_id</th>\n",
       "      <th>rideable_type</th>\n",
       "      <th>started_at</th>\n",
       "      <th>ended_at</th>\n",
       "      <th>start_station_name</th>\n",
       "      <th>start_station_id</th>\n",
       "      <th>end_station_name</th>\n",
       "      <th>end_station_id</th>\n",
       "      <th>start_lat</th>\n",
       "      <th>start_lng</th>\n",
       "      <th>end_lat</th>\n",
       "      <th>end_lng</th>\n",
       "      <th>member_casual</th>\n",
       "    </tr>\n",
       "  </thead>\n",
       "  <tbody>\n",
       "    <tr>\n",
       "      <th>0</th>\n",
       "      <td>16991A7C313082EB</td>\n",
       "      <td>classic_bike</td>\n",
       "      <td>2023-02-16 18:20:42</td>\n",
       "      <td>2023-02-16 18:38:06</td>\n",
       "      <td>Kosciuszko St &amp; Nostrand Ave</td>\n",
       "      <td>4519.04</td>\n",
       "      <td>Eastern Pkwy &amp; Troy Ave</td>\n",
       "      <td>3862.07</td>\n",
       "      <td>40.690698</td>\n",
       "      <td>-73.951423</td>\n",
       "      <td>40.669290</td>\n",
       "      <td>-73.936790</td>\n",
       "      <td>casual</td>\n",
       "    </tr>\n",
       "    <tr>\n",
       "      <th>1</th>\n",
       "      <td>856FFB566BEEB824</td>\n",
       "      <td>classic_bike</td>\n",
       "      <td>2023-02-09 17:29:36</td>\n",
       "      <td>2023-02-09 17:33:07</td>\n",
       "      <td>Riverside Dr &amp; W 138 St</td>\n",
       "      <td>7942.21</td>\n",
       "      <td>St. Nicholas Terrace &amp; Convent Ave</td>\n",
       "      <td>7937.15</td>\n",
       "      <td>40.823134</td>\n",
       "      <td>-73.955860</td>\n",
       "      <td>40.821294</td>\n",
       "      <td>-73.947868</td>\n",
       "      <td>member</td>\n",
       "    </tr>\n",
       "    <tr>\n",
       "      <th>2</th>\n",
       "      <td>B1FE28D50B493430</td>\n",
       "      <td>classic_bike</td>\n",
       "      <td>2023-02-16 15:33:51</td>\n",
       "      <td>2023-02-16 15:35:01</td>\n",
       "      <td>Clinton St &amp; Tillary St</td>\n",
       "      <td>4748.07</td>\n",
       "      <td>Clark St &amp; Henry St</td>\n",
       "      <td>4789.03</td>\n",
       "      <td>40.696233</td>\n",
       "      <td>-73.991421</td>\n",
       "      <td>40.697601</td>\n",
       "      <td>-73.993446</td>\n",
       "      <td>member</td>\n",
       "    </tr>\n",
       "    <tr>\n",
       "      <th>3</th>\n",
       "      <td>870EA3D724EA6162</td>\n",
       "      <td>classic_bike</td>\n",
       "      <td>2023-02-23 17:11:39</td>\n",
       "      <td>2023-02-23 17:12:56</td>\n",
       "      <td>Clinton St &amp; Tillary St</td>\n",
       "      <td>4748.07</td>\n",
       "      <td>Clark St &amp; Henry St</td>\n",
       "      <td>4789.03</td>\n",
       "      <td>40.696233</td>\n",
       "      <td>-73.991421</td>\n",
       "      <td>40.697601</td>\n",
       "      <td>-73.993446</td>\n",
       "      <td>member</td>\n",
       "    </tr>\n",
       "    <tr>\n",
       "      <th>4</th>\n",
       "      <td>7DE8FA9EAAE8C4ED</td>\n",
       "      <td>electric_bike</td>\n",
       "      <td>2023-02-18 19:29:17</td>\n",
       "      <td>2023-02-18 19:50:52</td>\n",
       "      <td>Audubon Ave &amp; W 192 St</td>\n",
       "      <td>8469.05</td>\n",
       "      <td>St. Nicholas Terrace &amp; Convent Ave</td>\n",
       "      <td>7937.15</td>\n",
       "      <td>40.855890</td>\n",
       "      <td>-73.927082</td>\n",
       "      <td>40.821294</td>\n",
       "      <td>-73.947868</td>\n",
       "      <td>member</td>\n",
       "    </tr>\n",
       "  </tbody>\n",
       "</table>\n",
       "</div>"
      ],
      "text/plain": [
       "            ride_id  rideable_type          started_at            ended_at  \\\n",
       "0  16991A7C313082EB   classic_bike 2023-02-16 18:20:42 2023-02-16 18:38:06   \n",
       "1  856FFB566BEEB824   classic_bike 2023-02-09 17:29:36 2023-02-09 17:33:07   \n",
       "2  B1FE28D50B493430   classic_bike 2023-02-16 15:33:51 2023-02-16 15:35:01   \n",
       "3  870EA3D724EA6162   classic_bike 2023-02-23 17:11:39 2023-02-23 17:12:56   \n",
       "4  7DE8FA9EAAE8C4ED  electric_bike 2023-02-18 19:29:17 2023-02-18 19:50:52   \n",
       "\n",
       "             start_station_name start_station_id  \\\n",
       "0  Kosciuszko St & Nostrand Ave          4519.04   \n",
       "1       Riverside Dr & W 138 St          7942.21   \n",
       "2       Clinton St & Tillary St          4748.07   \n",
       "3       Clinton St & Tillary St          4748.07   \n",
       "4        Audubon Ave & W 192 St          8469.05   \n",
       "\n",
       "                     end_station_name end_station_id  start_lat  start_lng  \\\n",
       "0             Eastern Pkwy & Troy Ave        3862.07  40.690698 -73.951423   \n",
       "1  St. Nicholas Terrace & Convent Ave        7937.15  40.823134 -73.955860   \n",
       "2                 Clark St & Henry St        4789.03  40.696233 -73.991421   \n",
       "3                 Clark St & Henry St        4789.03  40.696233 -73.991421   \n",
       "4  St. Nicholas Terrace & Convent Ave        7937.15  40.855890 -73.927082   \n",
       "\n",
       "     end_lat    end_lng member_casual  \n",
       "0  40.669290 -73.936790        casual  \n",
       "1  40.821294 -73.947868        member  \n",
       "2  40.697601 -73.993446        member  \n",
       "3  40.697601 -73.993446        member  \n",
       "4  40.821294 -73.947868        member  "
      ]
     },
     "execution_count": 42,
     "metadata": {},
     "output_type": "execute_result"
    }
   ],
   "source": [
    "df = pd.read_csv('./data/202302-citibike-tripdata.csv', parse_dates=['started_at','ended_at'])\n",
    "df.head()"
   ]
  },
  {
   "cell_type": "code",
   "execution_count": 43,
   "id": "ff1dc320-71a3-4e91-85e2-65b788abdbc3",
   "metadata": {},
   "outputs": [
    {
     "data": {
      "text/plain": [
       "(1752148, 13)"
      ]
     },
     "execution_count": 43,
     "metadata": {},
     "output_type": "execute_result"
    }
   ],
   "source": [
    "df.shape"
   ]
  },
  {
   "cell_type": "code",
   "execution_count": 44,
   "id": "041b5c27-68e2-4afb-bd57-255b73de97d7",
   "metadata": {},
   "outputs": [
    {
     "name": "stdout",
     "output_type": "stream",
     "text": [
      "<class 'pandas.core.frame.DataFrame'>\n",
      "RangeIndex: 1752148 entries, 0 to 1752147\n",
      "Data columns (total 13 columns):\n",
      " #   Column              Dtype         \n",
      "---  ------              -----         \n",
      " 0   ride_id             object        \n",
      " 1   rideable_type       object        \n",
      " 2   started_at          datetime64[ns]\n",
      " 3   ended_at            datetime64[ns]\n",
      " 4   start_station_name  object        \n",
      " 5   start_station_id    object        \n",
      " 6   end_station_name    object        \n",
      " 7   end_station_id      object        \n",
      " 8   start_lat           float64       \n",
      " 9   start_lng           float64       \n",
      " 10  end_lat             float64       \n",
      " 11  end_lng             float64       \n",
      " 12  member_casual       object        \n",
      "dtypes: datetime64[ns](2), float64(4), object(7)\n",
      "memory usage: 173.8+ MB\n"
     ]
    }
   ],
   "source": [
    "df.info()"
   ]
  },
  {
   "cell_type": "code",
   "execution_count": 45,
   "id": "cba9d8ac-dfa8-419c-98c3-c31441a3710d",
   "metadata": {},
   "outputs": [],
   "source": [
    "station_lst = ['7646.04','7619.05','7631.23','7617.07','7606.01','7577.27','7595.17','7602.05','7643.18','7658.13']"
   ]
  },
  {
   "cell_type": "code",
   "execution_count": null,
   "id": "53ca2fde-2907-4425-9606-86f21f1102cd",
   "metadata": {},
   "outputs": [],
   "source": []
  },
  {
   "cell_type": "code",
   "execution_count": 46,
   "id": "337be2ff-f1f3-4296-b6e3-4c72880e789c",
   "metadata": {},
   "outputs": [
    {
     "data": {
      "text/html": [
       "<div>\n",
       "<style scoped>\n",
       "    .dataframe tbody tr th:only-of-type {\n",
       "        vertical-align: middle;\n",
       "    }\n",
       "\n",
       "    .dataframe tbody tr th {\n",
       "        vertical-align: top;\n",
       "    }\n",
       "\n",
       "    .dataframe thead th {\n",
       "        text-align: right;\n",
       "    }\n",
       "</style>\n",
       "<table border=\"1\" class=\"dataframe\">\n",
       "  <thead>\n",
       "    <tr style=\"text-align: right;\">\n",
       "      <th></th>\n",
       "      <th>start_station_id</th>\n",
       "      <th>start_lat</th>\n",
       "      <th>start_lng</th>\n",
       "    </tr>\n",
       "  </thead>\n",
       "  <tbody>\n",
       "    <tr>\n",
       "      <th>132105</th>\n",
       "      <td>7617.07</td>\n",
       "      <td>40.799624</td>\n",
       "      <td>-73.955892</td>\n",
       "    </tr>\n",
       "    <tr>\n",
       "      <th>138545</th>\n",
       "      <td>7631.23</td>\n",
       "      <td>40.801694</td>\n",
       "      <td>-73.957145</td>\n",
       "    </tr>\n",
       "    <tr>\n",
       "      <th>138554</th>\n",
       "      <td>7577.27</td>\n",
       "      <td>40.795590</td>\n",
       "      <td>-73.961884</td>\n",
       "    </tr>\n",
       "    <tr>\n",
       "      <th>138699</th>\n",
       "      <td>7643.18</td>\n",
       "      <td>40.802535</td>\n",
       "      <td>-73.953242</td>\n",
       "    </tr>\n",
       "    <tr>\n",
       "      <th>180376</th>\n",
       "      <td>7658.13</td>\n",
       "      <td>40.803865</td>\n",
       "      <td>-73.955931</td>\n",
       "    </tr>\n",
       "    <tr>\n",
       "      <th>181327</th>\n",
       "      <td>7646.04</td>\n",
       "      <td>40.802558</td>\n",
       "      <td>-73.962727</td>\n",
       "    </tr>\n",
       "    <tr>\n",
       "      <th>182768</th>\n",
       "      <td>7606.01</td>\n",
       "      <td>40.798186</td>\n",
       "      <td>-73.960591</td>\n",
       "    </tr>\n",
       "    <tr>\n",
       "      <th>185239</th>\n",
       "      <td>7619.05</td>\n",
       "      <td>40.799774</td>\n",
       "      <td>-73.962261</td>\n",
       "    </tr>\n",
       "    <tr>\n",
       "      <th>188352</th>\n",
       "      <td>7602.05</td>\n",
       "      <td>40.798786</td>\n",
       "      <td>-73.952300</td>\n",
       "    </tr>\n",
       "    <tr>\n",
       "      <th>188444</th>\n",
       "      <td>7595.17</td>\n",
       "      <td>40.796935</td>\n",
       "      <td>-73.964341</td>\n",
       "    </tr>\n",
       "  </tbody>\n",
       "</table>\n",
       "</div>"
      ],
      "text/plain": [
       "       start_station_id  start_lat  start_lng\n",
       "132105          7617.07  40.799624 -73.955892\n",
       "138545          7631.23  40.801694 -73.957145\n",
       "138554          7577.27  40.795590 -73.961884\n",
       "138699          7643.18  40.802535 -73.953242\n",
       "180376          7658.13  40.803865 -73.955931\n",
       "181327          7646.04  40.802558 -73.962727\n",
       "182768          7606.01  40.798186 -73.960591\n",
       "185239          7619.05  40.799774 -73.962261\n",
       "188352          7602.05  40.798786 -73.952300\n",
       "188444          7595.17  40.796935 -73.964341"
      ]
     },
     "execution_count": 46,
     "metadata": {},
     "output_type": "execute_result"
    }
   ],
   "source": [
    "fltr_df = df[(df['start_station_id'].isin(station_lst))].copy()\n",
    "fltr_df = fltr_df[['start_station_id','start_lat','start_lng']].drop_duplicates('start_station_id')\n",
    "fltr_df"
   ]
  },
  {
   "cell_type": "code",
   "execution_count": null,
   "id": "296bd675-f998-4d25-97dc-abcf98703c38",
   "metadata": {},
   "outputs": [],
   "source": []
  },
  {
   "cell_type": "code",
   "execution_count": 47,
   "id": "6a766bc3-10cd-476c-a5d4-514b0fecb266",
   "metadata": {},
   "outputs": [],
   "source": [
    "start_df = df[(df['start_station_id'].isin(station_lst))].copy()\n",
    "start_df['bikes_out'] = 0\n",
    "\n",
    "start_df['started_date'] = start_df['started_at'].dt.floor('d')\n",
    "start_df['ended_date'] = start_df['ended_at'].dt.floor('d')"
   ]
  },
  {
   "cell_type": "code",
   "execution_count": 48,
   "id": "27090f5a-291b-4bf6-a0b2-4133b78bea09",
   "metadata": {},
   "outputs": [],
   "source": [
    "start_df = start_df.groupby(['start_station_id','start_station_name','started_date'])[['bikes_out']].count().reset_index()\n",
    "start_df = pd.merge(start_df, fltr_df, how=\"left\", on=[\"start_station_id\"])"
   ]
  },
  {
   "cell_type": "code",
   "execution_count": 49,
   "id": "02639387-268d-49f2-bbc8-dcc0239decc6",
   "metadata": {},
   "outputs": [
    {
     "data": {
      "text/html": [
       "<div>\n",
       "<style scoped>\n",
       "    .dataframe tbody tr th:only-of-type {\n",
       "        vertical-align: middle;\n",
       "    }\n",
       "\n",
       "    .dataframe tbody tr th {\n",
       "        vertical-align: top;\n",
       "    }\n",
       "\n",
       "    .dataframe thead th {\n",
       "        text-align: right;\n",
       "    }\n",
       "</style>\n",
       "<table border=\"1\" class=\"dataframe\">\n",
       "  <thead>\n",
       "    <tr style=\"text-align: right;\">\n",
       "      <th></th>\n",
       "      <th>start_station_id</th>\n",
       "      <th>start_station_name</th>\n",
       "      <th>started_date</th>\n",
       "      <th>bikes_out</th>\n",
       "      <th>start_lat</th>\n",
       "      <th>start_lng</th>\n",
       "    </tr>\n",
       "  </thead>\n",
       "  <tbody>\n",
       "    <tr>\n",
       "      <th>130</th>\n",
       "      <td>7617.07</td>\n",
       "      <td>Central Park North &amp; Adam Clayton Powell Blvd</td>\n",
       "      <td>2023-02-20</td>\n",
       "      <td>56</td>\n",
       "      <td>40.799624</td>\n",
       "      <td>-73.955892</td>\n",
       "    </tr>\n",
       "    <tr>\n",
       "      <th>129</th>\n",
       "      <td>7617.07</td>\n",
       "      <td>Central Park North &amp; Adam Clayton Powell Blvd</td>\n",
       "      <td>2023-02-19</td>\n",
       "      <td>44</td>\n",
       "      <td>40.799624</td>\n",
       "      <td>-73.955892</td>\n",
       "    </tr>\n",
       "    <tr>\n",
       "      <th>121</th>\n",
       "      <td>7617.07</td>\n",
       "      <td>Central Park North &amp; Adam Clayton Powell Blvd</td>\n",
       "      <td>2023-02-11</td>\n",
       "      <td>40</td>\n",
       "      <td>40.799624</td>\n",
       "      <td>-73.955892</td>\n",
       "    </tr>\n",
       "    <tr>\n",
       "      <th>64</th>\n",
       "      <td>7602.05</td>\n",
       "      <td>Lenox Ave &amp; W 111 St</td>\n",
       "      <td>2023-02-10</td>\n",
       "      <td>38</td>\n",
       "      <td>40.798786</td>\n",
       "      <td>-73.952300</td>\n",
       "    </tr>\n",
       "    <tr>\n",
       "      <th>189</th>\n",
       "      <td>7631.23</td>\n",
       "      <td>Frederick Douglass Blvd &amp; W 112 St</td>\n",
       "      <td>2023-02-23</td>\n",
       "      <td>37</td>\n",
       "      <td>40.801694</td>\n",
       "      <td>-73.957145</td>\n",
       "    </tr>\n",
       "    <tr>\n",
       "      <th>176</th>\n",
       "      <td>7631.23</td>\n",
       "      <td>Frederick Douglass Blvd &amp; W 112 St</td>\n",
       "      <td>2023-02-10</td>\n",
       "      <td>37</td>\n",
       "      <td>40.801694</td>\n",
       "      <td>-73.957145</td>\n",
       "    </tr>\n",
       "    <tr>\n",
       "      <th>186</th>\n",
       "      <td>7631.23</td>\n",
       "      <td>Frederick Douglass Blvd &amp; W 112 St</td>\n",
       "      <td>2023-02-20</td>\n",
       "      <td>34</td>\n",
       "      <td>40.801694</td>\n",
       "      <td>-73.957145</td>\n",
       "    </tr>\n",
       "    <tr>\n",
       "      <th>118</th>\n",
       "      <td>7617.07</td>\n",
       "      <td>Central Park North &amp; Adam Clayton Powell Blvd</td>\n",
       "      <td>2023-02-08</td>\n",
       "      <td>34</td>\n",
       "      <td>40.799624</td>\n",
       "      <td>-73.955892</td>\n",
       "    </tr>\n",
       "    <tr>\n",
       "      <th>190</th>\n",
       "      <td>7631.23</td>\n",
       "      <td>Frederick Douglass Blvd &amp; W 112 St</td>\n",
       "      <td>2023-02-24</td>\n",
       "      <td>34</td>\n",
       "      <td>40.801694</td>\n",
       "      <td>-73.957145</td>\n",
       "    </tr>\n",
       "    <tr>\n",
       "      <th>137</th>\n",
       "      <td>7617.07</td>\n",
       "      <td>Central Park North &amp; Adam Clayton Powell Blvd</td>\n",
       "      <td>2023-02-27</td>\n",
       "      <td>34</td>\n",
       "      <td>40.799624</td>\n",
       "      <td>-73.955892</td>\n",
       "    </tr>\n",
       "  </tbody>\n",
       "</table>\n",
       "</div>"
      ],
      "text/plain": [
       "    start_station_id                             start_station_name  \\\n",
       "130          7617.07  Central Park North & Adam Clayton Powell Blvd   \n",
       "129          7617.07  Central Park North & Adam Clayton Powell Blvd   \n",
       "121          7617.07  Central Park North & Adam Clayton Powell Blvd   \n",
       "64           7602.05                           Lenox Ave & W 111 St   \n",
       "189          7631.23             Frederick Douglass Blvd & W 112 St   \n",
       "176          7631.23             Frederick Douglass Blvd & W 112 St   \n",
       "186          7631.23             Frederick Douglass Blvd & W 112 St   \n",
       "118          7617.07  Central Park North & Adam Clayton Powell Blvd   \n",
       "190          7631.23             Frederick Douglass Blvd & W 112 St   \n",
       "137          7617.07  Central Park North & Adam Clayton Powell Blvd   \n",
       "\n",
       "    started_date  bikes_out  start_lat  start_lng  \n",
       "130   2023-02-20         56  40.799624 -73.955892  \n",
       "129   2023-02-19         44  40.799624 -73.955892  \n",
       "121   2023-02-11         40  40.799624 -73.955892  \n",
       "64    2023-02-10         38  40.798786 -73.952300  \n",
       "189   2023-02-23         37  40.801694 -73.957145  \n",
       "176   2023-02-10         37  40.801694 -73.957145  \n",
       "186   2023-02-20         34  40.801694 -73.957145  \n",
       "118   2023-02-08         34  40.799624 -73.955892  \n",
       "190   2023-02-24         34  40.801694 -73.957145  \n",
       "137   2023-02-27         34  40.799624 -73.955892  "
      ]
     },
     "execution_count": 49,
     "metadata": {},
     "output_type": "execute_result"
    }
   ],
   "source": [
    "start_df.sort_values('bikes_out', ascending=False)[:10]"
   ]
  },
  {
   "cell_type": "code",
   "execution_count": 50,
   "id": "8b30e594-7810-449a-bafc-6b28c4ced8ff",
   "metadata": {},
   "outputs": [
    {
     "data": {
      "application/vnd.plotly.v1+json": {
       "config": {
        "plotlyServerURL": "https://plot.ly"
       },
       "data": [
        {
         "alignmentgroup": "True",
         "hovertemplate": "start_station_name=Central Park W & W 103 St<br>started_date=%{x}<br>bikes_out=%{y}<extra></extra>",
         "legendgroup": "Central Park W & W 103 St",
         "marker": {
          "color": "#636efa",
          "pattern": {
           "shape": ""
          }
         },
         "name": "Central Park W & W 103 St",
         "offsetgroup": "Central Park W & W 103 St",
         "orientation": "v",
         "showlegend": true,
         "textposition": "auto",
         "type": "bar",
         "x": [
          "2023-02-01T00:00:00",
          "2023-02-02T00:00:00",
          "2023-02-03T00:00:00",
          "2023-02-04T00:00:00",
          "2023-02-05T00:00:00",
          "2023-02-06T00:00:00",
          "2023-02-07T00:00:00",
          "2023-02-08T00:00:00",
          "2023-02-09T00:00:00",
          "2023-02-10T00:00:00",
          "2023-02-11T00:00:00",
          "2023-02-12T00:00:00",
          "2023-02-13T00:00:00",
          "2023-02-14T00:00:00",
          "2023-02-15T00:00:00",
          "2023-02-16T00:00:00",
          "2023-02-17T00:00:00",
          "2023-02-18T00:00:00",
          "2023-02-19T00:00:00",
          "2023-02-20T00:00:00",
          "2023-02-21T00:00:00",
          "2023-02-22T00:00:00",
          "2023-02-23T00:00:00",
          "2023-02-24T00:00:00",
          "2023-02-25T00:00:00",
          "2023-02-26T00:00:00",
          "2023-02-27T00:00:00",
          "2023-02-28T00:00:00"
         ],
         "xaxis": "x",
         "y": [
          7,
          16,
          10,
          5,
          12,
          14,
          6,
          13,
          15,
          18,
          18,
          13,
          19,
          16,
          25,
          13,
          7,
          7,
          11,
          12,
          18,
          12,
          18,
          13,
          9,
          18,
          8,
          4
         ],
         "yaxis": "y"
        },
        {
         "alignmentgroup": "True",
         "hovertemplate": "start_station_name=Columbus Ave & W 103 St<br>started_date=%{x}<br>bikes_out=%{y}<extra></extra>",
         "legendgroup": "Columbus Ave & W 103 St",
         "marker": {
          "color": "#EF553B",
          "pattern": {
           "shape": ""
          }
         },
         "name": "Columbus Ave & W 103 St",
         "offsetgroup": "Columbus Ave & W 103 St",
         "orientation": "v",
         "showlegend": true,
         "textposition": "auto",
         "type": "bar",
         "x": [
          "2023-02-01T00:00:00",
          "2023-02-02T00:00:00",
          "2023-02-03T00:00:00",
          "2023-02-04T00:00:00",
          "2023-02-05T00:00:00",
          "2023-02-06T00:00:00",
          "2023-02-07T00:00:00",
          "2023-02-08T00:00:00",
          "2023-02-09T00:00:00",
          "2023-02-10T00:00:00",
          "2023-02-11T00:00:00",
          "2023-02-12T00:00:00",
          "2023-02-13T00:00:00",
          "2023-02-14T00:00:00",
          "2023-02-15T00:00:00",
          "2023-02-16T00:00:00",
          "2023-02-17T00:00:00",
          "2023-02-18T00:00:00",
          "2023-02-19T00:00:00",
          "2023-02-20T00:00:00",
          "2023-02-21T00:00:00",
          "2023-02-22T00:00:00",
          "2023-02-23T00:00:00",
          "2023-02-24T00:00:00",
          "2023-02-25T00:00:00",
          "2023-02-26T00:00:00",
          "2023-02-27T00:00:00"
         ],
         "xaxis": "x",
         "y": [
          5,
          3,
          3,
          2,
          2,
          9,
          1,
          8,
          2,
          7,
          1,
          3,
          1,
          2,
          7,
          3,
          4,
          3,
          7,
          2,
          2,
          4,
          2,
          2,
          4,
          3,
          1
         ],
         "yaxis": "y"
        },
        {
         "alignmentgroup": "True",
         "hovertemplate": "start_station_name=Lenox Ave & W 111 St<br>started_date=%{x}<br>bikes_out=%{y}<extra></extra>",
         "legendgroup": "Lenox Ave & W 111 St",
         "marker": {
          "color": "#00cc96",
          "pattern": {
           "shape": ""
          }
         },
         "name": "Lenox Ave & W 111 St",
         "offsetgroup": "Lenox Ave & W 111 St",
         "orientation": "v",
         "showlegend": true,
         "textposition": "auto",
         "type": "bar",
         "x": [
          "2023-02-01T00:00:00",
          "2023-02-02T00:00:00",
          "2023-02-03T00:00:00",
          "2023-02-04T00:00:00",
          "2023-02-05T00:00:00",
          "2023-02-06T00:00:00",
          "2023-02-07T00:00:00",
          "2023-02-08T00:00:00",
          "2023-02-09T00:00:00",
          "2023-02-10T00:00:00",
          "2023-02-11T00:00:00",
          "2023-02-12T00:00:00",
          "2023-02-13T00:00:00",
          "2023-02-14T00:00:00",
          "2023-02-15T00:00:00",
          "2023-02-16T00:00:00",
          "2023-02-17T00:00:00",
          "2023-02-18T00:00:00",
          "2023-02-19T00:00:00",
          "2023-02-20T00:00:00",
          "2023-02-21T00:00:00",
          "2023-02-22T00:00:00",
          "2023-02-23T00:00:00",
          "2023-02-24T00:00:00",
          "2023-02-25T00:00:00",
          "2023-02-26T00:00:00",
          "2023-02-27T00:00:00",
          "2023-02-28T00:00:00"
         ],
         "xaxis": "x",
         "y": [
          19,
          17,
          9,
          5,
          11,
          21,
          17,
          18,
          21,
          38,
          24,
          18,
          14,
          19,
          21,
          20,
          18,
          20,
          20,
          29,
          10,
          23,
          12,
          19,
          11,
          15,
          15,
          7
         ],
         "yaxis": "y"
        },
        {
         "alignmentgroup": "True",
         "hovertemplate": "start_station_name=W 106 St & Central Park West<br>started_date=%{x}<br>bikes_out=%{y}<extra></extra>",
         "legendgroup": "W 106 St & Central Park West",
         "marker": {
          "color": "#ab63fa",
          "pattern": {
           "shape": ""
          }
         },
         "name": "W 106 St & Central Park West",
         "offsetgroup": "W 106 St & Central Park West",
         "orientation": "v",
         "showlegend": true,
         "textposition": "auto",
         "type": "bar",
         "x": [
          "2023-02-01T00:00:00",
          "2023-02-02T00:00:00",
          "2023-02-03T00:00:00",
          "2023-02-04T00:00:00",
          "2023-02-05T00:00:00",
          "2023-02-06T00:00:00",
          "2023-02-07T00:00:00",
          "2023-02-08T00:00:00",
          "2023-02-09T00:00:00",
          "2023-02-10T00:00:00",
          "2023-02-11T00:00:00",
          "2023-02-12T00:00:00",
          "2023-02-13T00:00:00",
          "2023-02-14T00:00:00",
          "2023-02-15T00:00:00",
          "2023-02-16T00:00:00",
          "2023-02-17T00:00:00",
          "2023-02-18T00:00:00",
          "2023-02-19T00:00:00",
          "2023-02-20T00:00:00",
          "2023-02-21T00:00:00",
          "2023-02-22T00:00:00",
          "2023-02-23T00:00:00",
          "2023-02-24T00:00:00",
          "2023-02-25T00:00:00",
          "2023-02-26T00:00:00",
          "2023-02-27T00:00:00",
          "2023-02-28T00:00:00"
         ],
         "xaxis": "x",
         "y": [
          7,
          20,
          6,
          3,
          16,
          12,
          16,
          23,
          19,
          15,
          13,
          19,
          14,
          18,
          15,
          17,
          13,
          14,
          18,
          18,
          27,
          21,
          10,
          12,
          14,
          14,
          14,
          11
         ],
         "yaxis": "y"
        },
        {
         "alignmentgroup": "True",
         "hovertemplate": "start_station_name=Central Park North & Adam Clayton Powell Blvd<br>started_date=%{x}<br>bikes_out=%{y}<extra></extra>",
         "legendgroup": "Central Park North & Adam Clayton Powell Blvd",
         "marker": {
          "color": "#FFA15A",
          "pattern": {
           "shape": ""
          }
         },
         "name": "Central Park North & Adam Clayton Powell Blvd",
         "offsetgroup": "Central Park North & Adam Clayton Powell Blvd",
         "orientation": "v",
         "showlegend": true,
         "textposition": "auto",
         "type": "bar",
         "x": [
          "2023-02-01T00:00:00",
          "2023-02-02T00:00:00",
          "2023-02-03T00:00:00",
          "2023-02-04T00:00:00",
          "2023-02-05T00:00:00",
          "2023-02-06T00:00:00",
          "2023-02-07T00:00:00",
          "2023-02-08T00:00:00",
          "2023-02-09T00:00:00",
          "2023-02-10T00:00:00",
          "2023-02-11T00:00:00",
          "2023-02-12T00:00:00",
          "2023-02-13T00:00:00",
          "2023-02-14T00:00:00",
          "2023-02-15T00:00:00",
          "2023-02-16T00:00:00",
          "2023-02-17T00:00:00",
          "2023-02-18T00:00:00",
          "2023-02-19T00:00:00",
          "2023-02-20T00:00:00",
          "2023-02-21T00:00:00",
          "2023-02-22T00:00:00",
          "2023-02-23T00:00:00",
          "2023-02-24T00:00:00",
          "2023-02-25T00:00:00",
          "2023-02-26T00:00:00",
          "2023-02-27T00:00:00",
          "2023-02-28T00:00:00"
         ],
         "xaxis": "x",
         "y": [
          22,
          21,
          7,
          8,
          32,
          26,
          14,
          34,
          23,
          29,
          40,
          33,
          26,
          32,
          30,
          33,
          9,
          30,
          44,
          56,
          21,
          12,
          30,
          18,
          17,
          33,
          34,
          10
         ],
         "yaxis": "y"
        },
        {
         "alignmentgroup": "True",
         "hovertemplate": "start_station_name=W 107 St & Columbus Ave<br>started_date=%{x}<br>bikes_out=%{y}<extra></extra>",
         "legendgroup": "W 107 St & Columbus Ave",
         "marker": {
          "color": "#19d3f3",
          "pattern": {
           "shape": ""
          }
         },
         "name": "W 107 St & Columbus Ave",
         "offsetgroup": "W 107 St & Columbus Ave",
         "orientation": "v",
         "showlegend": true,
         "textposition": "auto",
         "type": "bar",
         "x": [
          "2023-02-01T00:00:00",
          "2023-02-02T00:00:00",
          "2023-02-03T00:00:00",
          "2023-02-04T00:00:00",
          "2023-02-05T00:00:00",
          "2023-02-06T00:00:00",
          "2023-02-07T00:00:00",
          "2023-02-08T00:00:00",
          "2023-02-09T00:00:00",
          "2023-02-10T00:00:00",
          "2023-02-11T00:00:00",
          "2023-02-12T00:00:00",
          "2023-02-13T00:00:00",
          "2023-02-14T00:00:00",
          "2023-02-15T00:00:00",
          "2023-02-16T00:00:00",
          "2023-02-17T00:00:00",
          "2023-02-18T00:00:00",
          "2023-02-19T00:00:00",
          "2023-02-20T00:00:00",
          "2023-02-21T00:00:00",
          "2023-02-22T00:00:00",
          "2023-02-23T00:00:00",
          "2023-02-24T00:00:00",
          "2023-02-25T00:00:00",
          "2023-02-26T00:00:00",
          "2023-02-27T00:00:00",
          "2023-02-28T00:00:00"
         ],
         "xaxis": "x",
         "y": [
          15,
          9,
          7,
          2,
          6,
          6,
          12,
          10,
          13,
          5,
          6,
          5,
          9,
          14,
          18,
          12,
          6,
          11,
          3,
          11,
          14,
          11,
          4,
          10,
          6,
          10,
          7,
          7
         ],
         "yaxis": "y"
        },
        {
         "alignmentgroup": "True",
         "hovertemplate": "start_station_name=Frederick Douglass Blvd & W 112 St<br>started_date=%{x}<br>bikes_out=%{y}<extra></extra>",
         "legendgroup": "Frederick Douglass Blvd & W 112 St",
         "marker": {
          "color": "#FF6692",
          "pattern": {
           "shape": ""
          }
         },
         "name": "Frederick Douglass Blvd & W 112 St",
         "offsetgroup": "Frederick Douglass Blvd & W 112 St",
         "orientation": "v",
         "showlegend": true,
         "textposition": "auto",
         "type": "bar",
         "x": [
          "2023-02-01T00:00:00",
          "2023-02-02T00:00:00",
          "2023-02-03T00:00:00",
          "2023-02-04T00:00:00",
          "2023-02-05T00:00:00",
          "2023-02-06T00:00:00",
          "2023-02-07T00:00:00",
          "2023-02-08T00:00:00",
          "2023-02-09T00:00:00",
          "2023-02-10T00:00:00",
          "2023-02-11T00:00:00",
          "2023-02-12T00:00:00",
          "2023-02-13T00:00:00",
          "2023-02-14T00:00:00",
          "2023-02-15T00:00:00",
          "2023-02-16T00:00:00",
          "2023-02-17T00:00:00",
          "2023-02-18T00:00:00",
          "2023-02-19T00:00:00",
          "2023-02-20T00:00:00",
          "2023-02-21T00:00:00",
          "2023-02-22T00:00:00",
          "2023-02-23T00:00:00",
          "2023-02-24T00:00:00",
          "2023-02-25T00:00:00",
          "2023-02-26T00:00:00",
          "2023-02-27T00:00:00",
          "2023-02-28T00:00:00"
         ],
         "xaxis": "x",
         "y": [
          26,
          19,
          9,
          8,
          23,
          26,
          22,
          19,
          27,
          37,
          26,
          17,
          26,
          26,
          32,
          25,
          21,
          16,
          18,
          34,
          29,
          26,
          37,
          34,
          14,
          26,
          20,
          12
         ],
         "yaxis": "y"
        },
        {
         "alignmentgroup": "True",
         "hovertemplate": "start_station_name=Adam Clayton Powell Blvd & W 115 St<br>started_date=%{x}<br>bikes_out=%{y}<extra></extra>",
         "legendgroup": "Adam Clayton Powell Blvd & W 115 St",
         "marker": {
          "color": "#B6E880",
          "pattern": {
           "shape": ""
          }
         },
         "name": "Adam Clayton Powell Blvd & W 115 St",
         "offsetgroup": "Adam Clayton Powell Blvd & W 115 St",
         "orientation": "v",
         "showlegend": true,
         "textposition": "auto",
         "type": "bar",
         "x": [
          "2023-02-01T00:00:00",
          "2023-02-02T00:00:00",
          "2023-02-03T00:00:00",
          "2023-02-04T00:00:00",
          "2023-02-05T00:00:00",
          "2023-02-06T00:00:00",
          "2023-02-07T00:00:00",
          "2023-02-08T00:00:00",
          "2023-02-09T00:00:00",
          "2023-02-10T00:00:00",
          "2023-02-11T00:00:00",
          "2023-02-12T00:00:00",
          "2023-02-13T00:00:00",
          "2023-02-14T00:00:00",
          "2023-02-15T00:00:00",
          "2023-02-16T00:00:00",
          "2023-02-17T00:00:00",
          "2023-02-18T00:00:00",
          "2023-02-19T00:00:00",
          "2023-02-20T00:00:00",
          "2023-02-21T00:00:00",
          "2023-02-22T00:00:00",
          "2023-02-23T00:00:00",
          "2023-02-24T00:00:00",
          "2023-02-25T00:00:00",
          "2023-02-26T00:00:00",
          "2023-02-27T00:00:00",
          "2023-02-28T00:00:00"
         ],
         "xaxis": "x",
         "y": [
          7,
          8,
          6,
          1,
          9,
          6,
          9,
          9,
          8,
          8,
          5,
          3,
          6,
          10,
          8,
          13,
          4,
          5,
          5,
          12,
          4,
          6,
          12,
          9,
          7,
          5,
          14,
          5
         ],
         "yaxis": "y"
        },
        {
         "alignmentgroup": "True",
         "hovertemplate": "start_station_name=W 110 St & Amsterdam Ave<br>started_date=%{x}<br>bikes_out=%{y}<extra></extra>",
         "legendgroup": "W 110 St & Amsterdam Ave",
         "marker": {
          "color": "#FF97FF",
          "pattern": {
           "shape": ""
          }
         },
         "name": "W 110 St & Amsterdam Ave",
         "offsetgroup": "W 110 St & Amsterdam Ave",
         "orientation": "v",
         "showlegend": true,
         "textposition": "auto",
         "type": "bar",
         "x": [
          "2023-02-01T00:00:00",
          "2023-02-02T00:00:00",
          "2023-02-03T00:00:00",
          "2023-02-04T00:00:00",
          "2023-02-05T00:00:00",
          "2023-02-06T00:00:00",
          "2023-02-07T00:00:00",
          "2023-02-08T00:00:00",
          "2023-02-09T00:00:00",
          "2023-02-10T00:00:00",
          "2023-02-11T00:00:00",
          "2023-02-12T00:00:00",
          "2023-02-13T00:00:00",
          "2023-02-14T00:00:00",
          "2023-02-15T00:00:00",
          "2023-02-16T00:00:00",
          "2023-02-17T00:00:00",
          "2023-02-18T00:00:00",
          "2023-02-19T00:00:00",
          "2023-02-20T00:00:00",
          "2023-02-21T00:00:00",
          "2023-02-22T00:00:00",
          "2023-02-23T00:00:00",
          "2023-02-24T00:00:00",
          "2023-02-25T00:00:00",
          "2023-02-26T00:00:00",
          "2023-02-27T00:00:00",
          "2023-02-28T00:00:00"
         ],
         "xaxis": "x",
         "y": [
          12,
          13,
          14,
          4,
          7,
          10,
          13,
          6,
          21,
          24,
          5,
          8,
          21,
          13,
          20,
          16,
          12,
          6,
          13,
          16,
          13,
          9,
          10,
          14,
          5,
          7,
          12,
          12
         ],
         "yaxis": "y"
        },
        {
         "alignmentgroup": "True",
         "hovertemplate": "start_station_name=Frederick Douglass Blvd & W 115 St<br>started_date=%{x}<br>bikes_out=%{y}<extra></extra>",
         "legendgroup": "Frederick Douglass Blvd & W 115 St",
         "marker": {
          "color": "#FECB52",
          "pattern": {
           "shape": ""
          }
         },
         "name": "Frederick Douglass Blvd & W 115 St",
         "offsetgroup": "Frederick Douglass Blvd & W 115 St",
         "orientation": "v",
         "showlegend": true,
         "textposition": "auto",
         "type": "bar",
         "x": [
          "2023-02-01T00:00:00",
          "2023-02-02T00:00:00",
          "2023-02-03T00:00:00",
          "2023-02-04T00:00:00",
          "2023-02-05T00:00:00",
          "2023-02-06T00:00:00",
          "2023-02-07T00:00:00",
          "2023-02-08T00:00:00",
          "2023-02-09T00:00:00",
          "2023-02-10T00:00:00",
          "2023-02-11T00:00:00",
          "2023-02-12T00:00:00",
          "2023-02-13T00:00:00",
          "2023-02-14T00:00:00",
          "2023-02-15T00:00:00",
          "2023-02-16T00:00:00",
          "2023-02-17T00:00:00",
          "2023-02-18T00:00:00",
          "2023-02-19T00:00:00",
          "2023-02-20T00:00:00",
          "2023-02-21T00:00:00",
          "2023-02-22T00:00:00",
          "2023-02-23T00:00:00",
          "2023-02-24T00:00:00",
          "2023-02-25T00:00:00",
          "2023-02-26T00:00:00",
          "2023-02-27T00:00:00",
          "2023-02-28T00:00:00"
         ],
         "xaxis": "x",
         "y": [
          7,
          6,
          5,
          1,
          14,
          10,
          9,
          11,
          7,
          10,
          5,
          6,
          9,
          12,
          7,
          7,
          15,
          10,
          6,
          13,
          5,
          5,
          8,
          5,
          6,
          9,
          3,
          2
         ],
         "yaxis": "y"
        }
       ],
       "layout": {
        "autosize": true,
        "barmode": "relative",
        "legend": {
         "title": {
          "text": "start_station_name"
         },
         "tracegroupgap": 0
        },
        "margin": {
         "t": 60
        },
        "template": {
         "data": {
          "bar": [
           {
            "error_x": {
             "color": "#2a3f5f"
            },
            "error_y": {
             "color": "#2a3f5f"
            },
            "marker": {
             "line": {
              "color": "#E5ECF6",
              "width": 0.5
             },
             "pattern": {
              "fillmode": "overlay",
              "size": 10,
              "solidity": 0.2
             }
            },
            "type": "bar"
           }
          ],
          "barpolar": [
           {
            "marker": {
             "line": {
              "color": "#E5ECF6",
              "width": 0.5
             },
             "pattern": {
              "fillmode": "overlay",
              "size": 10,
              "solidity": 0.2
             }
            },
            "type": "barpolar"
           }
          ],
          "carpet": [
           {
            "aaxis": {
             "endlinecolor": "#2a3f5f",
             "gridcolor": "white",
             "linecolor": "white",
             "minorgridcolor": "white",
             "startlinecolor": "#2a3f5f"
            },
            "baxis": {
             "endlinecolor": "#2a3f5f",
             "gridcolor": "white",
             "linecolor": "white",
             "minorgridcolor": "white",
             "startlinecolor": "#2a3f5f"
            },
            "type": "carpet"
           }
          ],
          "choropleth": [
           {
            "colorbar": {
             "outlinewidth": 0,
             "ticks": ""
            },
            "type": "choropleth"
           }
          ],
          "contour": [
           {
            "colorbar": {
             "outlinewidth": 0,
             "ticks": ""
            },
            "colorscale": [
             [
              0,
              "#0d0887"
             ],
             [
              0.1111111111111111,
              "#46039f"
             ],
             [
              0.2222222222222222,
              "#7201a8"
             ],
             [
              0.3333333333333333,
              "#9c179e"
             ],
             [
              0.4444444444444444,
              "#bd3786"
             ],
             [
              0.5555555555555556,
              "#d8576b"
             ],
             [
              0.6666666666666666,
              "#ed7953"
             ],
             [
              0.7777777777777778,
              "#fb9f3a"
             ],
             [
              0.8888888888888888,
              "#fdca26"
             ],
             [
              1,
              "#f0f921"
             ]
            ],
            "type": "contour"
           }
          ],
          "contourcarpet": [
           {
            "colorbar": {
             "outlinewidth": 0,
             "ticks": ""
            },
            "type": "contourcarpet"
           }
          ],
          "heatmap": [
           {
            "colorbar": {
             "outlinewidth": 0,
             "ticks": ""
            },
            "colorscale": [
             [
              0,
              "#0d0887"
             ],
             [
              0.1111111111111111,
              "#46039f"
             ],
             [
              0.2222222222222222,
              "#7201a8"
             ],
             [
              0.3333333333333333,
              "#9c179e"
             ],
             [
              0.4444444444444444,
              "#bd3786"
             ],
             [
              0.5555555555555556,
              "#d8576b"
             ],
             [
              0.6666666666666666,
              "#ed7953"
             ],
             [
              0.7777777777777778,
              "#fb9f3a"
             ],
             [
              0.8888888888888888,
              "#fdca26"
             ],
             [
              1,
              "#f0f921"
             ]
            ],
            "type": "heatmap"
           }
          ],
          "heatmapgl": [
           {
            "colorbar": {
             "outlinewidth": 0,
             "ticks": ""
            },
            "colorscale": [
             [
              0,
              "#0d0887"
             ],
             [
              0.1111111111111111,
              "#46039f"
             ],
             [
              0.2222222222222222,
              "#7201a8"
             ],
             [
              0.3333333333333333,
              "#9c179e"
             ],
             [
              0.4444444444444444,
              "#bd3786"
             ],
             [
              0.5555555555555556,
              "#d8576b"
             ],
             [
              0.6666666666666666,
              "#ed7953"
             ],
             [
              0.7777777777777778,
              "#fb9f3a"
             ],
             [
              0.8888888888888888,
              "#fdca26"
             ],
             [
              1,
              "#f0f921"
             ]
            ],
            "type": "heatmapgl"
           }
          ],
          "histogram": [
           {
            "marker": {
             "pattern": {
              "fillmode": "overlay",
              "size": 10,
              "solidity": 0.2
             }
            },
            "type": "histogram"
           }
          ],
          "histogram2d": [
           {
            "colorbar": {
             "outlinewidth": 0,
             "ticks": ""
            },
            "colorscale": [
             [
              0,
              "#0d0887"
             ],
             [
              0.1111111111111111,
              "#46039f"
             ],
             [
              0.2222222222222222,
              "#7201a8"
             ],
             [
              0.3333333333333333,
              "#9c179e"
             ],
             [
              0.4444444444444444,
              "#bd3786"
             ],
             [
              0.5555555555555556,
              "#d8576b"
             ],
             [
              0.6666666666666666,
              "#ed7953"
             ],
             [
              0.7777777777777778,
              "#fb9f3a"
             ],
             [
              0.8888888888888888,
              "#fdca26"
             ],
             [
              1,
              "#f0f921"
             ]
            ],
            "type": "histogram2d"
           }
          ],
          "histogram2dcontour": [
           {
            "colorbar": {
             "outlinewidth": 0,
             "ticks": ""
            },
            "colorscale": [
             [
              0,
              "#0d0887"
             ],
             [
              0.1111111111111111,
              "#46039f"
             ],
             [
              0.2222222222222222,
              "#7201a8"
             ],
             [
              0.3333333333333333,
              "#9c179e"
             ],
             [
              0.4444444444444444,
              "#bd3786"
             ],
             [
              0.5555555555555556,
              "#d8576b"
             ],
             [
              0.6666666666666666,
              "#ed7953"
             ],
             [
              0.7777777777777778,
              "#fb9f3a"
             ],
             [
              0.8888888888888888,
              "#fdca26"
             ],
             [
              1,
              "#f0f921"
             ]
            ],
            "type": "histogram2dcontour"
           }
          ],
          "mesh3d": [
           {
            "colorbar": {
             "outlinewidth": 0,
             "ticks": ""
            },
            "type": "mesh3d"
           }
          ],
          "parcoords": [
           {
            "line": {
             "colorbar": {
              "outlinewidth": 0,
              "ticks": ""
             }
            },
            "type": "parcoords"
           }
          ],
          "pie": [
           {
            "automargin": true,
            "type": "pie"
           }
          ],
          "scatter": [
           {
            "fillpattern": {
             "fillmode": "overlay",
             "size": 10,
             "solidity": 0.2
            },
            "type": "scatter"
           }
          ],
          "scatter3d": [
           {
            "line": {
             "colorbar": {
              "outlinewidth": 0,
              "ticks": ""
             }
            },
            "marker": {
             "colorbar": {
              "outlinewidth": 0,
              "ticks": ""
             }
            },
            "type": "scatter3d"
           }
          ],
          "scattercarpet": [
           {
            "marker": {
             "colorbar": {
              "outlinewidth": 0,
              "ticks": ""
             }
            },
            "type": "scattercarpet"
           }
          ],
          "scattergeo": [
           {
            "marker": {
             "colorbar": {
              "outlinewidth": 0,
              "ticks": ""
             }
            },
            "type": "scattergeo"
           }
          ],
          "scattergl": [
           {
            "marker": {
             "colorbar": {
              "outlinewidth": 0,
              "ticks": ""
             }
            },
            "type": "scattergl"
           }
          ],
          "scattermapbox": [
           {
            "marker": {
             "colorbar": {
              "outlinewidth": 0,
              "ticks": ""
             }
            },
            "type": "scattermapbox"
           }
          ],
          "scatterpolar": [
           {
            "marker": {
             "colorbar": {
              "outlinewidth": 0,
              "ticks": ""
             }
            },
            "type": "scatterpolar"
           }
          ],
          "scatterpolargl": [
           {
            "marker": {
             "colorbar": {
              "outlinewidth": 0,
              "ticks": ""
             }
            },
            "type": "scatterpolargl"
           }
          ],
          "scatterternary": [
           {
            "marker": {
             "colorbar": {
              "outlinewidth": 0,
              "ticks": ""
             }
            },
            "type": "scatterternary"
           }
          ],
          "surface": [
           {
            "colorbar": {
             "outlinewidth": 0,
             "ticks": ""
            },
            "colorscale": [
             [
              0,
              "#0d0887"
             ],
             [
              0.1111111111111111,
              "#46039f"
             ],
             [
              0.2222222222222222,
              "#7201a8"
             ],
             [
              0.3333333333333333,
              "#9c179e"
             ],
             [
              0.4444444444444444,
              "#bd3786"
             ],
             [
              0.5555555555555556,
              "#d8576b"
             ],
             [
              0.6666666666666666,
              "#ed7953"
             ],
             [
              0.7777777777777778,
              "#fb9f3a"
             ],
             [
              0.8888888888888888,
              "#fdca26"
             ],
             [
              1,
              "#f0f921"
             ]
            ],
            "type": "surface"
           }
          ],
          "table": [
           {
            "cells": {
             "fill": {
              "color": "#EBF0F8"
             },
             "line": {
              "color": "white"
             }
            },
            "header": {
             "fill": {
              "color": "#C8D4E3"
             },
             "line": {
              "color": "white"
             }
            },
            "type": "table"
           }
          ]
         },
         "layout": {
          "annotationdefaults": {
           "arrowcolor": "#2a3f5f",
           "arrowhead": 0,
           "arrowwidth": 1
          },
          "autotypenumbers": "strict",
          "coloraxis": {
           "colorbar": {
            "outlinewidth": 0,
            "ticks": ""
           }
          },
          "colorscale": {
           "diverging": [
            [
             0,
             "#8e0152"
            ],
            [
             0.1,
             "#c51b7d"
            ],
            [
             0.2,
             "#de77ae"
            ],
            [
             0.3,
             "#f1b6da"
            ],
            [
             0.4,
             "#fde0ef"
            ],
            [
             0.5,
             "#f7f7f7"
            ],
            [
             0.6,
             "#e6f5d0"
            ],
            [
             0.7,
             "#b8e186"
            ],
            [
             0.8,
             "#7fbc41"
            ],
            [
             0.9,
             "#4d9221"
            ],
            [
             1,
             "#276419"
            ]
           ],
           "sequential": [
            [
             0,
             "#0d0887"
            ],
            [
             0.1111111111111111,
             "#46039f"
            ],
            [
             0.2222222222222222,
             "#7201a8"
            ],
            [
             0.3333333333333333,
             "#9c179e"
            ],
            [
             0.4444444444444444,
             "#bd3786"
            ],
            [
             0.5555555555555556,
             "#d8576b"
            ],
            [
             0.6666666666666666,
             "#ed7953"
            ],
            [
             0.7777777777777778,
             "#fb9f3a"
            ],
            [
             0.8888888888888888,
             "#fdca26"
            ],
            [
             1,
             "#f0f921"
            ]
           ],
           "sequentialminus": [
            [
             0,
             "#0d0887"
            ],
            [
             0.1111111111111111,
             "#46039f"
            ],
            [
             0.2222222222222222,
             "#7201a8"
            ],
            [
             0.3333333333333333,
             "#9c179e"
            ],
            [
             0.4444444444444444,
             "#bd3786"
            ],
            [
             0.5555555555555556,
             "#d8576b"
            ],
            [
             0.6666666666666666,
             "#ed7953"
            ],
            [
             0.7777777777777778,
             "#fb9f3a"
            ],
            [
             0.8888888888888888,
             "#fdca26"
            ],
            [
             1,
             "#f0f921"
            ]
           ]
          },
          "colorway": [
           "#636efa",
           "#EF553B",
           "#00cc96",
           "#ab63fa",
           "#FFA15A",
           "#19d3f3",
           "#FF6692",
           "#B6E880",
           "#FF97FF",
           "#FECB52"
          ],
          "font": {
           "color": "#2a3f5f"
          },
          "geo": {
           "bgcolor": "white",
           "lakecolor": "white",
           "landcolor": "#E5ECF6",
           "showlakes": true,
           "showland": true,
           "subunitcolor": "white"
          },
          "hoverlabel": {
           "align": "left"
          },
          "hovermode": "closest",
          "mapbox": {
           "style": "light"
          },
          "paper_bgcolor": "white",
          "plot_bgcolor": "#E5ECF6",
          "polar": {
           "angularaxis": {
            "gridcolor": "white",
            "linecolor": "white",
            "ticks": ""
           },
           "bgcolor": "#E5ECF6",
           "radialaxis": {
            "gridcolor": "white",
            "linecolor": "white",
            "ticks": ""
           }
          },
          "scene": {
           "xaxis": {
            "backgroundcolor": "#E5ECF6",
            "gridcolor": "white",
            "gridwidth": 2,
            "linecolor": "white",
            "showbackground": true,
            "ticks": "",
            "zerolinecolor": "white"
           },
           "yaxis": {
            "backgroundcolor": "#E5ECF6",
            "gridcolor": "white",
            "gridwidth": 2,
            "linecolor": "white",
            "showbackground": true,
            "ticks": "",
            "zerolinecolor": "white"
           },
           "zaxis": {
            "backgroundcolor": "#E5ECF6",
            "gridcolor": "white",
            "gridwidth": 2,
            "linecolor": "white",
            "showbackground": true,
            "ticks": "",
            "zerolinecolor": "white"
           }
          },
          "shapedefaults": {
           "line": {
            "color": "#2a3f5f"
           }
          },
          "ternary": {
           "aaxis": {
            "gridcolor": "white",
            "linecolor": "white",
            "ticks": ""
           },
           "baxis": {
            "gridcolor": "white",
            "linecolor": "white",
            "ticks": ""
           },
           "bgcolor": "#E5ECF6",
           "caxis": {
            "gridcolor": "white",
            "linecolor": "white",
            "ticks": ""
           }
          },
          "title": {
           "x": 0.05
          },
          "xaxis": {
           "automargin": true,
           "gridcolor": "white",
           "linecolor": "white",
           "ticks": "",
           "title": {
            "standoff": 15
           },
           "zerolinecolor": "white",
           "zerolinewidth": 2
          },
          "yaxis": {
           "automargin": true,
           "gridcolor": "white",
           "linecolor": "white",
           "ticks": "",
           "title": {
            "standoff": 15
           },
           "zerolinecolor": "white",
           "zerolinewidth": 2
          }
         }
        },
        "xaxis": {
         "anchor": "y",
         "autorange": true,
         "domain": [
          0,
          1
         ],
         "range": [
          "2023-01-31 12:00",
          "2023-02-28 12:00"
         ],
         "title": {
          "text": "started_date"
         },
         "type": "date"
        },
        "yaxis": {
         "anchor": "x",
         "autorange": true,
         "domain": [
          0,
          1
         ],
         "range": [
          0,
          213.68421052631578
         ],
         "title": {
          "text": "bikes_out"
         },
         "type": "linear"
        }
       }
      },
      "image/png": "[encoded data removed]",
      "text/html": [
       "<div>                            <div id=\"8212d791-8761-4ce4-bfa5-342bded443af\" class=\"plotly-graph-div\" style=\"height:525px; width:100%;\"></div>            <script type=\"text/javascript\">                require([\"plotly\"], function(Plotly) {                    window.PLOTLYENV=window.PLOTLYENV || {};                                    if (document.getElementById(\"8212d791-8761-4ce4-bfa5-342bded443af\")) {                    Plotly.newPlot(                        \"8212d791-8761-4ce4-bfa5-342bded443af\",                        [{\"alignmentgroup\":\"True\",\"hovertemplate\":\"start_station_name=Central Park W & W 103 St<br>started_date=%{x}<br>bikes_out=%{y}<extra></extra>\",\"legendgroup\":\"Central Park W & W 103 St\",\"marker\":{\"color\":\"#636efa\",\"pattern\":{\"shape\":\"\"}},\"name\":\"Central Park W & W 103 St\",\"offsetgroup\":\"Central Park W & W 103 St\",\"orientation\":\"v\",\"showlegend\":true,\"textposition\":\"auto\",\"x\":[\"2023-02-01T00:00:00\",\"2023-02-02T00:00:00\",\"2023-02-03T00:00:00\",\"2023-02-04T00:00:00\",\"2023-02-05T00:00:00\",\"2023-02-06T00:00:00\",\"2023-02-07T00:00:00\",\"2023-02-08T00:00:00\",\"2023-02-09T00:00:00\",\"2023-02-10T00:00:00\",\"2023-02-11T00:00:00\",\"2023-02-12T00:00:00\",\"2023-02-13T00:00:00\",\"2023-02-14T00:00:00\",\"2023-02-15T00:00:00\",\"2023-02-16T00:00:00\",\"2023-02-17T00:00:00\",\"2023-02-18T00:00:00\",\"2023-02-19T00:00:00\",\"2023-02-20T00:00:00\",\"2023-02-21T00:00:00\",\"2023-02-22T00:00:00\",\"2023-02-23T00:00:00\",\"2023-02-24T00:00:00\",\"2023-02-25T00:00:00\",\"2023-02-26T00:00:00\",\"2023-02-27T00:00:00\",\"2023-02-28T00:00:00\"],\"xaxis\":\"x\",\"y\":[7,16,10,5,12,14,6,13,15,18,18,13,19,16,25,13,7,7,11,12,18,12,18,13,9,18,8,4],\"yaxis\":\"y\",\"type\":\"bar\"},{\"alignmentgroup\":\"True\",\"hovertemplate\":\"start_station_name=Columbus Ave & W 103 St<br>started_date=%{x}<br>bikes_out=%{y}<extra></extra>\",\"legendgroup\":\"Columbus Ave & W 103 St\",\"marker\":{\"color\":\"#EF553B\",\"pattern\":{\"shape\":\"\"}},\"name\":\"Columbus Ave & W 103 St\",\"offsetgroup\":\"Columbus Ave & W 103 St\",\"orientation\":\"v\",\"showlegend\":true,\"textposition\":\"auto\",\"x\":[\"2023-02-01T00:00:00\",\"2023-02-02T00:00:00\",\"2023-02-03T00:00:00\",\"2023-02-04T00:00:00\",\"2023-02-05T00:00:00\",\"2023-02-06T00:00:00\",\"2023-02-07T00:00:00\",\"2023-02-08T00:00:00\",\"2023-02-09T00:00:00\",\"2023-02-10T00:00:00\",\"2023-02-11T00:00:00\",\"2023-02-12T00:00:00\",\"2023-02-13T00:00:00\",\"2023-02-14T00:00:00\",\"2023-02-15T00:00:00\",\"2023-02-16T00:00:00\",\"2023-02-17T00:00:00\",\"2023-02-18T00:00:00\",\"2023-02-19T00:00:00\",\"2023-02-20T00:00:00\",\"2023-02-21T00:00:00\",\"2023-02-22T00:00:00\",\"2023-02-23T00:00:00\",\"2023-02-24T00:00:00\",\"2023-02-25T00:00:00\",\"2023-02-26T00:00:00\",\"2023-02-27T00:00:00\"],\"xaxis\":\"x\",\"y\":[5,3,3,2,2,9,1,8,2,7,1,3,1,2,7,3,4,3,7,2,2,4,2,2,4,3,1],\"yaxis\":\"y\",\"type\":\"bar\"},{\"alignmentgroup\":\"True\",\"hovertemplate\":\"start_station_name=Lenox Ave & W 111 St<br>started_date=%{x}<br>bikes_out=%{y}<extra></extra>\",\"legendgroup\":\"Lenox Ave & W 111 St\",\"marker\":{\"color\":\"#00cc96\",\"pattern\":{\"shape\":\"\"}},\"name\":\"Lenox Ave & W 111 St\",\"offsetgroup\":\"Lenox Ave & W 111 St\",\"orientation\":\"v\",\"showlegend\":true,\"textposition\":\"auto\",\"x\":[\"2023-02-01T00:00:00\",\"2023-02-02T00:00:00\",\"2023-02-03T00:00:00\",\"2023-02-04T00:00:00\",\"2023-02-05T00:00:00\",\"2023-02-06T00:00:00\",\"2023-02-07T00:00:00\",\"2023-02-08T00:00:00\",\"2023-02-09T00:00:00\",\"2023-02-10T00:00:00\",\"2023-02-11T00:00:00\",\"2023-02-12T00:00:00\",\"2023-02-13T00:00:00\",\"2023-02-14T00:00:00\",\"2023-02-15T00:00:00\",\"2023-02-16T00:00:00\",\"2023-02-17T00:00:00\",\"2023-02-18T00:00:00\",\"2023-02-19T00:00:00\",\"2023-02-20T00:00:00\",\"2023-02-21T00:00:00\",\"2023-02-22T00:00:00\",\"2023-02-23T00:00:00\",\"2023-02-24T00:00:00\",\"2023-02-25T00:00:00\",\"2023-02-26T00:00:00\",\"2023-02-27T00:00:00\",\"2023-02-28T00:00:00\"],\"xaxis\":\"x\",\"y\":[19,17,9,5,11,21,17,18,21,38,24,18,14,19,21,20,18,20,20,29,10,23,12,19,11,15,15,7],\"yaxis\":\"y\",\"type\":\"bar\"},{\"alignmentgroup\":\"True\",\"hovertemplate\":\"start_station_name=W 106 St & Central Park West<br>started_date=%{x}<br>bikes_out=%{y}<extra></extra>\",\"legendgroup\":\"W 106 St & Central Park West\",\"marker\":{\"color\":\"#ab63fa\",\"pattern\":{\"shape\":\"\"}},\"name\":\"W 106 St & Central Park West\",\"offsetgroup\":\"W 106 St & Central Park West\",\"orientation\":\"v\",\"showlegend\":true,\"textposition\":\"auto\",\"x\":[\"2023-02-01T00:00:00\",\"2023-02-02T00:00:00\",\"2023-02-03T00:00:00\",\"2023-02-04T00:00:00\",\"2023-02-05T00:00:00\",\"2023-02-06T00:00:00\",\"2023-02-07T00:00:00\",\"2023-02-08T00:00:00\",\"2023-02-09T00:00:00\",\"2023-02-10T00:00:00\",\"2023-02-11T00:00:00\",\"2023-02-12T00:00:00\",\"2023-02-13T00:00:00\",\"2023-02-14T00:00:00\",\"2023-02-15T00:00:00\",\"2023-02-16T00:00:00\",\"2023-02-17T00:00:00\",\"2023-02-18T00:00:00\",\"2023-02-19T00:00:00\",\"2023-02-20T00:00:00\",\"2023-02-21T00:00:00\",\"2023-02-22T00:00:00\",\"2023-02-23T00:00:00\",\"2023-02-24T00:00:00\",\"2023-02-25T00:00:00\",\"2023-02-26T00:00:00\",\"2023-02-27T00:00:00\",\"2023-02-28T00:00:00\"],\"xaxis\":\"x\",\"y\":[7,20,6,3,16,12,16,23,19,15,13,19,14,18,15,17,13,14,18,18,27,21,10,12,14,14,14,11],\"yaxis\":\"y\",\"type\":\"bar\"},{\"alignmentgroup\":\"True\",\"hovertemplate\":\"start_station_name=Central Park North & Adam Clayton Powell Blvd<br>started_date=%{x}<br>bikes_out=%{y}<extra></extra>\",\"legendgroup\":\"Central Park North & Adam Clayton Powell Blvd\",\"marker\":{\"color\":\"#FFA15A\",\"pattern\":{\"shape\":\"\"}},\"name\":\"Central Park North & Adam Clayton Powell Blvd\",\"offsetgroup\":\"Central Park North & Adam Clayton Powell Blvd\",\"orientation\":\"v\",\"showlegend\":true,\"textposition\":\"auto\",\"x\":[\"2023-02-01T00:00:00\",\"2023-02-02T00:00:00\",\"2023-02-03T00:00:00\",\"2023-02-04T00:00:00\",\"2023-02-05T00:00:00\",\"2023-02-06T00:00:00\",\"2023-02-07T00:00:00\",\"2023-02-08T00:00:00\",\"2023-02-09T00:00:00\",\"2023-02-10T00:00:00\",\"2023-02-11T00:00:00\",\"2023-02-12T00:00:00\",\"2023-02-13T00:00:00\",\"2023-02-14T00:00:00\",\"2023-02-15T00:00:00\",\"2023-02-16T00:00:00\",\"2023-02-17T00:00:00\",\"2023-02-18T00:00:00\",\"2023-02-19T00:00:00\",\"2023-02-20T00:00:00\",\"2023-02-21T00:00:00\",\"2023-02-22T00:00:00\",\"2023-02-23T00:00:00\",\"2023-02-24T00:00:00\",\"2023-02-25T00:00:00\",\"2023-02-26T00:00:00\",\"2023-02-27T00:00:00\",\"2023-02-28T00:00:00\"],\"xaxis\":\"x\",\"y\":[22,21,7,8,32,26,14,34,23,29,40,33,26,32,30,33,9,30,44,56,21,12,30,18,17,33,34,10],\"yaxis\":\"y\",\"type\":\"bar\"},{\"alignmentgroup\":\"True\",\"hovertemplate\":\"start_station_name=W 107 St & Columbus Ave<br>started_date=%{x}<br>bikes_out=%{y}<extra></extra>\",\"legendgroup\":\"W 107 St & Columbus Ave\",\"marker\":{\"color\":\"#19d3f3\",\"pattern\":{\"shape\":\"\"}},\"name\":\"W 107 St & Columbus Ave\",\"offsetgroup\":\"W 107 St & Columbus Ave\",\"orientation\":\"v\",\"showlegend\":true,\"textposition\":\"auto\",\"x\":[\"2023-02-01T00:00:00\",\"2023-02-02T00:00:00\",\"2023-02-03T00:00:00\",\"2023-02-04T00:00:00\",\"2023-02-05T00:00:00\",\"2023-02-06T00:00:00\",\"2023-02-07T00:00:00\",\"2023-02-08T00:00:00\",\"2023-02-09T00:00:00\",\"2023-02-10T00:00:00\",\"2023-02-11T00:00:00\",\"2023-02-12T00:00:00\",\"2023-02-13T00:00:00\",\"2023-02-14T00:00:00\",\"2023-02-15T00:00:00\",\"2023-02-16T00:00:00\",\"2023-02-17T00:00:00\",\"2023-02-18T00:00:00\",\"2023-02-19T00:00:00\",\"2023-02-20T00:00:00\",\"2023-02-21T00:00:00\",\"2023-02-22T00:00:00\",\"2023-02-23T00:00:00\",\"2023-02-24T00:00:00\",\"2023-02-25T00:00:00\",\"2023-02-26T00:00:00\",\"2023-02-27T00:00:00\",\"2023-02-28T00:00:00\"],\"xaxis\":\"x\",\"y\":[15,9,7,2,6,6,12,10,13,5,6,5,9,14,18,12,6,11,3,11,14,11,4,10,6,10,7,7],\"yaxis\":\"y\",\"type\":\"bar\"},{\"alignmentgroup\":\"True\",\"hovertemplate\":\"start_station_name=Frederick Douglass Blvd & W 112 St<br>started_date=%{x}<br>bikes_out=%{y}<extra></extra>\",\"legendgroup\":\"Frederick Douglass Blvd & W 112 St\",\"marker\":{\"color\":\"#FF6692\",\"pattern\":{\"shape\":\"\"}},\"name\":\"Frederick Douglass Blvd & W 112 St\",\"offsetgroup\":\"Frederick Douglass Blvd & W 112 St\",\"orientation\":\"v\",\"showlegend\":true,\"textposition\":\"auto\",\"x\":[\"2023-02-01T00:00:00\",\"2023-02-02T00:00:00\",\"2023-02-03T00:00:00\",\"2023-02-04T00:00:00\",\"2023-02-05T00:00:00\",\"2023-02-06T00:00:00\",\"2023-02-07T00:00:00\",\"2023-02-08T00:00:00\",\"2023-02-09T00:00:00\",\"2023-02-10T00:00:00\",\"2023-02-11T00:00:00\",\"2023-02-12T00:00:00\",\"2023-02-13T00:00:00\",\"2023-02-14T00:00:00\",\"2023-02-15T00:00:00\",\"2023-02-16T00:00:00\",\"2023-02-17T00:00:00\",\"2023-02-18T00:00:00\",\"2023-02-19T00:00:00\",\"2023-02-20T00:00:00\",\"2023-02-21T00:00:00\",\"2023-02-22T00:00:00\",\"2023-02-23T00:00:00\",\"2023-02-24T00:00:00\",\"2023-02-25T00:00:00\",\"2023-02-26T00:00:00\",\"2023-02-27T00:00:00\",\"2023-02-28T00:00:00\"],\"xaxis\":\"x\",\"y\":[26,19,9,8,23,26,22,19,27,37,26,17,26,26,32,25,21,16,18,34,29,26,37,34,14,26,20,12],\"yaxis\":\"y\",\"type\":\"bar\"},{\"alignmentgroup\":\"True\",\"hovertemplate\":\"start_station_name=Adam Clayton Powell Blvd & W 115 St<br>started_date=%{x}<br>bikes_out=%{y}<extra></extra>\",\"legendgroup\":\"Adam Clayton Powell Blvd & W 115 St\",\"marker\":{\"color\":\"#B6E880\",\"pattern\":{\"shape\":\"\"}},\"name\":\"Adam Clayton Powell Blvd & W 115 St\",\"offsetgroup\":\"Adam Clayton Powell Blvd & W 115 St\",\"orientation\":\"v\",\"showlegend\":true,\"textposition\":\"auto\",\"x\":[\"2023-02-01T00:00:00\",\"2023-02-02T00:00:00\",\"2023-02-03T00:00:00\",\"2023-02-04T00:00:00\",\"2023-02-05T00:00:00\",\"2023-02-06T00:00:00\",\"2023-02-07T00:00:00\",\"2023-02-08T00:00:00\",\"2023-02-09T00:00:00\",\"2023-02-10T00:00:00\",\"2023-02-11T00:00:00\",\"2023-02-12T00:00:00\",\"2023-02-13T00:00:00\",\"2023-02-14T00:00:00\",\"2023-02-15T00:00:00\",\"2023-02-16T00:00:00\",\"2023-02-17T00:00:00\",\"2023-02-18T00:00:00\",\"2023-02-19T00:00:00\",\"2023-02-20T00:00:00\",\"2023-02-21T00:00:00\",\"2023-02-22T00:00:00\",\"2023-02-23T00:00:00\",\"2023-02-24T00:00:00\",\"2023-02-25T00:00:00\",\"2023-02-26T00:00:00\",\"2023-02-27T00:00:00\",\"2023-02-28T00:00:00\"],\"xaxis\":\"x\",\"y\":[7,8,6,1,9,6,9,9,8,8,5,3,6,10,8,13,4,5,5,12,4,6,12,9,7,5,14,5],\"yaxis\":\"y\",\"type\":\"bar\"},{\"alignmentgroup\":\"True\",\"hovertemplate\":\"start_station_name=W 110 St & Amsterdam Ave<br>started_date=%{x}<br>bikes_out=%{y}<extra></extra>\",\"legendgroup\":\"W 110 St & Amsterdam Ave\",\"marker\":{\"color\":\"#FF97FF\",\"pattern\":{\"shape\":\"\"}},\"name\":\"W 110 St & Amsterdam Ave\",\"offsetgroup\":\"W 110 St & Amsterdam Ave\",\"orientation\":\"v\",\"showlegend\":true,\"textposition\":\"auto\",\"x\":[\"2023-02-01T00:00:00\",\"2023-02-02T00:00:00\",\"2023-02-03T00:00:00\",\"2023-02-04T00:00:00\",\"2023-02-05T00:00:00\",\"2023-02-06T00:00:00\",\"2023-02-07T00:00:00\",\"2023-02-08T00:00:00\",\"2023-02-09T00:00:00\",\"2023-02-10T00:00:00\",\"2023-02-11T00:00:00\",\"2023-02-12T00:00:00\",\"2023-02-13T00:00:00\",\"2023-02-14T00:00:00\",\"2023-02-15T00:00:00\",\"2023-02-16T00:00:00\",\"2023-02-17T00:00:00\",\"2023-02-18T00:00:00\",\"2023-02-19T00:00:00\",\"2023-02-20T00:00:00\",\"2023-02-21T00:00:00\",\"2023-02-22T00:00:00\",\"2023-02-23T00:00:00\",\"2023-02-24T00:00:00\",\"2023-02-25T00:00:00\",\"2023-02-26T00:00:00\",\"2023-02-27T00:00:00\",\"2023-02-28T00:00:00\"],\"xaxis\":\"x\",\"y\":[12,13,14,4,7,10,13,6,21,24,5,8,21,13,20,16,12,6,13,16,13,9,10,14,5,7,12,12],\"yaxis\":\"y\",\"type\":\"bar\"},{\"alignmentgroup\":\"True\",\"hovertemplate\":\"start_station_name=Frederick Douglass Blvd & W 115 St<br>started_date=%{x}<br>bikes_out=%{y}<extra></extra>\",\"legendgroup\":\"Frederick Douglass Blvd & W 115 St\",\"marker\":{\"color\":\"#FECB52\",\"pattern\":{\"shape\":\"\"}},\"name\":\"Frederick Douglass Blvd & W 115 St\",\"offsetgroup\":\"Frederick Douglass Blvd & W 115 St\",\"orientation\":\"v\",\"showlegend\":true,\"textposition\":\"auto\",\"x\":[\"2023-02-01T00:00:00\",\"2023-02-02T00:00:00\",\"2023-02-03T00:00:00\",\"2023-02-04T00:00:00\",\"2023-02-05T00:00:00\",\"2023-02-06T00:00:00\",\"2023-02-07T00:00:00\",\"2023-02-08T00:00:00\",\"2023-02-09T00:00:00\",\"2023-02-10T00:00:00\",\"2023-02-11T00:00:00\",\"2023-02-12T00:00:00\",\"2023-02-13T00:00:00\",\"2023-02-14T00:00:00\",\"2023-02-15T00:00:00\",\"2023-02-16T00:00:00\",\"2023-02-17T00:00:00\",\"2023-02-18T00:00:00\",\"2023-02-19T00:00:00\",\"2023-02-20T00:00:00\",\"2023-02-21T00:00:00\",\"2023-02-22T00:00:00\",\"2023-02-23T00:00:00\",\"2023-02-24T00:00:00\",\"2023-02-25T00:00:00\",\"2023-02-26T00:00:00\",\"2023-02-27T00:00:00\",\"2023-02-28T00:00:00\"],\"xaxis\":\"x\",\"y\":[7,6,5,1,14,10,9,11,7,10,5,6,9,12,7,7,15,10,6,13,5,5,8,5,6,9,3,2],\"yaxis\":\"y\",\"type\":\"bar\"}],                        {\"template\":{\"data\":{\"histogram2dcontour\":[{\"type\":\"histogram2dcontour\",\"colorbar\":{\"outlinewidth\":0,\"ticks\":\"\"},\"colorscale\":[[0.0,\"#0d0887\"],[0.1111111111111111,\"#46039f\"],[0.2222222222222222,\"#7201a8\"],[0.3333333333333333,\"#9c179e\"],[0.4444444444444444,\"#bd3786\"],[0.5555555555555556,\"#d8576b\"],[0.6666666666666666,\"#ed7953\"],[0.7777777777777778,\"#fb9f3a\"],[0.8888888888888888,\"#fdca26\"],[1.0,\"#f0f921\"]]}],\"choropleth\":[{\"type\":\"choropleth\",\"colorbar\":{\"outlinewidth\":0,\"ticks\":\"\"}}],\"histogram2d\":[{\"type\":\"histogram2d\",\"colorbar\":{\"outlinewidth\":0,\"ticks\":\"\"},\"colorscale\":[[0.0,\"#0d0887\"],[0.1111111111111111,\"#46039f\"],[0.2222222222222222,\"#7201a8\"],[0.3333333333333333,\"#9c179e\"],[0.4444444444444444,\"#bd3786\"],[0.5555555555555556,\"#d8576b\"],[0.6666666666666666,\"#ed7953\"],[0.7777777777777778,\"#fb9f3a\"],[0.8888888888888888,\"#fdca26\"],[1.0,\"#f0f921\"]]}],\"heatmap\":[{\"type\":\"heatmap\",\"colorbar\":{\"outlinewidth\":0,\"ticks\":\"\"},\"colorscale\":[[0.0,\"#0d0887\"],[0.1111111111111111,\"#46039f\"],[0.2222222222222222,\"#7201a8\"],[0.3333333333333333,\"#9c179e\"],[0.4444444444444444,\"#bd3786\"],[0.5555555555555556,\"#d8576b\"],[0.6666666666666666,\"#ed7953\"],[0.7777777777777778,\"#fb9f3a\"],[0.8888888888888888,\"#fdca26\"],[1.0,\"#f0f921\"]]}],\"heatmapgl\":[{\"type\":\"heatmapgl\",\"colorbar\":{\"outlinewidth\":0,\"ticks\":\"\"},\"colorscale\":[[0.0,\"#0d0887\"],[0.1111111111111111,\"#46039f\"],[0.2222222222222222,\"#7201a8\"],[0.3333333333333333,\"#9c179e\"],[0.4444444444444444,\"#bd3786\"],[0.5555555555555556,\"#d8576b\"],[0.6666666666666666,\"#ed7953\"],[0.7777777777777778,\"#fb9f3a\"],[0.8888888888888888,\"#fdca26\"],[1.0,\"#f0f921\"]]}],\"contourcarpet\":[{\"type\":\"contourcarpet\",\"colorbar\":{\"outlinewidth\":0,\"ticks\":\"\"}}],\"contour\":[{\"type\":\"contour\",\"colorbar\":{\"outlinewidth\":0,\"ticks\":\"\"},\"colorscale\":[[0.0,\"#0d0887\"],[0.1111111111111111,\"#46039f\"],[0.2222222222222222,\"#7201a8\"],[0.3333333333333333,\"#9c179e\"],[0.4444444444444444,\"#bd3786\"],[0.5555555555555556,\"#d8576b\"],[0.6666666666666666,\"#ed7953\"],[0.7777777777777778,\"#fb9f3a\"],[0.8888888888888888,\"#fdca26\"],[1.0,\"#f0f921\"]]}],\"surface\":[{\"type\":\"surface\",\"colorbar\":{\"outlinewidth\":0,\"ticks\":\"\"},\"colorscale\":[[0.0,\"#0d0887\"],[0.1111111111111111,\"#46039f\"],[0.2222222222222222,\"#7201a8\"],[0.3333333333333333,\"#9c179e\"],[0.4444444444444444,\"#bd3786\"],[0.5555555555555556,\"#d8576b\"],[0.6666666666666666,\"#ed7953\"],[0.7777777777777778,\"#fb9f3a\"],[0.8888888888888888,\"#fdca26\"],[1.0,\"#f0f921\"]]}],\"mesh3d\":[{\"type\":\"mesh3d\",\"colorbar\":{\"outlinewidth\":0,\"ticks\":\"\"}}],\"scatter\":[{\"fillpattern\":{\"fillmode\":\"overlay\",\"size\":10,\"solidity\":0.2},\"type\":\"scatter\"}],\"parcoords\":[{\"type\":\"parcoords\",\"line\":{\"colorbar\":{\"outlinewidth\":0,\"ticks\":\"\"}}}],\"scatterpolargl\":[{\"type\":\"scatterpolargl\",\"marker\":{\"colorbar\":{\"outlinewidth\":0,\"ticks\":\"\"}}}],\"bar\":[{\"error_x\":{\"color\":\"#2a3f5f\"},\"error_y\":{\"color\":\"#2a3f5f\"},\"marker\":{\"line\":{\"color\":\"#E5ECF6\",\"width\":0.5},\"pattern\":{\"fillmode\":\"overlay\",\"size\":10,\"solidity\":0.2}},\"type\":\"bar\"}],\"scattergeo\":[{\"type\":\"scattergeo\",\"marker\":{\"colorbar\":{\"outlinewidth\":0,\"ticks\":\"\"}}}],\"scatterpolar\":[{\"type\":\"scatterpolar\",\"marker\":{\"colorbar\":{\"outlinewidth\":0,\"ticks\":\"\"}}}],\"histogram\":[{\"marker\":{\"pattern\":{\"fillmode\":\"overlay\",\"size\":10,\"solidity\":0.2}},\"type\":\"histogram\"}],\"scattergl\":[{\"type\":\"scattergl\",\"marker\":{\"colorbar\":{\"outlinewidth\":0,\"ticks\":\"\"}}}],\"scatter3d\":[{\"type\":\"scatter3d\",\"line\":{\"colorbar\":{\"outlinewidth\":0,\"ticks\":\"\"}},\"marker\":{\"colorbar\":{\"outlinewidth\":0,\"ticks\":\"\"}}}],\"scattermapbox\":[{\"type\":\"scattermapbox\",\"marker\":{\"colorbar\":{\"outlinewidth\":0,\"ticks\":\"\"}}}],\"scatterternary\":[{\"type\":\"scatterternary\",\"marker\":{\"colorbar\":{\"outlinewidth\":0,\"ticks\":\"\"}}}],\"scattercarpet\":[{\"type\":\"scattercarpet\",\"marker\":{\"colorbar\":{\"outlinewidth\":0,\"ticks\":\"\"}}}],\"carpet\":[{\"aaxis\":{\"endlinecolor\":\"#2a3f5f\",\"gridcolor\":\"white\",\"linecolor\":\"white\",\"minorgridcolor\":\"white\",\"startlinecolor\":\"#2a3f5f\"},\"baxis\":{\"endlinecolor\":\"#2a3f5f\",\"gridcolor\":\"white\",\"linecolor\":\"white\",\"minorgridcolor\":\"white\",\"startlinecolor\":\"#2a3f5f\"},\"type\":\"carpet\"}],\"table\":[{\"cells\":{\"fill\":{\"color\":\"#EBF0F8\"},\"line\":{\"color\":\"white\"}},\"header\":{\"fill\":{\"color\":\"#C8D4E3\"},\"line\":{\"color\":\"white\"}},\"type\":\"table\"}],\"barpolar\":[{\"marker\":{\"line\":{\"color\":\"#E5ECF6\",\"width\":0.5},\"pattern\":{\"fillmode\":\"overlay\",\"size\":10,\"solidity\":0.2}},\"type\":\"barpolar\"}],\"pie\":[{\"automargin\":true,\"type\":\"pie\"}]},\"layout\":{\"autotypenumbers\":\"strict\",\"colorway\":[\"#636efa\",\"#EF553B\",\"#00cc96\",\"#ab63fa\",\"#FFA15A\",\"#19d3f3\",\"#FF6692\",\"#B6E880\",\"#FF97FF\",\"#FECB52\"],\"font\":{\"color\":\"#2a3f5f\"},\"hovermode\":\"closest\",\"hoverlabel\":{\"align\":\"left\"},\"paper_bgcolor\":\"white\",\"plot_bgcolor\":\"#E5ECF6\",\"polar\":{\"bgcolor\":\"#E5ECF6\",\"angularaxis\":{\"gridcolor\":\"white\",\"linecolor\":\"white\",\"ticks\":\"\"},\"radialaxis\":{\"gridcolor\":\"white\",\"linecolor\":\"white\",\"ticks\":\"\"}},\"ternary\":{\"bgcolor\":\"#E5ECF6\",\"aaxis\":{\"gridcolor\":\"white\",\"linecolor\":\"white\",\"ticks\":\"\"},\"baxis\":{\"gridcolor\":\"white\",\"linecolor\":\"white\",\"ticks\":\"\"},\"caxis\":{\"gridcolor\":\"white\",\"linecolor\":\"white\",\"ticks\":\"\"}},\"coloraxis\":{\"colorbar\":{\"outlinewidth\":0,\"ticks\":\"\"}},\"colorscale\":{\"sequential\":[[0.0,\"#0d0887\"],[0.1111111111111111,\"#46039f\"],[0.2222222222222222,\"#7201a8\"],[0.3333333333333333,\"#9c179e\"],[0.4444444444444444,\"#bd3786\"],[0.5555555555555556,\"#d8576b\"],[0.6666666666666666,\"#ed7953\"],[0.7777777777777778,\"#fb9f3a\"],[0.8888888888888888,\"#fdca26\"],[1.0,\"#f0f921\"]],\"sequentialminus\":[[0.0,\"#0d0887\"],[0.1111111111111111,\"#46039f\"],[0.2222222222222222,\"#7201a8\"],[0.3333333333333333,\"#9c179e\"],[0.4444444444444444,\"#bd3786\"],[0.5555555555555556,\"#d8576b\"],[0.6666666666666666,\"#ed7953\"],[0.7777777777777778,\"#fb9f3a\"],[0.8888888888888888,\"#fdca26\"],[1.0,\"#f0f921\"]],\"diverging\":[[0,\"#8e0152\"],[0.1,\"#c51b7d\"],[0.2,\"#de77ae\"],[0.3,\"#f1b6da\"],[0.4,\"#fde0ef\"],[0.5,\"#f7f7f7\"],[0.6,\"#e6f5d0\"],[0.7,\"#b8e186\"],[0.8,\"#7fbc41\"],[0.9,\"#4d9221\"],[1,\"#276419\"]]},\"xaxis\":{\"gridcolor\":\"white\",\"linecolor\":\"white\",\"ticks\":\"\",\"title\":{\"standoff\":15},\"zerolinecolor\":\"white\",\"automargin\":true,\"zerolinewidth\":2},\"yaxis\":{\"gridcolor\":\"white\",\"linecolor\":\"white\",\"ticks\":\"\",\"title\":{\"standoff\":15},\"zerolinecolor\":\"white\",\"automargin\":true,\"zerolinewidth\":2},\"scene\":{\"xaxis\":{\"backgroundcolor\":\"#E5ECF6\",\"gridcolor\":\"white\",\"linecolor\":\"white\",\"showbackground\":true,\"ticks\":\"\",\"zerolinecolor\":\"white\",\"gridwidth\":2},\"yaxis\":{\"backgroundcolor\":\"#E5ECF6\",\"gridcolor\":\"white\",\"linecolor\":\"white\",\"showbackground\":true,\"ticks\":\"\",\"zerolinecolor\":\"white\",\"gridwidth\":2},\"zaxis\":{\"backgroundcolor\":\"#E5ECF6\",\"gridcolor\":\"white\",\"linecolor\":\"white\",\"showbackground\":true,\"ticks\":\"\",\"zerolinecolor\":\"white\",\"gridwidth\":2}},\"shapedefaults\":{\"line\":{\"color\":\"#2a3f5f\"}},\"annotationdefaults\":{\"arrowcolor\":\"#2a3f5f\",\"arrowhead\":0,\"arrowwidth\":1},\"geo\":{\"bgcolor\":\"white\",\"landcolor\":\"#E5ECF6\",\"subunitcolor\":\"white\",\"showland\":true,\"showlakes\":true,\"lakecolor\":\"white\"},\"title\":{\"x\":0.05},\"mapbox\":{\"style\":\"light\"}}},\"xaxis\":{\"anchor\":\"y\",\"domain\":[0.0,1.0],\"title\":{\"text\":\"started_date\"}},\"yaxis\":{\"anchor\":\"x\",\"domain\":[0.0,1.0],\"title\":{\"text\":\"bikes_out\"}},\"legend\":{\"title\":{\"text\":\"start_station_name\"},\"tracegroupgap\":0},\"margin\":{\"t\":60},\"barmode\":\"relative\"},                        {\"responsive\": true}                    ).then(function(){\n",
       "                            \n",
       "var gd = document.getElementById('8212d791-8761-4ce4-bfa5-342bded443af');\n",
       "var x = new MutationObserver(function (mutations, observer) {{\n",
       "        var display = window.getComputedStyle(gd).display;\n",
       "        if (!display || display === 'none') {{\n",
       "            console.log([gd, 'removed!']);\n",
       "            Plotly.purge(gd);\n",
       "            observer.disconnect();\n",
       "        }}\n",
       "}});\n",
       "\n",
       "// Listen for the removal of the full notebook cells\n",
       "var notebookContainer = gd.closest('#notebook-container');\n",
       "if (notebookContainer) {{\n",
       "    x.observe(notebookContainer, {childList: true});\n",
       "}}\n",
       "\n",
       "// Listen for the clearing of the current output cell\n",
       "var outputEl = gd.closest('.output');\n",
       "if (outputEl) {{\n",
       "    x.observe(outputEl, {childList: true});\n",
       "}}\n",
       "\n",
       "                        })                };                });            </script>        </div>"
      ]
     },
     "metadata": {},
     "output_type": "display_data"
    }
   ],
   "source": [
    "fig = px.bar(start_df, x=\"started_date\", y=\"bikes_out\", color='start_station_name')\n",
    "fig.show()"
   ]
  },
  {
   "cell_type": "code",
   "execution_count": 51,
   "id": "f726bfc6-2830-4cff-a14b-b59cce3c4064",
   "metadata": {},
   "outputs": [
    {
     "data": {
      "application/vnd.plotly.v1+json": {
       "config": {
        "plotlyServerURL": "https://plot.ly"
       },
       "data": [
        {
         "coloraxis": "coloraxis",
         "hovertemplate": "bikes_out=%{z}<br>start_lat=%{lat}<br>start_lng=%{lon}<extra></extra>",
         "lat": [
          40.79558954105342,
          40.79558954105342,
          40.79558954105342,
          40.79558954105342,
          40.79558954105342,
          40.79558954105342,
          40.79558954105342,
          40.79558954105342,
          40.79558954105342,
          40.79558954105342,
          40.79558954105342,
          40.79558954105342,
          40.79558954105342,
          40.79558954105342,
          40.79558954105342,
          40.79558954105342,
          40.79558954105342,
          40.79558954105342,
          40.79558954105342,
          40.79558954105342,
          40.79558954105342,
          40.79558954105342,
          40.79558954105342,
          40.79558954105342,
          40.79558954105342,
          40.79558954105342,
          40.79558954105342,
          40.79558954105342,
          40.7969347,
          40.7969347,
          40.7969347,
          40.7969347,
          40.7969347,
          40.7969347,
          40.7969347,
          40.7969347,
          40.7969347,
          40.7969347,
          40.7969347,
          40.7969347,
          40.7969347,
          40.7969347,
          40.7969347,
          40.7969347,
          40.7969347,
          40.7969347,
          40.7969347,
          40.7969347,
          40.7969347,
          40.7969347,
          40.7969347,
          40.7969347,
          40.7969347,
          40.7969347,
          40.7969347,
          40.7987859,
          40.7987859,
          40.7987859,
          40.7987859,
          40.7987859,
          40.7987859,
          40.7987859,
          40.7987859,
          40.7987859,
          40.7987859,
          40.7987859,
          40.7987859,
          40.7987859,
          40.7987859,
          40.7987859,
          40.7987859,
          40.7987859,
          40.7987859,
          40.7987859,
          40.7987859,
          40.7987859,
          40.7987859,
          40.7987859,
          40.7987859,
          40.7987859,
          40.7987859,
          40.7987859,
          40.7987859,
          40.7981856,
          40.7981856,
          40.7981856,
          40.7981856,
          40.7981856,
          40.7981856,
          40.7981856,
          40.7981856,
          40.7981856,
          40.7981856,
          40.7981856,
          40.7981856,
          40.7981856,
          40.7981856,
          40.7981856,
          40.7981856,
          40.7981856,
          40.7981856,
          40.7981856,
          40.7981856,
          40.7981856,
          40.7981856,
          40.7981856,
          40.7981856,
          40.7981856,
          40.7981856,
          40.7981856,
          40.7981856,
          40.799624324,
          40.799624324,
          40.799624324,
          40.799624324,
          40.799624324,
          40.799624324,
          40.799624324,
          40.799624324,
          40.799624324,
          40.799624324,
          40.799624324,
          40.799624324,
          40.799624324,
          40.799624324,
          40.799624324,
          40.799624324,
          40.799624324,
          40.799624324,
          40.799624324,
          40.799624324,
          40.799624324,
          40.799624324,
          40.799624324,
          40.799624324,
          40.799624324,
          40.799624324,
          40.799624324,
          40.799624324,
          40.799773693,
          40.799773693,
          40.799773693,
          40.799773693,
          40.799773693,
          40.799773693,
          40.799773693,
          40.799773693,
          40.799773693,
          40.799773693,
          40.799773693,
          40.799773693,
          40.799773693,
          40.799773693,
          40.799773693,
          40.799773693,
          40.799773693,
          40.799773693,
          40.799773693,
          40.799773693,
          40.799773693,
          40.799773693,
          40.799773693,
          40.799773693,
          40.799773693,
          40.799773693,
          40.799773693,
          40.799773693,
          40.801694,
          40.801694,
          40.801694,
          40.801694,
          40.801694,
          40.801694,
          40.801694,
          40.801694,
          40.801694,
          40.801694,
          40.801694,
          40.801694,
          40.801694,
          40.801694,
          40.801694,
          40.801694,
          40.801694,
          40.801694,
          40.801694,
          40.801694,
          40.801694,
          40.801694,
          40.801694,
          40.801694,
          40.801694,
          40.801694,
          40.801694,
          40.801694,
          40.802535,
          40.802535,
          40.802535,
          40.802535,
          40.802535,
          40.802535,
          40.802535,
          40.802535,
          40.802535,
          40.802535,
          40.802535,
          40.802535,
          40.802535,
          40.802535,
          40.802535,
          40.802535,
          40.802535,
          40.802535,
          40.802535,
          40.802535,
          40.802535,
          40.802535,
          40.802535,
          40.802535,
          40.802535,
          40.802535,
          40.802535,
          40.802535,
          40.802558184,
          40.802558184,
          40.802558184,
          40.802558184,
          40.802558184,
          40.802558184,
          40.802558184,
          40.802558184,
          40.802558184,
          40.802558184,
          40.802558184,
          40.802558184,
          40.802558184,
          40.802558184,
          40.802558184,
          40.802558184,
          40.802558184,
          40.802558184,
          40.802558184,
          40.802558184,
          40.802558184,
          40.802558184,
          40.802558184,
          40.802558184,
          40.802558184,
          40.802558184,
          40.802558184,
          40.802558184,
          40.8038654,
          40.8038654,
          40.8038654,
          40.8038654,
          40.8038654,
          40.8038654,
          40.8038654,
          40.8038654,
          40.8038654,
          40.8038654,
          40.8038654,
          40.8038654,
          40.8038654,
          40.8038654,
          40.8038654,
          40.8038654,
          40.8038654,
          40.8038654,
          40.8038654,
          40.8038654,
          40.8038654,
          40.8038654,
          40.8038654,
          40.8038654,
          40.8038654,
          40.8038654,
          40.8038654,
          40.8038654
         ],
         "lon": [
          -73.96188408136368,
          -73.96188408136368,
          -73.96188408136368,
          -73.96188408136368,
          -73.96188408136368,
          -73.96188408136368,
          -73.96188408136368,
          -73.96188408136368,
          -73.96188408136368,
          -73.96188408136368,
          -73.96188408136368,
          -73.96188408136368,
          -73.96188408136368,
          -73.96188408136368,
          -73.96188408136368,
          -73.96188408136368,
          -73.96188408136368,
          -73.96188408136368,
          -73.96188408136368,
          -73.96188408136368,
          -73.96188408136368,
          -73.96188408136368,
          -73.96188408136368,
          -73.96188408136368,
          -73.96188408136368,
          -73.96188408136368,
          -73.96188408136368,
          -73.96188408136368,
          -73.9643412291,
          -73.9643412291,
          -73.9643412291,
          -73.9643412291,
          -73.9643412291,
          -73.9643412291,
          -73.9643412291,
          -73.9643412291,
          -73.9643412291,
          -73.9643412291,
          -73.9643412291,
          -73.9643412291,
          -73.9643412291,
          -73.9643412291,
          -73.9643412291,
          -73.9643412291,
          -73.9643412291,
          -73.9643412291,
          -73.9643412291,
          -73.9643412291,
          -73.9643412291,
          -73.9643412291,
          -73.9643412291,
          -73.9643412291,
          -73.9643412291,
          -73.9643412291,
          -73.9643412291,
          -73.9523,
          -73.9523,
          -73.9523,
          -73.9523,
          -73.9523,
          -73.9523,
          -73.9523,
          -73.9523,
          -73.9523,
          -73.9523,
          -73.9523,
          -73.9523,
          -73.9523,
          -73.9523,
          -73.9523,
          -73.9523,
          -73.9523,
          -73.9523,
          -73.9523,
          -73.9523,
          -73.9523,
          -73.9523,
          -73.9523,
          -73.9523,
          -73.9523,
          -73.9523,
          -73.9523,
          -73.9523,
          -73.9605909006,
          -73.9605909006,
          -73.9605909006,
          -73.9605909006,
          -73.9605909006,
          -73.9605909006,
          -73.9605909006,
          -73.9605909006,
          -73.9605909006,
          -73.9605909006,
          -73.9605909006,
          -73.9605909006,
          -73.9605909006,
          -73.9605909006,
          -73.9605909006,
          -73.9605909006,
          -73.9605909006,
          -73.9605909006,
          -73.9605909006,
          -73.9605909006,
          -73.9605909006,
          -73.9605909006,
          -73.9605909006,
          -73.9605909006,
          -73.9605909006,
          -73.9605909006,
          -73.9605909006,
          -73.9605909006,
          -73.955891848,
          -73.955891848,
          -73.955891848,
          -73.955891848,
          -73.955891848,
          -73.955891848,
          -73.955891848,
          -73.955891848,
          -73.955891848,
          -73.955891848,
          -73.955891848,
          -73.955891848,
          -73.955891848,
          -73.955891848,
          -73.955891848,
          -73.955891848,
          -73.955891848,
          -73.955891848,
          -73.955891848,
          -73.955891848,
          -73.955891848,
          -73.955891848,
          -73.955891848,
          -73.955891848,
          -73.955891848,
          -73.955891848,
          -73.955891848,
          -73.955891848,
          -73.962261319,
          -73.962261319,
          -73.962261319,
          -73.962261319,
          -73.962261319,
          -73.962261319,
          -73.962261319,
          -73.962261319,
          -73.962261319,
          -73.962261319,
          -73.962261319,
          -73.962261319,
          -73.962261319,
          -73.962261319,
          -73.962261319,
          -73.962261319,
          -73.962261319,
          -73.962261319,
          -73.962261319,
          -73.962261319,
          -73.962261319,
          -73.962261319,
          -73.962261319,
          -73.962261319,
          -73.962261319,
          -73.962261319,
          -73.962261319,
          -73.962261319,
          -73.957145,
          -73.957145,
          -73.957145,
          -73.957145,
          -73.957145,
          -73.957145,
          -73.957145,
          -73.957145,
          -73.957145,
          -73.957145,
          -73.957145,
          -73.957145,
          -73.957145,
          -73.957145,
          -73.957145,
          -73.957145,
          -73.957145,
          -73.957145,
          -73.957145,
          -73.957145,
          -73.957145,
          -73.957145,
          -73.957145,
          -73.957145,
          -73.957145,
          -73.957145,
          -73.957145,
          -73.957145,
          -73.9532423,
          -73.9532423,
          -73.9532423,
          -73.9532423,
          -73.9532423,
          -73.9532423,
          -73.9532423,
          -73.9532423,
          -73.9532423,
          -73.9532423,
          -73.9532423,
          -73.9532423,
          -73.9532423,
          -73.9532423,
          -73.9532423,
          -73.9532423,
          -73.9532423,
          -73.9532423,
          -73.9532423,
          -73.9532423,
          -73.9532423,
          -73.9532423,
          -73.9532423,
          -73.9532423,
          -73.9532423,
          -73.9532423,
          -73.9532423,
          -73.9532423,
          -73.96272707,
          -73.96272707,
          -73.96272707,
          -73.96272707,
          -73.96272707,
          -73.96272707,
          -73.96272707,
          -73.96272707,
          -73.96272707,
          -73.96272707,
          -73.96272707,
          -73.96272707,
          -73.96272707,
          -73.96272707,
          -73.96272707,
          -73.96272707,
          -73.96272707,
          -73.96272707,
          -73.96272707,
          -73.96272707,
          -73.96272707,
          -73.96272707,
          -73.96272707,
          -73.96272707,
          -73.96272707,
          -73.96272707,
          -73.96272707,
          -73.96272707,
          -73.9559308,
          -73.9559308,
          -73.9559308,
          -73.9559308,
          -73.9559308,
          -73.9559308,
          -73.9559308,
          -73.9559308,
          -73.9559308,
          -73.9559308,
          -73.9559308,
          -73.9559308,
          -73.9559308,
          -73.9559308,
          -73.9559308,
          -73.9559308,
          -73.9559308,
          -73.9559308,
          -73.9559308,
          -73.9559308,
          -73.9559308,
          -73.9559308,
          -73.9559308,
          -73.9559308,
          -73.9559308,
          -73.9559308,
          -73.9559308,
          -73.9559308
         ],
         "name": "",
         "radius": 15,
         "subplot": "mapbox",
         "type": "densitymapbox",
         "z": [
          7,
          16,
          10,
          5,
          12,
          14,
          6,
          13,
          15,
          18,
          18,
          13,
          19,
          16,
          25,
          13,
          7,
          7,
          11,
          12,
          18,
          12,
          18,
          13,
          9,
          18,
          8,
          4,
          5,
          3,
          3,
          2,
          2,
          9,
          1,
          8,
          2,
          7,
          1,
          3,
          1,
          2,
          7,
          3,
          4,
          3,
          7,
          2,
          2,
          4,
          2,
          2,
          4,
          3,
          1,
          19,
          17,
          9,
          5,
          11,
          21,
          17,
          18,
          21,
          38,
          24,
          18,
          14,
          19,
          21,
          20,
          18,
          20,
          20,
          29,
          10,
          23,
          12,
          19,
          11,
          15,
          15,
          7,
          7,
          20,
          6,
          3,
          16,
          12,
          16,
          23,
          19,
          15,
          13,
          19,
          14,
          18,
          15,
          17,
          13,
          14,
          18,
          18,
          27,
          21,
          10,
          12,
          14,
          14,
          14,
          11,
          22,
          21,
          7,
          8,
          32,
          26,
          14,
          34,
          23,
          29,
          40,
          33,
          26,
          32,
          30,
          33,
          9,
          30,
          44,
          56,
          21,
          12,
          30,
          18,
          17,
          33,
          34,
          10,
          15,
          9,
          7,
          2,
          6,
          6,
          12,
          10,
          13,
          5,
          6,
          5,
          9,
          14,
          18,
          12,
          6,
          11,
          3,
          11,
          14,
          11,
          4,
          10,
          6,
          10,
          7,
          7,
          26,
          19,
          9,
          8,
          23,
          26,
          22,
          19,
          27,
          37,
          26,
          17,
          26,
          26,
          32,
          25,
          21,
          16,
          18,
          34,
          29,
          26,
          37,
          34,
          14,
          26,
          20,
          12,
          7,
          8,
          6,
          1,
          9,
          6,
          9,
          9,
          8,
          8,
          5,
          3,
          6,
          10,
          8,
          13,
          4,
          5,
          5,
          12,
          4,
          6,
          12,
          9,
          7,
          5,
          14,
          5,
          12,
          13,
          14,
          4,
          7,
          10,
          13,
          6,
          21,
          24,
          5,
          8,
          21,
          13,
          20,
          16,
          12,
          6,
          13,
          16,
          13,
          9,
          10,
          14,
          5,
          7,
          12,
          12,
          7,
          6,
          5,
          1,
          14,
          10,
          9,
          11,
          7,
          10,
          5,
          6,
          9,
          12,
          7,
          7,
          15,
          10,
          6,
          13,
          5,
          5,
          8,
          5,
          6,
          9,
          3,
          2
         ]
        }
       ],
       "layout": {
        "autosize": true,
        "coloraxis": {
         "colorbar": {
          "title": {
           "text": "bikes_out"
          }
         },
         "colorscale": [
          [
           0,
           "#0d0887"
          ],
          [
           0.1111111111111111,
           "#46039f"
          ],
          [
           0.2222222222222222,
           "#7201a8"
          ],
          [
           0.3333333333333333,
           "#9c179e"
          ],
          [
           0.4444444444444444,
           "#bd3786"
          ],
          [
           0.5555555555555556,
           "#d8576b"
          ],
          [
           0.6666666666666666,
           "#ed7953"
          ],
          [
           0.7777777777777778,
           "#fb9f3a"
          ],
          [
           0.8888888888888888,
           "#fdca26"
          ],
          [
           1,
           "#f0f921"
          ]
         ]
        },
        "legend": {
         "tracegroupgap": 0
        },
        "mapbox": {
         "center": {
          "lat": 40.802,
          "lon": -73.963
         },
         "domain": {
          "x": [
           0,
           1
          ],
          "y": [
           0,
           1
          ]
         },
         "style": "stamen-terrain",
         "zoom": 13
        },
        "margin": {
         "t": 60
        },
        "template": {
         "data": {
          "bar": [
           {
            "error_x": {
             "color": "#2a3f5f"
            },
            "error_y": {
             "color": "#2a3f5f"
            },
            "marker": {
             "line": {
              "color": "#E5ECF6",
              "width": 0.5
             },
             "pattern": {
              "fillmode": "overlay",
              "size": 10,
              "solidity": 0.2
             }
            },
            "type": "bar"
           }
          ],
          "barpolar": [
           {
            "marker": {
             "line": {
              "color": "#E5ECF6",
              "width": 0.5
             },
             "pattern": {
              "fillmode": "overlay",
              "size": 10,
              "solidity": 0.2
             }
            },
            "type": "barpolar"
           }
          ],
          "carpet": [
           {
            "aaxis": {
             "endlinecolor": "#2a3f5f",
             "gridcolor": "white",
             "linecolor": "white",
             "minorgridcolor": "white",
             "startlinecolor": "#2a3f5f"
            },
            "baxis": {
             "endlinecolor": "#2a3f5f",
             "gridcolor": "white",
             "linecolor": "white",
             "minorgridcolor": "white",
             "startlinecolor": "#2a3f5f"
            },
            "type": "carpet"
           }
          ],
          "choropleth": [
           {
            "colorbar": {
             "outlinewidth": 0,
             "ticks": ""
            },
            "type": "choropleth"
           }
          ],
          "contour": [
           {
            "colorbar": {
             "outlinewidth": 0,
             "ticks": ""
            },
            "colorscale": [
             [
              0,
              "#0d0887"
             ],
             [
              0.1111111111111111,
              "#46039f"
             ],
             [
              0.2222222222222222,
              "#7201a8"
             ],
             [
              0.3333333333333333,
              "#9c179e"
             ],
             [
              0.4444444444444444,
              "#bd3786"
             ],
             [
              0.5555555555555556,
              "#d8576b"
             ],
             [
              0.6666666666666666,
              "#ed7953"
             ],
             [
              0.7777777777777778,
              "#fb9f3a"
             ],
             [
              0.8888888888888888,
              "#fdca26"
             ],
             [
              1,
              "#f0f921"
             ]
            ],
            "type": "contour"
           }
          ],
          "contourcarpet": [
           {
            "colorbar": {
             "outlinewidth": 0,
             "ticks": ""
            },
            "type": "contourcarpet"
           }
          ],
          "heatmap": [
           {
            "colorbar": {
             "outlinewidth": 0,
             "ticks": ""
            },
            "colorscale": [
             [
              0,
              "#0d0887"
             ],
             [
              0.1111111111111111,
              "#46039f"
             ],
             [
              0.2222222222222222,
              "#7201a8"
             ],
             [
              0.3333333333333333,
              "#9c179e"
             ],
             [
              0.4444444444444444,
              "#bd3786"
             ],
             [
              0.5555555555555556,
              "#d8576b"
             ],
             [
              0.6666666666666666,
              "#ed7953"
             ],
             [
              0.7777777777777778,
              "#fb9f3a"
             ],
             [
              0.8888888888888888,
              "#fdca26"
             ],
             [
              1,
              "#f0f921"
             ]
            ],
            "type": "heatmap"
           }
          ],
          "heatmapgl": [
           {
            "colorbar": {
             "outlinewidth": 0,
             "ticks": ""
            },
            "colorscale": [
             [
              0,
              "#0d0887"
             ],
             [
              0.1111111111111111,
              "#46039f"
             ],
             [
              0.2222222222222222,
              "#7201a8"
             ],
             [
              0.3333333333333333,
              "#9c179e"
             ],
             [
              0.4444444444444444,
              "#bd3786"
             ],
             [
              0.5555555555555556,
              "#d8576b"
             ],
             [
              0.6666666666666666,
              "#ed7953"
             ],
             [
              0.7777777777777778,
              "#fb9f3a"
             ],
             [
              0.8888888888888888,
              "#fdca26"
             ],
             [
              1,
              "#f0f921"
             ]
            ],
            "type": "heatmapgl"
           }
          ],
          "histogram": [
           {
            "marker": {
             "pattern": {
              "fillmode": "overlay",
              "size": 10,
              "solidity": 0.2
             }
            },
            "type": "histogram"
           }
          ],
          "histogram2d": [
           {
            "colorbar": {
             "outlinewidth": 0,
             "ticks": ""
            },
            "colorscale": [
             [
              0,
              "#0d0887"
             ],
             [
              0.1111111111111111,
              "#46039f"
             ],
             [
              0.2222222222222222,
              "#7201a8"
             ],
             [
              0.3333333333333333,
              "#9c179e"
             ],
             [
              0.4444444444444444,
              "#bd3786"
             ],
             [
              0.5555555555555556,
              "#d8576b"
             ],
             [
              0.6666666666666666,
              "#ed7953"
             ],
             [
              0.7777777777777778,
              "#fb9f3a"
             ],
             [
              0.8888888888888888,
              "#fdca26"
             ],
             [
              1,
              "#f0f921"
             ]
            ],
            "type": "histogram2d"
           }
          ],
          "histogram2dcontour": [
           {
            "colorbar": {
             "outlinewidth": 0,
             "ticks": ""
            },
            "colorscale": [
             [
              0,
              "#0d0887"
             ],
             [
              0.1111111111111111,
              "#46039f"
             ],
             [
              0.2222222222222222,
              "#7201a8"
             ],
             [
              0.3333333333333333,
              "#9c179e"
             ],
             [
              0.4444444444444444,
              "#bd3786"
             ],
             [
              0.5555555555555556,
              "#d8576b"
             ],
             [
              0.6666666666666666,
              "#ed7953"
             ],
             [
              0.7777777777777778,
              "#fb9f3a"
             ],
             [
              0.8888888888888888,
              "#fdca26"
             ],
             [
              1,
              "#f0f921"
             ]
            ],
            "type": "histogram2dcontour"
           }
          ],
          "mesh3d": [
           {
            "colorbar": {
             "outlinewidth": 0,
             "ticks": ""
            },
            "type": "mesh3d"
           }
          ],
          "parcoords": [
           {
            "line": {
             "colorbar": {
              "outlinewidth": 0,
              "ticks": ""
             }
            },
            "type": "parcoords"
           }
          ],
          "pie": [
           {
            "automargin": true,
            "type": "pie"
           }
          ],
          "scatter": [
           {
            "fillpattern": {
             "fillmode": "overlay",
             "size": 10,
             "solidity": 0.2
            },
            "type": "scatter"
           }
          ],
          "scatter3d": [
           {
            "line": {
             "colorbar": {
              "outlinewidth": 0,
              "ticks": ""
             }
            },
            "marker": {
             "colorbar": {
              "outlinewidth": 0,
              "ticks": ""
             }
            },
            "type": "scatter3d"
           }
          ],
          "scattercarpet": [
           {
            "marker": {
             "colorbar": {
              "outlinewidth": 0,
              "ticks": ""
             }
            },
            "type": "scattercarpet"
           }
          ],
          "scattergeo": [
           {
            "marker": {
             "colorbar": {
              "outlinewidth": 0,
              "ticks": ""
             }
            },
            "type": "scattergeo"
           }
          ],
          "scattergl": [
           {
            "marker": {
             "colorbar": {
              "outlinewidth": 0,
              "ticks": ""
             }
            },
            "type": "scattergl"
           }
          ],
          "scattermapbox": [
           {
            "marker": {
             "colorbar": {
              "outlinewidth": 0,
              "ticks": ""
             }
            },
            "type": "scattermapbox"
           }
          ],
          "scatterpolar": [
           {
            "marker": {
             "colorbar": {
              "outlinewidth": 0,
              "ticks": ""
             }
            },
            "type": "scatterpolar"
           }
          ],
          "scatterpolargl": [
           {
            "marker": {
             "colorbar": {
              "outlinewidth": 0,
              "ticks": ""
             }
            },
            "type": "scatterpolargl"
           }
          ],
          "scatterternary": [
           {
            "marker": {
             "colorbar": {
              "outlinewidth": 0,
              "ticks": ""
             }
            },
            "type": "scatterternary"
           }
          ],
          "surface": [
           {
            "colorbar": {
             "outlinewidth": 0,
             "ticks": ""
            },
            "colorscale": [
             [
              0,
              "#0d0887"
             ],
             [
              0.1111111111111111,
              "#46039f"
             ],
             [
              0.2222222222222222,
              "#7201a8"
             ],
             [
              0.3333333333333333,
              "#9c179e"
             ],
             [
              0.4444444444444444,
              "#bd3786"
             ],
             [
              0.5555555555555556,
              "#d8576b"
             ],
             [
              0.6666666666666666,
              "#ed7953"
             ],
             [
              0.7777777777777778,
              "#fb9f3a"
             ],
             [
              0.8888888888888888,
              "#fdca26"
             ],
             [
              1,
              "#f0f921"
             ]
            ],
            "type": "surface"
           }
          ],
          "table": [
           {
            "cells": {
             "fill": {
              "color": "#EBF0F8"
             },
             "line": {
              "color": "white"
             }
            },
            "header": {
             "fill": {
              "color": "#C8D4E3"
             },
             "line": {
              "color": "white"
             }
            },
            "type": "table"
           }
          ]
         },
         "layout": {
          "annotationdefaults": {
           "arrowcolor": "#2a3f5f",
           "arrowhead": 0,
           "arrowwidth": 1
          },
          "autotypenumbers": "strict",
          "coloraxis": {
           "colorbar": {
            "outlinewidth": 0,
            "ticks": ""
           }
          },
          "colorscale": {
           "diverging": [
            [
             0,
             "#8e0152"
            ],
            [
             0.1,
             "#c51b7d"
            ],
            [
             0.2,
             "#de77ae"
            ],
            [
             0.3,
             "#f1b6da"
            ],
            [
             0.4,
             "#fde0ef"
            ],
            [
             0.5,
             "#f7f7f7"
            ],
            [
             0.6,
             "#e6f5d0"
            ],
            [
             0.7,
             "#b8e186"
            ],
            [
             0.8,
             "#7fbc41"
            ],
            [
             0.9,
             "#4d9221"
            ],
            [
             1,
             "#276419"
            ]
           ],
           "sequential": [
            [
             0,
             "#0d0887"
            ],
            [
             0.1111111111111111,
             "#46039f"
            ],
            [
             0.2222222222222222,
             "#7201a8"
            ],
            [
             0.3333333333333333,
             "#9c179e"
            ],
            [
             0.4444444444444444,
             "#bd3786"
            ],
            [
             0.5555555555555556,
             "#d8576b"
            ],
            [
             0.6666666666666666,
             "#ed7953"
            ],
            [
             0.7777777777777778,
             "#fb9f3a"
            ],
            [
             0.8888888888888888,
             "#fdca26"
            ],
            [
             1,
             "#f0f921"
            ]
           ],
           "sequentialminus": [
            [
             0,
             "#0d0887"
            ],
            [
             0.1111111111111111,
             "#46039f"
            ],
            [
             0.2222222222222222,
             "#7201a8"
            ],
            [
             0.3333333333333333,
             "#9c179e"
            ],
            [
             0.4444444444444444,
             "#bd3786"
            ],
            [
             0.5555555555555556,
             "#d8576b"
            ],
            [
             0.6666666666666666,
             "#ed7953"
            ],
            [
             0.7777777777777778,
             "#fb9f3a"
            ],
            [
             0.8888888888888888,
             "#fdca26"
            ],
            [
             1,
             "#f0f921"
            ]
           ]
          },
          "colorway": [
           "#636efa",
           "#EF553B",
           "#00cc96",
           "#ab63fa",
           "#FFA15A",
           "#19d3f3",
           "#FF6692",
           "#B6E880",
           "#FF97FF",
           "#FECB52"
          ],
          "font": {
           "color": "#2a3f5f"
          },
          "geo": {
           "bgcolor": "white",
           "lakecolor": "white",
           "landcolor": "#E5ECF6",
           "showlakes": true,
           "showland": true,
           "subunitcolor": "white"
          },
          "hoverlabel": {
           "align": "left"
          },
          "hovermode": "closest",
          "mapbox": {
           "style": "light"
          },
          "paper_bgcolor": "white",
          "plot_bgcolor": "#E5ECF6",
          "polar": {
           "angularaxis": {
            "gridcolor": "white",
            "linecolor": "white",
            "ticks": ""
           },
           "bgcolor": "#E5ECF6",
           "radialaxis": {
            "gridcolor": "white",
            "linecolor": "white",
            "ticks": ""
           }
          },
          "scene": {
           "xaxis": {
            "backgroundcolor": "#E5ECF6",
            "gridcolor": "white",
            "gridwidth": 2,
            "linecolor": "white",
            "showbackground": true,
            "ticks": "",
            "zerolinecolor": "white"
           },
           "yaxis": {
            "backgroundcolor": "#E5ECF6",
            "gridcolor": "white",
            "gridwidth": 2,
            "linecolor": "white",
            "showbackground": true,
            "ticks": "",
            "zerolinecolor": "white"
           },
           "zaxis": {
            "backgroundcolor": "#E5ECF6",
            "gridcolor": "white",
            "gridwidth": 2,
            "linecolor": "white",
            "showbackground": true,
            "ticks": "",
            "zerolinecolor": "white"
           }
          },
          "shapedefaults": {
           "line": {
            "color": "#2a3f5f"
           }
          },
          "ternary": {
           "aaxis": {
            "gridcolor": "white",
            "linecolor": "white",
            "ticks": ""
           },
           "baxis": {
            "gridcolor": "white",
            "linecolor": "white",
            "ticks": ""
           },
           "bgcolor": "#E5ECF6",
           "caxis": {
            "gridcolor": "white",
            "linecolor": "white",
            "ticks": ""
           }
          },
          "title": {
           "x": 0.05
          },
          "xaxis": {
           "automargin": true,
           "gridcolor": "white",
           "linecolor": "white",
           "ticks": "",
           "title": {
            "standoff": 15
           },
           "zerolinecolor": "white",
           "zerolinewidth": 2
          },
          "yaxis": {
           "automargin": true,
           "gridcolor": "white",
           "linecolor": "white",
           "ticks": "",
           "title": {
            "standoff": 15
           },
           "zerolinecolor": "white",
           "zerolinewidth": 2
          }
         }
        }
       }
      },
      "image/png": "[encoded data removed]",
      "text/html": [
       "<div>                            <div id=\"c919508a-e483-41f6-af45-7f59c7ea1479\" class=\"plotly-graph-div\" style=\"height:1000px; width:100%;\"></div>            <script type=\"text/javascript\">                require([\"plotly\"], function(Plotly) {                    window.PLOTLYENV=window.PLOTLYENV || {};                                    if (document.getElementById(\"c919508a-e483-41f6-af45-7f59c7ea1479\")) {                    Plotly.newPlot(                        \"c919508a-e483-41f6-af45-7f59c7ea1479\",                        [{\"coloraxis\":\"coloraxis\",\"hovertemplate\":\"bikes_out=%{z}<br>start_lat=%{lat}<br>start_lng=%{lon}<extra></extra>\",\"lat\":[40.79558954105342,40.79558954105342,40.79558954105342,40.79558954105342,40.79558954105342,40.79558954105342,40.79558954105342,40.79558954105342,40.79558954105342,40.79558954105342,40.79558954105342,40.79558954105342,40.79558954105342,40.79558954105342,40.79558954105342,40.79558954105342,40.79558954105342,40.79558954105342,40.79558954105342,40.79558954105342,40.79558954105342,40.79558954105342,40.79558954105342,40.79558954105342,40.79558954105342,40.79558954105342,40.79558954105342,40.79558954105342,40.7969347,40.7969347,40.7969347,40.7969347,40.7969347,40.7969347,40.7969347,40.7969347,40.7969347,40.7969347,40.7969347,40.7969347,40.7969347,40.7969347,40.7969347,40.7969347,40.7969347,40.7969347,40.7969347,40.7969347,40.7969347,40.7969347,40.7969347,40.7969347,40.7969347,40.7969347,40.7969347,40.7987859,40.7987859,40.7987859,40.7987859,40.7987859,40.7987859,40.7987859,40.7987859,40.7987859,40.7987859,40.7987859,40.7987859,40.7987859,40.7987859,40.7987859,40.7987859,40.7987859,40.7987859,40.7987859,40.7987859,40.7987859,40.7987859,40.7987859,40.7987859,40.7987859,40.7987859,40.7987859,40.7987859,40.7981856,40.7981856,40.7981856,40.7981856,40.7981856,40.7981856,40.7981856,40.7981856,40.7981856,40.7981856,40.7981856,40.7981856,40.7981856,40.7981856,40.7981856,40.7981856,40.7981856,40.7981856,40.7981856,40.7981856,40.7981856,40.7981856,40.7981856,40.7981856,40.7981856,40.7981856,40.7981856,40.7981856,40.799624324,40.799624324,40.799624324,40.799624324,40.799624324,40.799624324,40.799624324,40.799624324,40.799624324,40.799624324,40.799624324,40.799624324,40.799624324,40.799624324,40.799624324,40.799624324,40.799624324,40.799624324,40.799624324,40.799624324,40.799624324,40.799624324,40.799624324,40.799624324,40.799624324,40.799624324,40.799624324,40.799624324,40.799773693,40.799773693,40.799773693,40.799773693,40.799773693,40.799773693,40.799773693,40.799773693,40.799773693,40.799773693,40.799773693,40.799773693,40.799773693,40.799773693,40.799773693,40.799773693,40.799773693,40.799773693,40.799773693,40.799773693,40.799773693,40.799773693,40.799773693,40.799773693,40.799773693,40.799773693,40.799773693,40.799773693,40.801694,40.801694,40.801694,40.801694,40.801694,40.801694,40.801694,40.801694,40.801694,40.801694,40.801694,40.801694,40.801694,40.801694,40.801694,40.801694,40.801694,40.801694,40.801694,40.801694,40.801694,40.801694,40.801694,40.801694,40.801694,40.801694,40.801694,40.801694,40.802535,40.802535,40.802535,40.802535,40.802535,40.802535,40.802535,40.802535,40.802535,40.802535,40.802535,40.802535,40.802535,40.802535,40.802535,40.802535,40.802535,40.802535,40.802535,40.802535,40.802535,40.802535,40.802535,40.802535,40.802535,40.802535,40.802535,40.802535,40.802558184,40.802558184,40.802558184,40.802558184,40.802558184,40.802558184,40.802558184,40.802558184,40.802558184,40.802558184,40.802558184,40.802558184,40.802558184,40.802558184,40.802558184,40.802558184,40.802558184,40.802558184,40.802558184,40.802558184,40.802558184,40.802558184,40.802558184,40.802558184,40.802558184,40.802558184,40.802558184,40.802558184,40.8038654,40.8038654,40.8038654,40.8038654,40.8038654,40.8038654,40.8038654,40.8038654,40.8038654,40.8038654,40.8038654,40.8038654,40.8038654,40.8038654,40.8038654,40.8038654,40.8038654,40.8038654,40.8038654,40.8038654,40.8038654,40.8038654,40.8038654,40.8038654,40.8038654,40.8038654,40.8038654,40.8038654],\"lon\":[-73.96188408136368,-73.96188408136368,-73.96188408136368,-73.96188408136368,-73.96188408136368,-73.96188408136368,-73.96188408136368,-73.96188408136368,-73.96188408136368,-73.96188408136368,-73.96188408136368,-73.96188408136368,-73.96188408136368,-73.96188408136368,-73.96188408136368,-73.96188408136368,-73.96188408136368,-73.96188408136368,-73.96188408136368,-73.96188408136368,-73.96188408136368,-73.96188408136368,-73.96188408136368,-73.96188408136368,-73.96188408136368,-73.96188408136368,-73.96188408136368,-73.96188408136368,-73.9643412291,-73.9643412291,-73.9643412291,-73.9643412291,-73.9643412291,-73.9643412291,-73.9643412291,-73.9643412291,-73.9643412291,-73.9643412291,-73.9643412291,-73.9643412291,-73.9643412291,-73.9643412291,-73.9643412291,-73.9643412291,-73.9643412291,-73.9643412291,-73.9643412291,-73.9643412291,-73.9643412291,-73.9643412291,-73.9643412291,-73.9643412291,-73.9643412291,-73.9643412291,-73.9643412291,-73.9523,-73.9523,-73.9523,-73.9523,-73.9523,-73.9523,-73.9523,-73.9523,-73.9523,-73.9523,-73.9523,-73.9523,-73.9523,-73.9523,-73.9523,-73.9523,-73.9523,-73.9523,-73.9523,-73.9523,-73.9523,-73.9523,-73.9523,-73.9523,-73.9523,-73.9523,-73.9523,-73.9523,-73.9605909006,-73.9605909006,-73.9605909006,-73.9605909006,-73.9605909006,-73.9605909006,-73.9605909006,-73.9605909006,-73.9605909006,-73.9605909006,-73.9605909006,-73.9605909006,-73.9605909006,-73.9605909006,-73.9605909006,-73.9605909006,-73.9605909006,-73.9605909006,-73.9605909006,-73.9605909006,-73.9605909006,-73.9605909006,-73.9605909006,-73.9605909006,-73.9605909006,-73.9605909006,-73.9605909006,-73.9605909006,-73.955891848,-73.955891848,-73.955891848,-73.955891848,-73.955891848,-73.955891848,-73.955891848,-73.955891848,-73.955891848,-73.955891848,-73.955891848,-73.955891848,-73.955891848,-73.955891848,-73.955891848,-73.955891848,-73.955891848,-73.955891848,-73.955891848,-73.955891848,-73.955891848,-73.955891848,-73.955891848,-73.955891848,-73.955891848,-73.955891848,-73.955891848,-73.955891848,-73.962261319,-73.962261319,-73.962261319,-73.962261319,-73.962261319,-73.962261319,-73.962261319,-73.962261319,-73.962261319,-73.962261319,-73.962261319,-73.962261319,-73.962261319,-73.962261319,-73.962261319,-73.962261319,-73.962261319,-73.962261319,-73.962261319,-73.962261319,-73.962261319,-73.962261319,-73.962261319,-73.962261319,-73.962261319,-73.962261319,-73.962261319,-73.962261319,-73.957145,-73.957145,-73.957145,-73.957145,-73.957145,-73.957145,-73.957145,-73.957145,-73.957145,-73.957145,-73.957145,-73.957145,-73.957145,-73.957145,-73.957145,-73.957145,-73.957145,-73.957145,-73.957145,-73.957145,-73.957145,-73.957145,-73.957145,-73.957145,-73.957145,-73.957145,-73.957145,-73.957145,-73.9532423,-73.9532423,-73.9532423,-73.9532423,-73.9532423,-73.9532423,-73.9532423,-73.9532423,-73.9532423,-73.9532423,-73.9532423,-73.9532423,-73.9532423,-73.9532423,-73.9532423,-73.9532423,-73.9532423,-73.9532423,-73.9532423,-73.9532423,-73.9532423,-73.9532423,-73.9532423,-73.9532423,-73.9532423,-73.9532423,-73.9532423,-73.9532423,-73.96272707,-73.96272707,-73.96272707,-73.96272707,-73.96272707,-73.96272707,-73.96272707,-73.96272707,-73.96272707,-73.96272707,-73.96272707,-73.96272707,-73.96272707,-73.96272707,-73.96272707,-73.96272707,-73.96272707,-73.96272707,-73.96272707,-73.96272707,-73.96272707,-73.96272707,-73.96272707,-73.96272707,-73.96272707,-73.96272707,-73.96272707,-73.96272707,-73.9559308,-73.9559308,-73.9559308,-73.9559308,-73.9559308,-73.9559308,-73.9559308,-73.9559308,-73.9559308,-73.9559308,-73.9559308,-73.9559308,-73.9559308,-73.9559308,-73.9559308,-73.9559308,-73.9559308,-73.9559308,-73.9559308,-73.9559308,-73.9559308,-73.9559308,-73.9559308,-73.9559308,-73.9559308,-73.9559308,-73.9559308,-73.9559308],\"name\":\"\",\"radius\":15,\"subplot\":\"mapbox\",\"z\":[7,16,10,5,12,14,6,13,15,18,18,13,19,16,25,13,7,7,11,12,18,12,18,13,9,18,8,4,5,3,3,2,2,9,1,8,2,7,1,3,1,2,7,3,4,3,7,2,2,4,2,2,4,3,1,19,17,9,5,11,21,17,18,21,38,24,18,14,19,21,20,18,20,20,29,10,23,12,19,11,15,15,7,7,20,6,3,16,12,16,23,19,15,13,19,14,18,15,17,13,14,18,18,27,21,10,12,14,14,14,11,22,21,7,8,32,26,14,34,23,29,40,33,26,32,30,33,9,30,44,56,21,12,30,18,17,33,34,10,15,9,7,2,6,6,12,10,13,5,6,5,9,14,18,12,6,11,3,11,14,11,4,10,6,10,7,7,26,19,9,8,23,26,22,19,27,37,26,17,26,26,32,25,21,16,18,34,29,26,37,34,14,26,20,12,7,8,6,1,9,6,9,9,8,8,5,3,6,10,8,13,4,5,5,12,4,6,12,9,7,5,14,5,12,13,14,4,7,10,13,6,21,24,5,8,21,13,20,16,12,6,13,16,13,9,10,14,5,7,12,12,7,6,5,1,14,10,9,11,7,10,5,6,9,12,7,7,15,10,6,13,5,5,8,5,6,9,3,2],\"type\":\"densitymapbox\"}],                        {\"template\":{\"data\":{\"histogram2dcontour\":[{\"type\":\"histogram2dcontour\",\"colorbar\":{\"outlinewidth\":0,\"ticks\":\"\"},\"colorscale\":[[0.0,\"#0d0887\"],[0.1111111111111111,\"#46039f\"],[0.2222222222222222,\"#7201a8\"],[0.3333333333333333,\"#9c179e\"],[0.4444444444444444,\"#bd3786\"],[0.5555555555555556,\"#d8576b\"],[0.6666666666666666,\"#ed7953\"],[0.7777777777777778,\"#fb9f3a\"],[0.8888888888888888,\"#fdca26\"],[1.0,\"#f0f921\"]]}],\"choropleth\":[{\"type\":\"choropleth\",\"colorbar\":{\"outlinewidth\":0,\"ticks\":\"\"}}],\"histogram2d\":[{\"type\":\"histogram2d\",\"colorbar\":{\"outlinewidth\":0,\"ticks\":\"\"},\"colorscale\":[[0.0,\"#0d0887\"],[0.1111111111111111,\"#46039f\"],[0.2222222222222222,\"#7201a8\"],[0.3333333333333333,\"#9c179e\"],[0.4444444444444444,\"#bd3786\"],[0.5555555555555556,\"#d8576b\"],[0.6666666666666666,\"#ed7953\"],[0.7777777777777778,\"#fb9f3a\"],[0.8888888888888888,\"#fdca26\"],[1.0,\"#f0f921\"]]}],\"heatmap\":[{\"type\":\"heatmap\",\"colorbar\":{\"outlinewidth\":0,\"ticks\":\"\"},\"colorscale\":[[0.0,\"#0d0887\"],[0.1111111111111111,\"#46039f\"],[0.2222222222222222,\"#7201a8\"],[0.3333333333333333,\"#9c179e\"],[0.4444444444444444,\"#bd3786\"],[0.5555555555555556,\"#d8576b\"],[0.6666666666666666,\"#ed7953\"],[0.7777777777777778,\"#fb9f3a\"],[0.8888888888888888,\"#fdca26\"],[1.0,\"#f0f921\"]]}],\"heatmapgl\":[{\"type\":\"heatmapgl\",\"colorbar\":{\"outlinewidth\":0,\"ticks\":\"\"},\"colorscale\":[[0.0,\"#0d0887\"],[0.1111111111111111,\"#46039f\"],[0.2222222222222222,\"#7201a8\"],[0.3333333333333333,\"#9c179e\"],[0.4444444444444444,\"#bd3786\"],[0.5555555555555556,\"#d8576b\"],[0.6666666666666666,\"#ed7953\"],[0.7777777777777778,\"#fb9f3a\"],[0.8888888888888888,\"#fdca26\"],[1.0,\"#f0f921\"]]}],\"contourcarpet\":[{\"type\":\"contourcarpet\",\"colorbar\":{\"outlinewidth\":0,\"ticks\":\"\"}}],\"contour\":[{\"type\":\"contour\",\"colorbar\":{\"outlinewidth\":0,\"ticks\":\"\"},\"colorscale\":[[0.0,\"#0d0887\"],[0.1111111111111111,\"#46039f\"],[0.2222222222222222,\"#7201a8\"],[0.3333333333333333,\"#9c179e\"],[0.4444444444444444,\"#bd3786\"],[0.5555555555555556,\"#d8576b\"],[0.6666666666666666,\"#ed7953\"],[0.7777777777777778,\"#fb9f3a\"],[0.8888888888888888,\"#fdca26\"],[1.0,\"#f0f921\"]]}],\"surface\":[{\"type\":\"surface\",\"colorbar\":{\"outlinewidth\":0,\"ticks\":\"\"},\"colorscale\":[[0.0,\"#0d0887\"],[0.1111111111111111,\"#46039f\"],[0.2222222222222222,\"#7201a8\"],[0.3333333333333333,\"#9c179e\"],[0.4444444444444444,\"#bd3786\"],[0.5555555555555556,\"#d8576b\"],[0.6666666666666666,\"#ed7953\"],[0.7777777777777778,\"#fb9f3a\"],[0.8888888888888888,\"#fdca26\"],[1.0,\"#f0f921\"]]}],\"mesh3d\":[{\"type\":\"mesh3d\",\"colorbar\":{\"outlinewidth\":0,\"ticks\":\"\"}}],\"scatter\":[{\"fillpattern\":{\"fillmode\":\"overlay\",\"size\":10,\"solidity\":0.2},\"type\":\"scatter\"}],\"parcoords\":[{\"type\":\"parcoords\",\"line\":{\"colorbar\":{\"outlinewidth\":0,\"ticks\":\"\"}}}],\"scatterpolargl\":[{\"type\":\"scatterpolargl\",\"marker\":{\"colorbar\":{\"outlinewidth\":0,\"ticks\":\"\"}}}],\"bar\":[{\"error_x\":{\"color\":\"#2a3f5f\"},\"error_y\":{\"color\":\"#2a3f5f\"},\"marker\":{\"line\":{\"color\":\"#E5ECF6\",\"width\":0.5},\"pattern\":{\"fillmode\":\"overlay\",\"size\":10,\"solidity\":0.2}},\"type\":\"bar\"}],\"scattergeo\":[{\"type\":\"scattergeo\",\"marker\":{\"colorbar\":{\"outlinewidth\":0,\"ticks\":\"\"}}}],\"scatterpolar\":[{\"type\":\"scatterpolar\",\"marker\":{\"colorbar\":{\"outlinewidth\":0,\"ticks\":\"\"}}}],\"histogram\":[{\"marker\":{\"pattern\":{\"fillmode\":\"overlay\",\"size\":10,\"solidity\":0.2}},\"type\":\"histogram\"}],\"scattergl\":[{\"type\":\"scattergl\",\"marker\":{\"colorbar\":{\"outlinewidth\":0,\"ticks\":\"\"}}}],\"scatter3d\":[{\"type\":\"scatter3d\",\"line\":{\"colorbar\":{\"outlinewidth\":0,\"ticks\":\"\"}},\"marker\":{\"colorbar\":{\"outlinewidth\":0,\"ticks\":\"\"}}}],\"scattermapbox\":[{\"type\":\"scattermapbox\",\"marker\":{\"colorbar\":{\"outlinewidth\":0,\"ticks\":\"\"}}}],\"scatterternary\":[{\"type\":\"scatterternary\",\"marker\":{\"colorbar\":{\"outlinewidth\":0,\"ticks\":\"\"}}}],\"scattercarpet\":[{\"type\":\"scattercarpet\",\"marker\":{\"colorbar\":{\"outlinewidth\":0,\"ticks\":\"\"}}}],\"carpet\":[{\"aaxis\":{\"endlinecolor\":\"#2a3f5f\",\"gridcolor\":\"white\",\"linecolor\":\"white\",\"minorgridcolor\":\"white\",\"startlinecolor\":\"#2a3f5f\"},\"baxis\":{\"endlinecolor\":\"#2a3f5f\",\"gridcolor\":\"white\",\"linecolor\":\"white\",\"minorgridcolor\":\"white\",\"startlinecolor\":\"#2a3f5f\"},\"type\":\"carpet\"}],\"table\":[{\"cells\":{\"fill\":{\"color\":\"#EBF0F8\"},\"line\":{\"color\":\"white\"}},\"header\":{\"fill\":{\"color\":\"#C8D4E3\"},\"line\":{\"color\":\"white\"}},\"type\":\"table\"}],\"barpolar\":[{\"marker\":{\"line\":{\"color\":\"#E5ECF6\",\"width\":0.5},\"pattern\":{\"fillmode\":\"overlay\",\"size\":10,\"solidity\":0.2}},\"type\":\"barpolar\"}],\"pie\":[{\"automargin\":true,\"type\":\"pie\"}]},\"layout\":{\"autotypenumbers\":\"strict\",\"colorway\":[\"#636efa\",\"#EF553B\",\"#00cc96\",\"#ab63fa\",\"#FFA15A\",\"#19d3f3\",\"#FF6692\",\"#B6E880\",\"#FF97FF\",\"#FECB52\"],\"font\":{\"color\":\"#2a3f5f\"},\"hovermode\":\"closest\",\"hoverlabel\":{\"align\":\"left\"},\"paper_bgcolor\":\"white\",\"plot_bgcolor\":\"#E5ECF6\",\"polar\":{\"bgcolor\":\"#E5ECF6\",\"angularaxis\":{\"gridcolor\":\"white\",\"linecolor\":\"white\",\"ticks\":\"\"},\"radialaxis\":{\"gridcolor\":\"white\",\"linecolor\":\"white\",\"ticks\":\"\"}},\"ternary\":{\"bgcolor\":\"#E5ECF6\",\"aaxis\":{\"gridcolor\":\"white\",\"linecolor\":\"white\",\"ticks\":\"\"},\"baxis\":{\"gridcolor\":\"white\",\"linecolor\":\"white\",\"ticks\":\"\"},\"caxis\":{\"gridcolor\":\"white\",\"linecolor\":\"white\",\"ticks\":\"\"}},\"coloraxis\":{\"colorbar\":{\"outlinewidth\":0,\"ticks\":\"\"}},\"colorscale\":{\"sequential\":[[0.0,\"#0d0887\"],[0.1111111111111111,\"#46039f\"],[0.2222222222222222,\"#7201a8\"],[0.3333333333333333,\"#9c179e\"],[0.4444444444444444,\"#bd3786\"],[0.5555555555555556,\"#d8576b\"],[0.6666666666666666,\"#ed7953\"],[0.7777777777777778,\"#fb9f3a\"],[0.8888888888888888,\"#fdca26\"],[1.0,\"#f0f921\"]],\"sequentialminus\":[[0.0,\"#0d0887\"],[0.1111111111111111,\"#46039f\"],[0.2222222222222222,\"#7201a8\"],[0.3333333333333333,\"#9c179e\"],[0.4444444444444444,\"#bd3786\"],[0.5555555555555556,\"#d8576b\"],[0.6666666666666666,\"#ed7953\"],[0.7777777777777778,\"#fb9f3a\"],[0.8888888888888888,\"#fdca26\"],[1.0,\"#f0f921\"]],\"diverging\":[[0,\"#8e0152\"],[0.1,\"#c51b7d\"],[0.2,\"#de77ae\"],[0.3,\"#f1b6da\"],[0.4,\"#fde0ef\"],[0.5,\"#f7f7f7\"],[0.6,\"#e6f5d0\"],[0.7,\"#b8e186\"],[0.8,\"#7fbc41\"],[0.9,\"#4d9221\"],[1,\"#276419\"]]},\"xaxis\":{\"gridcolor\":\"white\",\"linecolor\":\"white\",\"ticks\":\"\",\"title\":{\"standoff\":15},\"zerolinecolor\":\"white\",\"automargin\":true,\"zerolinewidth\":2},\"yaxis\":{\"gridcolor\":\"white\",\"linecolor\":\"white\",\"ticks\":\"\",\"title\":{\"standoff\":15},\"zerolinecolor\":\"white\",\"automargin\":true,\"zerolinewidth\":2},\"scene\":{\"xaxis\":{\"backgroundcolor\":\"#E5ECF6\",\"gridcolor\":\"white\",\"linecolor\":\"white\",\"showbackground\":true,\"ticks\":\"\",\"zerolinecolor\":\"white\",\"gridwidth\":2},\"yaxis\":{\"backgroundcolor\":\"#E5ECF6\",\"gridcolor\":\"white\",\"linecolor\":\"white\",\"showbackground\":true,\"ticks\":\"\",\"zerolinecolor\":\"white\",\"gridwidth\":2},\"zaxis\":{\"backgroundcolor\":\"#E5ECF6\",\"gridcolor\":\"white\",\"linecolor\":\"white\",\"showbackground\":true,\"ticks\":\"\",\"zerolinecolor\":\"white\",\"gridwidth\":2}},\"shapedefaults\":{\"line\":{\"color\":\"#2a3f5f\"}},\"annotationdefaults\":{\"arrowcolor\":\"#2a3f5f\",\"arrowhead\":0,\"arrowwidth\":1},\"geo\":{\"bgcolor\":\"white\",\"landcolor\":\"#E5ECF6\",\"subunitcolor\":\"white\",\"showland\":true,\"showlakes\":true,\"lakecolor\":\"white\"},\"title\":{\"x\":0.05},\"mapbox\":{\"style\":\"light\"}}},\"mapbox\":{\"domain\":{\"x\":[0.0,1.0],\"y\":[0.0,1.0]},\"center\":{\"lat\":40.802,\"lon\":-73.963},\"zoom\":13,\"style\":\"stamen-terrain\"},\"coloraxis\":{\"colorbar\":{\"title\":{\"text\":\"bikes_out\"}},\"colorscale\":[[0.0,\"#0d0887\"],[0.1111111111111111,\"#46039f\"],[0.2222222222222222,\"#7201a8\"],[0.3333333333333333,\"#9c179e\"],[0.4444444444444444,\"#bd3786\"],[0.5555555555555556,\"#d8576b\"],[0.6666666666666666,\"#ed7953\"],[0.7777777777777778,\"#fb9f3a\"],[0.8888888888888888,\"#fdca26\"],[1.0,\"#f0f921\"]]},\"legend\":{\"tracegroupgap\":0},\"margin\":{\"t\":60},\"height\":1000},                        {\"responsive\": true}                    ).then(function(){\n",
       "                            \n",
       "var gd = document.getElementById('c919508a-e483-41f6-af45-7f59c7ea1479');\n",
       "var x = new MutationObserver(function (mutations, observer) {{\n",
       "        var display = window.getComputedStyle(gd).display;\n",
       "        if (!display || display === 'none') {{\n",
       "            console.log([gd, 'removed!']);\n",
       "            Plotly.purge(gd);\n",
       "            observer.disconnect();\n",
       "        }}\n",
       "}});\n",
       "\n",
       "// Listen for the removal of the full notebook cells\n",
       "var notebookContainer = gd.closest('#notebook-container');\n",
       "if (notebookContainer) {{\n",
       "    x.observe(notebookContainer, {childList: true});\n",
       "}}\n",
       "\n",
       "// Listen for the clearing of the current output cell\n",
       "var outputEl = gd.closest('.output');\n",
       "if (outputEl) {{\n",
       "    x.observe(outputEl, {childList: true});\n",
       "}}\n",
       "\n",
       "                        })                };                });            </script>        </div>"
      ]
     },
     "metadata": {},
     "output_type": "display_data"
    }
   ],
   "source": [
    "fig = px.density_mapbox(start_df, lat='start_lat', lon='start_lng', z='bikes_out', radius=15,\n",
    "                        center=dict(lat=40.802, lon=-73.963), zoom=13, height=1000,\n",
    "                        mapbox_style=\"stamen-terrain\")\n",
    "fig.show()"
   ]
  },
  {
   "cell_type": "code",
   "execution_count": null,
   "id": "b69b1e89-6421-4126-9ccc-de2caa2d342a",
   "metadata": {},
   "outputs": [],
   "source": []
  },
  {
   "cell_type": "code",
   "execution_count": 62,
   "id": "f51e07c4-c5e6-4a94-adac-59142c314183",
   "metadata": {},
   "outputs": [],
   "source": [
    "end_df = df[(df['end_station_id'].isin(station_lst))].copy()\n",
    "end_df['bikes_in'] = 0\n",
    "\n",
    "end_df['started_date'] = end_df['started_at'].dt.floor('d')\n",
    "end_df['ended_date'] = end_df['ended_at'].dt.floor('d')"
   ]
  },
  {
   "cell_type": "code",
   "execution_count": null,
   "id": "a19f7806-a0a6-4f22-bcb7-9e1ad83a3a06",
   "metadata": {},
   "outputs": [],
   "source": []
  },
  {
   "cell_type": "code",
   "execution_count": 63,
   "id": "43541ba9-2996-4c6e-b8cb-f34c4c76629f",
   "metadata": {},
   "outputs": [],
   "source": [
    "end_df = end_df.groupby(['end_station_id','end_station_name','ended_date'])[['bikes_in']].count().reset_index()"
   ]
  },
  {
   "cell_type": "code",
   "execution_count": 64,
   "id": "04d0c450-4434-4490-a2e3-6f3dd40d55b2",
   "metadata": {},
   "outputs": [
    {
     "data": {
      "text/html": [
       "<div>\n",
       "<style scoped>\n",
       "    .dataframe tbody tr th:only-of-type {\n",
       "        vertical-align: middle;\n",
       "    }\n",
       "\n",
       "    .dataframe tbody tr th {\n",
       "        vertical-align: top;\n",
       "    }\n",
       "\n",
       "    .dataframe thead th {\n",
       "        text-align: right;\n",
       "    }\n",
       "</style>\n",
       "<table border=\"1\" class=\"dataframe\">\n",
       "  <thead>\n",
       "    <tr style=\"text-align: right;\">\n",
       "      <th></th>\n",
       "      <th>end_station_id</th>\n",
       "      <th>end_station_name</th>\n",
       "      <th>ended_date</th>\n",
       "      <th>bikes_in</th>\n",
       "    </tr>\n",
       "  </thead>\n",
       "  <tbody>\n",
       "    <tr>\n",
       "      <th>75</th>\n",
       "      <td>7617.07</td>\n",
       "      <td>Central Park North &amp; Adam Clayton Powell Blvd</td>\n",
       "      <td>2023-02-20</td>\n",
       "      <td>184</td>\n",
       "    </tr>\n",
       "    <tr>\n",
       "      <th>65</th>\n",
       "      <td>7617.07</td>\n",
       "      <td>Central Park North &amp; Adam Clayton Powell Blvd</td>\n",
       "      <td>2023-02-10</td>\n",
       "      <td>138</td>\n",
       "    </tr>\n",
       "    <tr>\n",
       "      <th>70</th>\n",
       "      <td>7617.07</td>\n",
       "      <td>Central Park North &amp; Adam Clayton Powell Blvd</td>\n",
       "      <td>2023-02-15</td>\n",
       "      <td>121</td>\n",
       "    </tr>\n",
       "    <tr>\n",
       "      <th>81</th>\n",
       "      <td>7617.07</td>\n",
       "      <td>Central Park North &amp; Adam Clayton Powell Blvd</td>\n",
       "      <td>2023-02-26</td>\n",
       "      <td>119</td>\n",
       "    </tr>\n",
       "    <tr>\n",
       "      <th>84</th>\n",
       "      <td>7631.23</td>\n",
       "      <td>Frederick Douglass Blvd &amp; W 112 St</td>\n",
       "      <td>2023-02-01</td>\n",
       "      <td>118</td>\n",
       "    </tr>\n",
       "    <tr>\n",
       "      <th>66</th>\n",
       "      <td>7617.07</td>\n",
       "      <td>Central Park North &amp; Adam Clayton Powell Blvd</td>\n",
       "      <td>2023-02-11</td>\n",
       "      <td>118</td>\n",
       "    </tr>\n",
       "    <tr>\n",
       "      <th>67</th>\n",
       "      <td>7617.07</td>\n",
       "      <td>Central Park North &amp; Adam Clayton Powell Blvd</td>\n",
       "      <td>2023-02-12</td>\n",
       "      <td>116</td>\n",
       "    </tr>\n",
       "    <tr>\n",
       "      <th>63</th>\n",
       "      <td>7617.07</td>\n",
       "      <td>Central Park North &amp; Adam Clayton Powell Blvd</td>\n",
       "      <td>2023-02-08</td>\n",
       "      <td>115</td>\n",
       "    </tr>\n",
       "    <tr>\n",
       "      <th>74</th>\n",
       "      <td>7617.07</td>\n",
       "      <td>Central Park North &amp; Adam Clayton Powell Blvd</td>\n",
       "      <td>2023-02-19</td>\n",
       "      <td>110</td>\n",
       "    </tr>\n",
       "    <tr>\n",
       "      <th>69</th>\n",
       "      <td>7617.07</td>\n",
       "      <td>Central Park North &amp; Adam Clayton Powell Blvd</td>\n",
       "      <td>2023-02-14</td>\n",
       "      <td>110</td>\n",
       "    </tr>\n",
       "  </tbody>\n",
       "</table>\n",
       "</div>"
      ],
      "text/plain": [
       "   end_station_id                               end_station_name ended_date  \\\n",
       "75        7617.07  Central Park North & Adam Clayton Powell Blvd 2023-02-20   \n",
       "65        7617.07  Central Park North & Adam Clayton Powell Blvd 2023-02-10   \n",
       "70        7617.07  Central Park North & Adam Clayton Powell Blvd 2023-02-15   \n",
       "81        7617.07  Central Park North & Adam Clayton Powell Blvd 2023-02-26   \n",
       "84        7631.23             Frederick Douglass Blvd & W 112 St 2023-02-01   \n",
       "66        7617.07  Central Park North & Adam Clayton Powell Blvd 2023-02-11   \n",
       "67        7617.07  Central Park North & Adam Clayton Powell Blvd 2023-02-12   \n",
       "63        7617.07  Central Park North & Adam Clayton Powell Blvd 2023-02-08   \n",
       "74        7617.07  Central Park North & Adam Clayton Powell Blvd 2023-02-19   \n",
       "69        7617.07  Central Park North & Adam Clayton Powell Blvd 2023-02-14   \n",
       "\n",
       "    bikes_in  \n",
       "75       184  \n",
       "65       138  \n",
       "70       121  \n",
       "81       119  \n",
       "84       118  \n",
       "66       118  \n",
       "67       116  \n",
       "63       115  \n",
       "74       110  \n",
       "69       110  "
      ]
     },
     "execution_count": 64,
     "metadata": {},
     "output_type": "execute_result"
    }
   ],
   "source": [
    "end_df.sort_values('bikes_in', ascending=False)[:10]"
   ]
  },
  {
   "cell_type": "code",
   "execution_count": 67,
   "id": "d3e6a154-391d-412c-be79-fe31259c63d6",
   "metadata": {},
   "outputs": [],
   "source": [
    "end_df = pd.merge(end_df, fltr_df, how=\"right\", left_on = [\"end_station_id\"], right_on = [\"start_station_id\"])"
   ]
  },
  {
   "cell_type": "code",
   "execution_count": 68,
   "id": "b9fe92d8-d7b8-4589-a285-792172061b25",
   "metadata": {},
   "outputs": [
    {
     "data": {
      "text/html": [
       "<div>\n",
       "<style scoped>\n",
       "    .dataframe tbody tr th:only-of-type {\n",
       "        vertical-align: middle;\n",
       "    }\n",
       "\n",
       "    .dataframe tbody tr th {\n",
       "        vertical-align: top;\n",
       "    }\n",
       "\n",
       "    .dataframe thead th {\n",
       "        text-align: right;\n",
       "    }\n",
       "</style>\n",
       "<table border=\"1\" class=\"dataframe\">\n",
       "  <thead>\n",
       "    <tr style=\"text-align: right;\">\n",
       "      <th></th>\n",
       "      <th>end_station_id</th>\n",
       "      <th>end_station_name</th>\n",
       "      <th>ended_date</th>\n",
       "      <th>bikes_in</th>\n",
       "      <th>start_station_id</th>\n",
       "      <th>start_lat</th>\n",
       "      <th>start_lng</th>\n",
       "    </tr>\n",
       "  </thead>\n",
       "  <tbody>\n",
       "    <tr>\n",
       "      <th>0</th>\n",
       "      <td>7617.07</td>\n",
       "      <td>Central Park North &amp; Adam Clayton Powell Blvd</td>\n",
       "      <td>2023-02-01</td>\n",
       "      <td>75.0</td>\n",
       "      <td>7617.07</td>\n",
       "      <td>40.799624</td>\n",
       "      <td>-73.955892</td>\n",
       "    </tr>\n",
       "    <tr>\n",
       "      <th>1</th>\n",
       "      <td>7617.07</td>\n",
       "      <td>Central Park North &amp; Adam Clayton Powell Blvd</td>\n",
       "      <td>2023-02-02</td>\n",
       "      <td>72.0</td>\n",
       "      <td>7617.07</td>\n",
       "      <td>40.799624</td>\n",
       "      <td>-73.955892</td>\n",
       "    </tr>\n",
       "    <tr>\n",
       "      <th>2</th>\n",
       "      <td>7617.07</td>\n",
       "      <td>Central Park North &amp; Adam Clayton Powell Blvd</td>\n",
       "      <td>2023-02-03</td>\n",
       "      <td>34.0</td>\n",
       "      <td>7617.07</td>\n",
       "      <td>40.799624</td>\n",
       "      <td>-73.955892</td>\n",
       "    </tr>\n",
       "    <tr>\n",
       "      <th>3</th>\n",
       "      <td>7617.07</td>\n",
       "      <td>Central Park North &amp; Adam Clayton Powell Blvd</td>\n",
       "      <td>2023-02-04</td>\n",
       "      <td>17.0</td>\n",
       "      <td>7617.07</td>\n",
       "      <td>40.799624</td>\n",
       "      <td>-73.955892</td>\n",
       "    </tr>\n",
       "    <tr>\n",
       "      <th>4</th>\n",
       "      <td>7617.07</td>\n",
       "      <td>Central Park North &amp; Adam Clayton Powell Blvd</td>\n",
       "      <td>2023-02-05</td>\n",
       "      <td>82.0</td>\n",
       "      <td>7617.07</td>\n",
       "      <td>40.799624</td>\n",
       "      <td>-73.955892</td>\n",
       "    </tr>\n",
       "    <tr>\n",
       "      <th>...</th>\n",
       "      <td>...</td>\n",
       "      <td>...</td>\n",
       "      <td>...</td>\n",
       "      <td>...</td>\n",
       "      <td>...</td>\n",
       "      <td>...</td>\n",
       "      <td>...</td>\n",
       "    </tr>\n",
       "    <tr>\n",
       "      <th>167</th>\n",
       "      <td>7602.05</td>\n",
       "      <td>Lenox Ave &amp; W 111 St</td>\n",
       "      <td>2023-02-25</td>\n",
       "      <td>32.0</td>\n",
       "      <td>7602.05</td>\n",
       "      <td>40.798786</td>\n",
       "      <td>-73.952300</td>\n",
       "    </tr>\n",
       "    <tr>\n",
       "      <th>168</th>\n",
       "      <td>7602.05</td>\n",
       "      <td>Lenox Ave &amp; W 111 St</td>\n",
       "      <td>2023-02-26</td>\n",
       "      <td>41.0</td>\n",
       "      <td>7602.05</td>\n",
       "      <td>40.798786</td>\n",
       "      <td>-73.952300</td>\n",
       "    </tr>\n",
       "    <tr>\n",
       "      <th>169</th>\n",
       "      <td>7602.05</td>\n",
       "      <td>Lenox Ave &amp; W 111 St</td>\n",
       "      <td>2023-02-27</td>\n",
       "      <td>41.0</td>\n",
       "      <td>7602.05</td>\n",
       "      <td>40.798786</td>\n",
       "      <td>-73.952300</td>\n",
       "    </tr>\n",
       "    <tr>\n",
       "      <th>170</th>\n",
       "      <td>7602.05</td>\n",
       "      <td>Lenox Ave &amp; W 111 St</td>\n",
       "      <td>2023-02-28</td>\n",
       "      <td>23.0</td>\n",
       "      <td>7602.05</td>\n",
       "      <td>40.798786</td>\n",
       "      <td>-73.952300</td>\n",
       "    </tr>\n",
       "    <tr>\n",
       "      <th>171</th>\n",
       "      <td>NaN</td>\n",
       "      <td>NaN</td>\n",
       "      <td>NaT</td>\n",
       "      <td>NaN</td>\n",
       "      <td>7595.17</td>\n",
       "      <td>40.796935</td>\n",
       "      <td>-73.964341</td>\n",
       "    </tr>\n",
       "  </tbody>\n",
       "</table>\n",
       "<p>172 rows × 7 columns</p>\n",
       "</div>"
      ],
      "text/plain": [
       "    end_station_id                               end_station_name ended_date  \\\n",
       "0          7617.07  Central Park North & Adam Clayton Powell Blvd 2023-02-01   \n",
       "1          7617.07  Central Park North & Adam Clayton Powell Blvd 2023-02-02   \n",
       "2          7617.07  Central Park North & Adam Clayton Powell Blvd 2023-02-03   \n",
       "3          7617.07  Central Park North & Adam Clayton Powell Blvd 2023-02-04   \n",
       "4          7617.07  Central Park North & Adam Clayton Powell Blvd 2023-02-05   \n",
       "..             ...                                            ...        ...   \n",
       "167        7602.05                           Lenox Ave & W 111 St 2023-02-25   \n",
       "168        7602.05                           Lenox Ave & W 111 St 2023-02-26   \n",
       "169        7602.05                           Lenox Ave & W 111 St 2023-02-27   \n",
       "170        7602.05                           Lenox Ave & W 111 St 2023-02-28   \n",
       "171            NaN                                            NaN        NaT   \n",
       "\n",
       "     bikes_in start_station_id  start_lat  start_lng  \n",
       "0        75.0          7617.07  40.799624 -73.955892  \n",
       "1        72.0          7617.07  40.799624 -73.955892  \n",
       "2        34.0          7617.07  40.799624 -73.955892  \n",
       "3        17.0          7617.07  40.799624 -73.955892  \n",
       "4        82.0          7617.07  40.799624 -73.955892  \n",
       "..        ...              ...        ...        ...  \n",
       "167      32.0          7602.05  40.798786 -73.952300  \n",
       "168      41.0          7602.05  40.798786 -73.952300  \n",
       "169      41.0          7602.05  40.798786 -73.952300  \n",
       "170      23.0          7602.05  40.798786 -73.952300  \n",
       "171       NaN          7595.17  40.796935 -73.964341  \n",
       "\n",
       "[172 rows x 7 columns]"
      ]
     },
     "execution_count": 68,
     "metadata": {},
     "output_type": "execute_result"
    }
   ],
   "source": [
    "end_df"
   ]
  },
  {
   "cell_type": "code",
   "execution_count": null,
   "id": "3630832a-1a29-49ec-aa0e-72df262d2fc1",
   "metadata": {},
   "outputs": [],
   "source": []
  },
  {
   "cell_type": "code",
   "execution_count": 70,
   "id": "5511f60e-7624-4257-b370-058a149f5219",
   "metadata": {},
   "outputs": [
    {
     "data": {
      "application/vnd.plotly.v1+json": {
       "config": {
        "plotlyServerURL": "https://plot.ly"
       },
       "data": [
        {
         "alignmentgroup": "True",
         "hovertemplate": "end_station_name=Central Park North & Adam Clayton Powell Blvd<br>ended_date=%{x}<br>bikes_in=%{y}<extra></extra>",
         "legendgroup": "Central Park North & Adam Clayton Powell Blvd",
         "marker": {
          "color": "#636efa",
          "pattern": {
           "shape": ""
          }
         },
         "name": "Central Park North & Adam Clayton Powell Blvd",
         "offsetgroup": "Central Park North & Adam Clayton Powell Blvd",
         "orientation": "v",
         "showlegend": true,
         "textposition": "auto",
         "type": "bar",
         "x": [
          "2023-02-01T00:00:00",
          "2023-02-02T00:00:00",
          "2023-02-03T00:00:00",
          "2023-02-04T00:00:00",
          "2023-02-05T00:00:00",
          "2023-02-06T00:00:00",
          "2023-02-07T00:00:00",
          "2023-02-08T00:00:00",
          "2023-02-09T00:00:00",
          "2023-02-10T00:00:00",
          "2023-02-11T00:00:00",
          "2023-02-12T00:00:00",
          "2023-02-13T00:00:00",
          "2023-02-14T00:00:00",
          "2023-02-15T00:00:00",
          "2023-02-16T00:00:00",
          "2023-02-17T00:00:00",
          "2023-02-18T00:00:00",
          "2023-02-19T00:00:00",
          "2023-02-20T00:00:00",
          "2023-02-21T00:00:00",
          "2023-02-22T00:00:00",
          "2023-02-23T00:00:00",
          "2023-02-24T00:00:00",
          "2023-02-25T00:00:00",
          "2023-02-26T00:00:00",
          "2023-02-27T00:00:00",
          "2023-02-28T00:00:00"
         ],
         "xaxis": "x",
         "y": [
          75,
          72,
          34,
          17,
          82,
          83,
          54,
          115,
          77,
          138,
          118,
          116,
          97,
          110,
          121,
          90,
          45,
          100,
          110,
          184,
          81,
          54,
          83,
          85,
          60,
          119,
          65,
          44
         ],
         "yaxis": "y"
        },
        {
         "alignmentgroup": "True",
         "hovertemplate": "end_station_name=Frederick Douglass Blvd & W 112 St<br>ended_date=%{x}<br>bikes_in=%{y}<extra></extra>",
         "legendgroup": "Frederick Douglass Blvd & W 112 St",
         "marker": {
          "color": "#EF553B",
          "pattern": {
           "shape": ""
          }
         },
         "name": "Frederick Douglass Blvd & W 112 St",
         "offsetgroup": "Frederick Douglass Blvd & W 112 St",
         "orientation": "v",
         "showlegend": true,
         "textposition": "auto",
         "type": "bar",
         "x": [
          "2023-02-01T00:00:00",
          "2023-02-02T00:00:00",
          "2023-02-03T00:00:00",
          "2023-02-04T00:00:00",
          "2023-02-05T00:00:00",
          "2023-02-06T00:00:00",
          "2023-02-07T00:00:00",
          "2023-02-08T00:00:00",
          "2023-02-09T00:00:00",
          "2023-02-10T00:00:00",
          "2023-02-11T00:00:00",
          "2023-02-12T00:00:00",
          "2023-02-13T00:00:00",
          "2023-02-14T00:00:00",
          "2023-02-15T00:00:00",
          "2023-02-16T00:00:00",
          "2023-02-17T00:00:00",
          "2023-02-18T00:00:00",
          "2023-02-19T00:00:00",
          "2023-02-20T00:00:00",
          "2023-02-21T00:00:00",
          "2023-02-22T00:00:00",
          "2023-02-23T00:00:00",
          "2023-02-24T00:00:00",
          "2023-02-25T00:00:00",
          "2023-02-26T00:00:00",
          "2023-02-27T00:00:00",
          "2023-02-28T00:00:00"
         ],
         "xaxis": "x",
         "y": [
          118,
          69,
          30,
          29,
          69,
          86,
          64,
          81,
          72,
          109,
          75,
          86,
          93,
          95,
          104,
          89,
          74,
          69,
          70,
          97,
          79,
          49,
          85,
          69,
          58,
          63,
          70,
          39
         ],
         "yaxis": "y"
        },
        {
         "alignmentgroup": "True",
         "hovertemplate": "end_station_name=Central Park W & W 103 St<br>ended_date=%{x}<br>bikes_in=%{y}<extra></extra>",
         "legendgroup": "Central Park W & W 103 St",
         "marker": {
          "color": "#00cc96",
          "pattern": {
           "shape": ""
          }
         },
         "name": "Central Park W & W 103 St",
         "offsetgroup": "Central Park W & W 103 St",
         "orientation": "v",
         "showlegend": true,
         "textposition": "auto",
         "type": "bar",
         "x": [
          "2023-02-01T00:00:00",
          "2023-02-02T00:00:00",
          "2023-02-03T00:00:00",
          "2023-02-04T00:00:00",
          "2023-02-05T00:00:00",
          "2023-02-06T00:00:00",
          "2023-02-07T00:00:00",
          "2023-02-08T00:00:00",
          "2023-02-09T00:00:00",
          "2023-02-10T00:00:00",
          "2023-02-11T00:00:00",
          "2023-02-12T00:00:00",
          "2023-02-13T00:00:00",
          "2023-02-14T00:00:00",
          "2023-02-15T00:00:00",
          "2023-02-16T00:00:00",
          "2023-02-17T00:00:00",
          "2023-02-18T00:00:00",
          "2023-02-19T00:00:00",
          "2023-02-20T00:00:00",
          "2023-02-21T00:00:00",
          "2023-02-22T00:00:00",
          "2023-02-23T00:00:00",
          "2023-02-24T00:00:00",
          "2023-02-25T00:00:00",
          "2023-02-26T00:00:00",
          "2023-02-27T00:00:00",
          "2023-02-28T00:00:00"
         ],
         "xaxis": "x",
         "y": [
          34,
          42,
          30,
          19,
          53,
          37,
          31,
          64,
          51,
          82,
          66,
          72,
          60,
          54,
          95,
          46,
          31,
          42,
          44,
          58,
          43,
          34,
          47,
          55,
          37,
          58,
          36,
          26
         ],
         "yaxis": "y"
        },
        {
         "alignmentgroup": "True",
         "hovertemplate": "end_station_name=Adam Clayton Powell Blvd & W 115 St<br>ended_date=%{x}<br>bikes_in=%{y}<extra></extra>",
         "legendgroup": "Adam Clayton Powell Blvd & W 115 St",
         "marker": {
          "color": "#ab63fa",
          "pattern": {
           "shape": ""
          }
         },
         "name": "Adam Clayton Powell Blvd & W 115 St",
         "offsetgroup": "Adam Clayton Powell Blvd & W 115 St",
         "orientation": "v",
         "showlegend": true,
         "textposition": "auto",
         "type": "bar",
         "x": [
          "2023-02-01T00:00:00",
          "2023-02-02T00:00:00",
          "2023-02-03T00:00:00",
          "2023-02-04T00:00:00",
          "2023-02-05T00:00:00",
          "2023-02-06T00:00:00",
          "2023-02-07T00:00:00",
          "2023-02-08T00:00:00",
          "2023-02-09T00:00:00",
          "2023-02-10T00:00:00",
          "2023-02-11T00:00:00",
          "2023-02-12T00:00:00",
          "2023-02-13T00:00:00",
          "2023-02-14T00:00:00",
          "2023-02-15T00:00:00",
          "2023-02-16T00:00:00",
          "2023-02-17T00:00:00",
          "2023-02-18T00:00:00",
          "2023-02-19T00:00:00",
          "2023-02-20T00:00:00",
          "2023-02-21T00:00:00",
          "2023-02-22T00:00:00",
          "2023-02-23T00:00:00",
          "2023-02-24T00:00:00",
          "2023-02-25T00:00:00",
          "2023-02-26T00:00:00",
          "2023-02-27T00:00:00",
          "2023-02-28T00:00:00",
          "2023-03-01T00:00:00"
         ],
         "xaxis": "x",
         "y": [
          24,
          27,
          14,
          12,
          18,
          28,
          31,
          30,
          28,
          30,
          18,
          15,
          31,
          30,
          42,
          37,
          21,
          31,
          28,
          23,
          25,
          15,
          24,
          24,
          19,
          19,
          39,
          17,
          1
         ],
         "yaxis": "y"
        },
        {
         "alignmentgroup": "True",
         "hovertemplate": "end_station_name=Frederick Douglass Blvd & W 115 St<br>ended_date=%{x}<br>bikes_in=%{y}<extra></extra>",
         "legendgroup": "Frederick Douglass Blvd & W 115 St",
         "marker": {
          "color": "#FFA15A",
          "pattern": {
           "shape": ""
          }
         },
         "name": "Frederick Douglass Blvd & W 115 St",
         "offsetgroup": "Frederick Douglass Blvd & W 115 St",
         "orientation": "v",
         "showlegend": true,
         "textposition": "auto",
         "type": "bar",
         "x": [
          "2023-02-01T00:00:00",
          "2023-02-02T00:00:00",
          "2023-02-04T00:00:00",
          "2023-02-05T00:00:00",
          "2023-02-06T00:00:00",
          "2023-02-07T00:00:00",
          "2023-02-08T00:00:00",
          "2023-02-09T00:00:00",
          "2023-02-10T00:00:00",
          "2023-02-11T00:00:00",
          "2023-02-12T00:00:00",
          "2023-02-13T00:00:00",
          "2023-02-14T00:00:00",
          "2023-02-15T00:00:00",
          "2023-02-16T00:00:00",
          "2023-02-17T00:00:00",
          "2023-02-18T00:00:00",
          "2023-02-19T00:00:00",
          "2023-02-20T00:00:00",
          "2023-02-21T00:00:00",
          "2023-02-22T00:00:00",
          "2023-02-23T00:00:00",
          "2023-02-24T00:00:00",
          "2023-02-25T00:00:00",
          "2023-02-26T00:00:00",
          "2023-02-27T00:00:00",
          "2023-02-28T00:00:00"
         ],
         "xaxis": "x",
         "y": [
          9,
          9,
          2,
          13,
          8,
          11,
          9,
          13,
          17,
          15,
          9,
          6,
          12,
          11,
          11,
          9,
          7,
          6,
          7,
          6,
          7,
          5,
          10,
          2,
          5,
          7,
          4
         ],
         "yaxis": "y"
        },
        {
         "alignmentgroup": "True",
         "hovertemplate": "end_station_name=Lenox Ave & W 111 St<br>ended_date=%{x}<br>bikes_in=%{y}<extra></extra>",
         "legendgroup": "Lenox Ave & W 111 St",
         "marker": {
          "color": "#FF6692",
          "pattern": {
           "shape": ""
          }
         },
         "name": "Lenox Ave & W 111 St",
         "offsetgroup": "Lenox Ave & W 111 St",
         "orientation": "v",
         "showlegend": true,
         "textposition": "auto",
         "type": "bar",
         "x": [
          "2023-02-01T00:00:00",
          "2023-02-02T00:00:00",
          "2023-02-03T00:00:00",
          "2023-02-04T00:00:00",
          "2023-02-05T00:00:00",
          "2023-02-06T00:00:00",
          "2023-02-07T00:00:00",
          "2023-02-08T00:00:00",
          "2023-02-09T00:00:00",
          "2023-02-10T00:00:00",
          "2023-02-11T00:00:00",
          "2023-02-12T00:00:00",
          "2023-02-13T00:00:00",
          "2023-02-14T00:00:00",
          "2023-02-15T00:00:00",
          "2023-02-16T00:00:00",
          "2023-02-17T00:00:00",
          "2023-02-18T00:00:00",
          "2023-02-19T00:00:00",
          "2023-02-20T00:00:00",
          "2023-02-21T00:00:00",
          "2023-02-22T00:00:00",
          "2023-02-23T00:00:00",
          "2023-02-24T00:00:00",
          "2023-02-25T00:00:00",
          "2023-02-26T00:00:00",
          "2023-02-27T00:00:00",
          "2023-02-28T00:00:00"
         ],
         "xaxis": "x",
         "y": [
          33,
          49,
          38,
          19,
          37,
          45,
          55,
          59,
          61,
          86,
          54,
          46,
          46,
          60,
          64,
          56,
          55,
          42,
          43,
          77,
          46,
          40,
          47,
          51,
          32,
          41,
          41,
          23
         ],
         "yaxis": "y"
        }
       ],
       "layout": {
        "autosize": true,
        "barmode": "relative",
        "legend": {
         "title": {
          "text": "end_station_name"
         },
         "tracegroupgap": 0
        },
        "margin": {
         "t": 60
        },
        "template": {
         "data": {
          "bar": [
           {
            "error_x": {
             "color": "#2a3f5f"
            },
            "error_y": {
             "color": "#2a3f5f"
            },
            "marker": {
             "line": {
              "color": "#E5ECF6",
              "width": 0.5
             },
             "pattern": {
              "fillmode": "overlay",
              "size": 10,
              "solidity": 0.2
             }
            },
            "type": "bar"
           }
          ],
          "barpolar": [
           {
            "marker": {
             "line": {
              "color": "#E5ECF6",
              "width": 0.5
             },
             "pattern": {
              "fillmode": "overlay",
              "size": 10,
              "solidity": 0.2
             }
            },
            "type": "barpolar"
           }
          ],
          "carpet": [
           {
            "aaxis": {
             "endlinecolor": "#2a3f5f",
             "gridcolor": "white",
             "linecolor": "white",
             "minorgridcolor": "white",
             "startlinecolor": "#2a3f5f"
            },
            "baxis": {
             "endlinecolor": "#2a3f5f",
             "gridcolor": "white",
             "linecolor": "white",
             "minorgridcolor": "white",
             "startlinecolor": "#2a3f5f"
            },
            "type": "carpet"
           }
          ],
          "choropleth": [
           {
            "colorbar": {
             "outlinewidth": 0,
             "ticks": ""
            },
            "type": "choropleth"
           }
          ],
          "contour": [
           {
            "colorbar": {
             "outlinewidth": 0,
             "ticks": ""
            },
            "colorscale": [
             [
              0,
              "#0d0887"
             ],
             [
              0.1111111111111111,
              "#46039f"
             ],
             [
              0.2222222222222222,
              "#7201a8"
             ],
             [
              0.3333333333333333,
              "#9c179e"
             ],
             [
              0.4444444444444444,
              "#bd3786"
             ],
             [
              0.5555555555555556,
              "#d8576b"
             ],
             [
              0.6666666666666666,
              "#ed7953"
             ],
             [
              0.7777777777777778,
              "#fb9f3a"
             ],
             [
              0.8888888888888888,
              "#fdca26"
             ],
             [
              1,
              "#f0f921"
             ]
            ],
            "type": "contour"
           }
          ],
          "contourcarpet": [
           {
            "colorbar": {
             "outlinewidth": 0,
             "ticks": ""
            },
            "type": "contourcarpet"
           }
          ],
          "heatmap": [
           {
            "colorbar": {
             "outlinewidth": 0,
             "ticks": ""
            },
            "colorscale": [
             [
              0,
              "#0d0887"
             ],
             [
              0.1111111111111111,
              "#46039f"
             ],
             [
              0.2222222222222222,
              "#7201a8"
             ],
             [
              0.3333333333333333,
              "#9c179e"
             ],
             [
              0.4444444444444444,
              "#bd3786"
             ],
             [
              0.5555555555555556,
              "#d8576b"
             ],
             [
              0.6666666666666666,
              "#ed7953"
             ],
             [
              0.7777777777777778,
              "#fb9f3a"
             ],
             [
              0.8888888888888888,
              "#fdca26"
             ],
             [
              1,
              "#f0f921"
             ]
            ],
            "type": "heatmap"
           }
          ],
          "heatmapgl": [
           {
            "colorbar": {
             "outlinewidth": 0,
             "ticks": ""
            },
            "colorscale": [
             [
              0,
              "#0d0887"
             ],
             [
              0.1111111111111111,
              "#46039f"
             ],
             [
              0.2222222222222222,
              "#7201a8"
             ],
             [
              0.3333333333333333,
              "#9c179e"
             ],
             [
              0.4444444444444444,
              "#bd3786"
             ],
             [
              0.5555555555555556,
              "#d8576b"
             ],
             [
              0.6666666666666666,
              "#ed7953"
             ],
             [
              0.7777777777777778,
              "#fb9f3a"
             ],
             [
              0.8888888888888888,
              "#fdca26"
             ],
             [
              1,
              "#f0f921"
             ]
            ],
            "type": "heatmapgl"
           }
          ],
          "histogram": [
           {
            "marker": {
             "pattern": {
              "fillmode": "overlay",
              "size": 10,
              "solidity": 0.2
             }
            },
            "type": "histogram"
           }
          ],
          "histogram2d": [
           {
            "colorbar": {
             "outlinewidth": 0,
             "ticks": ""
            },
            "colorscale": [
             [
              0,
              "#0d0887"
             ],
             [
              0.1111111111111111,
              "#46039f"
             ],
             [
              0.2222222222222222,
              "#7201a8"
             ],
             [
              0.3333333333333333,
              "#9c179e"
             ],
             [
              0.4444444444444444,
              "#bd3786"
             ],
             [
              0.5555555555555556,
              "#d8576b"
             ],
             [
              0.6666666666666666,
              "#ed7953"
             ],
             [
              0.7777777777777778,
              "#fb9f3a"
             ],
             [
              0.8888888888888888,
              "#fdca26"
             ],
             [
              1,
              "#f0f921"
             ]
            ],
            "type": "histogram2d"
           }
          ],
          "histogram2dcontour": [
           {
            "colorbar": {
             "outlinewidth": 0,
             "ticks": ""
            },
            "colorscale": [
             [
              0,
              "#0d0887"
             ],
             [
              0.1111111111111111,
              "#46039f"
             ],
             [
              0.2222222222222222,
              "#7201a8"
             ],
             [
              0.3333333333333333,
              "#9c179e"
             ],
             [
              0.4444444444444444,
              "#bd3786"
             ],
             [
              0.5555555555555556,
              "#d8576b"
             ],
             [
              0.6666666666666666,
              "#ed7953"
             ],
             [
              0.7777777777777778,
              "#fb9f3a"
             ],
             [
              0.8888888888888888,
              "#fdca26"
             ],
             [
              1,
              "#f0f921"
             ]
            ],
            "type": "histogram2dcontour"
           }
          ],
          "mesh3d": [
           {
            "colorbar": {
             "outlinewidth": 0,
             "ticks": ""
            },
            "type": "mesh3d"
           }
          ],
          "parcoords": [
           {
            "line": {
             "colorbar": {
              "outlinewidth": 0,
              "ticks": ""
             }
            },
            "type": "parcoords"
           }
          ],
          "pie": [
           {
            "automargin": true,
            "type": "pie"
           }
          ],
          "scatter": [
           {
            "fillpattern": {
             "fillmode": "overlay",
             "size": 10,
             "solidity": 0.2
            },
            "type": "scatter"
           }
          ],
          "scatter3d": [
           {
            "line": {
             "colorbar": {
              "outlinewidth": 0,
              "ticks": ""
             }
            },
            "marker": {
             "colorbar": {
              "outlinewidth": 0,
              "ticks": ""
             }
            },
            "type": "scatter3d"
           }
          ],
          "scattercarpet": [
           {
            "marker": {
             "colorbar": {
              "outlinewidth": 0,
              "ticks": ""
             }
            },
            "type": "scattercarpet"
           }
          ],
          "scattergeo": [
           {
            "marker": {
             "colorbar": {
              "outlinewidth": 0,
              "ticks": ""
             }
            },
            "type": "scattergeo"
           }
          ],
          "scattergl": [
           {
            "marker": {
             "colorbar": {
              "outlinewidth": 0,
              "ticks": ""
             }
            },
            "type": "scattergl"
           }
          ],
          "scattermapbox": [
           {
            "marker": {
             "colorbar": {
              "outlinewidth": 0,
              "ticks": ""
             }
            },
            "type": "scattermapbox"
           }
          ],
          "scatterpolar": [
           {
            "marker": {
             "colorbar": {
              "outlinewidth": 0,
              "ticks": ""
             }
            },
            "type": "scatterpolar"
           }
          ],
          "scatterpolargl": [
           {
            "marker": {
             "colorbar": {
              "outlinewidth": 0,
              "ticks": ""
             }
            },
            "type": "scatterpolargl"
           }
          ],
          "scatterternary": [
           {
            "marker": {
             "colorbar": {
              "outlinewidth": 0,
              "ticks": ""
             }
            },
            "type": "scatterternary"
           }
          ],
          "surface": [
           {
            "colorbar": {
             "outlinewidth": 0,
             "ticks": ""
            },
            "colorscale": [
             [
              0,
              "#0d0887"
             ],
             [
              0.1111111111111111,
              "#46039f"
             ],
             [
              0.2222222222222222,
              "#7201a8"
             ],
             [
              0.3333333333333333,
              "#9c179e"
             ],
             [
              0.4444444444444444,
              "#bd3786"
             ],
             [
              0.5555555555555556,
              "#d8576b"
             ],
             [
              0.6666666666666666,
              "#ed7953"
             ],
             [
              0.7777777777777778,
              "#fb9f3a"
             ],
             [
              0.8888888888888888,
              "#fdca26"
             ],
             [
              1,
              "#f0f921"
             ]
            ],
            "type": "surface"
           }
          ],
          "table": [
           {
            "cells": {
             "fill": {
              "color": "#EBF0F8"
             },
             "line": {
              "color": "white"
             }
            },
            "header": {
             "fill": {
              "color": "#C8D4E3"
             },
             "line": {
              "color": "white"
             }
            },
            "type": "table"
           }
          ]
         },
         "layout": {
          "annotationdefaults": {
           "arrowcolor": "#2a3f5f",
           "arrowhead": 0,
           "arrowwidth": 1
          },
          "autotypenumbers": "strict",
          "coloraxis": {
           "colorbar": {
            "outlinewidth": 0,
            "ticks": ""
           }
          },
          "colorscale": {
           "diverging": [
            [
             0,
             "#8e0152"
            ],
            [
             0.1,
             "#c51b7d"
            ],
            [
             0.2,
             "#de77ae"
            ],
            [
             0.3,
             "#f1b6da"
            ],
            [
             0.4,
             "#fde0ef"
            ],
            [
             0.5,
             "#f7f7f7"
            ],
            [
             0.6,
             "#e6f5d0"
            ],
            [
             0.7,
             "#b8e186"
            ],
            [
             0.8,
             "#7fbc41"
            ],
            [
             0.9,
             "#4d9221"
            ],
            [
             1,
             "#276419"
            ]
           ],
           "sequential": [
            [
             0,
             "#0d0887"
            ],
            [
             0.1111111111111111,
             "#46039f"
            ],
            [
             0.2222222222222222,
             "#7201a8"
            ],
            [
             0.3333333333333333,
             "#9c179e"
            ],
            [
             0.4444444444444444,
             "#bd3786"
            ],
            [
             0.5555555555555556,
             "#d8576b"
            ],
            [
             0.6666666666666666,
             "#ed7953"
            ],
            [
             0.7777777777777778,
             "#fb9f3a"
            ],
            [
             0.8888888888888888,
             "#fdca26"
            ],
            [
             1,
             "#f0f921"
            ]
           ],
           "sequentialminus": [
            [
             0,
             "#0d0887"
            ],
            [
             0.1111111111111111,
             "#46039f"
            ],
            [
             0.2222222222222222,
             "#7201a8"
            ],
            [
             0.3333333333333333,
             "#9c179e"
            ],
            [
             0.4444444444444444,
             "#bd3786"
            ],
            [
             0.5555555555555556,
             "#d8576b"
            ],
            [
             0.6666666666666666,
             "#ed7953"
            ],
            [
             0.7777777777777778,
             "#fb9f3a"
            ],
            [
             0.8888888888888888,
             "#fdca26"
            ],
            [
             1,
             "#f0f921"
            ]
           ]
          },
          "colorway": [
           "#636efa",
           "#EF553B",
           "#00cc96",
           "#ab63fa",
           "#FFA15A",
           "#19d3f3",
           "#FF6692",
           "#B6E880",
           "#FF97FF",
           "#FECB52"
          ],
          "font": {
           "color": "#2a3f5f"
          },
          "geo": {
           "bgcolor": "white",
           "lakecolor": "white",
           "landcolor": "#E5ECF6",
           "showlakes": true,
           "showland": true,
           "subunitcolor": "white"
          },
          "hoverlabel": {
           "align": "left"
          },
          "hovermode": "closest",
          "mapbox": {
           "style": "light"
          },
          "paper_bgcolor": "white",
          "plot_bgcolor": "#E5ECF6",
          "polar": {
           "angularaxis": {
            "gridcolor": "white",
            "linecolor": "white",
            "ticks": ""
           },
           "bgcolor": "#E5ECF6",
           "radialaxis": {
            "gridcolor": "white",
            "linecolor": "white",
            "ticks": ""
           }
          },
          "scene": {
           "xaxis": {
            "backgroundcolor": "#E5ECF6",
            "gridcolor": "white",
            "gridwidth": 2,
            "linecolor": "white",
            "showbackground": true,
            "ticks": "",
            "zerolinecolor": "white"
           },
           "yaxis": {
            "backgroundcolor": "#E5ECF6",
            "gridcolor": "white",
            "gridwidth": 2,
            "linecolor": "white",
            "showbackground": true,
            "ticks": "",
            "zerolinecolor": "white"
           },
           "zaxis": {
            "backgroundcolor": "#E5ECF6",
            "gridcolor": "white",
            "gridwidth": 2,
            "linecolor": "white",
            "showbackground": true,
            "ticks": "",
            "zerolinecolor": "white"
           }
          },
          "shapedefaults": {
           "line": {
            "color": "#2a3f5f"
           }
          },
          "ternary": {
           "aaxis": {
            "gridcolor": "white",
            "linecolor": "white",
            "ticks": ""
           },
           "baxis": {
            "gridcolor": "white",
            "linecolor": "white",
            "ticks": ""
           },
           "bgcolor": "#E5ECF6",
           "caxis": {
            "gridcolor": "white",
            "linecolor": "white",
            "ticks": ""
           }
          },
          "title": {
           "x": 0.05
          },
          "xaxis": {
           "automargin": true,
           "gridcolor": "white",
           "linecolor": "white",
           "ticks": "",
           "title": {
            "standoff": 15
           },
           "zerolinecolor": "white",
           "zerolinewidth": 2
          },
          "yaxis": {
           "automargin": true,
           "gridcolor": "white",
           "linecolor": "white",
           "ticks": "",
           "title": {
            "standoff": 15
           },
           "zerolinecolor": "white",
           "zerolinewidth": 2
          }
         }
        },
        "xaxis": {
         "anchor": "y",
         "autorange": true,
         "domain": [
          0,
          1
         ],
         "range": [
          "2023-01-31 12:00",
          "2023-03-01 12:00"
         ],
         "title": {
          "text": "ended_date"
         },
         "type": "date"
        },
        "yaxis": {
         "anchor": "x",
         "autorange": true,
         "domain": [
          0,
          1
         ],
         "range": [
          0,
          486.3157894736842
         ],
         "title": {
          "text": "bikes_in"
         },
         "type": "linear"
        }
       }
      },
      "image/png": "[encoded data removed]",
      "text/html": [
       "<div>                            <div id=\"a652a009-ad4e-4c49-919e-265a04214a29\" class=\"plotly-graph-div\" style=\"height:525px; width:100%;\"></div>            <script type=\"text/javascript\">                require([\"plotly\"], function(Plotly) {                    window.PLOTLYENV=window.PLOTLYENV || {};                                    if (document.getElementById(\"a652a009-ad4e-4c49-919e-265a04214a29\")) {                    Plotly.newPlot(                        \"a652a009-ad4e-4c49-919e-265a04214a29\",                        [{\"alignmentgroup\":\"True\",\"hovertemplate\":\"end_station_name=Central Park North & Adam Clayton Powell Blvd<br>ended_date=%{x}<br>bikes_in=%{y}<extra></extra>\",\"legendgroup\":\"Central Park North & Adam Clayton Powell Blvd\",\"marker\":{\"color\":\"#636efa\",\"pattern\":{\"shape\":\"\"}},\"name\":\"Central Park North & Adam Clayton Powell Blvd\",\"offsetgroup\":\"Central Park North & Adam Clayton Powell Blvd\",\"orientation\":\"v\",\"showlegend\":true,\"textposition\":\"auto\",\"x\":[\"2023-02-01T00:00:00\",\"2023-02-02T00:00:00\",\"2023-02-03T00:00:00\",\"2023-02-04T00:00:00\",\"2023-02-05T00:00:00\",\"2023-02-06T00:00:00\",\"2023-02-07T00:00:00\",\"2023-02-08T00:00:00\",\"2023-02-09T00:00:00\",\"2023-02-10T00:00:00\",\"2023-02-11T00:00:00\",\"2023-02-12T00:00:00\",\"2023-02-13T00:00:00\",\"2023-02-14T00:00:00\",\"2023-02-15T00:00:00\",\"2023-02-16T00:00:00\",\"2023-02-17T00:00:00\",\"2023-02-18T00:00:00\",\"2023-02-19T00:00:00\",\"2023-02-20T00:00:00\",\"2023-02-21T00:00:00\",\"2023-02-22T00:00:00\",\"2023-02-23T00:00:00\",\"2023-02-24T00:00:00\",\"2023-02-25T00:00:00\",\"2023-02-26T00:00:00\",\"2023-02-27T00:00:00\",\"2023-02-28T00:00:00\"],\"xaxis\":\"x\",\"y\":[75.0,72.0,34.0,17.0,82.0,83.0,54.0,115.0,77.0,138.0,118.0,116.0,97.0,110.0,121.0,90.0,45.0,100.0,110.0,184.0,81.0,54.0,83.0,85.0,60.0,119.0,65.0,44.0],\"yaxis\":\"y\",\"type\":\"bar\"},{\"alignmentgroup\":\"True\",\"hovertemplate\":\"end_station_name=Frederick Douglass Blvd & W 112 St<br>ended_date=%{x}<br>bikes_in=%{y}<extra></extra>\",\"legendgroup\":\"Frederick Douglass Blvd & W 112 St\",\"marker\":{\"color\":\"#EF553B\",\"pattern\":{\"shape\":\"\"}},\"name\":\"Frederick Douglass Blvd & W 112 St\",\"offsetgroup\":\"Frederick Douglass Blvd & W 112 St\",\"orientation\":\"v\",\"showlegend\":true,\"textposition\":\"auto\",\"x\":[\"2023-02-01T00:00:00\",\"2023-02-02T00:00:00\",\"2023-02-03T00:00:00\",\"2023-02-04T00:00:00\",\"2023-02-05T00:00:00\",\"2023-02-06T00:00:00\",\"2023-02-07T00:00:00\",\"2023-02-08T00:00:00\",\"2023-02-09T00:00:00\",\"2023-02-10T00:00:00\",\"2023-02-11T00:00:00\",\"2023-02-12T00:00:00\",\"2023-02-13T00:00:00\",\"2023-02-14T00:00:00\",\"2023-02-15T00:00:00\",\"2023-02-16T00:00:00\",\"2023-02-17T00:00:00\",\"2023-02-18T00:00:00\",\"2023-02-19T00:00:00\",\"2023-02-20T00:00:00\",\"2023-02-21T00:00:00\",\"2023-02-22T00:00:00\",\"2023-02-23T00:00:00\",\"2023-02-24T00:00:00\",\"2023-02-25T00:00:00\",\"2023-02-26T00:00:00\",\"2023-02-27T00:00:00\",\"2023-02-28T00:00:00\"],\"xaxis\":\"x\",\"y\":[118.0,69.0,30.0,29.0,69.0,86.0,64.0,81.0,72.0,109.0,75.0,86.0,93.0,95.0,104.0,89.0,74.0,69.0,70.0,97.0,79.0,49.0,85.0,69.0,58.0,63.0,70.0,39.0],\"yaxis\":\"y\",\"type\":\"bar\"},{\"alignmentgroup\":\"True\",\"hovertemplate\":\"end_station_name=Central Park W & W 103 St<br>ended_date=%{x}<br>bikes_in=%{y}<extra></extra>\",\"legendgroup\":\"Central Park W & W 103 St\",\"marker\":{\"color\":\"#00cc96\",\"pattern\":{\"shape\":\"\"}},\"name\":\"Central Park W & W 103 St\",\"offsetgroup\":\"Central Park W & W 103 St\",\"orientation\":\"v\",\"showlegend\":true,\"textposition\":\"auto\",\"x\":[\"2023-02-01T00:00:00\",\"2023-02-02T00:00:00\",\"2023-02-03T00:00:00\",\"2023-02-04T00:00:00\",\"2023-02-05T00:00:00\",\"2023-02-06T00:00:00\",\"2023-02-07T00:00:00\",\"2023-02-08T00:00:00\",\"2023-02-09T00:00:00\",\"2023-02-10T00:00:00\",\"2023-02-11T00:00:00\",\"2023-02-12T00:00:00\",\"2023-02-13T00:00:00\",\"2023-02-14T00:00:00\",\"2023-02-15T00:00:00\",\"2023-02-16T00:00:00\",\"2023-02-17T00:00:00\",\"2023-02-18T00:00:00\",\"2023-02-19T00:00:00\",\"2023-02-20T00:00:00\",\"2023-02-21T00:00:00\",\"2023-02-22T00:00:00\",\"2023-02-23T00:00:00\",\"2023-02-24T00:00:00\",\"2023-02-25T00:00:00\",\"2023-02-26T00:00:00\",\"2023-02-27T00:00:00\",\"2023-02-28T00:00:00\"],\"xaxis\":\"x\",\"y\":[34.0,42.0,30.0,19.0,53.0,37.0,31.0,64.0,51.0,82.0,66.0,72.0,60.0,54.0,95.0,46.0,31.0,42.0,44.0,58.0,43.0,34.0,47.0,55.0,37.0,58.0,36.0,26.0],\"yaxis\":\"y\",\"type\":\"bar\"},{\"alignmentgroup\":\"True\",\"hovertemplate\":\"end_station_name=Adam Clayton Powell Blvd & W 115 St<br>ended_date=%{x}<br>bikes_in=%{y}<extra></extra>\",\"legendgroup\":\"Adam Clayton Powell Blvd & W 115 St\",\"marker\":{\"color\":\"#ab63fa\",\"pattern\":{\"shape\":\"\"}},\"name\":\"Adam Clayton Powell Blvd & W 115 St\",\"offsetgroup\":\"Adam Clayton Powell Blvd & W 115 St\",\"orientation\":\"v\",\"showlegend\":true,\"textposition\":\"auto\",\"x\":[\"2023-02-01T00:00:00\",\"2023-02-02T00:00:00\",\"2023-02-03T00:00:00\",\"2023-02-04T00:00:00\",\"2023-02-05T00:00:00\",\"2023-02-06T00:00:00\",\"2023-02-07T00:00:00\",\"2023-02-08T00:00:00\",\"2023-02-09T00:00:00\",\"2023-02-10T00:00:00\",\"2023-02-11T00:00:00\",\"2023-02-12T00:00:00\",\"2023-02-13T00:00:00\",\"2023-02-14T00:00:00\",\"2023-02-15T00:00:00\",\"2023-02-16T00:00:00\",\"2023-02-17T00:00:00\",\"2023-02-18T00:00:00\",\"2023-02-19T00:00:00\",\"2023-02-20T00:00:00\",\"2023-02-21T00:00:00\",\"2023-02-22T00:00:00\",\"2023-02-23T00:00:00\",\"2023-02-24T00:00:00\",\"2023-02-25T00:00:00\",\"2023-02-26T00:00:00\",\"2023-02-27T00:00:00\",\"2023-02-28T00:00:00\",\"2023-03-01T00:00:00\"],\"xaxis\":\"x\",\"y\":[24.0,27.0,14.0,12.0,18.0,28.0,31.0,30.0,28.0,30.0,18.0,15.0,31.0,30.0,42.0,37.0,21.0,31.0,28.0,23.0,25.0,15.0,24.0,24.0,19.0,19.0,39.0,17.0,1.0],\"yaxis\":\"y\",\"type\":\"bar\"},{\"alignmentgroup\":\"True\",\"hovertemplate\":\"end_station_name=Frederick Douglass Blvd & W 115 St<br>ended_date=%{x}<br>bikes_in=%{y}<extra></extra>\",\"legendgroup\":\"Frederick Douglass Blvd & W 115 St\",\"marker\":{\"color\":\"#FFA15A\",\"pattern\":{\"shape\":\"\"}},\"name\":\"Frederick Douglass Blvd & W 115 St\",\"offsetgroup\":\"Frederick Douglass Blvd & W 115 St\",\"orientation\":\"v\",\"showlegend\":true,\"textposition\":\"auto\",\"x\":[\"2023-02-01T00:00:00\",\"2023-02-02T00:00:00\",\"2023-02-04T00:00:00\",\"2023-02-05T00:00:00\",\"2023-02-06T00:00:00\",\"2023-02-07T00:00:00\",\"2023-02-08T00:00:00\",\"2023-02-09T00:00:00\",\"2023-02-10T00:00:00\",\"2023-02-11T00:00:00\",\"2023-02-12T00:00:00\",\"2023-02-13T00:00:00\",\"2023-02-14T00:00:00\",\"2023-02-15T00:00:00\",\"2023-02-16T00:00:00\",\"2023-02-17T00:00:00\",\"2023-02-18T00:00:00\",\"2023-02-19T00:00:00\",\"2023-02-20T00:00:00\",\"2023-02-21T00:00:00\",\"2023-02-22T00:00:00\",\"2023-02-23T00:00:00\",\"2023-02-24T00:00:00\",\"2023-02-25T00:00:00\",\"2023-02-26T00:00:00\",\"2023-02-27T00:00:00\",\"2023-02-28T00:00:00\"],\"xaxis\":\"x\",\"y\":[9.0,9.0,2.0,13.0,8.0,11.0,9.0,13.0,17.0,15.0,9.0,6.0,12.0,11.0,11.0,9.0,7.0,6.0,7.0,6.0,7.0,5.0,10.0,2.0,5.0,7.0,4.0],\"yaxis\":\"y\",\"type\":\"bar\"},{\"alignmentgroup\":\"True\",\"hovertemplate\":\"end_station_name=Lenox Ave & W 111 St<br>ended_date=%{x}<br>bikes_in=%{y}<extra></extra>\",\"legendgroup\":\"Lenox Ave & W 111 St\",\"marker\":{\"color\":\"#FF6692\",\"pattern\":{\"shape\":\"\"}},\"name\":\"Lenox Ave & W 111 St\",\"offsetgroup\":\"Lenox Ave & W 111 St\",\"orientation\":\"v\",\"showlegend\":true,\"textposition\":\"auto\",\"x\":[\"2023-02-01T00:00:00\",\"2023-02-02T00:00:00\",\"2023-02-03T00:00:00\",\"2023-02-04T00:00:00\",\"2023-02-05T00:00:00\",\"2023-02-06T00:00:00\",\"2023-02-07T00:00:00\",\"2023-02-08T00:00:00\",\"2023-02-09T00:00:00\",\"2023-02-10T00:00:00\",\"2023-02-11T00:00:00\",\"2023-02-12T00:00:00\",\"2023-02-13T00:00:00\",\"2023-02-14T00:00:00\",\"2023-02-15T00:00:00\",\"2023-02-16T00:00:00\",\"2023-02-17T00:00:00\",\"2023-02-18T00:00:00\",\"2023-02-19T00:00:00\",\"2023-02-20T00:00:00\",\"2023-02-21T00:00:00\",\"2023-02-22T00:00:00\",\"2023-02-23T00:00:00\",\"2023-02-24T00:00:00\",\"2023-02-25T00:00:00\",\"2023-02-26T00:00:00\",\"2023-02-27T00:00:00\",\"2023-02-28T00:00:00\"],\"xaxis\":\"x\",\"y\":[33.0,49.0,38.0,19.0,37.0,45.0,55.0,59.0,61.0,86.0,54.0,46.0,46.0,60.0,64.0,56.0,55.0,42.0,43.0,77.0,46.0,40.0,47.0,51.0,32.0,41.0,41.0,23.0],\"yaxis\":\"y\",\"type\":\"bar\"}],                        {\"template\":{\"data\":{\"histogram2dcontour\":[{\"type\":\"histogram2dcontour\",\"colorbar\":{\"outlinewidth\":0,\"ticks\":\"\"},\"colorscale\":[[0.0,\"#0d0887\"],[0.1111111111111111,\"#46039f\"],[0.2222222222222222,\"#7201a8\"],[0.3333333333333333,\"#9c179e\"],[0.4444444444444444,\"#bd3786\"],[0.5555555555555556,\"#d8576b\"],[0.6666666666666666,\"#ed7953\"],[0.7777777777777778,\"#fb9f3a\"],[0.8888888888888888,\"#fdca26\"],[1.0,\"#f0f921\"]]}],\"choropleth\":[{\"type\":\"choropleth\",\"colorbar\":{\"outlinewidth\":0,\"ticks\":\"\"}}],\"histogram2d\":[{\"type\":\"histogram2d\",\"colorbar\":{\"outlinewidth\":0,\"ticks\":\"\"},\"colorscale\":[[0.0,\"#0d0887\"],[0.1111111111111111,\"#46039f\"],[0.2222222222222222,\"#7201a8\"],[0.3333333333333333,\"#9c179e\"],[0.4444444444444444,\"#bd3786\"],[0.5555555555555556,\"#d8576b\"],[0.6666666666666666,\"#ed7953\"],[0.7777777777777778,\"#fb9f3a\"],[0.8888888888888888,\"#fdca26\"],[1.0,\"#f0f921\"]]}],\"heatmap\":[{\"type\":\"heatmap\",\"colorbar\":{\"outlinewidth\":0,\"ticks\":\"\"},\"colorscale\":[[0.0,\"#0d0887\"],[0.1111111111111111,\"#46039f\"],[0.2222222222222222,\"#7201a8\"],[0.3333333333333333,\"#9c179e\"],[0.4444444444444444,\"#bd3786\"],[0.5555555555555556,\"#d8576b\"],[0.6666666666666666,\"#ed7953\"],[0.7777777777777778,\"#fb9f3a\"],[0.8888888888888888,\"#fdca26\"],[1.0,\"#f0f921\"]]}],\"heatmapgl\":[{\"type\":\"heatmapgl\",\"colorbar\":{\"outlinewidth\":0,\"ticks\":\"\"},\"colorscale\":[[0.0,\"#0d0887\"],[0.1111111111111111,\"#46039f\"],[0.2222222222222222,\"#7201a8\"],[0.3333333333333333,\"#9c179e\"],[0.4444444444444444,\"#bd3786\"],[0.5555555555555556,\"#d8576b\"],[0.6666666666666666,\"#ed7953\"],[0.7777777777777778,\"#fb9f3a\"],[0.8888888888888888,\"#fdca26\"],[1.0,\"#f0f921\"]]}],\"contourcarpet\":[{\"type\":\"contourcarpet\",\"colorbar\":{\"outlinewidth\":0,\"ticks\":\"\"}}],\"contour\":[{\"type\":\"contour\",\"colorbar\":{\"outlinewidth\":0,\"ticks\":\"\"},\"colorscale\":[[0.0,\"#0d0887\"],[0.1111111111111111,\"#46039f\"],[0.2222222222222222,\"#7201a8\"],[0.3333333333333333,\"#9c179e\"],[0.4444444444444444,\"#bd3786\"],[0.5555555555555556,\"#d8576b\"],[0.6666666666666666,\"#ed7953\"],[0.7777777777777778,\"#fb9f3a\"],[0.8888888888888888,\"#fdca26\"],[1.0,\"#f0f921\"]]}],\"surface\":[{\"type\":\"surface\",\"colorbar\":{\"outlinewidth\":0,\"ticks\":\"\"},\"colorscale\":[[0.0,\"#0d0887\"],[0.1111111111111111,\"#46039f\"],[0.2222222222222222,\"#7201a8\"],[0.3333333333333333,\"#9c179e\"],[0.4444444444444444,\"#bd3786\"],[0.5555555555555556,\"#d8576b\"],[0.6666666666666666,\"#ed7953\"],[0.7777777777777778,\"#fb9f3a\"],[0.8888888888888888,\"#fdca26\"],[1.0,\"#f0f921\"]]}],\"mesh3d\":[{\"type\":\"mesh3d\",\"colorbar\":{\"outlinewidth\":0,\"ticks\":\"\"}}],\"scatter\":[{\"fillpattern\":{\"fillmode\":\"overlay\",\"size\":10,\"solidity\":0.2},\"type\":\"scatter\"}],\"parcoords\":[{\"type\":\"parcoords\",\"line\":{\"colorbar\":{\"outlinewidth\":0,\"ticks\":\"\"}}}],\"scatterpolargl\":[{\"type\":\"scatterpolargl\",\"marker\":{\"colorbar\":{\"outlinewidth\":0,\"ticks\":\"\"}}}],\"bar\":[{\"error_x\":{\"color\":\"#2a3f5f\"},\"error_y\":{\"color\":\"#2a3f5f\"},\"marker\":{\"line\":{\"color\":\"#E5ECF6\",\"width\":0.5},\"pattern\":{\"fillmode\":\"overlay\",\"size\":10,\"solidity\":0.2}},\"type\":\"bar\"}],\"scattergeo\":[{\"type\":\"scattergeo\",\"marker\":{\"colorbar\":{\"outlinewidth\":0,\"ticks\":\"\"}}}],\"scatterpolar\":[{\"type\":\"scatterpolar\",\"marker\":{\"colorbar\":{\"outlinewidth\":0,\"ticks\":\"\"}}}],\"histogram\":[{\"marker\":{\"pattern\":{\"fillmode\":\"overlay\",\"size\":10,\"solidity\":0.2}},\"type\":\"histogram\"}],\"scattergl\":[{\"type\":\"scattergl\",\"marker\":{\"colorbar\":{\"outlinewidth\":0,\"ticks\":\"\"}}}],\"scatter3d\":[{\"type\":\"scatter3d\",\"line\":{\"colorbar\":{\"outlinewidth\":0,\"ticks\":\"\"}},\"marker\":{\"colorbar\":{\"outlinewidth\":0,\"ticks\":\"\"}}}],\"scattermapbox\":[{\"type\":\"scattermapbox\",\"marker\":{\"colorbar\":{\"outlinewidth\":0,\"ticks\":\"\"}}}],\"scatterternary\":[{\"type\":\"scatterternary\",\"marker\":{\"colorbar\":{\"outlinewidth\":0,\"ticks\":\"\"}}}],\"scattercarpet\":[{\"type\":\"scattercarpet\",\"marker\":{\"colorbar\":{\"outlinewidth\":0,\"ticks\":\"\"}}}],\"carpet\":[{\"aaxis\":{\"endlinecolor\":\"#2a3f5f\",\"gridcolor\":\"white\",\"linecolor\":\"white\",\"minorgridcolor\":\"white\",\"startlinecolor\":\"#2a3f5f\"},\"baxis\":{\"endlinecolor\":\"#2a3f5f\",\"gridcolor\":\"white\",\"linecolor\":\"white\",\"minorgridcolor\":\"white\",\"startlinecolor\":\"#2a3f5f\"},\"type\":\"carpet\"}],\"table\":[{\"cells\":{\"fill\":{\"color\":\"#EBF0F8\"},\"line\":{\"color\":\"white\"}},\"header\":{\"fill\":{\"color\":\"#C8D4E3\"},\"line\":{\"color\":\"white\"}},\"type\":\"table\"}],\"barpolar\":[{\"marker\":{\"line\":{\"color\":\"#E5ECF6\",\"width\":0.5},\"pattern\":{\"fillmode\":\"overlay\",\"size\":10,\"solidity\":0.2}},\"type\":\"barpolar\"}],\"pie\":[{\"automargin\":true,\"type\":\"pie\"}]},\"layout\":{\"autotypenumbers\":\"strict\",\"colorway\":[\"#636efa\",\"#EF553B\",\"#00cc96\",\"#ab63fa\",\"#FFA15A\",\"#19d3f3\",\"#FF6692\",\"#B6E880\",\"#FF97FF\",\"#FECB52\"],\"font\":{\"color\":\"#2a3f5f\"},\"hovermode\":\"closest\",\"hoverlabel\":{\"align\":\"left\"},\"paper_bgcolor\":\"white\",\"plot_bgcolor\":\"#E5ECF6\",\"polar\":{\"bgcolor\":\"#E5ECF6\",\"angularaxis\":{\"gridcolor\":\"white\",\"linecolor\":\"white\",\"ticks\":\"\"},\"radialaxis\":{\"gridcolor\":\"white\",\"linecolor\":\"white\",\"ticks\":\"\"}},\"ternary\":{\"bgcolor\":\"#E5ECF6\",\"aaxis\":{\"gridcolor\":\"white\",\"linecolor\":\"white\",\"ticks\":\"\"},\"baxis\":{\"gridcolor\":\"white\",\"linecolor\":\"white\",\"ticks\":\"\"},\"caxis\":{\"gridcolor\":\"white\",\"linecolor\":\"white\",\"ticks\":\"\"}},\"coloraxis\":{\"colorbar\":{\"outlinewidth\":0,\"ticks\":\"\"}},\"colorscale\":{\"sequential\":[[0.0,\"#0d0887\"],[0.1111111111111111,\"#46039f\"],[0.2222222222222222,\"#7201a8\"],[0.3333333333333333,\"#9c179e\"],[0.4444444444444444,\"#bd3786\"],[0.5555555555555556,\"#d8576b\"],[0.6666666666666666,\"#ed7953\"],[0.7777777777777778,\"#fb9f3a\"],[0.8888888888888888,\"#fdca26\"],[1.0,\"#f0f921\"]],\"sequentialminus\":[[0.0,\"#0d0887\"],[0.1111111111111111,\"#46039f\"],[0.2222222222222222,\"#7201a8\"],[0.3333333333333333,\"#9c179e\"],[0.4444444444444444,\"#bd3786\"],[0.5555555555555556,\"#d8576b\"],[0.6666666666666666,\"#ed7953\"],[0.7777777777777778,\"#fb9f3a\"],[0.8888888888888888,\"#fdca26\"],[1.0,\"#f0f921\"]],\"diverging\":[[0,\"#8e0152\"],[0.1,\"#c51b7d\"],[0.2,\"#de77ae\"],[0.3,\"#f1b6da\"],[0.4,\"#fde0ef\"],[0.5,\"#f7f7f7\"],[0.6,\"#e6f5d0\"],[0.7,\"#b8e186\"],[0.8,\"#7fbc41\"],[0.9,\"#4d9221\"],[1,\"#276419\"]]},\"xaxis\":{\"gridcolor\":\"white\",\"linecolor\":\"white\",\"ticks\":\"\",\"title\":{\"standoff\":15},\"zerolinecolor\":\"white\",\"automargin\":true,\"zerolinewidth\":2},\"yaxis\":{\"gridcolor\":\"white\",\"linecolor\":\"white\",\"ticks\":\"\",\"title\":{\"standoff\":15},\"zerolinecolor\":\"white\",\"automargin\":true,\"zerolinewidth\":2},\"scene\":{\"xaxis\":{\"backgroundcolor\":\"#E5ECF6\",\"gridcolor\":\"white\",\"linecolor\":\"white\",\"showbackground\":true,\"ticks\":\"\",\"zerolinecolor\":\"white\",\"gridwidth\":2},\"yaxis\":{\"backgroundcolor\":\"#E5ECF6\",\"gridcolor\":\"white\",\"linecolor\":\"white\",\"showbackground\":true,\"ticks\":\"\",\"zerolinecolor\":\"white\",\"gridwidth\":2},\"zaxis\":{\"backgroundcolor\":\"#E5ECF6\",\"gridcolor\":\"white\",\"linecolor\":\"white\",\"showbackground\":true,\"ticks\":\"\",\"zerolinecolor\":\"white\",\"gridwidth\":2}},\"shapedefaults\":{\"line\":{\"color\":\"#2a3f5f\"}},\"annotationdefaults\":{\"arrowcolor\":\"#2a3f5f\",\"arrowhead\":0,\"arrowwidth\":1},\"geo\":{\"bgcolor\":\"white\",\"landcolor\":\"#E5ECF6\",\"subunitcolor\":\"white\",\"showland\":true,\"showlakes\":true,\"lakecolor\":\"white\"},\"title\":{\"x\":0.05},\"mapbox\":{\"style\":\"light\"}}},\"xaxis\":{\"anchor\":\"y\",\"domain\":[0.0,1.0],\"title\":{\"text\":\"ended_date\"}},\"yaxis\":{\"anchor\":\"x\",\"domain\":[0.0,1.0],\"title\":{\"text\":\"bikes_in\"}},\"legend\":{\"title\":{\"text\":\"end_station_name\"},\"tracegroupgap\":0},\"margin\":{\"t\":60},\"barmode\":\"relative\"},                        {\"responsive\": true}                    ).then(function(){\n",
       "                            \n",
       "var gd = document.getElementById('a652a009-ad4e-4c49-919e-265a04214a29');\n",
       "var x = new MutationObserver(function (mutations, observer) {{\n",
       "        var display = window.getComputedStyle(gd).display;\n",
       "        if (!display || display === 'none') {{\n",
       "            console.log([gd, 'removed!']);\n",
       "            Plotly.purge(gd);\n",
       "            observer.disconnect();\n",
       "        }}\n",
       "}});\n",
       "\n",
       "// Listen for the removal of the full notebook cells\n",
       "var notebookContainer = gd.closest('#notebook-container');\n",
       "if (notebookContainer) {{\n",
       "    x.observe(notebookContainer, {childList: true});\n",
       "}}\n",
       "\n",
       "// Listen for the clearing of the current output cell\n",
       "var outputEl = gd.closest('.output');\n",
       "if (outputEl) {{\n",
       "    x.observe(outputEl, {childList: true});\n",
       "}}\n",
       "\n",
       "                        })                };                });            </script>        </div>"
      ]
     },
     "metadata": {},
     "output_type": "display_data"
    }
   ],
   "source": [
    "fig = px.bar(end_df, x=\"ended_date\", y=\"bikes_in\", color='end_station_name')\n",
    "fig.show()"
   ]
  },
  {
   "cell_type": "code",
   "execution_count": 71,
   "id": "ca8ee412-0df4-457f-a667-565887f6a25d",
   "metadata": {
    "tags": []
   },
   "outputs": [
    {
     "data": {
      "application/vnd.plotly.v1+json": {
       "config": {
        "plotlyServerURL": "https://plot.ly"
       },
       "data": [
        {
         "coloraxis": "coloraxis",
         "hovertemplate": "bikes_in=%{z}<br>start_lat=%{lat}<br>start_lng=%{lon}<extra></extra>",
         "lat": [
          40.799624324,
          40.799624324,
          40.799624324,
          40.799624324,
          40.799624324,
          40.799624324,
          40.799624324,
          40.799624324,
          40.799624324,
          40.799624324,
          40.799624324,
          40.799624324,
          40.799624324,
          40.799624324,
          40.799624324,
          40.799624324,
          40.799624324,
          40.799624324,
          40.799624324,
          40.799624324,
          40.799624324,
          40.799624324,
          40.799624324,
          40.799624324,
          40.799624324,
          40.799624324,
          40.799624324,
          40.799624324,
          40.801694,
          40.801694,
          40.801694,
          40.801694,
          40.801694,
          40.801694,
          40.801694,
          40.801694,
          40.801694,
          40.801694,
          40.801694,
          40.801694,
          40.801694,
          40.801694,
          40.801694,
          40.801694,
          40.801694,
          40.801694,
          40.801694,
          40.801694,
          40.801694,
          40.801694,
          40.801694,
          40.801694,
          40.801694,
          40.801694,
          40.801694,
          40.801694,
          40.79558954105342,
          40.79558954105342,
          40.79558954105342,
          40.79558954105342,
          40.79558954105342,
          40.79558954105342,
          40.79558954105342,
          40.79558954105342,
          40.79558954105342,
          40.79558954105342,
          40.79558954105342,
          40.79558954105342,
          40.79558954105342,
          40.79558954105342,
          40.79558954105342,
          40.79558954105342,
          40.79558954105342,
          40.79558954105342,
          40.79558954105342,
          40.79558954105342,
          40.79558954105342,
          40.79558954105342,
          40.79558954105342,
          40.79558954105342,
          40.79558954105342,
          40.79558954105342,
          40.79558954105342,
          40.79558954105342,
          40.802535,
          40.802535,
          40.802535,
          40.802535,
          40.802535,
          40.802535,
          40.802535,
          40.802535,
          40.802535,
          40.802535,
          40.802535,
          40.802535,
          40.802535,
          40.802535,
          40.802535,
          40.802535,
          40.802535,
          40.802535,
          40.802535,
          40.802535,
          40.802535,
          40.802535,
          40.802535,
          40.802535,
          40.802535,
          40.802535,
          40.802535,
          40.802535,
          40.802535,
          40.8038654,
          40.8038654,
          40.8038654,
          40.8038654,
          40.8038654,
          40.8038654,
          40.8038654,
          40.8038654,
          40.8038654,
          40.8038654,
          40.8038654,
          40.8038654,
          40.8038654,
          40.8038654,
          40.8038654,
          40.8038654,
          40.8038654,
          40.8038654,
          40.8038654,
          40.8038654,
          40.8038654,
          40.8038654,
          40.8038654,
          40.8038654,
          40.8038654,
          40.8038654,
          40.8038654,
          40.802558184,
          40.7981856,
          40.799773693,
          40.7987859,
          40.7987859,
          40.7987859,
          40.7987859,
          40.7987859,
          40.7987859,
          40.7987859,
          40.7987859,
          40.7987859,
          40.7987859,
          40.7987859,
          40.7987859,
          40.7987859,
          40.7987859,
          40.7987859,
          40.7987859,
          40.7987859,
          40.7987859,
          40.7987859,
          40.7987859,
          40.7987859,
          40.7987859,
          40.7987859,
          40.7987859,
          40.7987859,
          40.7987859,
          40.7987859,
          40.7987859,
          40.7969347
         ],
         "lon": [
          -73.955891848,
          -73.955891848,
          -73.955891848,
          -73.955891848,
          -73.955891848,
          -73.955891848,
          -73.955891848,
          -73.955891848,
          -73.955891848,
          -73.955891848,
          -73.955891848,
          -73.955891848,
          -73.955891848,
          -73.955891848,
          -73.955891848,
          -73.955891848,
          -73.955891848,
          -73.955891848,
          -73.955891848,
          -73.955891848,
          -73.955891848,
          -73.955891848,
          -73.955891848,
          -73.955891848,
          -73.955891848,
          -73.955891848,
          -73.955891848,
          -73.955891848,
          -73.957145,
          -73.957145,
          -73.957145,
          -73.957145,
          -73.957145,
          -73.957145,
          -73.957145,
          -73.957145,
          -73.957145,
          -73.957145,
          -73.957145,
          -73.957145,
          -73.957145,
          -73.957145,
          -73.957145,
          -73.957145,
          -73.957145,
          -73.957145,
          -73.957145,
          -73.957145,
          -73.957145,
          -73.957145,
          -73.957145,
          -73.957145,
          -73.957145,
          -73.957145,
          -73.957145,
          -73.957145,
          -73.96188408136368,
          -73.96188408136368,
          -73.96188408136368,
          -73.96188408136368,
          -73.96188408136368,
          -73.96188408136368,
          -73.96188408136368,
          -73.96188408136368,
          -73.96188408136368,
          -73.96188408136368,
          -73.96188408136368,
          -73.96188408136368,
          -73.96188408136368,
          -73.96188408136368,
          -73.96188408136368,
          -73.96188408136368,
          -73.96188408136368,
          -73.96188408136368,
          -73.96188408136368,
          -73.96188408136368,
          -73.96188408136368,
          -73.96188408136368,
          -73.96188408136368,
          -73.96188408136368,
          -73.96188408136368,
          -73.96188408136368,
          -73.96188408136368,
          -73.96188408136368,
          -73.9532423,
          -73.9532423,
          -73.9532423,
          -73.9532423,
          -73.9532423,
          -73.9532423,
          -73.9532423,
          -73.9532423,
          -73.9532423,
          -73.9532423,
          -73.9532423,
          -73.9532423,
          -73.9532423,
          -73.9532423,
          -73.9532423,
          -73.9532423,
          -73.9532423,
          -73.9532423,
          -73.9532423,
          -73.9532423,
          -73.9532423,
          -73.9532423,
          -73.9532423,
          -73.9532423,
          -73.9532423,
          -73.9532423,
          -73.9532423,
          -73.9532423,
          -73.9532423,
          -73.9559308,
          -73.9559308,
          -73.9559308,
          -73.9559308,
          -73.9559308,
          -73.9559308,
          -73.9559308,
          -73.9559308,
          -73.9559308,
          -73.9559308,
          -73.9559308,
          -73.9559308,
          -73.9559308,
          -73.9559308,
          -73.9559308,
          -73.9559308,
          -73.9559308,
          -73.9559308,
          -73.9559308,
          -73.9559308,
          -73.9559308,
          -73.9559308,
          -73.9559308,
          -73.9559308,
          -73.9559308,
          -73.9559308,
          -73.9559308,
          -73.96272707,
          -73.9605909006,
          -73.962261319,
          -73.9523,
          -73.9523,
          -73.9523,
          -73.9523,
          -73.9523,
          -73.9523,
          -73.9523,
          -73.9523,
          -73.9523,
          -73.9523,
          -73.9523,
          -73.9523,
          -73.9523,
          -73.9523,
          -73.9523,
          -73.9523,
          -73.9523,
          -73.9523,
          -73.9523,
          -73.9523,
          -73.9523,
          -73.9523,
          -73.9523,
          -73.9523,
          -73.9523,
          -73.9523,
          -73.9523,
          -73.9523,
          -73.9643412291
         ],
         "name": "",
         "radius": 15,
         "subplot": "mapbox",
         "type": "densitymapbox",
         "z": [
          75,
          72,
          34,
          17,
          82,
          83,
          54,
          115,
          77,
          138,
          118,
          116,
          97,
          110,
          121,
          90,
          45,
          100,
          110,
          184,
          81,
          54,
          83,
          85,
          60,
          119,
          65,
          44,
          118,
          69,
          30,
          29,
          69,
          86,
          64,
          81,
          72,
          109,
          75,
          86,
          93,
          95,
          104,
          89,
          74,
          69,
          70,
          97,
          79,
          49,
          85,
          69,
          58,
          63,
          70,
          39,
          34,
          42,
          30,
          19,
          53,
          37,
          31,
          64,
          51,
          82,
          66,
          72,
          60,
          54,
          95,
          46,
          31,
          42,
          44,
          58,
          43,
          34,
          47,
          55,
          37,
          58,
          36,
          26,
          24,
          27,
          14,
          12,
          18,
          28,
          31,
          30,
          28,
          30,
          18,
          15,
          31,
          30,
          42,
          37,
          21,
          31,
          28,
          23,
          25,
          15,
          24,
          24,
          19,
          19,
          39,
          17,
          1,
          9,
          9,
          2,
          13,
          8,
          11,
          9,
          13,
          17,
          15,
          9,
          6,
          12,
          11,
          11,
          9,
          7,
          6,
          7,
          6,
          7,
          5,
          10,
          2,
          5,
          7,
          4,
          null,
          null,
          null,
          33,
          49,
          38,
          19,
          37,
          45,
          55,
          59,
          61,
          86,
          54,
          46,
          46,
          60,
          64,
          56,
          55,
          42,
          43,
          77,
          46,
          40,
          47,
          51,
          32,
          41,
          41,
          23,
          null
         ]
        }
       ],
       "layout": {
        "autosize": true,
        "coloraxis": {
         "colorbar": {
          "title": {
           "text": "bikes_in"
          }
         },
         "colorscale": [
          [
           0,
           "#0d0887"
          ],
          [
           0.1111111111111111,
           "#46039f"
          ],
          [
           0.2222222222222222,
           "#7201a8"
          ],
          [
           0.3333333333333333,
           "#9c179e"
          ],
          [
           0.4444444444444444,
           "#bd3786"
          ],
          [
           0.5555555555555556,
           "#d8576b"
          ],
          [
           0.6666666666666666,
           "#ed7953"
          ],
          [
           0.7777777777777778,
           "#fb9f3a"
          ],
          [
           0.8888888888888888,
           "#fdca26"
          ],
          [
           1,
           "#f0f921"
          ]
         ]
        },
        "legend": {
         "tracegroupgap": 0
        },
        "mapbox": {
         "center": {
          "lat": 40.802,
          "lon": -73.963
         },
         "domain": {
          "x": [
           0,
           1
          ],
          "y": [
           0,
           1
          ]
         },
         "style": "stamen-terrain",
         "zoom": 13
        },
        "margin": {
         "t": 60
        },
        "template": {
         "data": {
          "bar": [
           {
            "error_x": {
             "color": "#2a3f5f"
            },
            "error_y": {
             "color": "#2a3f5f"
            },
            "marker": {
             "line": {
              "color": "#E5ECF6",
              "width": 0.5
             },
             "pattern": {
              "fillmode": "overlay",
              "size": 10,
              "solidity": 0.2
             }
            },
            "type": "bar"
           }
          ],
          "barpolar": [
           {
            "marker": {
             "line": {
              "color": "#E5ECF6",
              "width": 0.5
             },
             "pattern": {
              "fillmode": "overlay",
              "size": 10,
              "solidity": 0.2
             }
            },
            "type": "barpolar"
           }
          ],
          "carpet": [
           {
            "aaxis": {
             "endlinecolor": "#2a3f5f",
             "gridcolor": "white",
             "linecolor": "white",
             "minorgridcolor": "white",
             "startlinecolor": "#2a3f5f"
            },
            "baxis": {
             "endlinecolor": "#2a3f5f",
             "gridcolor": "white",
             "linecolor": "white",
             "minorgridcolor": "white",
             "startlinecolor": "#2a3f5f"
            },
            "type": "carpet"
           }
          ],
          "choropleth": [
           {
            "colorbar": {
             "outlinewidth": 0,
             "ticks": ""
            },
            "type": "choropleth"
           }
          ],
          "contour": [
           {
            "colorbar": {
             "outlinewidth": 0,
             "ticks": ""
            },
            "colorscale": [
             [
              0,
              "#0d0887"
             ],
             [
              0.1111111111111111,
              "#46039f"
             ],
             [
              0.2222222222222222,
              "#7201a8"
             ],
             [
              0.3333333333333333,
              "#9c179e"
             ],
             [
              0.4444444444444444,
              "#bd3786"
             ],
             [
              0.5555555555555556,
              "#d8576b"
             ],
             [
              0.6666666666666666,
              "#ed7953"
             ],
             [
              0.7777777777777778,
              "#fb9f3a"
             ],
             [
              0.8888888888888888,
              "#fdca26"
             ],
             [
              1,
              "#f0f921"
             ]
            ],
            "type": "contour"
           }
          ],
          "contourcarpet": [
           {
            "colorbar": {
             "outlinewidth": 0,
             "ticks": ""
            },
            "type": "contourcarpet"
           }
          ],
          "heatmap": [
           {
            "colorbar": {
             "outlinewidth": 0,
             "ticks": ""
            },
            "colorscale": [
             [
              0,
              "#0d0887"
             ],
             [
              0.1111111111111111,
              "#46039f"
             ],
             [
              0.2222222222222222,
              "#7201a8"
             ],
             [
              0.3333333333333333,
              "#9c179e"
             ],
             [
              0.4444444444444444,
              "#bd3786"
             ],
             [
              0.5555555555555556,
              "#d8576b"
             ],
             [
              0.6666666666666666,
              "#ed7953"
             ],
             [
              0.7777777777777778,
              "#fb9f3a"
             ],
             [
              0.8888888888888888,
              "#fdca26"
             ],
             [
              1,
              "#f0f921"
             ]
            ],
            "type": "heatmap"
           }
          ],
          "heatmapgl": [
           {
            "colorbar": {
             "outlinewidth": 0,
             "ticks": ""
            },
            "colorscale": [
             [
              0,
              "#0d0887"
             ],
             [
              0.1111111111111111,
              "#46039f"
             ],
             [
              0.2222222222222222,
              "#7201a8"
             ],
             [
              0.3333333333333333,
              "#9c179e"
             ],
             [
              0.4444444444444444,
              "#bd3786"
             ],
             [
              0.5555555555555556,
              "#d8576b"
             ],
             [
              0.6666666666666666,
              "#ed7953"
             ],
             [
              0.7777777777777778,
              "#fb9f3a"
             ],
             [
              0.8888888888888888,
              "#fdca26"
             ],
             [
              1,
              "#f0f921"
             ]
            ],
            "type": "heatmapgl"
           }
          ],
          "histogram": [
           {
            "marker": {
             "pattern": {
              "fillmode": "overlay",
              "size": 10,
              "solidity": 0.2
             }
            },
            "type": "histogram"
           }
          ],
          "histogram2d": [
           {
            "colorbar": {
             "outlinewidth": 0,
             "ticks": ""
            },
            "colorscale": [
             [
              0,
              "#0d0887"
             ],
             [
              0.1111111111111111,
              "#46039f"
             ],
             [
              0.2222222222222222,
              "#7201a8"
             ],
             [
              0.3333333333333333,
              "#9c179e"
             ],
             [
              0.4444444444444444,
              "#bd3786"
             ],
             [
              0.5555555555555556,
              "#d8576b"
             ],
             [
              0.6666666666666666,
              "#ed7953"
             ],
             [
              0.7777777777777778,
              "#fb9f3a"
             ],
             [
              0.8888888888888888,
              "#fdca26"
             ],
             [
              1,
              "#f0f921"
             ]
            ],
            "type": "histogram2d"
           }
          ],
          "histogram2dcontour": [
           {
            "colorbar": {
             "outlinewidth": 0,
             "ticks": ""
            },
            "colorscale": [
             [
              0,
              "#0d0887"
             ],
             [
              0.1111111111111111,
              "#46039f"
             ],
             [
              0.2222222222222222,
              "#7201a8"
             ],
             [
              0.3333333333333333,
              "#9c179e"
             ],
             [
              0.4444444444444444,
              "#bd3786"
             ],
             [
              0.5555555555555556,
              "#d8576b"
             ],
             [
              0.6666666666666666,
              "#ed7953"
             ],
             [
              0.7777777777777778,
              "#fb9f3a"
             ],
             [
              0.8888888888888888,
              "#fdca26"
             ],
             [
              1,
              "#f0f921"
             ]
            ],
            "type": "histogram2dcontour"
           }
          ],
          "mesh3d": [
           {
            "colorbar": {
             "outlinewidth": 0,
             "ticks": ""
            },
            "type": "mesh3d"
           }
          ],
          "parcoords": [
           {
            "line": {
             "colorbar": {
              "outlinewidth": 0,
              "ticks": ""
             }
            },
            "type": "parcoords"
           }
          ],
          "pie": [
           {
            "automargin": true,
            "type": "pie"
           }
          ],
          "scatter": [
           {
            "fillpattern": {
             "fillmode": "overlay",
             "size": 10,
             "solidity": 0.2
            },
            "type": "scatter"
           }
          ],
          "scatter3d": [
           {
            "line": {
             "colorbar": {
              "outlinewidth": 0,
              "ticks": ""
             }
            },
            "marker": {
             "colorbar": {
              "outlinewidth": 0,
              "ticks": ""
             }
            },
            "type": "scatter3d"
           }
          ],
          "scattercarpet": [
           {
            "marker": {
             "colorbar": {
              "outlinewidth": 0,
              "ticks": ""
             }
            },
            "type": "scattercarpet"
           }
          ],
          "scattergeo": [
           {
            "marker": {
             "colorbar": {
              "outlinewidth": 0,
              "ticks": ""
             }
            },
            "type": "scattergeo"
           }
          ],
          "scattergl": [
           {
            "marker": {
             "colorbar": {
              "outlinewidth": 0,
              "ticks": ""
             }
            },
            "type": "scattergl"
           }
          ],
          "scattermapbox": [
           {
            "marker": {
             "colorbar": {
              "outlinewidth": 0,
              "ticks": ""
             }
            },
            "type": "scattermapbox"
           }
          ],
          "scatterpolar": [
           {
            "marker": {
             "colorbar": {
              "outlinewidth": 0,
              "ticks": ""
             }
            },
            "type": "scatterpolar"
           }
          ],
          "scatterpolargl": [
           {
            "marker": {
             "colorbar": {
              "outlinewidth": 0,
              "ticks": ""
             }
            },
            "type": "scatterpolargl"
           }
          ],
          "scatterternary": [
           {
            "marker": {
             "colorbar": {
              "outlinewidth": 0,
              "ticks": ""
             }
            },
            "type": "scatterternary"
           }
          ],
          "surface": [
           {
            "colorbar": {
             "outlinewidth": 0,
             "ticks": ""
            },
            "colorscale": [
             [
              0,
              "#0d0887"
             ],
             [
              0.1111111111111111,
              "#46039f"
             ],
             [
              0.2222222222222222,
              "#7201a8"
             ],
             [
              0.3333333333333333,
              "#9c179e"
             ],
             [
              0.4444444444444444,
              "#bd3786"
             ],
             [
              0.5555555555555556,
              "#d8576b"
             ],
             [
              0.6666666666666666,
              "#ed7953"
             ],
             [
              0.7777777777777778,
              "#fb9f3a"
             ],
             [
              0.8888888888888888,
              "#fdca26"
             ],
             [
              1,
              "#f0f921"
             ]
            ],
            "type": "surface"
           }
          ],
          "table": [
           {
            "cells": {
             "fill": {
              "color": "#EBF0F8"
             },
             "line": {
              "color": "white"
             }
            },
            "header": {
             "fill": {
              "color": "#C8D4E3"
             },
             "line": {
              "color": "white"
             }
            },
            "type": "table"
           }
          ]
         },
         "layout": {
          "annotationdefaults": {
           "arrowcolor": "#2a3f5f",
           "arrowhead": 0,
           "arrowwidth": 1
          },
          "autotypenumbers": "strict",
          "coloraxis": {
           "colorbar": {
            "outlinewidth": 0,
            "ticks": ""
           }
          },
          "colorscale": {
           "diverging": [
            [
             0,
             "#8e0152"
            ],
            [
             0.1,
             "#c51b7d"
            ],
            [
             0.2,
             "#de77ae"
            ],
            [
             0.3,
             "#f1b6da"
            ],
            [
             0.4,
             "#fde0ef"
            ],
            [
             0.5,
             "#f7f7f7"
            ],
            [
             0.6,
             "#e6f5d0"
            ],
            [
             0.7,
             "#b8e186"
            ],
            [
             0.8,
             "#7fbc41"
            ],
            [
             0.9,
             "#4d9221"
            ],
            [
             1,
             "#276419"
            ]
           ],
           "sequential": [
            [
             0,
             "#0d0887"
            ],
            [
             0.1111111111111111,
             "#46039f"
            ],
            [
             0.2222222222222222,
             "#7201a8"
            ],
            [
             0.3333333333333333,
             "#9c179e"
            ],
            [
             0.4444444444444444,
             "#bd3786"
            ],
            [
             0.5555555555555556,
             "#d8576b"
            ],
            [
             0.6666666666666666,
             "#ed7953"
            ],
            [
             0.7777777777777778,
             "#fb9f3a"
            ],
            [
             0.8888888888888888,
             "#fdca26"
            ],
            [
             1,
             "#f0f921"
            ]
           ],
           "sequentialminus": [
            [
             0,
             "#0d0887"
            ],
            [
             0.1111111111111111,
             "#46039f"
            ],
            [
             0.2222222222222222,
             "#7201a8"
            ],
            [
             0.3333333333333333,
             "#9c179e"
            ],
            [
             0.4444444444444444,
             "#bd3786"
            ],
            [
             0.5555555555555556,
             "#d8576b"
            ],
            [
             0.6666666666666666,
             "#ed7953"
            ],
            [
             0.7777777777777778,
             "#fb9f3a"
            ],
            [
             0.8888888888888888,
             "#fdca26"
            ],
            [
             1,
             "#f0f921"
            ]
           ]
          },
          "colorway": [
           "#636efa",
           "#EF553B",
           "#00cc96",
           "#ab63fa",
           "#FFA15A",
           "#19d3f3",
           "#FF6692",
           "#B6E880",
           "#FF97FF",
           "#FECB52"
          ],
          "font": {
           "color": "#2a3f5f"
          },
          "geo": {
           "bgcolor": "white",
           "lakecolor": "white",
           "landcolor": "#E5ECF6",
           "showlakes": true,
           "showland": true,
           "subunitcolor": "white"
          },
          "hoverlabel": {
           "align": "left"
          },
          "hovermode": "closest",
          "mapbox": {
           "style": "light"
          },
          "paper_bgcolor": "white",
          "plot_bgcolor": "#E5ECF6",
          "polar": {
           "angularaxis": {
            "gridcolor": "white",
            "linecolor": "white",
            "ticks": ""
           },
           "bgcolor": "#E5ECF6",
           "radialaxis": {
            "gridcolor": "white",
            "linecolor": "white",
            "ticks": ""
           }
          },
          "scene": {
           "xaxis": {
            "backgroundcolor": "#E5ECF6",
            "gridcolor": "white",
            "gridwidth": 2,
            "linecolor": "white",
            "showbackground": true,
            "ticks": "",
            "zerolinecolor": "white"
           },
           "yaxis": {
            "backgroundcolor": "#E5ECF6",
            "gridcolor": "white",
            "gridwidth": 2,
            "linecolor": "white",
            "showbackground": true,
            "ticks": "",
            "zerolinecolor": "white"
           },
           "zaxis": {
            "backgroundcolor": "#E5ECF6",
            "gridcolor": "white",
            "gridwidth": 2,
            "linecolor": "white",
            "showbackground": true,
            "ticks": "",
            "zerolinecolor": "white"
           }
          },
          "shapedefaults": {
           "line": {
            "color": "#2a3f5f"
           }
          },
          "ternary": {
           "aaxis": {
            "gridcolor": "white",
            "linecolor": "white",
            "ticks": ""
           },
           "baxis": {
            "gridcolor": "white",
            "linecolor": "white",
            "ticks": ""
           },
           "bgcolor": "#E5ECF6",
           "caxis": {
            "gridcolor": "white",
            "linecolor": "white",
            "ticks": ""
           }
          },
          "title": {
           "x": 0.05
          },
          "xaxis": {
           "automargin": true,
           "gridcolor": "white",
           "linecolor": "white",
           "ticks": "",
           "title": {
            "standoff": 15
           },
           "zerolinecolor": "white",
           "zerolinewidth": 2
          },
          "yaxis": {
           "automargin": true,
           "gridcolor": "white",
           "linecolor": "white",
           "ticks": "",
           "title": {
            "standoff": 15
           },
           "zerolinecolor": "white",
           "zerolinewidth": 2
          }
         }
        }
       }
      },
      "image/png": "[encoded data removed]",
      "text/html": [
       "<div>                            <div id=\"8a651625-05e6-474e-8ee9-434eb5befb0f\" class=\"plotly-graph-div\" style=\"height:1000px; width:100%;\"></div>            <script type=\"text/javascript\">                require([\"plotly\"], function(Plotly) {                    window.PLOTLYENV=window.PLOTLYENV || {};                                    if (document.getElementById(\"8a651625-05e6-474e-8ee9-434eb5befb0f\")) {                    Plotly.newPlot(                        \"8a651625-05e6-474e-8ee9-434eb5befb0f\",                        [{\"coloraxis\":\"coloraxis\",\"hovertemplate\":\"bikes_in=%{z}<br>start_lat=%{lat}<br>start_lng=%{lon}<extra></extra>\",\"lat\":[40.799624324,40.799624324,40.799624324,40.799624324,40.799624324,40.799624324,40.799624324,40.799624324,40.799624324,40.799624324,40.799624324,40.799624324,40.799624324,40.799624324,40.799624324,40.799624324,40.799624324,40.799624324,40.799624324,40.799624324,40.799624324,40.799624324,40.799624324,40.799624324,40.799624324,40.799624324,40.799624324,40.799624324,40.801694,40.801694,40.801694,40.801694,40.801694,40.801694,40.801694,40.801694,40.801694,40.801694,40.801694,40.801694,40.801694,40.801694,40.801694,40.801694,40.801694,40.801694,40.801694,40.801694,40.801694,40.801694,40.801694,40.801694,40.801694,40.801694,40.801694,40.801694,40.79558954105342,40.79558954105342,40.79558954105342,40.79558954105342,40.79558954105342,40.79558954105342,40.79558954105342,40.79558954105342,40.79558954105342,40.79558954105342,40.79558954105342,40.79558954105342,40.79558954105342,40.79558954105342,40.79558954105342,40.79558954105342,40.79558954105342,40.79558954105342,40.79558954105342,40.79558954105342,40.79558954105342,40.79558954105342,40.79558954105342,40.79558954105342,40.79558954105342,40.79558954105342,40.79558954105342,40.79558954105342,40.802535,40.802535,40.802535,40.802535,40.802535,40.802535,40.802535,40.802535,40.802535,40.802535,40.802535,40.802535,40.802535,40.802535,40.802535,40.802535,40.802535,40.802535,40.802535,40.802535,40.802535,40.802535,40.802535,40.802535,40.802535,40.802535,40.802535,40.802535,40.802535,40.8038654,40.8038654,40.8038654,40.8038654,40.8038654,40.8038654,40.8038654,40.8038654,40.8038654,40.8038654,40.8038654,40.8038654,40.8038654,40.8038654,40.8038654,40.8038654,40.8038654,40.8038654,40.8038654,40.8038654,40.8038654,40.8038654,40.8038654,40.8038654,40.8038654,40.8038654,40.8038654,40.802558184,40.7981856,40.799773693,40.7987859,40.7987859,40.7987859,40.7987859,40.7987859,40.7987859,40.7987859,40.7987859,40.7987859,40.7987859,40.7987859,40.7987859,40.7987859,40.7987859,40.7987859,40.7987859,40.7987859,40.7987859,40.7987859,40.7987859,40.7987859,40.7987859,40.7987859,40.7987859,40.7987859,40.7987859,40.7987859,40.7987859,40.7969347],\"lon\":[-73.955891848,-73.955891848,-73.955891848,-73.955891848,-73.955891848,-73.955891848,-73.955891848,-73.955891848,-73.955891848,-73.955891848,-73.955891848,-73.955891848,-73.955891848,-73.955891848,-73.955891848,-73.955891848,-73.955891848,-73.955891848,-73.955891848,-73.955891848,-73.955891848,-73.955891848,-73.955891848,-73.955891848,-73.955891848,-73.955891848,-73.955891848,-73.955891848,-73.957145,-73.957145,-73.957145,-73.957145,-73.957145,-73.957145,-73.957145,-73.957145,-73.957145,-73.957145,-73.957145,-73.957145,-73.957145,-73.957145,-73.957145,-73.957145,-73.957145,-73.957145,-73.957145,-73.957145,-73.957145,-73.957145,-73.957145,-73.957145,-73.957145,-73.957145,-73.957145,-73.957145,-73.96188408136368,-73.96188408136368,-73.96188408136368,-73.96188408136368,-73.96188408136368,-73.96188408136368,-73.96188408136368,-73.96188408136368,-73.96188408136368,-73.96188408136368,-73.96188408136368,-73.96188408136368,-73.96188408136368,-73.96188408136368,-73.96188408136368,-73.96188408136368,-73.96188408136368,-73.96188408136368,-73.96188408136368,-73.96188408136368,-73.96188408136368,-73.96188408136368,-73.96188408136368,-73.96188408136368,-73.96188408136368,-73.96188408136368,-73.96188408136368,-73.96188408136368,-73.9532423,-73.9532423,-73.9532423,-73.9532423,-73.9532423,-73.9532423,-73.9532423,-73.9532423,-73.9532423,-73.9532423,-73.9532423,-73.9532423,-73.9532423,-73.9532423,-73.9532423,-73.9532423,-73.9532423,-73.9532423,-73.9532423,-73.9532423,-73.9532423,-73.9532423,-73.9532423,-73.9532423,-73.9532423,-73.9532423,-73.9532423,-73.9532423,-73.9532423,-73.9559308,-73.9559308,-73.9559308,-73.9559308,-73.9559308,-73.9559308,-73.9559308,-73.9559308,-73.9559308,-73.9559308,-73.9559308,-73.9559308,-73.9559308,-73.9559308,-73.9559308,-73.9559308,-73.9559308,-73.9559308,-73.9559308,-73.9559308,-73.9559308,-73.9559308,-73.9559308,-73.9559308,-73.9559308,-73.9559308,-73.9559308,-73.96272707,-73.9605909006,-73.962261319,-73.9523,-73.9523,-73.9523,-73.9523,-73.9523,-73.9523,-73.9523,-73.9523,-73.9523,-73.9523,-73.9523,-73.9523,-73.9523,-73.9523,-73.9523,-73.9523,-73.9523,-73.9523,-73.9523,-73.9523,-73.9523,-73.9523,-73.9523,-73.9523,-73.9523,-73.9523,-73.9523,-73.9523,-73.9643412291],\"name\":\"\",\"radius\":15,\"subplot\":\"mapbox\",\"z\":[75.0,72.0,34.0,17.0,82.0,83.0,54.0,115.0,77.0,138.0,118.0,116.0,97.0,110.0,121.0,90.0,45.0,100.0,110.0,184.0,81.0,54.0,83.0,85.0,60.0,119.0,65.0,44.0,118.0,69.0,30.0,29.0,69.0,86.0,64.0,81.0,72.0,109.0,75.0,86.0,93.0,95.0,104.0,89.0,74.0,69.0,70.0,97.0,79.0,49.0,85.0,69.0,58.0,63.0,70.0,39.0,34.0,42.0,30.0,19.0,53.0,37.0,31.0,64.0,51.0,82.0,66.0,72.0,60.0,54.0,95.0,46.0,31.0,42.0,44.0,58.0,43.0,34.0,47.0,55.0,37.0,58.0,36.0,26.0,24.0,27.0,14.0,12.0,18.0,28.0,31.0,30.0,28.0,30.0,18.0,15.0,31.0,30.0,42.0,37.0,21.0,31.0,28.0,23.0,25.0,15.0,24.0,24.0,19.0,19.0,39.0,17.0,1.0,9.0,9.0,2.0,13.0,8.0,11.0,9.0,13.0,17.0,15.0,9.0,6.0,12.0,11.0,11.0,9.0,7.0,6.0,7.0,6.0,7.0,5.0,10.0,2.0,5.0,7.0,4.0,null,null,null,33.0,49.0,38.0,19.0,37.0,45.0,55.0,59.0,61.0,86.0,54.0,46.0,46.0,60.0,64.0,56.0,55.0,42.0,43.0,77.0,46.0,40.0,47.0,51.0,32.0,41.0,41.0,23.0,null],\"type\":\"densitymapbox\"}],                        {\"template\":{\"data\":{\"histogram2dcontour\":[{\"type\":\"histogram2dcontour\",\"colorbar\":{\"outlinewidth\":0,\"ticks\":\"\"},\"colorscale\":[[0.0,\"#0d0887\"],[0.1111111111111111,\"#46039f\"],[0.2222222222222222,\"#7201a8\"],[0.3333333333333333,\"#9c179e\"],[0.4444444444444444,\"#bd3786\"],[0.5555555555555556,\"#d8576b\"],[0.6666666666666666,\"#ed7953\"],[0.7777777777777778,\"#fb9f3a\"],[0.8888888888888888,\"#fdca26\"],[1.0,\"#f0f921\"]]}],\"choropleth\":[{\"type\":\"choropleth\",\"colorbar\":{\"outlinewidth\":0,\"ticks\":\"\"}}],\"histogram2d\":[{\"type\":\"histogram2d\",\"colorbar\":{\"outlinewidth\":0,\"ticks\":\"\"},\"colorscale\":[[0.0,\"#0d0887\"],[0.1111111111111111,\"#46039f\"],[0.2222222222222222,\"#7201a8\"],[0.3333333333333333,\"#9c179e\"],[0.4444444444444444,\"#bd3786\"],[0.5555555555555556,\"#d8576b\"],[0.6666666666666666,\"#ed7953\"],[0.7777777777777778,\"#fb9f3a\"],[0.8888888888888888,\"#fdca26\"],[1.0,\"#f0f921\"]]}],\"heatmap\":[{\"type\":\"heatmap\",\"colorbar\":{\"outlinewidth\":0,\"ticks\":\"\"},\"colorscale\":[[0.0,\"#0d0887\"],[0.1111111111111111,\"#46039f\"],[0.2222222222222222,\"#7201a8\"],[0.3333333333333333,\"#9c179e\"],[0.4444444444444444,\"#bd3786\"],[0.5555555555555556,\"#d8576b\"],[0.6666666666666666,\"#ed7953\"],[0.7777777777777778,\"#fb9f3a\"],[0.8888888888888888,\"#fdca26\"],[1.0,\"#f0f921\"]]}],\"heatmapgl\":[{\"type\":\"heatmapgl\",\"colorbar\":{\"outlinewidth\":0,\"ticks\":\"\"},\"colorscale\":[[0.0,\"#0d0887\"],[0.1111111111111111,\"#46039f\"],[0.2222222222222222,\"#7201a8\"],[0.3333333333333333,\"#9c179e\"],[0.4444444444444444,\"#bd3786\"],[0.5555555555555556,\"#d8576b\"],[0.6666666666666666,\"#ed7953\"],[0.7777777777777778,\"#fb9f3a\"],[0.8888888888888888,\"#fdca26\"],[1.0,\"#f0f921\"]]}],\"contourcarpet\":[{\"type\":\"contourcarpet\",\"colorbar\":{\"outlinewidth\":0,\"ticks\":\"\"}}],\"contour\":[{\"type\":\"contour\",\"colorbar\":{\"outlinewidth\":0,\"ticks\":\"\"},\"colorscale\":[[0.0,\"#0d0887\"],[0.1111111111111111,\"#46039f\"],[0.2222222222222222,\"#7201a8\"],[0.3333333333333333,\"#9c179e\"],[0.4444444444444444,\"#bd3786\"],[0.5555555555555556,\"#d8576b\"],[0.6666666666666666,\"#ed7953\"],[0.7777777777777778,\"#fb9f3a\"],[0.8888888888888888,\"#fdca26\"],[1.0,\"#f0f921\"]]}],\"surface\":[{\"type\":\"surface\",\"colorbar\":{\"outlinewidth\":0,\"ticks\":\"\"},\"colorscale\":[[0.0,\"#0d0887\"],[0.1111111111111111,\"#46039f\"],[0.2222222222222222,\"#7201a8\"],[0.3333333333333333,\"#9c179e\"],[0.4444444444444444,\"#bd3786\"],[0.5555555555555556,\"#d8576b\"],[0.6666666666666666,\"#ed7953\"],[0.7777777777777778,\"#fb9f3a\"],[0.8888888888888888,\"#fdca26\"],[1.0,\"#f0f921\"]]}],\"mesh3d\":[{\"type\":\"mesh3d\",\"colorbar\":{\"outlinewidth\":0,\"ticks\":\"\"}}],\"scatter\":[{\"fillpattern\":{\"fillmode\":\"overlay\",\"size\":10,\"solidity\":0.2},\"type\":\"scatter\"}],\"parcoords\":[{\"type\":\"parcoords\",\"line\":{\"colorbar\":{\"outlinewidth\":0,\"ticks\":\"\"}}}],\"scatterpolargl\":[{\"type\":\"scatterpolargl\",\"marker\":{\"colorbar\":{\"outlinewidth\":0,\"ticks\":\"\"}}}],\"bar\":[{\"error_x\":{\"color\":\"#2a3f5f\"},\"error_y\":{\"color\":\"#2a3f5f\"},\"marker\":{\"line\":{\"color\":\"#E5ECF6\",\"width\":0.5},\"pattern\":{\"fillmode\":\"overlay\",\"size\":10,\"solidity\":0.2}},\"type\":\"bar\"}],\"scattergeo\":[{\"type\":\"scattergeo\",\"marker\":{\"colorbar\":{\"outlinewidth\":0,\"ticks\":\"\"}}}],\"scatterpolar\":[{\"type\":\"scatterpolar\",\"marker\":{\"colorbar\":{\"outlinewidth\":0,\"ticks\":\"\"}}}],\"histogram\":[{\"marker\":{\"pattern\":{\"fillmode\":\"overlay\",\"size\":10,\"solidity\":0.2}},\"type\":\"histogram\"}],\"scattergl\":[{\"type\":\"scattergl\",\"marker\":{\"colorbar\":{\"outlinewidth\":0,\"ticks\":\"\"}}}],\"scatter3d\":[{\"type\":\"scatter3d\",\"line\":{\"colorbar\":{\"outlinewidth\":0,\"ticks\":\"\"}},\"marker\":{\"colorbar\":{\"outlinewidth\":0,\"ticks\":\"\"}}}],\"scattermapbox\":[{\"type\":\"scattermapbox\",\"marker\":{\"colorbar\":{\"outlinewidth\":0,\"ticks\":\"\"}}}],\"scatterternary\":[{\"type\":\"scatterternary\",\"marker\":{\"colorbar\":{\"outlinewidth\":0,\"ticks\":\"\"}}}],\"scattercarpet\":[{\"type\":\"scattercarpet\",\"marker\":{\"colorbar\":{\"outlinewidth\":0,\"ticks\":\"\"}}}],\"carpet\":[{\"aaxis\":{\"endlinecolor\":\"#2a3f5f\",\"gridcolor\":\"white\",\"linecolor\":\"white\",\"minorgridcolor\":\"white\",\"startlinecolor\":\"#2a3f5f\"},\"baxis\":{\"endlinecolor\":\"#2a3f5f\",\"gridcolor\":\"white\",\"linecolor\":\"white\",\"minorgridcolor\":\"white\",\"startlinecolor\":\"#2a3f5f\"},\"type\":\"carpet\"}],\"table\":[{\"cells\":{\"fill\":{\"color\":\"#EBF0F8\"},\"line\":{\"color\":\"white\"}},\"header\":{\"fill\":{\"color\":\"#C8D4E3\"},\"line\":{\"color\":\"white\"}},\"type\":\"table\"}],\"barpolar\":[{\"marker\":{\"line\":{\"color\":\"#E5ECF6\",\"width\":0.5},\"pattern\":{\"fillmode\":\"overlay\",\"size\":10,\"solidity\":0.2}},\"type\":\"barpolar\"}],\"pie\":[{\"automargin\":true,\"type\":\"pie\"}]},\"layout\":{\"autotypenumbers\":\"strict\",\"colorway\":[\"#636efa\",\"#EF553B\",\"#00cc96\",\"#ab63fa\",\"#FFA15A\",\"#19d3f3\",\"#FF6692\",\"#B6E880\",\"#FF97FF\",\"#FECB52\"],\"font\":{\"color\":\"#2a3f5f\"},\"hovermode\":\"closest\",\"hoverlabel\":{\"align\":\"left\"},\"paper_bgcolor\":\"white\",\"plot_bgcolor\":\"#E5ECF6\",\"polar\":{\"bgcolor\":\"#E5ECF6\",\"angularaxis\":{\"gridcolor\":\"white\",\"linecolor\":\"white\",\"ticks\":\"\"},\"radialaxis\":{\"gridcolor\":\"white\",\"linecolor\":\"white\",\"ticks\":\"\"}},\"ternary\":{\"bgcolor\":\"#E5ECF6\",\"aaxis\":{\"gridcolor\":\"white\",\"linecolor\":\"white\",\"ticks\":\"\"},\"baxis\":{\"gridcolor\":\"white\",\"linecolor\":\"white\",\"ticks\":\"\"},\"caxis\":{\"gridcolor\":\"white\",\"linecolor\":\"white\",\"ticks\":\"\"}},\"coloraxis\":{\"colorbar\":{\"outlinewidth\":0,\"ticks\":\"\"}},\"colorscale\":{\"sequential\":[[0.0,\"#0d0887\"],[0.1111111111111111,\"#46039f\"],[0.2222222222222222,\"#7201a8\"],[0.3333333333333333,\"#9c179e\"],[0.4444444444444444,\"#bd3786\"],[0.5555555555555556,\"#d8576b\"],[0.6666666666666666,\"#ed7953\"],[0.7777777777777778,\"#fb9f3a\"],[0.8888888888888888,\"#fdca26\"],[1.0,\"#f0f921\"]],\"sequentialminus\":[[0.0,\"#0d0887\"],[0.1111111111111111,\"#46039f\"],[0.2222222222222222,\"#7201a8\"],[0.3333333333333333,\"#9c179e\"],[0.4444444444444444,\"#bd3786\"],[0.5555555555555556,\"#d8576b\"],[0.6666666666666666,\"#ed7953\"],[0.7777777777777778,\"#fb9f3a\"],[0.8888888888888888,\"#fdca26\"],[1.0,\"#f0f921\"]],\"diverging\":[[0,\"#8e0152\"],[0.1,\"#c51b7d\"],[0.2,\"#de77ae\"],[0.3,\"#f1b6da\"],[0.4,\"#fde0ef\"],[0.5,\"#f7f7f7\"],[0.6,\"#e6f5d0\"],[0.7,\"#b8e186\"],[0.8,\"#7fbc41\"],[0.9,\"#4d9221\"],[1,\"#276419\"]]},\"xaxis\":{\"gridcolor\":\"white\",\"linecolor\":\"white\",\"ticks\":\"\",\"title\":{\"standoff\":15},\"zerolinecolor\":\"white\",\"automargin\":true,\"zerolinewidth\":2},\"yaxis\":{\"gridcolor\":\"white\",\"linecolor\":\"white\",\"ticks\":\"\",\"title\":{\"standoff\":15},\"zerolinecolor\":\"white\",\"automargin\":true,\"zerolinewidth\":2},\"scene\":{\"xaxis\":{\"backgroundcolor\":\"#E5ECF6\",\"gridcolor\":\"white\",\"linecolor\":\"white\",\"showbackground\":true,\"ticks\":\"\",\"zerolinecolor\":\"white\",\"gridwidth\":2},\"yaxis\":{\"backgroundcolor\":\"#E5ECF6\",\"gridcolor\":\"white\",\"linecolor\":\"white\",\"showbackground\":true,\"ticks\":\"\",\"zerolinecolor\":\"white\",\"gridwidth\":2},\"zaxis\":{\"backgroundcolor\":\"#E5ECF6\",\"gridcolor\":\"white\",\"linecolor\":\"white\",\"showbackground\":true,\"ticks\":\"\",\"zerolinecolor\":\"white\",\"gridwidth\":2}},\"shapedefaults\":{\"line\":{\"color\":\"#2a3f5f\"}},\"annotationdefaults\":{\"arrowcolor\":\"#2a3f5f\",\"arrowhead\":0,\"arrowwidth\":1},\"geo\":{\"bgcolor\":\"white\",\"landcolor\":\"#E5ECF6\",\"subunitcolor\":\"white\",\"showland\":true,\"showlakes\":true,\"lakecolor\":\"white\"},\"title\":{\"x\":0.05},\"mapbox\":{\"style\":\"light\"}}},\"mapbox\":{\"domain\":{\"x\":[0.0,1.0],\"y\":[0.0,1.0]},\"center\":{\"lat\":40.802,\"lon\":-73.963},\"zoom\":13,\"style\":\"stamen-terrain\"},\"coloraxis\":{\"colorbar\":{\"title\":{\"text\":\"bikes_in\"}},\"colorscale\":[[0.0,\"#0d0887\"],[0.1111111111111111,\"#46039f\"],[0.2222222222222222,\"#7201a8\"],[0.3333333333333333,\"#9c179e\"],[0.4444444444444444,\"#bd3786\"],[0.5555555555555556,\"#d8576b\"],[0.6666666666666666,\"#ed7953\"],[0.7777777777777778,\"#fb9f3a\"],[0.8888888888888888,\"#fdca26\"],[1.0,\"#f0f921\"]]},\"legend\":{\"tracegroupgap\":0},\"margin\":{\"t\":60},\"height\":1000},                        {\"responsive\": true}                    ).then(function(){\n",
       "                            \n",
       "var gd = document.getElementById('8a651625-05e6-474e-8ee9-434eb5befb0f');\n",
       "var x = new MutationObserver(function (mutations, observer) {{\n",
       "        var display = window.getComputedStyle(gd).display;\n",
       "        if (!display || display === 'none') {{\n",
       "            console.log([gd, 'removed!']);\n",
       "            Plotly.purge(gd);\n",
       "            observer.disconnect();\n",
       "        }}\n",
       "}});\n",
       "\n",
       "// Listen for the removal of the full notebook cells\n",
       "var notebookContainer = gd.closest('#notebook-container');\n",
       "if (notebookContainer) {{\n",
       "    x.observe(notebookContainer, {childList: true});\n",
       "}}\n",
       "\n",
       "// Listen for the clearing of the current output cell\n",
       "var outputEl = gd.closest('.output');\n",
       "if (outputEl) {{\n",
       "    x.observe(outputEl, {childList: true});\n",
       "}}\n",
       "\n",
       "                        })                };                });            </script>        </div>"
      ]
     },
     "metadata": {},
     "output_type": "display_data"
    }
   ],
   "source": [
    "fig = px.density_mapbox(end_df, lat='start_lat', lon='start_lng', z='bikes_in', radius=15,\n",
    "                        center=dict(lat=40.802, lon=-73.963), zoom=13, height=1000,\n",
    "                        mapbox_style=\"stamen-terrain\")\n",
    "fig.show()"
   ]
  },
  {
   "cell_type": "code",
   "execution_count": null,
   "id": "8f05d12c-96bc-4fb8-9138-de462ff104c2",
   "metadata": {},
   "outputs": [],
   "source": []
  },
  {
   "cell_type": "code",
   "execution_count": null,
   "id": "9818d784-3ba5-457c-96fc-7ece80ef4fdc",
   "metadata": {},
   "outputs": [],
   "source": []
  },
  {
   "cell_type": "code",
   "execution_count": null,
   "id": "e5afaaa5-7271-488f-ae43-35f4554dbd12",
   "metadata": {},
   "outputs": [],
   "source": [
    "station_lst = ['7646.04','7619.05','7631.23','7617.07','7606.01','7577.27','7595.17','7602.05','7643.18','7658.13']"
   ]
  },
  {
   "cell_type": "code",
   "execution_count": 15,
   "id": "233d586d-903b-4d15-8cda-b034de3212cf",
   "metadata": {},
   "outputs": [],
   "source": [
    "map_df = df[(df['start_station_id'].isin(station_lst))].copy()\n",
    "map_df['bikes_out'] = 0\n",
    "map_df = map_df.groupby(['start_station_id','start_station_name','start_lat','start_lng'])[['bikes_out']].count().reset_index()"
   ]
  },
  {
   "cell_type": "code",
   "execution_count": null,
   "id": "2bf63814-5da1-4b6e-ab48-66fee2ea53cd",
   "metadata": {},
   "outputs": [],
   "source": []
  },
  {
   "cell_type": "code",
   "execution_count": 21,
   "id": "157a7966-7da9-4935-a1d7-b828d0a06160",
   "metadata": {},
   "outputs": [
    {
     "data": {
      "application/vnd.plotly.v1+json": {
       "config": {
        "plotlyServerURL": "https://plot.ly"
       },
       "data": [
        {
         "coloraxis": "coloraxis",
         "hovertemplate": "bikes_out=%{z}<br>start_lat=%{lat}<br>start_lng=%{lon}<extra></extra>",
         "lat": [
          40.795578837,
          40.79558954105342,
          40.79559,
          40.795619726,
          40.795639038,
          40.795640945,
          40.795642972,
          40.79564333,
          40.795646071,
          40.795654178,
          40.795656204,
          40.795661211,
          40.795661807,
          40.79566443,
          40.795669794,
          40.79567039,
          40.795671821,
          40.79567194,
          40.79567337,
          40.795674801,
          40.795675755,
          40.795677066,
          40.795678139,
          40.795679569,
          40.795682549,
          40.795695305,
          40.795695662,
          40.795696855,
          40.795698643,
          40.795699358,
          40.795699358,
          40.795700908,
          40.795703292,
          40.795707822,
          40.795709372,
          40.79571259,
          40.795714021,
          40.795715928,
          40.795717597,
          40.795717835,
          40.7957201,
          40.795721173,
          40.795721173,
          40.795721531,
          40.795725465,
          40.795725584,
          40.795726657,
          40.795726895,
          40.795727491,
          40.795728207,
          40.795730948,
          40.795732379,
          40.795734882,
          40.79573524,
          40.79573667,
          40.795739651,
          40.795740008,
          40.795746565,
          40.795758843,
          40.795759439,
          40.795762897,
          40.795763969,
          40.795764685,
          40.795769334,
          40.795774937,
          40.795781374,
          40.795782447,
          40.795783997,
          40.79578495,
          40.795785308,
          40.795786858,
          40.795787454,
          40.795789719,
          40.795793533,
          40.795793772,
          40.795794606,
          40.795794964,
          40.795797348,
          40.795820475,
          40.795822024,
          40.795825958,
          40.795826435,
          40.79582727,
          40.7958287,
          40.795829892,
          40.79583025,
          40.795842171,
          40.795845389,
          40.795846581,
          40.79584837,
          40.795851588,
          40.7958529,
          40.795854688,
          40.795857072,
          40.795857191,
          40.795857668,
          40.795860052,
          40.79586184,
          40.795867562,
          40.795869112,
          40.795869589,
          40.795870662,
          40.795871019,
          40.795872211,
          40.795874119,
          40.795875549,
          40.795880675,
          40.795882821,
          40.795883656,
          40.795884132,
          40.79589045,
          40.795892477,
          40.795892596,
          40.795894265,
          40.795896649,
          40.795897722,
          40.795898318,
          40.795903087,
          40.795903444,
          40.795904994,
          40.795909524,
          40.795910835,
          40.795910954,
          40.795912504,
          40.795914531,
          40.795917749,
          40.795919776,
          40.795921087,
          40.795922518,
          40.79592371,
          40.795927286,
          40.795932174,
          40.795932293,
          40.795937419,
          40.795937538,
          40.795940518,
          40.795941472,
          40.795943022,
          40.795944333,
          40.796811581,
          40.796905041,
          40.796931505,
          40.796932101,
          40.7969347,
          40.796960473,
          40.796966791,
          40.796972513,
          40.796980262,
          40.796994448,
          40.797009826,
          40.797015309,
          40.79702282,
          40.797039509,
          40.797050476,
          40.797053814,
          40.797064304,
          40.797072291,
          40.797073722,
          40.797080636,
          40.797082305,
          40.797098279,
          40.797108293,
          40.797112346,
          40.797113895,
          40.797113895,
          40.797128201,
          40.797133207,
          40.797136307,
          40.797136307,
          40.797136426,
          40.797140002,
          40.797140837,
          40.79714179,
          40.797145009,
          40.797147632,
          40.797147989,
          40.797152162,
          40.797162056,
          40.79716742,
          40.797168732,
          40.79717195,
          40.797173381,
          40.797174096,
          40.797190309,
          40.797190428,
          40.797201872,
          40.797204256,
          40.797210813,
          40.797212243,
          40.797212958,
          40.797215462,
          40.797226787,
          40.797233582,
          40.797242284,
          40.797323465,
          40.7980088,
          40.79346931,
          40.798007965,
          40.798615932,
          40.798624396,
          40.798648119,
          40.798650622,
          40.798650861,
          40.798651218,
          40.798654079,
          40.798656344,
          40.798656821,
          40.798658967,
          40.798661232,
          40.798662186,
          40.798662782,
          40.798664212,
          40.798665762,
          40.798665881,
          40.798667431,
          40.798668146,
          40.79867065,
          40.798674703,
          40.798674941,
          40.798676014,
          40.798678041,
          40.798678637,
          40.798678756,
          40.798679829,
          40.798680425,
          40.798681617,
          40.798682094,
          40.798682451,
          40.79868269,
          40.798683405,
          40.798684359,
          40.798686266,
          40.798689604,
          40.798689604,
          40.798692942,
          40.798694253,
          40.798694491,
          40.798696518,
          40.798696637,
          40.798696756,
          40.798696876,
          40.79869926,
          40.798700809,
          40.798702955,
          40.798703432,
          40.798703909,
          40.798703909,
          40.798704863,
          40.798705935,
          40.798706055,
          40.798707008,
          40.798708439,
          40.798708439,
          40.798710942,
          40.79871285,
          40.798714161,
          40.798715591,
          40.798717976,
          40.798719287,
          40.798719764,
          40.798724532,
          40.798726082,
          40.798727751,
          40.798728228,
          40.7987293,
          40.798738956,
          40.79874301,
          40.798743486,
          40.798752308,
          40.798752666,
          40.798755288,
          40.798756242,
          40.798758864,
          40.798760414,
          40.798761964,
          40.798765302,
          40.798774838,
          40.798775077,
          40.798780084,
          40.798782706,
          40.7987859,
          40.798785925,
          40.798786,
          40.798788905,
          40.798790336,
          40.798790455,
          40.798792005,
          40.798797965,
          40.798799753,
          40.798799992,
          40.798801303,
          40.798802972,
          40.79880476,
          40.798805237,
          40.798805952,
          40.798807263,
          40.798807979,
          40.798808813,
          40.798810005,
          40.798812985,
          40.798814297,
          40.798814774,
          40.798814893,
          40.798815012,
          40.798815846,
          40.798816323,
          40.798819065,
          40.798820257,
          40.798820257,
          40.798820376,
          40.798821688,
          40.798821688,
          40.798822045,
          40.798822999,
          40.798826218,
          40.798826814,
          40.79882741,
          40.798827529,
          40.798830867,
          40.798831224,
          40.798831582,
          40.798832417,
          40.798834562,
          40.798835993,
          40.798836708,
          40.798836827,
          40.798836827,
          40.798838139,
          40.798838496,
          40.798839092,
          40.798844814,
          40.79884696,
          40.79884851,
          40.79884851,
          40.798848629,
          40.79884994,
          40.79885149,
          40.79885149,
          40.798854947,
          40.79885602,
          40.798856974,
          40.798857689,
          40.798862815,
          40.798863053,
          40.798867226,
          40.798867583,
          40.798870325,
          40.798872709,
          40.798879266,
          40.798881769,
          40.798893332,
          40.798904896,
          40.79897058,
          40.741990805,
          40.797591567,
          40.79769671,
          40.797789693,
          40.797944784,
          40.797986269,
          40.798036814,
          40.798038363,
          40.798043847,
          40.798044801,
          40.798052669,
          40.798054814,
          40.798054814,
          40.798060775,
          40.798062325,
          40.798067927,
          40.798069954,
          40.798076868,
          40.798081398,
          40.798084378,
          40.798088312,
          40.798090696,
          40.798100233,
          40.798102498,
          40.798102617,
          40.79810369,
          40.798105359,
          40.798107147,
          40.798107862,
          40.798108339,
          40.798108459,
          40.798109293,
          40.798110127,
          40.79811132,
          40.798116207,
          40.798118114,
          40.798119545,
          40.798122287,
          40.798122287,
          40.798123121,
          40.798123479,
          40.798125625,
          40.798125625,
          40.798125625,
          40.798128724,
          40.798129082,
          40.798129439,
          40.798129559,
          40.798132658,
          40.798132896,
          40.798134208,
          40.7981354,
          40.798135638,
          40.798136473,
          40.798137903,
          40.798138022,
          40.798142672,
          40.798143268,
          40.798143864,
          40.79814446,
          40.798145056,
          40.798145652,
          40.798146248,
          40.798149228,
          40.798149347,
          40.798150063,
          40.798157096,
          40.798158526,
          40.798162341,
          40.798168778,
          40.798169971,
          40.798170805,
          40.798172116,
          40.798178196,
          40.798179865,
          40.798181415,
          40.798182011,
          40.798182607,
          40.798184395,
          40.798184752,
          40.7981856,
          40.798186,
          40.798187494,
          40.798190475,
          40.798191071,
          40.798198819,
          40.798204899,
          40.798207879,
          40.798209429,
          40.798214674,
          40.798218012,
          40.798218131,
          40.798220158,
          40.798223138,
          40.798227787,
          40.798233747,
          40.798243642,
          40.798247099,
          40.798253059,
          40.79825449,
          40.798254609,
          40.798254609,
          40.798256755,
          40.798256993,
          40.798262477,
          40.798267484,
          40.798267841,
          40.798267961,
          40.798270464,
          40.798273325,
          40.798275471,
          40.798281074,
          40.79828608,
          40.79828763,
          40.798291087,
          40.798293352,
          40.79829514,
          40.798295736,
          40.798295975,
          40.798296809,
          40.798297167,
          40.798300624,
          40.798302293,
          40.798308372,
          40.798309684,
          40.798310518,
          40.798316598,
          40.798316836,
          40.798321247,
          40.798325777,
          40.798334599,
          40.79833746,
          40.798341274,
          40.798346162,
          40.798355579,
          40.798363209,
          40.798396468,
          40.798419714,
          40.798437715,
          40.798491716,
          40.798518419,
          40.79875505,
          40.799305677,
          40.799460649,
          40.799473166,
          40.79947722,
          40.799479604,
          40.799483299,
          40.799484,
          40.799484372,
          40.799485087,
          40.799485564,
          40.799487948,
          40.799488187,
          40.799489141,
          40.799489379,
          40.799490452,
          40.799490571,
          40.799491048,
          40.799494743,
          40.799494743,
          40.799497843,
          40.799499154,
          40.799500823,
          40.799501419,
          40.799504638,
          40.799505472,
          40.799505711,
          40.799505949,
          40.799509406,
          40.799509525,
          40.799509645,
          40.799510717,
          40.799510956,
          40.799512386,
          40.799512506,
          40.799513459,
          40.799515247,
          40.799516082,
          40.79951632,
          40.79951632,
          40.79951787,
          40.799518347,
          40.799518585,
          40.799518943,
          40.7995193,
          40.79951942,
          40.799519897,
          40.799519897,
          40.799520373,
          40.799521089,
          40.799521446,
          40.799521565,
          40.799522758,
          40.799524069,
          40.799526095,
          40.799527764,
          40.799528241,
          40.799528956,
          40.799529433,
          40.799529433,
          40.799529791,
          40.799532413,
          40.799532413,
          40.799534202,
          40.79953444,
          40.799534559,
          40.799534917,
          40.799538255,
          40.799538612,
          40.79953897,
          40.799539924,
          40.799540281,
          40.799540281,
          40.799541712,
          40.799542546,
          40.799542665,
          40.799542785,
          40.799544334,
          40.799544573,
          40.799544811,
          40.799545527,
          40.799545765,
          40.799546003,
          40.799547672,
          40.799548864,
          40.799549222,
          40.799549699,
          40.799551129,
          40.799551487,
          40.799551606,
          40.799552917,
          40.799553394,
          40.799553514,
          40.799555302,
          40.799556375,
          40.79955709,
          40.79955864,
          40.799560666,
          40.799561381,
          40.79956162,
          40.799564362,
          40.799566507,
          40.799567461,
          40.799567699,
          40.799568415,
          40.799569726,
          40.799569964,
          40.799575448,
          40.799575567,
          40.799579024,
          40.799579144,
          40.79957962,
          40.799580455,
          40.799581528,
          40.799582243,
          40.799582839,
          40.799584389,
          40.799584985,
          40.799585819,
          40.799585938,
          40.799586058,
          40.799586654,
          40.799587011,
          40.799587965,
          40.799588323,
          40.799589276,
          40.799589992,
          40.799590707,
          40.799591541,
          40.799592853,
          40.79959321,
          40.799595356,
          40.79959929,
          40.799599528,
          40.799601436,
          40.799601912,
          40.799602628,
          40.799603105,
          40.799603105,
          40.799604416,
          40.79960525,
          40.799606919,
          40.799608231,
          40.799608707,
          40.799608827,
          40.799609184,
          40.79961431,
          40.799614668,
          40.799619913,
          40.799621463,
          40.799623132,
          40.799623609,
          40.799624324,
          40.799629688,
          40.799632311,
          40.799632549,
          40.799633503,
          40.799633741,
          40.799634337,
          40.799638271,
          40.799638629,
          40.799638748,
          40.799640656,
          40.799641132,
          40.799642324,
          40.799643517,
          40.799645424,
          40.799646139,
          40.799646735,
          40.799647808,
          40.79965055,
          40.799653053,
          40.799661756,
          40.799663305,
          40.799669504,
          40.799670458,
          40.799676895,
          40.79969883,
          40.799516916,
          40.799551249,
          40.799600601,
          40.799608827,
          40.799613237,
          40.799627185,
          40.799644232,
          40.799687505,
          40.799690366,
          40.799695969,
          40.799697399,
          40.799702406,
          40.799706101,
          40.799711466,
          40.799720645,
          40.799723387,
          40.799723506,
          40.79973352,
          40.799735785,
          40.799736381,
          40.799738884,
          40.79974103,
          40.799742341,
          40.799742937,
          40.799748659,
          40.799750209,
          40.799751878,
          40.7997568,
          40.7997576,
          40.799759269,
          40.799759626,
          40.799762487,
          40.799764514,
          40.799766064,
          40.799766421,
          40.799771428,
          40.799771667,
          40.799771905,
          40.79977262,
          40.79977262,
          40.799773455,
          40.799773693,
          40.799779534,
          40.799781919,
          40.799785376,
          40.799786448,
          40.799786687,
          40.79978931,
          40.799791455,
          40.799794793,
          40.79979527,
          40.799795628,
          40.799801826,
          40.799803972,
          40.799804807,
          40.799804926,
          40.799805045,
          40.799806595,
          40.799807906,
          40.799808502,
          40.79980886,
          40.799811363,
          40.799815536,
          40.799818158,
          40.799820304,
          40.7998209,
          40.799821496,
          40.799822688,
          40.799822927,
          40.799822927,
          40.799825668,
          40.799826384,
          40.799827695,
          40.799830198,
          40.799831152,
          40.79983151,
          40.79983294,
          40.799833655,
          40.799835443,
          40.79983592,
          40.79983592,
          40.799836755,
          40.799838185,
          40.799841285,
          40.799843907,
          40.799845695,
          40.799846292,
          40.79984653,
          40.799846888,
          40.799848437,
          40.79985106,
          40.799851298,
          40.799851775,
          40.799852371,
          40.79985261,
          40.799853563,
          40.799855828,
          40.799857497,
          40.799859524,
          40.799863815,
          40.799871087,
          40.799871325,
          40.799872398,
          40.799878478,
          40.799878597,
          40.799879432,
          40.799879909,
          40.799883127,
          40.799883246,
          40.7998842,
          40.799887776,
          40.799889922,
          40.799890041,
          40.799896955,
          40.799905062,
          40.799905658,
          40.799906373,
          40.799908757,
          40.799916625,
          40.799917102,
          40.799918413,
          40.799919367,
          40.799924135,
          40.799924493,
          40.799928069,
          40.799928188,
          40.799929619,
          40.799933672,
          40.799942374,
          40.799948454,
          40.799953938,
          40.799962044,
          40.799963713,
          40.799967289,
          40.800087094,
          40.741929889,
          40.748855948,
          40.8011868,
          40.801219463,
          40.801411152,
          40.801418066,
          40.80143702,
          40.801445365,
          40.801448703,
          40.801452994,
          40.80145669,
          40.801460624,
          40.801461935,
          40.801471233,
          40.801479459,
          40.801481485,
          40.801481962,
          40.801482916,
          40.80148375,
          40.801487565,
          40.801488042,
          40.801490426,
          40.801492572,
          40.801494718,
          40.801495314,
          40.801495671,
          40.801496387,
          40.801497459,
          40.801499128,
          40.801500201,
          40.80150044,
          40.801500797,
          40.801502585,
          40.801503539,
          40.80150497,
          40.801508188,
          40.801509738,
          40.801512599,
          40.801515341,
          40.801516891,
          40.801517248,
          40.801518917,
          40.801519752,
          40.801519871,
          40.801520944,
          40.801521897,
          40.801523566,
          40.801523805,
          40.80152452,
          40.80152452,
          40.801524639,
          40.801524878,
          40.801524997,
          40.801525235,
          40.801526189,
          40.801526189,
          40.801527262,
          40.801527381,
          40.801528096,
          40.801529169,
          40.801530361,
          40.801531315,
          40.80153203,
          40.801532149,
          40.801533341,
          40.801535606,
          40.801536679,
          40.801537633,
          40.801537871,
          40.801538348,
          40.801539898,
          40.801540732,
          40.801540852,
          40.801541328,
          40.801541328,
          40.801541567,
          40.801544905,
          40.801546335,
          40.801546812,
          40.801548123,
          40.801549077,
          40.801552057,
          40.801552415,
          40.801553249,
          40.801554441,
          40.801554561,
          40.801554799,
          40.801555872,
          40.80155611,
          40.801556468,
          40.801556945,
          40.801560879,
          40.801563025,
          40.801563025,
          40.801566243,
          40.8015697,
          40.801570415,
          40.80157268,
          40.801573753,
          40.801577806,
          40.801578283,
          40.801578879,
          40.801582813,
          40.801584244,
          40.801584601,
          40.801585555,
          40.801586509,
          40.801587462,
          40.801589489,
          40.801589608,
          40.801589966,
          40.801593065,
          40.801593184,
          40.801593542,
          40.801595926,
          40.80159688,
          40.801597476,
          40.801598549,
          40.801598787,
          40.801599741,
          40.801599741,
          40.801606178,
          40.801607728,
          40.801610351,
          40.801610827,
          40.801613331,
          40.80161345,
          40.801616311,
          40.801620722,
          40.801621199,
          40.801621556,
          40.80162406,
          40.801624417,
          40.801624656,
          40.801626086,
          40.801628828,
          40.801631689,
          40.801632762,
          40.801635861,
          40.801640391,
          40.801640868,
          40.801642776,
          40.801644087,
          40.801645994,
          40.80165422,
          40.801655769,
          40.801656127,
          40.8016572,
          40.801657438,
          40.801657438,
          40.801658273,
          40.801659703,
          40.801662087,
          40.801662326,
          40.801662803,
          40.801663637,
          40.80166471,
          40.801665664,
          40.801668048,
          40.801669359,
          40.801669717,
          40.801674128,
          40.801677108,
          40.801678419,
          40.801681042,
          40.80168128,
          40.801683426,
          40.801683903,
          40.801686168,
          40.801687002,
          40.801689744,
          40.801689863,
          40.801689982,
          40.801690221,
          40.801691532,
          40.801691771,
          40.801692247,
          40.801694,
          40.801695466,
          40.801700473,
          40.801701427,
          40.801703691,
          40.801703691,
          40.801703811,
          40.80170548,
          40.801705599,
          40.801705837,
          40.801706553,
          40.801706672,
          40.801708579,
          40.801708579,
          40.801709056,
          40.801709771,
          40.801710963,
          40.801712155,
          40.801715255,
          40.801715493,
          40.80171597,
          40.801716328,
          40.801716566,
          40.801717997,
          40.801721454,
          40.801722765,
          40.801723123,
          40.801726341,
          40.801727891,
          40.801728725,
          40.80172956,
          40.801730752,
          40.80173111,
          40.801731944,
          40.801734686,
          40.801737189,
          40.801738739,
          40.801745653,
          40.801745772,
          40.801747799,
          40.801748991,
          40.801757216,
          40.801761985,
          40.801767707,
          40.801772237,
          40.801798105,
          40.801800966,
          40.801823497,
          40.80185008,
          40.802329421,
          40.80234766,
          40.802363276,
          40.802376628,
          40.802382231,
          40.802391648,
          40.802405834,
          40.802407146,
          40.802412987,
          40.802417994,
          40.802421927,
          40.802428722,
          40.802429438,
          40.802429795,
          40.802432179,
          40.802438021,
          40.802441716,
          40.802446723,
          40.80244875,
          40.802458525,
          40.802459955,
          40.802463531,
          40.802469611,
          40.802471042,
          40.802473664,
          40.802477121,
          40.802483439,
          40.802485824,
          40.802485824,
          40.802488446,
          40.802493334,
          40.802495241,
          40.80250442,
          40.802506328,
          40.802509308,
          40.802509427,
          40.802510262,
          40.802510858,
          40.802511692,
          40.802513957,
          40.802519083,
          40.802520633,
          40.802520871,
          40.802524805,
          40.802525282,
          40.802530289,
          40.8025316,
          40.802534699,
          40.802535,
          40.802535534,
          40.802536011,
          40.802536011,
          40.802540302,
          40.802541614,
          40.802542329,
          40.802542686,
          40.802544475,
          40.802547097,
          40.802548289,
          40.802550316,
          40.802551031,
          40.802556157,
          40.802557588,
          40.802560449,
          40.802560449,
          40.802569389,
          40.802574277,
          40.802574754,
          40.802580833,
          40.802584648,
          40.802584767,
          40.802585483,
          40.802585483,
          40.802596092,
          40.802629709,
          40.748855948,
          40.802402735,
          40.802481651,
          40.802490711,
          40.80249393,
          40.802496076,
          40.802500248,
          40.802501678,
          40.802504063,
          40.802508116,
          40.802508354,
          40.80251205,
          40.802513599,
          40.802515626,
          40.802517414,
          40.802518129,
          40.802520037,
          40.802520394,
          40.802522898,
          40.802527547,
          40.802527547,
          40.802528977,
          40.802531958,
          40.802532554,
          40.802535772,
          40.802536368,
          40.802536964,
          40.802539706,
          40.802541494,
          40.802541733,
          40.802543879,
          40.802545667,
          40.802547574,
          40.802549124,
          40.802550554,
          40.802552462,
          40.802554846,
          40.802555323,
          40.80255723,
          40.802558184,
          40.802559018,
          40.802560568,
          40.80256319,
          40.802565694,
          40.802566051,
          40.80256784,
          40.802568436,
          40.802571654,
          40.802572727,
          40.802573562,
          40.802575827,
          40.802578211,
          40.80257833,
          40.802579761,
          40.802587032,
          40.802593708,
          40.802598953,
          40.802600503,
          40.80261004,
          40.802610397,
          40.802616119,
          40.802617311,
          40.802617908,
          40.80262661,
          40.802627921,
          40.802631855,
          40.802632093,
          40.802632213,
          40.802632809,
          40.80263567,
          40.802637577,
          40.802641273,
          40.802641392,
          40.802642703,
          40.802648425,
          40.802649379,
          40.802652001,
          40.802652836,
          40.802661061,
          40.80266428,
          40.802665234,
          40.802665472,
          40.802666306,
          40.802666426,
          40.802668929,
          40.802669168,
          40.802669287,
          40.80267036,
          40.802671552,
          40.80267179,
          40.802673221,
          40.802673817,
          40.802674413,
          40.802678585,
          40.802678943,
          40.802679062,
          40.80267942,
          40.802679539,
          40.802679777,
          40.80268085,
          40.802680969,
          40.802681446,
          40.802681804,
          40.802681923,
          40.802682281,
          40.802682519,
          40.802682757,
          40.802682877,
          40.80268383,
          40.802684665,
          40.802686214,
          40.80268681,
          40.80268693,
          40.802688122,
          40.80268836,
          40.802689791,
          40.802690148,
          40.802690268,
          40.802692,
          40.802693844,
          40.802694321,
          40.802696586,
          40.802699327,
          40.802699447,
          40.802699924,
          40.802701235,
          40.802701592,
          40.802701712,
          40.802701831,
          40.802702427,
          40.802702546,
          40.802703261,
          40.802703261,
          40.8027035,
          40.802704215,
          40.802705169,
          40.802709222,
          40.802709818,
          40.802711487,
          40.802712083,
          40.802716017,
          40.802716374,
          40.802716374,
          40.802717447,
          40.802718043,
          40.80271852,
          40.802721262,
          40.80272162,
          40.802724004,
          40.802726746,
          40.802727222,
          40.802732706,
          40.802732825,
          40.802736521,
          40.802739382,
          40.802761436,
          40.802788973,
          40.802565217,
          40.803589344,
          40.803738713,
          40.803748846,
          40.803826094,
          40.80382812,
          40.803844213,
          40.803851008,
          40.803854346,
          40.80385685,
          40.803859591,
          40.803862095,
          40.803865075,
          40.8038654,
          40.80386579,
          40.803868294,
          40.803871393,
          40.803871632,
          40.803876162,
          40.803879976,
          40.803882241,
          40.803884625,
          40.803886175,
          40.803890228,
          40.803894043,
          40.803894401,
          40.803896785,
          40.803896785,
          40.803898335,
          40.803901315,
          40.803905725,
          40.803905845,
          40.80390799,
          40.803909659,
          40.803909659,
          40.803914785,
          40.803925276,
          40.803926229,
          40.803933144,
          40.803933144,
          40.80393362,
          40.803934813,
          40.803937197,
          40.803937316,
          40.803939104,
          40.803940773,
          40.803941488,
          40.803943038,
          40.803945899,
          40.803951502,
          40.803956389,
          40.803957105,
          40.803961277,
          40.80396378,
          40.803967953,
          40.803972721,
          40.803975105,
          40.803975701,
          40.803976536,
          40.803980827,
          40.803983331,
          40.80398643,
          40.803991556,
          40.803999543,
          40.804004192,
          40.804005146,
          40.804008961,
          40.804009914,
          40.804011226,
          40.804012656,
          40.80402863,
          40.804030776,
          40.804033756,
          40.804035783,
          40.80403614,
          40.804036736,
          40.804043174,
          40.804049969,
          40.804054618,
          40.804055095,
          40.804059386,
          40.804060578,
          40.804060578,
          40.804063797,
          40.804065704,
          40.804066539,
          40.804071665,
          40.804091454,
          40.804092765,
          40.804115176
         ],
         "lon": [
          -73.961806059,
          -73.96188408136368,
          -73.961884,
          -73.961771011,
          -73.961867809,
          -73.961786628,
          -73.961774588,
          -73.961873651,
          -73.961864591,
          -73.961899519,
          -73.961905956,
          -73.961951733,
          -73.961898446,
          -73.96189487,
          -73.961875319,
          -73.961801767,
          -73.961896181,
          -73.961862803,
          -73.961872578,
          -73.961882591,
          -73.961860657,
          -73.96189487,
          -73.961850882,
          -73.961894274,
          -73.961815596,
          -73.961814761,
          -73.961883783,
          -73.961868644,
          -73.961938143,
          -73.961839437,
          -73.961824298,
          -73.961893797,
          -73.96194005,
          -73.96194911,
          -73.961850166,
          -73.961881995,
          -73.962004185,
          -73.96193099,
          -73.961919665,
          -73.96190691,
          -73.961943746,
          -73.961967468,
          -73.961904526,
          -73.961844087,
          -73.961740136,
          -73.961983204,
          -73.961954236,
          -73.961905837,
          -73.961955428,
          -73.961863995,
          -73.961888671,
          -73.961747408,
          -73.961847544,
          -73.961853504,
          -73.961874008,
          -73.96188736,
          -73.961965561,
          -73.961813688,
          -73.962299943,
          -73.961852312,
          -73.961761594,
          -73.961851239,
          -73.96185863,
          -73.961836815,
          -73.961957335,
          -73.961782098,
          -73.961969376,
          -73.961858749,
          -73.962006211,
          -73.961784244,
          -73.961835623,
          -73.961771369,
          -73.961844444,
          -73.961923242,
          -73.961779475,
          -73.961737156,
          -73.961791515,
          -73.961783528,
          -73.961795449,
          -73.961723804,
          -73.961729884,
          -73.96169281,
          -73.961768508,
          -73.961756229,
          -73.961578369,
          -73.961722732,
          -73.961816669,
          -73.96180284,
          -73.961760163,
          -73.961775661,
          -73.96171689,
          -73.961783648,
          -73.961754441,
          -73.961727023,
          -73.961729288,
          -73.961772561,
          -73.961754918,
          -73.961799383,
          -73.96169734,
          -73.961673021,
          -73.961739898,
          -73.961683273,
          -73.961731315,
          -73.961732149,
          -73.961695194,
          -73.961769462,
          -73.961701035,
          -73.961778998,
          -73.961708784,
          -73.961701155,
          -73.961783171,
          -73.96167171,
          -73.96178484,
          -73.961732388,
          -73.961802363,
          -73.961696148,
          -73.961699843,
          -73.96173811,
          -73.961786866,
          -73.96169281,
          -73.96171701,
          -73.961678743,
          -73.961706877,
          -73.961726904,
          -73.961688757,
          -73.961718559,
          -73.961743236,
          -73.961699843,
          -73.961744189,
          -73.96179533,
          -73.961712599,
          -73.961741567,
          -73.961771846,
          -73.961671829,
          -73.961783051,
          -73.96176219,
          -73.961823344,
          -73.961765051,
          -73.961744428,
          -73.964251637,
          -73.964315534,
          -73.964447021,
          -73.964380264,
          -73.9643412291,
          -73.964326501,
          -73.964330316,
          -73.964383721,
          -73.964323044,
          -73.964363456,
          -73.964350104,
          -73.964321852,
          -73.964312315,
          -73.964344501,
          -73.964240074,
          -73.964355946,
          -73.964194536,
          -73.964312673,
          -73.964342356,
          -73.964260578,
          -73.964238167,
          -73.964149594,
          -73.964115739,
          -73.964282274,
          -73.964303493,
          -73.9642272,
          -73.964218378,
          -73.964176059,
          -73.964343548,
          -73.964180231,
          -73.964211583,
          -73.9642452,
          -73.964262843,
          -73.964209318,
          -73.964199424,
          -73.964225769,
          -73.964192152,
          -73.964189887,
          -73.96420598,
          -73.964292526,
          -73.964166045,
          -73.96424901500001,
          -73.964205861,
          -73.964128375,
          -73.964221835,
          -73.964230061,
          -73.9643296,
          -73.964196682,
          -73.96421206,
          -73.96425116099999,
          -73.964220881,
          -73.964184523,
          -73.964214444,
          -73.964335918,
          -73.964175224,
          -73.964330435,
          -73.963722587,
          -73.949371099,
          -73.948702812,
          -73.95248282,
          -73.952356935,
          -73.952391267,
          -73.952430367,
          -73.952401757,
          -73.952390075,
          -73.952391386,
          -73.952332854,
          -73.952430367,
          -73.952385306,
          -73.952393413,
          -73.952403665,
          -73.95236969,
          -73.952319741,
          -73.952359915,
          -73.952353239,
          -73.952376008,
          -73.952348351,
          -73.952393293,
          -73.952378511,
          -73.952348471,
          -73.952398539,
          -73.95237267,
          -73.952391982,
          -73.952395439,
          -73.952399969,
          -73.952377915,
          -73.952370644,
          -73.952378273,
          -73.952359796,
          -73.952350497,
          -73.952413082,
          -73.952369332,
          -73.952485442,
          -73.952400446,
          -73.952351093,
          -73.952330589,
          -73.952362061,
          -73.952346802,
          -73.952379346,
          -73.952390909,
          -73.952368855,
          -73.952348828,
          -73.952429056,
          -73.952384591,
          -73.952319741,
          -73.952345848,
          -73.952346563,
          -73.952340245,
          -73.9523983,
          -73.95240128,
          -73.952302575,
          -73.952387691,
          -73.952398419,
          -73.95238328,
          -73.952407241,
          -73.952379704,
          -73.952352524,
          -73.95233798,
          -73.952382326,
          -73.952425957,
          -73.952353716,
          -73.952376962,
          -73.952404857,
          -73.952390909,
          -73.952289104,
          -73.952294827,
          -73.952313423,
          -73.952316165,
          -73.95229435,
          -73.95229888,
          -73.952324271,
          -73.952287674,
          -73.95233202,
          -73.952365875,
          -73.952341795,
          -73.952322841,
          -73.952301264,
          -73.952317953,
          -73.952312469,
          -73.952304363,
          -73.952306747,
          -73.9523,
          -73.952308893,
          -73.9523,
          -73.952335238,
          -73.952293277,
          -73.952353597,
          -73.952262163,
          -73.952340484,
          -73.952298522,
          -73.952344179,
          -73.952291131,
          -73.952308655,
          -73.952326417,
          -73.952460408,
          -73.952334642,
          -73.952341914,
          -73.952304244,
          -73.952357769,
          -73.952379823,
          -73.95233047,
          -73.952326894,
          -73.95245266,
          -73.952372074,
          -73.952334046,
          -73.9524014,
          -73.952374935,
          -73.952363133,
          -73.952341795,
          -73.952332497,
          -73.952370405,
          -73.952363372,
          -73.952358603,
          -73.9523561,
          -73.952428102,
          -73.952345848,
          -73.95238471,
          -73.952401161,
          -73.95232594,
          -73.952451468,
          -73.952401638,
          -73.952378392,
          -73.952374101,
          -73.95225811,
          -73.9523983,
          -73.952372193,
          -73.952412486,
          -73.952312231,
          -73.952453613,
          -73.952432275,
          -73.952431083,
          -73.952370286,
          -73.952447414,
          -73.952421784,
          -73.952398181,
          -73.952354431,
          -73.952411771,
          -73.952402592,
          -73.952395797,
          -73.952388644,
          -73.952366471,
          -73.952313423,
          -73.952433467,
          -73.952384114,
          -73.952430487,
          -73.95245564,
          -73.952507138,
          -73.952463865,
          -73.952459693,
          -73.952471614,
          -73.9524616,
          -73.952478766,
          -73.952445149,
          -73.952453852,
          -73.983229995,
          -73.960103631,
          -73.960361838,
          -73.960507274,
          -73.960907221,
          -73.960506678,
          -73.960433364,
          -73.960532308,
          -73.960321069,
          -73.960540414,
          -73.960338473,
          -73.960494995,
          -73.960091591,
          -73.960389256,
          -73.960318565,
          -73.960455179,
          -73.960370421,
          -73.960312843,
          -73.960395694,
          -73.960497975,
          -73.960416794,
          -73.96028471,
          -73.960358381,
          -73.960307717,
          -73.960505486,
          -73.960360527,
          -73.960480094,
          -73.960327268,
          -73.96055305,
          -73.960355163,
          -73.960353851,
          -73.960335851,
          -73.960327148,
          -73.960400581,
          -73.960376501,
          -73.960339546,
          -73.960341334,
          -73.960482359,
          -73.960444689,
          -73.960278988,
          -73.960361958,
          -73.960447431,
          -73.960391402,
          -73.960329652,
          -73.960405827,
          -73.960341096,
          -73.960411787,
          -73.960486054,
          -73.9603616,
          -73.960351586,
          -73.960387588,
          -73.960454702,
          -73.960416794,
          -73.960345387,
          -73.960377455,
          -73.960358024,
          -73.960421085,
          -73.960418582,
          -73.960498929,
          -73.960354924,
          -73.960361958,
          -73.960298181,
          -73.960835338,
          -73.960795879,
          -73.960472941,
          -73.96037817,
          -73.960464478,
          -73.960328937,
          -73.960396767,
          -73.960468292,
          -73.960279703,
          -73.960207939,
          -73.96039331,
          -73.960292339,
          -73.960512996,
          -73.960455537,
          -73.960382462,
          -73.960309148,
          -73.960437894,
          -73.960743904,
          -73.9605909006,
          -73.960591,
          -73.960837603,
          -73.960276365,
          -73.960425615,
          -73.960353732,
          -73.960390806,
          -73.960337996,
          -73.960451722,
          -73.960527778,
          -73.960374713,
          -73.960850239,
          -73.960859895,
          -73.960455179,
          -73.96075058,
          -73.960476279,
          -73.960393429,
          -73.960713744,
          -73.960714817,
          -73.960430622,
          -73.960848808,
          -73.960818529,
          -73.960795283,
          -73.960834146,
          -73.960893273,
          -73.960772872,
          -73.960838795,
          -73.96047616,
          -73.960754037,
          -73.960698843,
          -73.960802436,
          -73.960812926,
          -73.960761786,
          -73.960833073,
          -73.960793018,
          -73.96080029,
          -73.960791111,
          -73.960761666,
          -73.960785389,
          -73.960448623,
          -73.960774422,
          -73.960720897,
          -73.960098982,
          -73.960762143,
          -73.960790634,
          -73.960323811,
          -73.960774899,
          -73.960454226,
          -73.960628152,
          -73.960744739,
          -73.960687637,
          -73.960700631,
          -73.960438967,
          -73.960240006,
          -73.960799813,
          -73.960669279,
          -73.96038913699999,
          -73.960828304,
          -73.960167885,
          -73.960658073,
          -73.960661173,
          -73.955097556,
          -73.956078529,
          -73.955649257,
          -73.955616236,
          -73.95560801,
          -73.955562711,
          -73.955612183,
          -73.955613,
          -73.955619693,
          -73.955580235,
          -73.955614328,
          -73.95563519,
          -73.955625415,
          -73.955636263,
          -73.955708981,
          -73.955616713,
          -73.955668569,
          -73.955677629,
          -73.955706954,
          -73.955599785,
          -73.955627561,
          -73.955600142,
          -73.955626249,
          -73.95565784,
          -73.955627799,
          -73.955604315,
          -73.955690384,
          -73.955711842,
          -73.955645561,
          -73.95560205,
          -73.95562768,
          -73.955617547,
          -73.955719471,
          -73.955611944,
          -73.955627322,
          -73.9556427,
          -73.955860615,
          -73.955679774,
          -73.955642819,
          -73.955586076,
          -73.955629587,
          -73.955671906,
          -73.955666542,
          -73.955674648,
          -73.955643415,
          -73.955648661,
          -73.955627918,
          -73.95562648800001,
          -73.955651522,
          -73.95568943,
          -73.955668807,
          -73.955707908,
          -73.955606103,
          -73.955619097,
          -73.955649495,
          -73.955656052,
          -73.95568049,
          -73.955649257,
          -73.9556849,
          -73.955680251,
          -73.955699325,
          -73.955677867,
          -73.955626369,
          -73.955634594,
          -73.955683112,
          -73.95560944100001,
          -73.955708027,
          -73.955690742,
          -73.955714941,
          -73.955631018,
          -73.955665708,
          -73.955657363,
          -73.955614209,
          -73.95569694,
          -73.955720544,
          -73.955698729,
          -73.955785036,
          -73.955790639,
          -73.955628991,
          -73.955661178,
          -73.955699444,
          -73.955683231,
          -73.955711126,
          -73.955717802,
          -73.95578146,
          -73.95577383,
          -73.955718994,
          -73.95569849,
          -73.955676198,
          -73.955652595,
          -73.955658436,
          -73.955841303,
          -73.955816984,
          -73.955763817,
          -73.955744147,
          -73.955719709,
          -73.955700517,
          -73.955773473,
          -73.955742121,
          -73.955831885,
          -73.955699801,
          -73.955721378,
          -73.95582509,
          -73.955815434,
          -73.955705523,
          -73.955651045,
          -73.955754519,
          -73.955698729,
          -73.955844522,
          -73.955797553,
          -73.955829144,
          -73.95593369,
          -73.955804586,
          -73.955816865,
          -73.955829501,
          -73.955771089,
          -73.955741763,
          -73.955736279,
          -73.955763698,
          -73.955805302,
          -73.955783963,
          -73.955827713,
          -73.955760002,
          -73.95579946,
          -73.955685258,
          -73.955808401,
          -73.955809951,
          -73.955821157,
          -73.955980301,
          -73.955790758,
          -73.955781102,
          -73.955967665,
          -73.955798507,
          -73.955785036,
          -73.955792069,
          -73.955888867,
          -73.955805779,
          -73.955787659,
          -73.955645919,
          -73.955926061,
          -73.955972195,
          -73.955793381,
          -73.955926895,
          -73.955867529,
          -73.955923319,
          -73.955902815,
          -73.955910444,
          -73.955777645,
          -73.955829263,
          -73.955997825,
          -73.955862761,
          -73.95590663,
          -73.955891848,
          -73.955809236,
          -73.955936074,
          -73.955964684,
          -73.955803275,
          -73.95595479,
          -73.955930471,
          -73.955994964,
          -73.955960393,
          -73.955921054,
          -73.955823064,
          -73.955986857,
          -73.955937028,
          -73.955959201,
          -73.955881834,
          -73.956017494,
          -73.95598042,
          -73.955955029,
          -73.955920696,
          -73.956006408,
          -73.95594883,
          -73.955926061,
          -73.955908418,
          -73.955991864,
          -73.955980182,
          -73.956007838,
          -73.962337017,
          -73.9615165,
          -73.962183833,
          -73.962339997,
          -73.961961985,
          -73.962191224,
          -73.962108135,
          -73.962062597,
          -73.962298512,
          -73.961902618,
          -73.962074041,
          -73.962162733,
          -73.962089658,
          -73.96177423,
          -73.96226418,
          -73.962058783,
          -73.962016225,
          -73.962099791,
          -73.962285519,
          -73.962043285,
          -73.962039232,
          -73.96219027,
          -73.962105989,
          -73.962340474,
          -73.962068796,
          -73.962184548,
          -73.962284565,
          -73.9621128676,
          -73.96214819,
          -73.96198976,
          -73.962126374,
          -73.962232471,
          -73.962169647,
          -73.962180853,
          -73.962122083,
          -73.962163091,
          -73.96216929,
          -73.962170124,
          -73.962172985,
          -73.962116718,
          -73.962057471,
          -73.962261319,
          -73.962165594,
          -73.962180376,
          -73.962052107,
          -73.962163806,
          -73.962114453,
          -73.961974263,
          -73.962215543,
          -73.962149501,
          -73.962148547,
          -73.962046146,
          -73.96211803,
          -73.962138772,
          -73.962073684,
          -73.962099671,
          -73.962204933,
          -73.962158799,
          -73.962079644,
          -73.962174177,
          -73.962131381,
          -73.962067604,
          -73.962214828,
          -73.962202668,
          -73.962174177,
          -73.962077498,
          -73.961995006,
          -73.962265968,
          -73.96221745,
          -73.962184668,
          -73.96203661,
          -73.962227464,
          -73.962195039,
          -73.962284088,
          -73.962184668,
          -73.962217569,
          -73.962140203,
          -73.962065578,
          -73.962092757,
          -73.962295175,
          -73.962206483,
          -73.962124586,
          -73.96211791,
          -73.962180257,
          -73.962106228,
          -73.962135673,
          -73.96216619,
          -73.962123275,
          -73.962030053,
          -73.961991549,
          -73.962216616,
          -73.962082982,
          -73.962117195,
          -73.962162971,
          -73.962192178,
          -73.962129831,
          -73.962073803,
          -73.962097406,
          -73.962271452,
          -73.962159395,
          -73.96212256,
          -73.962206125,
          -73.962135673,
          -73.962237,
          -73.962217212,
          -73.96200788,
          -73.962075949,
          -73.96212697,
          -73.962227345,
          -73.962078929,
          -73.962283134,
          -73.962113261,
          -73.961987019,
          -73.962084889,
          -73.962339282,
          -73.961992383,
          -73.962151885,
          -73.96207952500001,
          -73.962071419,
          -73.962122679,
          -73.962199092,
          -73.96228826,
          -73.962185621,
          -73.962051153,
          -73.962044477,
          -73.962075233,
          -73.962109327,
          -73.962265372,
          -73.962166905,
          -73.962343574,
          -73.962113261,
          -73.962068796,
          -73.962190032,
          -73.961986542,
          -73.96212554,
          -73.979024053,
          -73.97685194,
          -73.957378507,
          -73.957087278,
          -73.957235456,
          -73.957330704,
          -73.957344532,
          -73.957226753,
          -73.957303286,
          -73.957297325,
          -73.957072616,
          -73.95726192,
          -73.957216859,
          -73.957275033,
          -73.957347393,
          -73.957243681,
          -73.957283497,
          -73.957243323,
          -73.957316399,
          -73.957261443,
          -73.957207322,
          -73.957187295,
          -73.957349181,
          -73.957302213,
          -73.957243919,
          -73.957236171,
          -73.957236409,
          -73.957270384,
          -73.957133055,
          -73.957287669,
          -73.957371712,
          -73.957286835,
          -73.957288623,
          -73.957008839,
          -73.957272768,
          -73.957228541,
          -73.957275391,
          -73.957238913,
          -73.957300782,
          -73.957324147,
          -73.957440734,
          -73.957291603,
          -73.957330346,
          -73.957264543,
          -73.957300782,
          -73.95739913,
          -73.957339168,
          -73.95731163,
          -73.957284093,
          -73.957052946,
          -73.957263231,
          -73.957225919,
          -73.957347631,
          -73.957238436,
          -73.957315683,
          -73.957303882,
          -73.957286596,
          -73.957257748,
          -73.957215667,
          -73.957471967,
          -73.957208633,
          -73.957247853,
          -73.95720005,
          -73.957305908,
          -73.957218885,
          -73.957268715,
          -73.957337737,
          -73.957294464,
          -73.957303166,
          -73.957256913,
          -73.957297683,
          -73.957238793,
          -73.957274318,
          -73.957332253,
          -73.957300305,
          -73.95726347,
          -73.957263112,
          -73.957349181,
          -73.957314968,
          -73.957312584,
          -73.957267404,
          -73.957212806,
          -73.957142472,
          -73.957292795,
          -73.957155347,
          -73.957179904,
          -73.957326531,
          -73.957345247,
          -73.957206607,
          -73.957256436,
          -73.957234979,
          -73.957230091,
          -73.957320571,
          -73.957289815,
          -73.957337618,
          -73.95743084,
          -73.957258463,
          -73.957214355,
          -73.957263947,
          -73.957302809,
          -73.95716393,
          -73.957355618,
          -73.957287192,
          -73.957253933,
          -73.957368851,
          -73.957157016,
          -73.957230806,
          -73.957287788,
          -73.957378626,
          -73.957088232,
          -73.957310438,
          -73.957173586,
          -73.957483053,
          -73.957340002,
          -73.957428932,
          -73.957289934,
          -73.95724654200001,
          -73.957289577,
          -73.957186103,
          -73.957259178,
          -73.957205057,
          -73.957157731,
          -73.957353473,
          -73.957383633,
          -73.957140684,
          -73.957271338,
          -73.957235098,
          -73.95716846,
          -73.957206249,
          -73.957292676,
          -73.957284212,
          -73.957286477,
          -73.957208753,
          -73.95725131,
          -73.957229018,
          -73.957144141,
          -73.957179904,
          -73.957198977,
          -73.957161665,
          -73.957193375,
          -73.957187772,
          -73.957171679,
          -73.957240701,
          -73.957365751,
          -73.957176924,
          -73.957213402,
          -73.957140803,
          -73.957261324,
          -73.957172513,
          -73.957136869,
          -73.957167149,
          -73.957192183,
          -73.957285047,
          -73.957290173,
          -73.957133293,
          -73.957132816,
          -73.957175255,
          -73.957185268,
          -73.957180381,
          -73.957229137,
          -73.95716846,
          -73.957408667,
          -73.957229257,
          -73.95719862,
          -73.95718646,
          -73.957125664,
          -73.957152128,
          -73.957175851,
          -73.957167745,
          -73.9571594,
          -73.957171202,
          -73.95719325499999,
          -73.957170248,
          -73.957216501,
          -73.957317472,
          -73.957359076,
          -73.957151532,
          -73.957145,
          -73.957196116,
          -73.957192659,
          -73.957216501,
          -73.957179904,
          -73.957171559,
          -73.957194328,
          -73.957134604,
          -73.957183361,
          -73.957161307,
          -73.957121253,
          -73.957141399,
          -73.957262039,
          -73.957074523,
          -73.957161784,
          -73.957190514,
          -73.957156897,
          -73.957188129,
          -73.957118869,
          -73.957187533,
          -73.957284808,
          -73.95718205,
          -73.957154989,
          -73.957222342,
          -73.957195997,
          -73.957186222,
          -73.957181811,
          -73.957172275,
          -73.957098484,
          -73.957159281,
          -73.957171679,
          -73.957071185,
          -73.957158685,
          -73.957158923,
          -73.957168937,
          -73.957152486,
          -73.957168102,
          -73.957190633,
          -73.957170129,
          -73.957074642,
          -73.957182407,
          -73.957156062,
          -73.957259893,
          -73.95713079,
          -73.957146645,
          -73.957458615,
          -73.957201838,
          -73.957175136,
          -73.957502365,
          -73.953188062,
          -73.953266263,
          -73.95329988,
          -73.953317761,
          -73.953362942,
          -73.953343391,
          -73.953357339,
          -73.95335269,
          -73.953322172,
          -73.9533571,
          -73.953296304,
          -73.953373075,
          -73.953332901,
          -73.953333855,
          -73.953312755,
          -73.953314543,
          -73.953324437,
          -73.953356862,
          -73.953308225,
          -73.953389287,
          -73.953309655,
          -73.953382611,
          -73.953287721,
          -73.95339334,
          -73.953252316,
          -73.953243017,
          -73.953335524,
          -73.953257442,
          -73.953250647,
          -73.953184247,
          -73.953194976,
          -73.953229189,
          -73.953279376,
          -73.953226924,
          -73.953322053,
          -73.953248978,
          -73.953230739,
          -73.953255057,
          -73.95319891,
          -73.95318377,
          -73.953191757,
          -73.953285933,
          -73.95324719,
          -73.953250766,
          -73.953243852,
          -73.953341007,
          -73.953210711,
          -73.953282237,
          -73.9532423,
          -73.953239799,
          -73.953273773,
          -73.953175306,
          -73.953228354,
          -73.953279614,
          -73.953249216,
          -73.953251123,
          -73.953320742,
          -73.953258276,
          -73.953244805,
          -73.953258872,
          -73.95321846,
          -73.95325315,
          -73.953267455,
          -73.953232288,
          -73.953198314,
          -73.953210115,
          -73.953264952,
          -73.95344317,
          -73.953363895,
          -73.953331709,
          -73.953339696,
          -73.95330286,
          -73.953267336,
          -73.95326972,
          -73.953112364,
          -73.97685194,
          -73.962790966,
          -73.962578058,
          -73.962775707,
          -73.962602258,
          -73.962586999,
          -73.962594509,
          -73.962546229,
          -73.962716937,
          -73.962679863,
          -73.962608099,
          -73.962678552,
          -73.962589741,
          -73.962563157,
          -73.962711573,
          -73.962602139,
          -73.96261847,
          -73.962624311,
          -73.962593079,
          -73.962745786,
          -73.962633371,
          -73.962559819,
          -73.962872148,
          -73.962617397,
          -73.962634802,
          -73.962569118,
          -73.962646723,
          -73.962668777,
          -73.962814331,
          -73.962606668,
          -73.9625808,
          -73.962608457,
          -73.962649584,
          -73.962599874,
          -73.962532997,
          -73.962563753,
          -73.96265316,
          -73.962743759,
          -73.962610602,
          -73.96272707,
          -73.962610245,
          -73.962632656,
          -73.962683201,
          -73.962595582,
          -73.962567687,
          -73.962947369,
          -73.962630033,
          -73.962589979,
          -73.962928891,
          -73.962714434,
          -73.962607503,
          -73.962648988,
          -73.962622643,
          -73.962683439,
          -73.962651491,
          -73.962626457,
          -73.962658286,
          -73.962703705,
          -73.962747931,
          -73.962724805,
          -73.962595701,
          -73.96278429,
          -73.962781191,
          -73.962609172,
          -73.962877512,
          -73.962962627,
          -73.963015676,
          -73.962929726,
          -73.962898016,
          -73.962829113,
          -73.962842226,
          -73.962863326,
          -73.962679744,
          -73.962812066,
          -73.96294415,
          -73.962838769,
          -73.962723851,
          -73.962948799,
          -73.962882042,
          -73.962894082,
          -73.962855697,
          -73.962959409,
          -73.962954402,
          -73.96297121,
          -73.962925553,
          -73.962921619,
          -73.963009715,
          -73.962999225,
          -73.962945938,
          -73.96295619,
          -73.962768435,
          -73.962950349,
          -73.962930083,
          -73.962956786,
          -73.962953329,
          -73.962937474,
          -73.962865233,
          -73.962962389,
          -73.962843299,
          -73.962961555,
          -73.962868929,
          -73.96298182,
          -73.962919593,
          -73.962943435,
          -73.962906837,
          -73.962913513,
          -73.962911367,
          -73.9628793,
          -73.962956548,
          -73.96298921100001,
          -73.962887764,
          -73.962828875,
          -73.962952375,
          -73.963038325,
          -73.963008165,
          -73.96297121,
          -73.962905765,
          -73.962848186,
          -73.96295,
          -73.96298635,
          -73.962932944,
          -73.962966442,
          -73.962889075,
          -73.96295011,
          -73.96291995,
          -73.962926865,
          -73.963006377,
          -73.962944269,
          -73.962926865,
          -73.96300602,
          -73.962967157,
          -73.962969065,
          -73.962950706,
          -73.963103294,
          -73.963267326,
          -73.962976217,
          -73.962948203,
          -73.962974787,
          -73.962944508,
          -73.962958574,
          -73.962922692,
          -73.962955236,
          -73.962952018,
          -73.963038683,
          -73.963049531,
          -73.962938905,
          -73.962940931,
          -73.962970018,
          -73.962967038,
          -73.963005304,
          -73.962956071,
          -73.962977052,
          -73.963001251,
          -73.962995529,
          -73.962930679,
          -73.963015914,
          -73.963013887,
          -73.957759261,
          -73.955572724,
          -73.955650926,
          -73.955287576,
          -73.955856681,
          -73.955739498,
          -73.955874801,
          -73.955922008,
          -73.955840945,
          -73.955690384,
          -73.955882192,
          -73.95585227,
          -73.955865622,
          -73.9559308,
          -73.955901265,
          -73.95584023,
          -73.955858111,
          -73.955597997,
          -73.955892563,
          -73.955799341,
          -73.955902696,
          -73.955832601,
          -73.955856323,
          -73.955829978,
          -73.955827355,
          -73.955861926,
          -73.955903172,
          -73.955852032,
          -73.955836773,
          -73.955908775,
          -73.955959797,
          -73.955763578,
          -73.95587194,
          -73.955914021,
          -73.955823183,
          -73.955821395,
          -73.955939531,
          -73.955908895,
          -73.955921292,
          -73.955847025,
          -73.955881596,
          -73.955777884,
          -73.955890775,
          -73.95595479,
          -73.955725551,
          -73.955928683,
          -73.955895662,
          -73.9558779,
          -73.955930233,
          -73.955912232,
          -73.955911636,
          -73.9558146,
          -73.955445409,
          -73.955950499,
          -73.955660343,
          -73.955878854,
          -73.955953956,
          -73.955862164,
          -73.95578146,
          -73.955785394,
          -73.955696702,
          -73.95576489,
          -73.955798149,
          -73.9558357,
          -73.955774665,
          -73.955820441,
          -73.955879688,
          -73.955864906,
          -73.955847502,
          -73.955766201,
          -73.955803514,
          -73.955705643,
          -73.955750823,
          -73.955732703,
          -73.955881357,
          -73.955826402,
          -73.955778122,
          -73.955764532,
          -73.955688,
          -73.955797434,
          -73.955747604,
          -73.955829382,
          -73.955792665,
          -73.955762982,
          -73.955801725,
          -73.955882192,
          -73.955809474,
          -73.955762148,
          -73.955812931,
          -73.956507564
         ],
         "name": "",
         "radius": 15,
         "subplot": "mapbox",
         "type": "densitymapbox",
         "z": [
          1,
          219,
          1,
          1,
          1,
          1,
          1,
          1,
          1,
          1,
          1,
          1,
          1,
          1,
          1,
          1,
          1,
          1,
          1,
          1,
          1,
          1,
          1,
          1,
          1,
          1,
          1,
          1,
          1,
          1,
          1,
          1,
          1,
          1,
          1,
          1,
          1,
          1,
          1,
          1,
          1,
          1,
          1,
          1,
          1,
          1,
          1,
          1,
          1,
          1,
          1,
          1,
          1,
          1,
          1,
          1,
          1,
          1,
          1,
          1,
          1,
          1,
          1,
          1,
          1,
          1,
          1,
          1,
          1,
          1,
          1,
          1,
          1,
          1,
          1,
          1,
          1,
          1,
          1,
          1,
          1,
          1,
          1,
          1,
          1,
          1,
          1,
          1,
          1,
          1,
          1,
          1,
          1,
          1,
          1,
          1,
          1,
          1,
          1,
          1,
          1,
          1,
          1,
          1,
          1,
          1,
          1,
          1,
          1,
          1,
          1,
          1,
          1,
          1,
          1,
          1,
          1,
          1,
          1,
          1,
          1,
          1,
          1,
          1,
          1,
          1,
          1,
          1,
          1,
          1,
          1,
          1,
          1,
          1,
          1,
          1,
          1,
          1,
          1,
          1,
          1,
          1,
          1,
          37,
          1,
          1,
          1,
          1,
          1,
          1,
          1,
          1,
          1,
          1,
          1,
          1,
          1,
          1,
          1,
          1,
          1,
          1,
          1,
          1,
          1,
          1,
          1,
          1,
          1,
          1,
          1,
          1,
          1,
          1,
          1,
          1,
          1,
          1,
          1,
          1,
          1,
          1,
          1,
          1,
          1,
          1,
          1,
          1,
          1,
          1,
          1,
          1,
          1,
          1,
          1,
          1,
          1,
          1,
          1,
          1,
          1,
          1,
          1,
          1,
          1,
          1,
          1,
          1,
          1,
          1,
          1,
          1,
          1,
          1,
          1,
          1,
          1,
          1,
          1,
          1,
          1,
          1,
          1,
          1,
          1,
          1,
          1,
          1,
          1,
          1,
          1,
          1,
          1,
          1,
          1,
          1,
          1,
          1,
          1,
          1,
          1,
          1,
          1,
          1,
          1,
          1,
          1,
          1,
          1,
          1,
          1,
          1,
          1,
          1,
          1,
          2,
          1,
          1,
          1,
          1,
          1,
          1,
          1,
          1,
          1,
          1,
          1,
          1,
          1,
          1,
          1,
          1,
          1,
          1,
          1,
          1,
          1,
          1,
          1,
          1,
          327,
          1,
          8,
          1,
          1,
          1,
          1,
          1,
          1,
          1,
          1,
          1,
          1,
          1,
          1,
          1,
          1,
          1,
          1,
          1,
          1,
          1,
          1,
          1,
          1,
          1,
          1,
          1,
          1,
          1,
          1,
          1,
          1,
          1,
          1,
          1,
          1,
          1,
          1,
          1,
          1,
          1,
          1,
          1,
          1,
          1,
          1,
          1,
          1,
          1,
          1,
          1,
          1,
          1,
          1,
          1,
          1,
          1,
          1,
          1,
          1,
          1,
          1,
          1,
          1,
          1,
          1,
          1,
          1,
          1,
          1,
          1,
          1,
          1,
          1,
          1,
          1,
          1,
          1,
          1,
          1,
          1,
          1,
          1,
          1,
          1,
          1,
          1,
          1,
          1,
          1,
          1,
          1,
          1,
          1,
          1,
          1,
          1,
          1,
          1,
          1,
          1,
          1,
          1,
          1,
          1,
          1,
          1,
          1,
          1,
          1,
          1,
          1,
          1,
          1,
          1,
          1,
          1,
          1,
          1,
          1,
          1,
          1,
          1,
          1,
          1,
          1,
          1,
          1,
          1,
          1,
          1,
          1,
          1,
          1,
          1,
          1,
          1,
          1,
          1,
          1,
          1,
          1,
          1,
          1,
          1,
          1,
          1,
          1,
          1,
          1,
          1,
          1,
          279,
          1,
          1,
          1,
          1,
          1,
          1,
          1,
          1,
          1,
          1,
          1,
          1,
          1,
          1,
          1,
          1,
          1,
          1,
          1,
          1,
          1,
          1,
          1,
          1,
          1,
          1,
          1,
          1,
          1,
          1,
          1,
          1,
          1,
          1,
          1,
          1,
          1,
          1,
          1,
          1,
          1,
          1,
          1,
          1,
          1,
          1,
          1,
          1,
          1,
          1,
          1,
          1,
          1,
          1,
          1,
          1,
          1,
          1,
          1,
          1,
          1,
          1,
          1,
          1,
          1,
          1,
          1,
          547,
          1,
          1,
          1,
          1,
          1,
          1,
          1,
          1,
          1,
          1,
          1,
          1,
          1,
          1,
          1,
          1,
          1,
          1,
          1,
          1,
          1,
          1,
          1,
          1,
          1,
          1,
          1,
          1,
          1,
          1,
          1,
          1,
          1,
          1,
          1,
          1,
          1,
          1,
          1,
          1,
          1,
          1,
          1,
          1,
          1,
          1,
          1,
          1,
          1,
          1,
          1,
          1,
          1,
          1,
          1,
          1,
          1,
          1,
          1,
          1,
          1,
          1,
          1,
          1,
          1,
          1,
          1,
          1,
          1,
          1,
          1,
          1,
          1,
          1,
          1,
          1,
          1,
          1,
          1,
          1,
          1,
          1,
          1,
          1,
          1,
          1,
          1,
          1,
          1,
          1,
          1,
          1,
          1,
          1,
          1,
          1,
          1,
          1,
          1,
          1,
          1,
          1,
          1,
          1,
          1,
          1,
          1,
          1,
          1,
          1,
          1,
          1,
          1,
          1,
          1,
          1,
          1,
          1,
          1,
          1,
          1,
          1,
          1,
          1,
          1,
          1,
          1,
          1,
          1,
          1,
          1,
          1,
          1,
          1,
          1,
          1,
          1,
          1,
          1,
          1,
          1,
          1,
          1,
          1,
          1,
          1,
          1,
          1,
          1,
          1,
          1,
          1,
          1,
          1,
          1,
          1,
          1,
          1,
          1,
          1,
          1,
          1,
          1,
          1,
          1,
          1,
          1,
          1,
          1,
          1,
          1,
          1,
          1,
          1,
          1,
          1,
          1,
          1,
          1,
          1,
          1,
          1,
          1,
          1,
          1,
          1,
          1,
          1,
          1,
          1,
          1,
          1,
          1,
          1,
          1,
          1,
          1,
          115,
          1,
          1,
          1,
          1,
          1,
          1,
          1,
          1,
          1,
          1,
          1,
          1,
          1,
          1,
          1,
          1,
          1,
          1,
          1,
          1,
          1,
          1,
          1,
          1,
          1,
          1,
          1,
          1,
          1,
          1,
          1,
          1,
          1,
          1,
          1,
          1,
          1,
          1,
          1,
          1,
          1,
          1,
          1,
          1,
          1,
          1,
          1,
          1,
          1,
          1,
          1,
          1,
          1,
          1,
          1,
          1,
          1,
          1,
          1,
          1,
          1,
          1,
          1,
          1,
          1,
          1,
          1,
          1,
          1,
          1,
          1,
          1,
          1,
          1,
          1,
          1,
          1,
          1,
          1,
          1,
          1,
          1,
          1,
          1,
          1,
          1,
          1,
          1,
          1,
          1,
          1,
          1,
          1,
          1,
          1,
          1,
          1,
          1,
          1,
          1,
          1,
          1,
          1,
          1,
          1,
          1,
          1,
          1,
          1,
          1,
          1,
          1,
          1,
          1,
          1,
          1,
          1,
          1,
          1,
          1,
          1,
          1,
          1,
          1,
          1,
          1,
          1,
          1,
          1,
          1,
          1,
          1,
          1,
          1,
          1,
          1,
          1,
          1,
          1,
          1,
          1,
          1,
          1,
          1,
          1,
          1,
          1,
          1,
          1,
          1,
          1,
          1,
          1,
          1,
          1,
          1,
          1,
          1,
          1,
          1,
          1,
          1,
          1,
          1,
          1,
          1,
          1,
          1,
          1,
          1,
          1,
          1,
          1,
          1,
          1,
          1,
          1,
          1,
          1,
          1,
          1,
          1,
          1,
          1,
          1,
          1,
          1,
          1,
          1,
          1,
          1,
          1,
          1,
          1,
          1,
          1,
          1,
          1,
          1,
          1,
          1,
          1,
          1,
          1,
          1,
          1,
          1,
          1,
          1,
          1,
          1,
          1,
          1,
          1,
          1,
          1,
          1,
          1,
          1,
          1,
          1,
          1,
          1,
          1,
          1,
          1,
          1,
          1,
          1,
          1,
          1,
          1,
          1,
          1,
          1,
          1,
          1,
          1,
          1,
          1,
          1,
          1,
          1,
          1,
          1,
          1,
          1,
          1,
          1,
          1,
          1,
          1,
          1,
          1,
          1,
          1,
          1,
          1,
          1,
          1,
          1,
          1,
          1,
          1,
          1,
          1,
          1,
          1,
          1,
          1,
          1,
          1,
          1,
          1,
          1,
          1,
          1,
          1,
          1,
          1,
          1,
          1,
          1,
          1,
          430,
          1,
          1,
          1,
          1,
          1,
          1,
          1,
          1,
          1,
          1,
          1,
          1,
          1,
          1,
          1,
          1,
          1,
          1,
          1,
          1,
          1,
          1,
          1,
          1,
          1,
          1,
          1,
          1,
          1,
          1,
          1,
          1,
          1,
          1,
          1,
          1,
          1,
          1,
          1,
          1,
          1,
          1,
          1,
          1,
          1,
          1,
          1,
          1,
          1,
          1,
          1,
          1,
          1,
          1,
          1,
          1,
          1,
          1,
          1,
          1,
          1,
          1,
          1,
          1,
          1,
          1,
          1,
          1,
          1,
          1,
          1,
          1,
          1,
          1,
          1,
          1,
          1,
          1,
          1,
          1,
          1,
          1,
          1,
          1,
          1,
          1,
          1,
          1,
          1,
          1,
          1,
          1,
          1,
          1,
          1,
          1,
          130,
          1,
          1,
          1,
          1,
          1,
          1,
          1,
          1,
          1,
          1,
          1,
          1,
          1,
          1,
          1,
          1,
          1,
          1,
          1,
          1,
          1,
          1,
          1,
          1,
          1,
          1,
          1,
          1,
          1,
          1,
          1,
          1,
          1,
          1,
          1,
          1,
          1,
          1,
          1,
          1,
          1,
          1,
          1,
          1,
          1,
          1,
          1,
          1,
          1,
          1,
          1,
          1,
          1,
          1,
          1,
          1,
          1,
          1,
          1,
          1,
          1,
          1,
          1,
          1,
          1,
          1,
          1,
          1,
          1,
          1,
          1,
          1,
          1,
          1,
          1,
          1,
          1,
          1,
          1,
          1,
          1,
          1,
          1,
          1,
          1,
          1,
          1,
          1,
          1,
          1,
          1,
          1,
          1,
          1,
          1,
          1,
          1,
          1,
          1,
          1,
          1,
          1,
          1,
          1,
          1,
          1,
          1,
          1,
          1,
          1,
          1,
          1,
          1,
          1,
          1,
          1,
          1,
          1,
          1,
          1,
          1,
          1,
          1,
          1,
          1,
          1,
          1,
          1,
          1,
          1,
          1,
          1,
          1,
          1,
          1,
          1,
          1,
          1,
          1,
          1,
          1,
          1,
          1,
          1,
          180,
          1,
          1,
          1,
          1,
          1,
          1,
          1,
          1,
          1,
          1,
          1,
          1,
          1,
          1,
          1,
          1,
          1,
          1,
          1,
          1,
          1,
          1,
          1,
          1,
          1,
          1,
          1,
          1,
          1,
          1,
          1,
          1,
          1,
          1,
          1,
          1,
          1,
          1,
          1,
          1,
          1,
          1,
          1,
          1,
          1,
          1,
          1,
          1,
          1,
          1,
          1,
          124,
          1,
          1,
          1,
          1,
          1,
          1,
          1,
          1,
          1,
          1,
          1,
          1,
          1,
          1,
          1,
          1,
          1,
          1,
          1,
          1,
          1,
          1,
          1,
          1,
          1,
          1,
          1,
          1,
          1,
          1,
          1,
          1,
          1,
          1,
          1,
          1,
          1,
          1,
          1,
          1,
          1,
          1,
          1,
          1,
          1,
          1,
          1,
          1,
          1,
          1,
          1,
          1,
          1,
          1,
          1,
          1,
          1,
          1,
          1,
          1,
          1,
          1,
          1,
          1,
          1,
          1,
          1,
          1,
          1,
          1,
          1,
          1,
          1,
          1,
          1,
          1
         ]
        }
       ],
       "layout": {
        "autosize": true,
        "coloraxis": {
         "colorbar": {
          "title": {
           "text": "bikes_out"
          }
         },
         "colorscale": [
          [
           0,
           "#0d0887"
          ],
          [
           0.1111111111111111,
           "#46039f"
          ],
          [
           0.2222222222222222,
           "#7201a8"
          ],
          [
           0.3333333333333333,
           "#9c179e"
          ],
          [
           0.4444444444444444,
           "#bd3786"
          ],
          [
           0.5555555555555556,
           "#d8576b"
          ],
          [
           0.6666666666666666,
           "#ed7953"
          ],
          [
           0.7777777777777778,
           "#fb9f3a"
          ],
          [
           0.8888888888888888,
           "#fdca26"
          ],
          [
           1,
           "#f0f921"
          ]
         ]
        },
        "legend": {
         "tracegroupgap": 0
        },
        "mapbox": {
         "bearing": 0,
         "center": {
          "lat": 40.800051838340494,
          "lon": -73.96093560195538
         },
         "domain": {
          "x": [
           0,
           1
          ],
          "y": [
           0,
           1
          ]
         },
         "pitch": 0,
         "style": "stamen-terrain",
         "zoom": 16.111596269420488
        },
        "margin": {
         "t": 60
        },
        "template": {
         "data": {
          "bar": [
           {
            "error_x": {
             "color": "#2a3f5f"
            },
            "error_y": {
             "color": "#2a3f5f"
            },
            "marker": {
             "line": {
              "color": "#E5ECF6",
              "width": 0.5
             },
             "pattern": {
              "fillmode": "overlay",
              "size": 10,
              "solidity": 0.2
             }
            },
            "type": "bar"
           }
          ],
          "barpolar": [
           {
            "marker": {
             "line": {
              "color": "#E5ECF6",
              "width": 0.5
             },
             "pattern": {
              "fillmode": "overlay",
              "size": 10,
              "solidity": 0.2
             }
            },
            "type": "barpolar"
           }
          ],
          "carpet": [
           {
            "aaxis": {
             "endlinecolor": "#2a3f5f",
             "gridcolor": "white",
             "linecolor": "white",
             "minorgridcolor": "white",
             "startlinecolor": "#2a3f5f"
            },
            "baxis": {
             "endlinecolor": "#2a3f5f",
             "gridcolor": "white",
             "linecolor": "white",
             "minorgridcolor": "white",
             "startlinecolor": "#2a3f5f"
            },
            "type": "carpet"
           }
          ],
          "choropleth": [
           {
            "colorbar": {
             "outlinewidth": 0,
             "ticks": ""
            },
            "type": "choropleth"
           }
          ],
          "contour": [
           {
            "colorbar": {
             "outlinewidth": 0,
             "ticks": ""
            },
            "colorscale": [
             [
              0,
              "#0d0887"
             ],
             [
              0.1111111111111111,
              "#46039f"
             ],
             [
              0.2222222222222222,
              "#7201a8"
             ],
             [
              0.3333333333333333,
              "#9c179e"
             ],
             [
              0.4444444444444444,
              "#bd3786"
             ],
             [
              0.5555555555555556,
              "#d8576b"
             ],
             [
              0.6666666666666666,
              "#ed7953"
             ],
             [
              0.7777777777777778,
              "#fb9f3a"
             ],
             [
              0.8888888888888888,
              "#fdca26"
             ],
             [
              1,
              "#f0f921"
             ]
            ],
            "type": "contour"
           }
          ],
          "contourcarpet": [
           {
            "colorbar": {
             "outlinewidth": 0,
             "ticks": ""
            },
            "type": "contourcarpet"
           }
          ],
          "heatmap": [
           {
            "colorbar": {
             "outlinewidth": 0,
             "ticks": ""
            },
            "colorscale": [
             [
              0,
              "#0d0887"
             ],
             [
              0.1111111111111111,
              "#46039f"
             ],
             [
              0.2222222222222222,
              "#7201a8"
             ],
             [
              0.3333333333333333,
              "#9c179e"
             ],
             [
              0.4444444444444444,
              "#bd3786"
             ],
             [
              0.5555555555555556,
              "#d8576b"
             ],
             [
              0.6666666666666666,
              "#ed7953"
             ],
             [
              0.7777777777777778,
              "#fb9f3a"
             ],
             [
              0.8888888888888888,
              "#fdca26"
             ],
             [
              1,
              "#f0f921"
             ]
            ],
            "type": "heatmap"
           }
          ],
          "heatmapgl": [
           {
            "colorbar": {
             "outlinewidth": 0,
             "ticks": ""
            },
            "colorscale": [
             [
              0,
              "#0d0887"
             ],
             [
              0.1111111111111111,
              "#46039f"
             ],
             [
              0.2222222222222222,
              "#7201a8"
             ],
             [
              0.3333333333333333,
              "#9c179e"
             ],
             [
              0.4444444444444444,
              "#bd3786"
             ],
             [
              0.5555555555555556,
              "#d8576b"
             ],
             [
              0.6666666666666666,
              "#ed7953"
             ],
             [
              0.7777777777777778,
              "#fb9f3a"
             ],
             [
              0.8888888888888888,
              "#fdca26"
             ],
             [
              1,
              "#f0f921"
             ]
            ],
            "type": "heatmapgl"
           }
          ],
          "histogram": [
           {
            "marker": {
             "pattern": {
              "fillmode": "overlay",
              "size": 10,
              "solidity": 0.2
             }
            },
            "type": "histogram"
           }
          ],
          "histogram2d": [
           {
            "colorbar": {
             "outlinewidth": 0,
             "ticks": ""
            },
            "colorscale": [
             [
              0,
              "#0d0887"
             ],
             [
              0.1111111111111111,
              "#46039f"
             ],
             [
              0.2222222222222222,
              "#7201a8"
             ],
             [
              0.3333333333333333,
              "#9c179e"
             ],
             [
              0.4444444444444444,
              "#bd3786"
             ],
             [
              0.5555555555555556,
              "#d8576b"
             ],
             [
              0.6666666666666666,
              "#ed7953"
             ],
             [
              0.7777777777777778,
              "#fb9f3a"
             ],
             [
              0.8888888888888888,
              "#fdca26"
             ],
             [
              1,
              "#f0f921"
             ]
            ],
            "type": "histogram2d"
           }
          ],
          "histogram2dcontour": [
           {
            "colorbar": {
             "outlinewidth": 0,
             "ticks": ""
            },
            "colorscale": [
             [
              0,
              "#0d0887"
             ],
             [
              0.1111111111111111,
              "#46039f"
             ],
             [
              0.2222222222222222,
              "#7201a8"
             ],
             [
              0.3333333333333333,
              "#9c179e"
             ],
             [
              0.4444444444444444,
              "#bd3786"
             ],
             [
              0.5555555555555556,
              "#d8576b"
             ],
             [
              0.6666666666666666,
              "#ed7953"
             ],
             [
              0.7777777777777778,
              "#fb9f3a"
             ],
             [
              0.8888888888888888,
              "#fdca26"
             ],
             [
              1,
              "#f0f921"
             ]
            ],
            "type": "histogram2dcontour"
           }
          ],
          "mesh3d": [
           {
            "colorbar": {
             "outlinewidth": 0,
             "ticks": ""
            },
            "type": "mesh3d"
           }
          ],
          "parcoords": [
           {
            "line": {
             "colorbar": {
              "outlinewidth": 0,
              "ticks": ""
             }
            },
            "type": "parcoords"
           }
          ],
          "pie": [
           {
            "automargin": true,
            "type": "pie"
           }
          ],
          "scatter": [
           {
            "fillpattern": {
             "fillmode": "overlay",
             "size": 10,
             "solidity": 0.2
            },
            "type": "scatter"
           }
          ],
          "scatter3d": [
           {
            "line": {
             "colorbar": {
              "outlinewidth": 0,
              "ticks": ""
             }
            },
            "marker": {
             "colorbar": {
              "outlinewidth": 0,
              "ticks": ""
             }
            },
            "type": "scatter3d"
           }
          ],
          "scattercarpet": [
           {
            "marker": {
             "colorbar": {
              "outlinewidth": 0,
              "ticks": ""
             }
            },
            "type": "scattercarpet"
           }
          ],
          "scattergeo": [
           {
            "marker": {
             "colorbar": {
              "outlinewidth": 0,
              "ticks": ""
             }
            },
            "type": "scattergeo"
           }
          ],
          "scattergl": [
           {
            "marker": {
             "colorbar": {
              "outlinewidth": 0,
              "ticks": ""
             }
            },
            "type": "scattergl"
           }
          ],
          "scattermapbox": [
           {
            "marker": {
             "colorbar": {
              "outlinewidth": 0,
              "ticks": ""
             }
            },
            "type": "scattermapbox"
           }
          ],
          "scatterpolar": [
           {
            "marker": {
             "colorbar": {
              "outlinewidth": 0,
              "ticks": ""
             }
            },
            "type": "scatterpolar"
           }
          ],
          "scatterpolargl": [
           {
            "marker": {
             "colorbar": {
              "outlinewidth": 0,
              "ticks": ""
             }
            },
            "type": "scatterpolargl"
           }
          ],
          "scatterternary": [
           {
            "marker": {
             "colorbar": {
              "outlinewidth": 0,
              "ticks": ""
             }
            },
            "type": "scatterternary"
           }
          ],
          "surface": [
           {
            "colorbar": {
             "outlinewidth": 0,
             "ticks": ""
            },
            "colorscale": [
             [
              0,
              "#0d0887"
             ],
             [
              0.1111111111111111,
              "#46039f"
             ],
             [
              0.2222222222222222,
              "#7201a8"
             ],
             [
              0.3333333333333333,
              "#9c179e"
             ],
             [
              0.4444444444444444,
              "#bd3786"
             ],
             [
              0.5555555555555556,
              "#d8576b"
             ],
             [
              0.6666666666666666,
              "#ed7953"
             ],
             [
              0.7777777777777778,
              "#fb9f3a"
             ],
             [
              0.8888888888888888,
              "#fdca26"
             ],
             [
              1,
              "#f0f921"
             ]
            ],
            "type": "surface"
           }
          ],
          "table": [
           {
            "cells": {
             "fill": {
              "color": "#EBF0F8"
             },
             "line": {
              "color": "white"
             }
            },
            "header": {
             "fill": {
              "color": "#C8D4E3"
             },
             "line": {
              "color": "white"
             }
            },
            "type": "table"
           }
          ]
         },
         "layout": {
          "annotationdefaults": {
           "arrowcolor": "#2a3f5f",
           "arrowhead": 0,
           "arrowwidth": 1
          },
          "autotypenumbers": "strict",
          "coloraxis": {
           "colorbar": {
            "outlinewidth": 0,
            "ticks": ""
           }
          },
          "colorscale": {
           "diverging": [
            [
             0,
             "#8e0152"
            ],
            [
             0.1,
             "#c51b7d"
            ],
            [
             0.2,
             "#de77ae"
            ],
            [
             0.3,
             "#f1b6da"
            ],
            [
             0.4,
             "#fde0ef"
            ],
            [
             0.5,
             "#f7f7f7"
            ],
            [
             0.6,
             "#e6f5d0"
            ],
            [
             0.7,
             "#b8e186"
            ],
            [
             0.8,
             "#7fbc41"
            ],
            [
             0.9,
             "#4d9221"
            ],
            [
             1,
             "#276419"
            ]
           ],
           "sequential": [
            [
             0,
             "#0d0887"
            ],
            [
             0.1111111111111111,
             "#46039f"
            ],
            [
             0.2222222222222222,
             "#7201a8"
            ],
            [
             0.3333333333333333,
             "#9c179e"
            ],
            [
             0.4444444444444444,
             "#bd3786"
            ],
            [
             0.5555555555555556,
             "#d8576b"
            ],
            [
             0.6666666666666666,
             "#ed7953"
            ],
            [
             0.7777777777777778,
             "#fb9f3a"
            ],
            [
             0.8888888888888888,
             "#fdca26"
            ],
            [
             1,
             "#f0f921"
            ]
           ],
           "sequentialminus": [
            [
             0,
             "#0d0887"
            ],
            [
             0.1111111111111111,
             "#46039f"
            ],
            [
             0.2222222222222222,
             "#7201a8"
            ],
            [
             0.3333333333333333,
             "#9c179e"
            ],
            [
             0.4444444444444444,
             "#bd3786"
            ],
            [
             0.5555555555555556,
             "#d8576b"
            ],
            [
             0.6666666666666666,
             "#ed7953"
            ],
            [
             0.7777777777777778,
             "#fb9f3a"
            ],
            [
             0.8888888888888888,
             "#fdca26"
            ],
            [
             1,
             "#f0f921"
            ]
           ]
          },
          "colorway": [
           "#636efa",
           "#EF553B",
           "#00cc96",
           "#ab63fa",
           "#FFA15A",
           "#19d3f3",
           "#FF6692",
           "#B6E880",
           "#FF97FF",
           "#FECB52"
          ],
          "font": {
           "color": "#2a3f5f"
          },
          "geo": {
           "bgcolor": "white",
           "lakecolor": "white",
           "landcolor": "#E5ECF6",
           "showlakes": true,
           "showland": true,
           "subunitcolor": "white"
          },
          "hoverlabel": {
           "align": "left"
          },
          "hovermode": "closest",
          "mapbox": {
           "style": "light"
          },
          "paper_bgcolor": "white",
          "plot_bgcolor": "#E5ECF6",
          "polar": {
           "angularaxis": {
            "gridcolor": "white",
            "linecolor": "white",
            "ticks": ""
           },
           "bgcolor": "#E5ECF6",
           "radialaxis": {
            "gridcolor": "white",
            "linecolor": "white",
            "ticks": ""
           }
          },
          "scene": {
           "xaxis": {
            "backgroundcolor": "#E5ECF6",
            "gridcolor": "white",
            "gridwidth": 2,
            "linecolor": "white",
            "showbackground": true,
            "ticks": "",
            "zerolinecolor": "white"
           },
           "yaxis": {
            "backgroundcolor": "#E5ECF6",
            "gridcolor": "white",
            "gridwidth": 2,
            "linecolor": "white",
            "showbackground": true,
            "ticks": "",
            "zerolinecolor": "white"
           },
           "zaxis": {
            "backgroundcolor": "#E5ECF6",
            "gridcolor": "white",
            "gridwidth": 2,
            "linecolor": "white",
            "showbackground": true,
            "ticks": "",
            "zerolinecolor": "white"
           }
          },
          "shapedefaults": {
           "line": {
            "color": "#2a3f5f"
           }
          },
          "ternary": {
           "aaxis": {
            "gridcolor": "white",
            "linecolor": "white",
            "ticks": ""
           },
           "baxis": {
            "gridcolor": "white",
            "linecolor": "white",
            "ticks": ""
           },
           "bgcolor": "#E5ECF6",
           "caxis": {
            "gridcolor": "white",
            "linecolor": "white",
            "ticks": ""
           }
          },
          "title": {
           "x": 0.05
          },
          "xaxis": {
           "automargin": true,
           "gridcolor": "white",
           "linecolor": "white",
           "ticks": "",
           "title": {
            "standoff": 15
           },
           "zerolinecolor": "white",
           "zerolinewidth": 2
          },
          "yaxis": {
           "automargin": true,
           "gridcolor": "white",
           "linecolor": "white",
           "ticks": "",
           "title": {
            "standoff": 15
           },
           "zerolinecolor": "white",
           "zerolinewidth": 2
          }
         }
        }
       }
      },
      "image/png": "[encoded data removed]",
      "text/html": [
       "<div>                            <div id=\"5724c13d-cdcc-463b-80a9-ec3e034afb48\" class=\"plotly-graph-div\" style=\"height:1000px; width:100%;\"></div>            <script type=\"text/javascript\">                require([\"plotly\"], function(Plotly) {                    window.PLOTLYENV=window.PLOTLYENV || {};                                    if (document.getElementById(\"5724c13d-cdcc-463b-80a9-ec3e034afb48\")) {                    Plotly.newPlot(                        \"5724c13d-cdcc-463b-80a9-ec3e034afb48\",                        [{\"coloraxis\":\"coloraxis\",\"hovertemplate\":\"bikes_out=%{z}<br>start_lat=%{lat}<br>start_lng=%{lon}<extra></extra>\",\"lat\":[40.795578837,40.79558954105342,40.79559,40.795619726,40.795639038,40.795640945,40.795642972,40.79564333,40.795646071,40.795654178,40.795656204,40.795661211,40.795661807,40.79566443,40.795669794,40.79567039,40.795671821,40.79567194,40.79567337,40.795674801,40.795675755,40.795677066,40.795678139,40.795679569,40.795682549,40.795695305,40.795695662,40.795696855,40.795698643,40.795699358,40.795699358,40.795700908,40.795703292,40.795707822,40.795709372,40.79571259,40.795714021,40.795715928,40.795717597,40.795717835,40.7957201,40.795721173,40.795721173,40.795721531,40.795725465,40.795725584,40.795726657,40.795726895,40.795727491,40.795728207,40.795730948,40.795732379,40.795734882,40.79573524,40.79573667,40.795739651,40.795740008,40.795746565,40.795758843,40.795759439,40.795762897,40.795763969,40.795764685,40.795769334,40.795774937,40.795781374,40.795782447,40.795783997,40.79578495,40.795785308,40.795786858,40.795787454,40.795789719,40.795793533,40.795793772,40.795794606,40.795794964,40.795797348,40.795820475,40.795822024,40.795825958,40.795826435,40.79582727,40.7958287,40.795829892,40.79583025,40.795842171,40.795845389,40.795846581,40.79584837,40.795851588,40.7958529,40.795854688,40.795857072,40.795857191,40.795857668,40.795860052,40.79586184,40.795867562,40.795869112,40.795869589,40.795870662,40.795871019,40.795872211,40.795874119,40.795875549,40.795880675,40.795882821,40.795883656,40.795884132,40.79589045,40.795892477,40.795892596,40.795894265,40.795896649,40.795897722,40.795898318,40.795903087,40.795903444,40.795904994,40.795909524,40.795910835,40.795910954,40.795912504,40.795914531,40.795917749,40.795919776,40.795921087,40.795922518,40.79592371,40.795927286,40.795932174,40.795932293,40.795937419,40.795937538,40.795940518,40.795941472,40.795943022,40.795944333,40.796811581,40.796905041,40.796931505,40.796932101,40.7969347,40.796960473,40.796966791,40.796972513,40.796980262,40.796994448,40.797009826,40.797015309,40.79702282,40.797039509,40.797050476,40.797053814,40.797064304,40.797072291,40.797073722,40.797080636,40.797082305,40.797098279,40.797108293,40.797112346,40.797113895,40.797113895,40.797128201,40.797133207,40.797136307,40.797136307,40.797136426,40.797140002,40.797140837,40.79714179,40.797145009,40.797147632,40.797147989,40.797152162,40.797162056,40.79716742,40.797168732,40.79717195,40.797173381,40.797174096,40.797190309,40.797190428,40.797201872,40.797204256,40.797210813,40.797212243,40.797212958,40.797215462,40.797226787,40.797233582,40.797242284,40.797323465,40.7980088,40.79346931,40.798007965,40.798615932,40.798624396,40.798648119,40.798650622,40.798650861,40.798651218,40.798654079,40.798656344,40.798656821,40.798658967,40.798661232,40.798662186,40.798662782,40.798664212,40.798665762,40.798665881,40.798667431,40.798668146,40.79867065,40.798674703,40.798674941,40.798676014,40.798678041,40.798678637,40.798678756,40.798679829,40.798680425,40.798681617,40.798682094,40.798682451,40.79868269,40.798683405,40.798684359,40.798686266,40.798689604,40.798689604,40.798692942,40.798694253,40.798694491,40.798696518,40.798696637,40.798696756,40.798696876,40.79869926,40.798700809,40.798702955,40.798703432,40.798703909,40.798703909,40.798704863,40.798705935,40.798706055,40.798707008,40.798708439,40.798708439,40.798710942,40.79871285,40.798714161,40.798715591,40.798717976,40.798719287,40.798719764,40.798724532,40.798726082,40.798727751,40.798728228,40.7987293,40.798738956,40.79874301,40.798743486,40.798752308,40.798752666,40.798755288,40.798756242,40.798758864,40.798760414,40.798761964,40.798765302,40.798774838,40.798775077,40.798780084,40.798782706,40.7987859,40.798785925,40.798786,40.798788905,40.798790336,40.798790455,40.798792005,40.798797965,40.798799753,40.798799992,40.798801303,40.798802972,40.79880476,40.798805237,40.798805952,40.798807263,40.798807979,40.798808813,40.798810005,40.798812985,40.798814297,40.798814774,40.798814893,40.798815012,40.798815846,40.798816323,40.798819065,40.798820257,40.798820257,40.798820376,40.798821688,40.798821688,40.798822045,40.798822999,40.798826218,40.798826814,40.79882741,40.798827529,40.798830867,40.798831224,40.798831582,40.798832417,40.798834562,40.798835993,40.798836708,40.798836827,40.798836827,40.798838139,40.798838496,40.798839092,40.798844814,40.79884696,40.79884851,40.79884851,40.798848629,40.79884994,40.79885149,40.79885149,40.798854947,40.79885602,40.798856974,40.798857689,40.798862815,40.798863053,40.798867226,40.798867583,40.798870325,40.798872709,40.798879266,40.798881769,40.798893332,40.798904896,40.79897058,40.741990805,40.797591567,40.79769671,40.797789693,40.797944784,40.797986269,40.798036814,40.798038363,40.798043847,40.798044801,40.798052669,40.798054814,40.798054814,40.798060775,40.798062325,40.798067927,40.798069954,40.798076868,40.798081398,40.798084378,40.798088312,40.798090696,40.798100233,40.798102498,40.798102617,40.79810369,40.798105359,40.798107147,40.798107862,40.798108339,40.798108459,40.798109293,40.798110127,40.79811132,40.798116207,40.798118114,40.798119545,40.798122287,40.798122287,40.798123121,40.798123479,40.798125625,40.798125625,40.798125625,40.798128724,40.798129082,40.798129439,40.798129559,40.798132658,40.798132896,40.798134208,40.7981354,40.798135638,40.798136473,40.798137903,40.798138022,40.798142672,40.798143268,40.798143864,40.79814446,40.798145056,40.798145652,40.798146248,40.798149228,40.798149347,40.798150063,40.798157096,40.798158526,40.798162341,40.798168778,40.798169971,40.798170805,40.798172116,40.798178196,40.798179865,40.798181415,40.798182011,40.798182607,40.798184395,40.798184752,40.7981856,40.798186,40.798187494,40.798190475,40.798191071,40.798198819,40.798204899,40.798207879,40.798209429,40.798214674,40.798218012,40.798218131,40.798220158,40.798223138,40.798227787,40.798233747,40.798243642,40.798247099,40.798253059,40.79825449,40.798254609,40.798254609,40.798256755,40.798256993,40.798262477,40.798267484,40.798267841,40.798267961,40.798270464,40.798273325,40.798275471,40.798281074,40.79828608,40.79828763,40.798291087,40.798293352,40.79829514,40.798295736,40.798295975,40.798296809,40.798297167,40.798300624,40.798302293,40.798308372,40.798309684,40.798310518,40.798316598,40.798316836,40.798321247,40.798325777,40.798334599,40.79833746,40.798341274,40.798346162,40.798355579,40.798363209,40.798396468,40.798419714,40.798437715,40.798491716,40.798518419,40.79875505,40.799305677,40.799460649,40.799473166,40.79947722,40.799479604,40.799483299,40.799484,40.799484372,40.799485087,40.799485564,40.799487948,40.799488187,40.799489141,40.799489379,40.799490452,40.799490571,40.799491048,40.799494743,40.799494743,40.799497843,40.799499154,40.799500823,40.799501419,40.799504638,40.799505472,40.799505711,40.799505949,40.799509406,40.799509525,40.799509645,40.799510717,40.799510956,40.799512386,40.799512506,40.799513459,40.799515247,40.799516082,40.79951632,40.79951632,40.79951787,40.799518347,40.799518585,40.799518943,40.7995193,40.79951942,40.799519897,40.799519897,40.799520373,40.799521089,40.799521446,40.799521565,40.799522758,40.799524069,40.799526095,40.799527764,40.799528241,40.799528956,40.799529433,40.799529433,40.799529791,40.799532413,40.799532413,40.799534202,40.79953444,40.799534559,40.799534917,40.799538255,40.799538612,40.79953897,40.799539924,40.799540281,40.799540281,40.799541712,40.799542546,40.799542665,40.799542785,40.799544334,40.799544573,40.799544811,40.799545527,40.799545765,40.799546003,40.799547672,40.799548864,40.799549222,40.799549699,40.799551129,40.799551487,40.799551606,40.799552917,40.799553394,40.799553514,40.799555302,40.799556375,40.79955709,40.79955864,40.799560666,40.799561381,40.79956162,40.799564362,40.799566507,40.799567461,40.799567699,40.799568415,40.799569726,40.799569964,40.799575448,40.799575567,40.799579024,40.799579144,40.79957962,40.799580455,40.799581528,40.799582243,40.799582839,40.799584389,40.799584985,40.799585819,40.799585938,40.799586058,40.799586654,40.799587011,40.799587965,40.799588323,40.799589276,40.799589992,40.799590707,40.799591541,40.799592853,40.79959321,40.799595356,40.79959929,40.799599528,40.799601436,40.799601912,40.799602628,40.799603105,40.799603105,40.799604416,40.79960525,40.799606919,40.799608231,40.799608707,40.799608827,40.799609184,40.79961431,40.799614668,40.799619913,40.799621463,40.799623132,40.799623609,40.799624324,40.799629688,40.799632311,40.799632549,40.799633503,40.799633741,40.799634337,40.799638271,40.799638629,40.799638748,40.799640656,40.799641132,40.799642324,40.799643517,40.799645424,40.799646139,40.799646735,40.799647808,40.79965055,40.799653053,40.799661756,40.799663305,40.799669504,40.799670458,40.799676895,40.79969883,40.799516916,40.799551249,40.799600601,40.799608827,40.799613237,40.799627185,40.799644232,40.799687505,40.799690366,40.799695969,40.799697399,40.799702406,40.799706101,40.799711466,40.799720645,40.799723387,40.799723506,40.79973352,40.799735785,40.799736381,40.799738884,40.79974103,40.799742341,40.799742937,40.799748659,40.799750209,40.799751878,40.7997568,40.7997576,40.799759269,40.799759626,40.799762487,40.799764514,40.799766064,40.799766421,40.799771428,40.799771667,40.799771905,40.79977262,40.79977262,40.799773455,40.799773693,40.799779534,40.799781919,40.799785376,40.799786448,40.799786687,40.79978931,40.799791455,40.799794793,40.79979527,40.799795628,40.799801826,40.799803972,40.799804807,40.799804926,40.799805045,40.799806595,40.799807906,40.799808502,40.79980886,40.799811363,40.799815536,40.799818158,40.799820304,40.7998209,40.799821496,40.799822688,40.799822927,40.799822927,40.799825668,40.799826384,40.799827695,40.799830198,40.799831152,40.79983151,40.79983294,40.799833655,40.799835443,40.79983592,40.79983592,40.799836755,40.799838185,40.799841285,40.799843907,40.799845695,40.799846292,40.79984653,40.799846888,40.799848437,40.79985106,40.799851298,40.799851775,40.799852371,40.79985261,40.799853563,40.799855828,40.799857497,40.799859524,40.799863815,40.799871087,40.799871325,40.799872398,40.799878478,40.799878597,40.799879432,40.799879909,40.799883127,40.799883246,40.7998842,40.799887776,40.799889922,40.799890041,40.799896955,40.799905062,40.799905658,40.799906373,40.799908757,40.799916625,40.799917102,40.799918413,40.799919367,40.799924135,40.799924493,40.799928069,40.799928188,40.799929619,40.799933672,40.799942374,40.799948454,40.799953938,40.799962044,40.799963713,40.799967289,40.800087094,40.741929889,40.748855948,40.8011868,40.801219463,40.801411152,40.801418066,40.80143702,40.801445365,40.801448703,40.801452994,40.80145669,40.801460624,40.801461935,40.801471233,40.801479459,40.801481485,40.801481962,40.801482916,40.80148375,40.801487565,40.801488042,40.801490426,40.801492572,40.801494718,40.801495314,40.801495671,40.801496387,40.801497459,40.801499128,40.801500201,40.80150044,40.801500797,40.801502585,40.801503539,40.80150497,40.801508188,40.801509738,40.801512599,40.801515341,40.801516891,40.801517248,40.801518917,40.801519752,40.801519871,40.801520944,40.801521897,40.801523566,40.801523805,40.80152452,40.80152452,40.801524639,40.801524878,40.801524997,40.801525235,40.801526189,40.801526189,40.801527262,40.801527381,40.801528096,40.801529169,40.801530361,40.801531315,40.80153203,40.801532149,40.801533341,40.801535606,40.801536679,40.801537633,40.801537871,40.801538348,40.801539898,40.801540732,40.801540852,40.801541328,40.801541328,40.801541567,40.801544905,40.801546335,40.801546812,40.801548123,40.801549077,40.801552057,40.801552415,40.801553249,40.801554441,40.801554561,40.801554799,40.801555872,40.80155611,40.801556468,40.801556945,40.801560879,40.801563025,40.801563025,40.801566243,40.8015697,40.801570415,40.80157268,40.801573753,40.801577806,40.801578283,40.801578879,40.801582813,40.801584244,40.801584601,40.801585555,40.801586509,40.801587462,40.801589489,40.801589608,40.801589966,40.801593065,40.801593184,40.801593542,40.801595926,40.80159688,40.801597476,40.801598549,40.801598787,40.801599741,40.801599741,40.801606178,40.801607728,40.801610351,40.801610827,40.801613331,40.80161345,40.801616311,40.801620722,40.801621199,40.801621556,40.80162406,40.801624417,40.801624656,40.801626086,40.801628828,40.801631689,40.801632762,40.801635861,40.801640391,40.801640868,40.801642776,40.801644087,40.801645994,40.80165422,40.801655769,40.801656127,40.8016572,40.801657438,40.801657438,40.801658273,40.801659703,40.801662087,40.801662326,40.801662803,40.801663637,40.80166471,40.801665664,40.801668048,40.801669359,40.801669717,40.801674128,40.801677108,40.801678419,40.801681042,40.80168128,40.801683426,40.801683903,40.801686168,40.801687002,40.801689744,40.801689863,40.801689982,40.801690221,40.801691532,40.801691771,40.801692247,40.801694,40.801695466,40.801700473,40.801701427,40.801703691,40.801703691,40.801703811,40.80170548,40.801705599,40.801705837,40.801706553,40.801706672,40.801708579,40.801708579,40.801709056,40.801709771,40.801710963,40.801712155,40.801715255,40.801715493,40.80171597,40.801716328,40.801716566,40.801717997,40.801721454,40.801722765,40.801723123,40.801726341,40.801727891,40.801728725,40.80172956,40.801730752,40.80173111,40.801731944,40.801734686,40.801737189,40.801738739,40.801745653,40.801745772,40.801747799,40.801748991,40.801757216,40.801761985,40.801767707,40.801772237,40.801798105,40.801800966,40.801823497,40.80185008,40.802329421,40.80234766,40.802363276,40.802376628,40.802382231,40.802391648,40.802405834,40.802407146,40.802412987,40.802417994,40.802421927,40.802428722,40.802429438,40.802429795,40.802432179,40.802438021,40.802441716,40.802446723,40.80244875,40.802458525,40.802459955,40.802463531,40.802469611,40.802471042,40.802473664,40.802477121,40.802483439,40.802485824,40.802485824,40.802488446,40.802493334,40.802495241,40.80250442,40.802506328,40.802509308,40.802509427,40.802510262,40.802510858,40.802511692,40.802513957,40.802519083,40.802520633,40.802520871,40.802524805,40.802525282,40.802530289,40.8025316,40.802534699,40.802535,40.802535534,40.802536011,40.802536011,40.802540302,40.802541614,40.802542329,40.802542686,40.802544475,40.802547097,40.802548289,40.802550316,40.802551031,40.802556157,40.802557588,40.802560449,40.802560449,40.802569389,40.802574277,40.802574754,40.802580833,40.802584648,40.802584767,40.802585483,40.802585483,40.802596092,40.802629709,40.748855948,40.802402735,40.802481651,40.802490711,40.80249393,40.802496076,40.802500248,40.802501678,40.802504063,40.802508116,40.802508354,40.80251205,40.802513599,40.802515626,40.802517414,40.802518129,40.802520037,40.802520394,40.802522898,40.802527547,40.802527547,40.802528977,40.802531958,40.802532554,40.802535772,40.802536368,40.802536964,40.802539706,40.802541494,40.802541733,40.802543879,40.802545667,40.802547574,40.802549124,40.802550554,40.802552462,40.802554846,40.802555323,40.80255723,40.802558184,40.802559018,40.802560568,40.80256319,40.802565694,40.802566051,40.80256784,40.802568436,40.802571654,40.802572727,40.802573562,40.802575827,40.802578211,40.80257833,40.802579761,40.802587032,40.802593708,40.802598953,40.802600503,40.80261004,40.802610397,40.802616119,40.802617311,40.802617908,40.80262661,40.802627921,40.802631855,40.802632093,40.802632213,40.802632809,40.80263567,40.802637577,40.802641273,40.802641392,40.802642703,40.802648425,40.802649379,40.802652001,40.802652836,40.802661061,40.80266428,40.802665234,40.802665472,40.802666306,40.802666426,40.802668929,40.802669168,40.802669287,40.80267036,40.802671552,40.80267179,40.802673221,40.802673817,40.802674413,40.802678585,40.802678943,40.802679062,40.80267942,40.802679539,40.802679777,40.80268085,40.802680969,40.802681446,40.802681804,40.802681923,40.802682281,40.802682519,40.802682757,40.802682877,40.80268383,40.802684665,40.802686214,40.80268681,40.80268693,40.802688122,40.80268836,40.802689791,40.802690148,40.802690268,40.802692,40.802693844,40.802694321,40.802696586,40.802699327,40.802699447,40.802699924,40.802701235,40.802701592,40.802701712,40.802701831,40.802702427,40.802702546,40.802703261,40.802703261,40.8027035,40.802704215,40.802705169,40.802709222,40.802709818,40.802711487,40.802712083,40.802716017,40.802716374,40.802716374,40.802717447,40.802718043,40.80271852,40.802721262,40.80272162,40.802724004,40.802726746,40.802727222,40.802732706,40.802732825,40.802736521,40.802739382,40.802761436,40.802788973,40.802565217,40.803589344,40.803738713,40.803748846,40.803826094,40.80382812,40.803844213,40.803851008,40.803854346,40.80385685,40.803859591,40.803862095,40.803865075,40.8038654,40.80386579,40.803868294,40.803871393,40.803871632,40.803876162,40.803879976,40.803882241,40.803884625,40.803886175,40.803890228,40.803894043,40.803894401,40.803896785,40.803896785,40.803898335,40.803901315,40.803905725,40.803905845,40.80390799,40.803909659,40.803909659,40.803914785,40.803925276,40.803926229,40.803933144,40.803933144,40.80393362,40.803934813,40.803937197,40.803937316,40.803939104,40.803940773,40.803941488,40.803943038,40.803945899,40.803951502,40.803956389,40.803957105,40.803961277,40.80396378,40.803967953,40.803972721,40.803975105,40.803975701,40.803976536,40.803980827,40.803983331,40.80398643,40.803991556,40.803999543,40.804004192,40.804005146,40.804008961,40.804009914,40.804011226,40.804012656,40.80402863,40.804030776,40.804033756,40.804035783,40.80403614,40.804036736,40.804043174,40.804049969,40.804054618,40.804055095,40.804059386,40.804060578,40.804060578,40.804063797,40.804065704,40.804066539,40.804071665,40.804091454,40.804092765,40.804115176],\"lon\":[-73.961806059,-73.96188408136368,-73.961884,-73.961771011,-73.961867809,-73.961786628,-73.961774588,-73.961873651,-73.961864591,-73.961899519,-73.961905956,-73.961951733,-73.961898446,-73.96189487,-73.961875319,-73.961801767,-73.961896181,-73.961862803,-73.961872578,-73.961882591,-73.961860657,-73.96189487,-73.961850882,-73.961894274,-73.961815596,-73.961814761,-73.961883783,-73.961868644,-73.961938143,-73.961839437,-73.961824298,-73.961893797,-73.96194005,-73.96194911,-73.961850166,-73.961881995,-73.962004185,-73.96193099,-73.961919665,-73.96190691,-73.961943746,-73.961967468,-73.961904526,-73.961844087,-73.961740136,-73.961983204,-73.961954236,-73.961905837,-73.961955428,-73.961863995,-73.961888671,-73.961747408,-73.961847544,-73.961853504,-73.961874008,-73.96188736,-73.961965561,-73.961813688,-73.962299943,-73.961852312,-73.961761594,-73.961851239,-73.96185863,-73.961836815,-73.961957335,-73.961782098,-73.961969376,-73.961858749,-73.962006211,-73.961784244,-73.961835623,-73.961771369,-73.961844444,-73.961923242,-73.961779475,-73.961737156,-73.961791515,-73.961783528,-73.961795449,-73.961723804,-73.961729884,-73.96169281,-73.961768508,-73.961756229,-73.961578369,-73.961722732,-73.961816669,-73.96180284,-73.961760163,-73.961775661,-73.96171689,-73.961783648,-73.961754441,-73.961727023,-73.961729288,-73.961772561,-73.961754918,-73.961799383,-73.96169734,-73.961673021,-73.961739898,-73.961683273,-73.961731315,-73.961732149,-73.961695194,-73.961769462,-73.961701035,-73.961778998,-73.961708784,-73.961701155,-73.961783171,-73.96167171,-73.96178484,-73.961732388,-73.961802363,-73.961696148,-73.961699843,-73.96173811,-73.961786866,-73.96169281,-73.96171701,-73.961678743,-73.961706877,-73.961726904,-73.961688757,-73.961718559,-73.961743236,-73.961699843,-73.961744189,-73.96179533,-73.961712599,-73.961741567,-73.961771846,-73.961671829,-73.961783051,-73.96176219,-73.961823344,-73.961765051,-73.961744428,-73.964251637,-73.964315534,-73.964447021,-73.964380264,-73.9643412291,-73.964326501,-73.964330316,-73.964383721,-73.964323044,-73.964363456,-73.964350104,-73.964321852,-73.964312315,-73.964344501,-73.964240074,-73.964355946,-73.964194536,-73.964312673,-73.964342356,-73.964260578,-73.964238167,-73.964149594,-73.964115739,-73.964282274,-73.964303493,-73.9642272,-73.964218378,-73.964176059,-73.964343548,-73.964180231,-73.964211583,-73.9642452,-73.964262843,-73.964209318,-73.964199424,-73.964225769,-73.964192152,-73.964189887,-73.96420598,-73.964292526,-73.964166045,-73.96424901500001,-73.964205861,-73.964128375,-73.964221835,-73.964230061,-73.9643296,-73.964196682,-73.96421206,-73.96425116099999,-73.964220881,-73.964184523,-73.964214444,-73.964335918,-73.964175224,-73.964330435,-73.963722587,-73.949371099,-73.948702812,-73.95248282,-73.952356935,-73.952391267,-73.952430367,-73.952401757,-73.952390075,-73.952391386,-73.952332854,-73.952430367,-73.952385306,-73.952393413,-73.952403665,-73.95236969,-73.952319741,-73.952359915,-73.952353239,-73.952376008,-73.952348351,-73.952393293,-73.952378511,-73.952348471,-73.952398539,-73.95237267,-73.952391982,-73.952395439,-73.952399969,-73.952377915,-73.952370644,-73.952378273,-73.952359796,-73.952350497,-73.952413082,-73.952369332,-73.952485442,-73.952400446,-73.952351093,-73.952330589,-73.952362061,-73.952346802,-73.952379346,-73.952390909,-73.952368855,-73.952348828,-73.952429056,-73.952384591,-73.952319741,-73.952345848,-73.952346563,-73.952340245,-73.9523983,-73.95240128,-73.952302575,-73.952387691,-73.952398419,-73.95238328,-73.952407241,-73.952379704,-73.952352524,-73.95233798,-73.952382326,-73.952425957,-73.952353716,-73.952376962,-73.952404857,-73.952390909,-73.952289104,-73.952294827,-73.952313423,-73.952316165,-73.95229435,-73.95229888,-73.952324271,-73.952287674,-73.95233202,-73.952365875,-73.952341795,-73.952322841,-73.952301264,-73.952317953,-73.952312469,-73.952304363,-73.952306747,-73.9523,-73.952308893,-73.9523,-73.952335238,-73.952293277,-73.952353597,-73.952262163,-73.952340484,-73.952298522,-73.952344179,-73.952291131,-73.952308655,-73.952326417,-73.952460408,-73.952334642,-73.952341914,-73.952304244,-73.952357769,-73.952379823,-73.95233047,-73.952326894,-73.95245266,-73.952372074,-73.952334046,-73.9524014,-73.952374935,-73.952363133,-73.952341795,-73.952332497,-73.952370405,-73.952363372,-73.952358603,-73.9523561,-73.952428102,-73.952345848,-73.95238471,-73.952401161,-73.95232594,-73.952451468,-73.952401638,-73.952378392,-73.952374101,-73.95225811,-73.9523983,-73.952372193,-73.952412486,-73.952312231,-73.952453613,-73.952432275,-73.952431083,-73.952370286,-73.952447414,-73.952421784,-73.952398181,-73.952354431,-73.952411771,-73.952402592,-73.952395797,-73.952388644,-73.952366471,-73.952313423,-73.952433467,-73.952384114,-73.952430487,-73.95245564,-73.952507138,-73.952463865,-73.952459693,-73.952471614,-73.9524616,-73.952478766,-73.952445149,-73.952453852,-73.983229995,-73.960103631,-73.960361838,-73.960507274,-73.960907221,-73.960506678,-73.960433364,-73.960532308,-73.960321069,-73.960540414,-73.960338473,-73.960494995,-73.960091591,-73.960389256,-73.960318565,-73.960455179,-73.960370421,-73.960312843,-73.960395694,-73.960497975,-73.960416794,-73.96028471,-73.960358381,-73.960307717,-73.960505486,-73.960360527,-73.960480094,-73.960327268,-73.96055305,-73.960355163,-73.960353851,-73.960335851,-73.960327148,-73.960400581,-73.960376501,-73.960339546,-73.960341334,-73.960482359,-73.960444689,-73.960278988,-73.960361958,-73.960447431,-73.960391402,-73.960329652,-73.960405827,-73.960341096,-73.960411787,-73.960486054,-73.9603616,-73.960351586,-73.960387588,-73.960454702,-73.960416794,-73.960345387,-73.960377455,-73.960358024,-73.960421085,-73.960418582,-73.960498929,-73.960354924,-73.960361958,-73.960298181,-73.960835338,-73.960795879,-73.960472941,-73.96037817,-73.960464478,-73.960328937,-73.960396767,-73.960468292,-73.960279703,-73.960207939,-73.96039331,-73.960292339,-73.960512996,-73.960455537,-73.960382462,-73.960309148,-73.960437894,-73.960743904,-73.9605909006,-73.960591,-73.960837603,-73.960276365,-73.960425615,-73.960353732,-73.960390806,-73.960337996,-73.960451722,-73.960527778,-73.960374713,-73.960850239,-73.960859895,-73.960455179,-73.96075058,-73.960476279,-73.960393429,-73.960713744,-73.960714817,-73.960430622,-73.960848808,-73.960818529,-73.960795283,-73.960834146,-73.960893273,-73.960772872,-73.960838795,-73.96047616,-73.960754037,-73.960698843,-73.960802436,-73.960812926,-73.960761786,-73.960833073,-73.960793018,-73.96080029,-73.960791111,-73.960761666,-73.960785389,-73.960448623,-73.960774422,-73.960720897,-73.960098982,-73.960762143,-73.960790634,-73.960323811,-73.960774899,-73.960454226,-73.960628152,-73.960744739,-73.960687637,-73.960700631,-73.960438967,-73.960240006,-73.960799813,-73.960669279,-73.96038913699999,-73.960828304,-73.960167885,-73.960658073,-73.960661173,-73.955097556,-73.956078529,-73.955649257,-73.955616236,-73.95560801,-73.955562711,-73.955612183,-73.955613,-73.955619693,-73.955580235,-73.955614328,-73.95563519,-73.955625415,-73.955636263,-73.955708981,-73.955616713,-73.955668569,-73.955677629,-73.955706954,-73.955599785,-73.955627561,-73.955600142,-73.955626249,-73.95565784,-73.955627799,-73.955604315,-73.955690384,-73.955711842,-73.955645561,-73.95560205,-73.95562768,-73.955617547,-73.955719471,-73.955611944,-73.955627322,-73.9556427,-73.955860615,-73.955679774,-73.955642819,-73.955586076,-73.955629587,-73.955671906,-73.955666542,-73.955674648,-73.955643415,-73.955648661,-73.955627918,-73.95562648800001,-73.955651522,-73.95568943,-73.955668807,-73.955707908,-73.955606103,-73.955619097,-73.955649495,-73.955656052,-73.95568049,-73.955649257,-73.9556849,-73.955680251,-73.955699325,-73.955677867,-73.955626369,-73.955634594,-73.955683112,-73.95560944100001,-73.955708027,-73.955690742,-73.955714941,-73.955631018,-73.955665708,-73.955657363,-73.955614209,-73.95569694,-73.955720544,-73.955698729,-73.955785036,-73.955790639,-73.955628991,-73.955661178,-73.955699444,-73.955683231,-73.955711126,-73.955717802,-73.95578146,-73.95577383,-73.955718994,-73.95569849,-73.955676198,-73.955652595,-73.955658436,-73.955841303,-73.955816984,-73.955763817,-73.955744147,-73.955719709,-73.955700517,-73.955773473,-73.955742121,-73.955831885,-73.955699801,-73.955721378,-73.95582509,-73.955815434,-73.955705523,-73.955651045,-73.955754519,-73.955698729,-73.955844522,-73.955797553,-73.955829144,-73.95593369,-73.955804586,-73.955816865,-73.955829501,-73.955771089,-73.955741763,-73.955736279,-73.955763698,-73.955805302,-73.955783963,-73.955827713,-73.955760002,-73.95579946,-73.955685258,-73.955808401,-73.955809951,-73.955821157,-73.955980301,-73.955790758,-73.955781102,-73.955967665,-73.955798507,-73.955785036,-73.955792069,-73.955888867,-73.955805779,-73.955787659,-73.955645919,-73.955926061,-73.955972195,-73.955793381,-73.955926895,-73.955867529,-73.955923319,-73.955902815,-73.955910444,-73.955777645,-73.955829263,-73.955997825,-73.955862761,-73.95590663,-73.955891848,-73.955809236,-73.955936074,-73.955964684,-73.955803275,-73.95595479,-73.955930471,-73.955994964,-73.955960393,-73.955921054,-73.955823064,-73.955986857,-73.955937028,-73.955959201,-73.955881834,-73.956017494,-73.95598042,-73.955955029,-73.955920696,-73.956006408,-73.95594883,-73.955926061,-73.955908418,-73.955991864,-73.955980182,-73.956007838,-73.962337017,-73.9615165,-73.962183833,-73.962339997,-73.961961985,-73.962191224,-73.962108135,-73.962062597,-73.962298512,-73.961902618,-73.962074041,-73.962162733,-73.962089658,-73.96177423,-73.96226418,-73.962058783,-73.962016225,-73.962099791,-73.962285519,-73.962043285,-73.962039232,-73.96219027,-73.962105989,-73.962340474,-73.962068796,-73.962184548,-73.962284565,-73.9621128676,-73.96214819,-73.96198976,-73.962126374,-73.962232471,-73.962169647,-73.962180853,-73.962122083,-73.962163091,-73.96216929,-73.962170124,-73.962172985,-73.962116718,-73.962057471,-73.962261319,-73.962165594,-73.962180376,-73.962052107,-73.962163806,-73.962114453,-73.961974263,-73.962215543,-73.962149501,-73.962148547,-73.962046146,-73.96211803,-73.962138772,-73.962073684,-73.962099671,-73.962204933,-73.962158799,-73.962079644,-73.962174177,-73.962131381,-73.962067604,-73.962214828,-73.962202668,-73.962174177,-73.962077498,-73.961995006,-73.962265968,-73.96221745,-73.962184668,-73.96203661,-73.962227464,-73.962195039,-73.962284088,-73.962184668,-73.962217569,-73.962140203,-73.962065578,-73.962092757,-73.962295175,-73.962206483,-73.962124586,-73.96211791,-73.962180257,-73.962106228,-73.962135673,-73.96216619,-73.962123275,-73.962030053,-73.961991549,-73.962216616,-73.962082982,-73.962117195,-73.962162971,-73.962192178,-73.962129831,-73.962073803,-73.962097406,-73.962271452,-73.962159395,-73.96212256,-73.962206125,-73.962135673,-73.962237,-73.962217212,-73.96200788,-73.962075949,-73.96212697,-73.962227345,-73.962078929,-73.962283134,-73.962113261,-73.961987019,-73.962084889,-73.962339282,-73.961992383,-73.962151885,-73.96207952500001,-73.962071419,-73.962122679,-73.962199092,-73.96228826,-73.962185621,-73.962051153,-73.962044477,-73.962075233,-73.962109327,-73.962265372,-73.962166905,-73.962343574,-73.962113261,-73.962068796,-73.962190032,-73.961986542,-73.96212554,-73.979024053,-73.97685194,-73.957378507,-73.957087278,-73.957235456,-73.957330704,-73.957344532,-73.957226753,-73.957303286,-73.957297325,-73.957072616,-73.95726192,-73.957216859,-73.957275033,-73.957347393,-73.957243681,-73.957283497,-73.957243323,-73.957316399,-73.957261443,-73.957207322,-73.957187295,-73.957349181,-73.957302213,-73.957243919,-73.957236171,-73.957236409,-73.957270384,-73.957133055,-73.957287669,-73.957371712,-73.957286835,-73.957288623,-73.957008839,-73.957272768,-73.957228541,-73.957275391,-73.957238913,-73.957300782,-73.957324147,-73.957440734,-73.957291603,-73.957330346,-73.957264543,-73.957300782,-73.95739913,-73.957339168,-73.95731163,-73.957284093,-73.957052946,-73.957263231,-73.957225919,-73.957347631,-73.957238436,-73.957315683,-73.957303882,-73.957286596,-73.957257748,-73.957215667,-73.957471967,-73.957208633,-73.957247853,-73.95720005,-73.957305908,-73.957218885,-73.957268715,-73.957337737,-73.957294464,-73.957303166,-73.957256913,-73.957297683,-73.957238793,-73.957274318,-73.957332253,-73.957300305,-73.95726347,-73.957263112,-73.957349181,-73.957314968,-73.957312584,-73.957267404,-73.957212806,-73.957142472,-73.957292795,-73.957155347,-73.957179904,-73.957326531,-73.957345247,-73.957206607,-73.957256436,-73.957234979,-73.957230091,-73.957320571,-73.957289815,-73.957337618,-73.95743084,-73.957258463,-73.957214355,-73.957263947,-73.957302809,-73.95716393,-73.957355618,-73.957287192,-73.957253933,-73.957368851,-73.957157016,-73.957230806,-73.957287788,-73.957378626,-73.957088232,-73.957310438,-73.957173586,-73.957483053,-73.957340002,-73.957428932,-73.957289934,-73.95724654200001,-73.957289577,-73.957186103,-73.957259178,-73.957205057,-73.957157731,-73.957353473,-73.957383633,-73.957140684,-73.957271338,-73.957235098,-73.95716846,-73.957206249,-73.957292676,-73.957284212,-73.957286477,-73.957208753,-73.95725131,-73.957229018,-73.957144141,-73.957179904,-73.957198977,-73.957161665,-73.957193375,-73.957187772,-73.957171679,-73.957240701,-73.957365751,-73.957176924,-73.957213402,-73.957140803,-73.957261324,-73.957172513,-73.957136869,-73.957167149,-73.957192183,-73.957285047,-73.957290173,-73.957133293,-73.957132816,-73.957175255,-73.957185268,-73.957180381,-73.957229137,-73.95716846,-73.957408667,-73.957229257,-73.95719862,-73.95718646,-73.957125664,-73.957152128,-73.957175851,-73.957167745,-73.9571594,-73.957171202,-73.95719325499999,-73.957170248,-73.957216501,-73.957317472,-73.957359076,-73.957151532,-73.957145,-73.957196116,-73.957192659,-73.957216501,-73.957179904,-73.957171559,-73.957194328,-73.957134604,-73.957183361,-73.957161307,-73.957121253,-73.957141399,-73.957262039,-73.957074523,-73.957161784,-73.957190514,-73.957156897,-73.957188129,-73.957118869,-73.957187533,-73.957284808,-73.95718205,-73.957154989,-73.957222342,-73.957195997,-73.957186222,-73.957181811,-73.957172275,-73.957098484,-73.957159281,-73.957171679,-73.957071185,-73.957158685,-73.957158923,-73.957168937,-73.957152486,-73.957168102,-73.957190633,-73.957170129,-73.957074642,-73.957182407,-73.957156062,-73.957259893,-73.95713079,-73.957146645,-73.957458615,-73.957201838,-73.957175136,-73.957502365,-73.953188062,-73.953266263,-73.95329988,-73.953317761,-73.953362942,-73.953343391,-73.953357339,-73.95335269,-73.953322172,-73.9533571,-73.953296304,-73.953373075,-73.953332901,-73.953333855,-73.953312755,-73.953314543,-73.953324437,-73.953356862,-73.953308225,-73.953389287,-73.953309655,-73.953382611,-73.953287721,-73.95339334,-73.953252316,-73.953243017,-73.953335524,-73.953257442,-73.953250647,-73.953184247,-73.953194976,-73.953229189,-73.953279376,-73.953226924,-73.953322053,-73.953248978,-73.953230739,-73.953255057,-73.95319891,-73.95318377,-73.953191757,-73.953285933,-73.95324719,-73.953250766,-73.953243852,-73.953341007,-73.953210711,-73.953282237,-73.9532423,-73.953239799,-73.953273773,-73.953175306,-73.953228354,-73.953279614,-73.953249216,-73.953251123,-73.953320742,-73.953258276,-73.953244805,-73.953258872,-73.95321846,-73.95325315,-73.953267455,-73.953232288,-73.953198314,-73.953210115,-73.953264952,-73.95344317,-73.953363895,-73.953331709,-73.953339696,-73.95330286,-73.953267336,-73.95326972,-73.953112364,-73.97685194,-73.962790966,-73.962578058,-73.962775707,-73.962602258,-73.962586999,-73.962594509,-73.962546229,-73.962716937,-73.962679863,-73.962608099,-73.962678552,-73.962589741,-73.962563157,-73.962711573,-73.962602139,-73.96261847,-73.962624311,-73.962593079,-73.962745786,-73.962633371,-73.962559819,-73.962872148,-73.962617397,-73.962634802,-73.962569118,-73.962646723,-73.962668777,-73.962814331,-73.962606668,-73.9625808,-73.962608457,-73.962649584,-73.962599874,-73.962532997,-73.962563753,-73.96265316,-73.962743759,-73.962610602,-73.96272707,-73.962610245,-73.962632656,-73.962683201,-73.962595582,-73.962567687,-73.962947369,-73.962630033,-73.962589979,-73.962928891,-73.962714434,-73.962607503,-73.962648988,-73.962622643,-73.962683439,-73.962651491,-73.962626457,-73.962658286,-73.962703705,-73.962747931,-73.962724805,-73.962595701,-73.96278429,-73.962781191,-73.962609172,-73.962877512,-73.962962627,-73.963015676,-73.962929726,-73.962898016,-73.962829113,-73.962842226,-73.962863326,-73.962679744,-73.962812066,-73.96294415,-73.962838769,-73.962723851,-73.962948799,-73.962882042,-73.962894082,-73.962855697,-73.962959409,-73.962954402,-73.96297121,-73.962925553,-73.962921619,-73.963009715,-73.962999225,-73.962945938,-73.96295619,-73.962768435,-73.962950349,-73.962930083,-73.962956786,-73.962953329,-73.962937474,-73.962865233,-73.962962389,-73.962843299,-73.962961555,-73.962868929,-73.96298182,-73.962919593,-73.962943435,-73.962906837,-73.962913513,-73.962911367,-73.9628793,-73.962956548,-73.96298921100001,-73.962887764,-73.962828875,-73.962952375,-73.963038325,-73.963008165,-73.96297121,-73.962905765,-73.962848186,-73.96295,-73.96298635,-73.962932944,-73.962966442,-73.962889075,-73.96295011,-73.96291995,-73.962926865,-73.963006377,-73.962944269,-73.962926865,-73.96300602,-73.962967157,-73.962969065,-73.962950706,-73.963103294,-73.963267326,-73.962976217,-73.962948203,-73.962974787,-73.962944508,-73.962958574,-73.962922692,-73.962955236,-73.962952018,-73.963038683,-73.963049531,-73.962938905,-73.962940931,-73.962970018,-73.962967038,-73.963005304,-73.962956071,-73.962977052,-73.963001251,-73.962995529,-73.962930679,-73.963015914,-73.963013887,-73.957759261,-73.955572724,-73.955650926,-73.955287576,-73.955856681,-73.955739498,-73.955874801,-73.955922008,-73.955840945,-73.955690384,-73.955882192,-73.95585227,-73.955865622,-73.9559308,-73.955901265,-73.95584023,-73.955858111,-73.955597997,-73.955892563,-73.955799341,-73.955902696,-73.955832601,-73.955856323,-73.955829978,-73.955827355,-73.955861926,-73.955903172,-73.955852032,-73.955836773,-73.955908775,-73.955959797,-73.955763578,-73.95587194,-73.955914021,-73.955823183,-73.955821395,-73.955939531,-73.955908895,-73.955921292,-73.955847025,-73.955881596,-73.955777884,-73.955890775,-73.95595479,-73.955725551,-73.955928683,-73.955895662,-73.9558779,-73.955930233,-73.955912232,-73.955911636,-73.9558146,-73.955445409,-73.955950499,-73.955660343,-73.955878854,-73.955953956,-73.955862164,-73.95578146,-73.955785394,-73.955696702,-73.95576489,-73.955798149,-73.9558357,-73.955774665,-73.955820441,-73.955879688,-73.955864906,-73.955847502,-73.955766201,-73.955803514,-73.955705643,-73.955750823,-73.955732703,-73.955881357,-73.955826402,-73.955778122,-73.955764532,-73.955688,-73.955797434,-73.955747604,-73.955829382,-73.955792665,-73.955762982,-73.955801725,-73.955882192,-73.955809474,-73.955762148,-73.955812931,-73.956507564],\"name\":\"\",\"radius\":15,\"subplot\":\"mapbox\",\"z\":[1,219,1,1,1,1,1,1,1,1,1,1,1,1,1,1,1,1,1,1,1,1,1,1,1,1,1,1,1,1,1,1,1,1,1,1,1,1,1,1,1,1,1,1,1,1,1,1,1,1,1,1,1,1,1,1,1,1,1,1,1,1,1,1,1,1,1,1,1,1,1,1,1,1,1,1,1,1,1,1,1,1,1,1,1,1,1,1,1,1,1,1,1,1,1,1,1,1,1,1,1,1,1,1,1,1,1,1,1,1,1,1,1,1,1,1,1,1,1,1,1,1,1,1,1,1,1,1,1,1,1,1,1,1,1,1,1,1,1,1,1,1,1,37,1,1,1,1,1,1,1,1,1,1,1,1,1,1,1,1,1,1,1,1,1,1,1,1,1,1,1,1,1,1,1,1,1,1,1,1,1,1,1,1,1,1,1,1,1,1,1,1,1,1,1,1,1,1,1,1,1,1,1,1,1,1,1,1,1,1,1,1,1,1,1,1,1,1,1,1,1,1,1,1,1,1,1,1,1,1,1,1,1,1,1,1,1,1,1,1,1,1,1,1,1,1,1,1,1,1,1,1,1,1,1,2,1,1,1,1,1,1,1,1,1,1,1,1,1,1,1,1,1,1,1,1,1,1,1,1,327,1,8,1,1,1,1,1,1,1,1,1,1,1,1,1,1,1,1,1,1,1,1,1,1,1,1,1,1,1,1,1,1,1,1,1,1,1,1,1,1,1,1,1,1,1,1,1,1,1,1,1,1,1,1,1,1,1,1,1,1,1,1,1,1,1,1,1,1,1,1,1,1,1,1,1,1,1,1,1,1,1,1,1,1,1,1,1,1,1,1,1,1,1,1,1,1,1,1,1,1,1,1,1,1,1,1,1,1,1,1,1,1,1,1,1,1,1,1,1,1,1,1,1,1,1,1,1,1,1,1,1,1,1,1,1,1,1,1,1,1,1,1,1,1,1,1,1,1,1,1,1,1,279,1,1,1,1,1,1,1,1,1,1,1,1,1,1,1,1,1,1,1,1,1,1,1,1,1,1,1,1,1,1,1,1,1,1,1,1,1,1,1,1,1,1,1,1,1,1,1,1,1,1,1,1,1,1,1,1,1,1,1,1,1,1,1,1,1,1,1,547,1,1,1,1,1,1,1,1,1,1,1,1,1,1,1,1,1,1,1,1,1,1,1,1,1,1,1,1,1,1,1,1,1,1,1,1,1,1,1,1,1,1,1,1,1,1,1,1,1,1,1,1,1,1,1,1,1,1,1,1,1,1,1,1,1,1,1,1,1,1,1,1,1,1,1,1,1,1,1,1,1,1,1,1,1,1,1,1,1,1,1,1,1,1,1,1,1,1,1,1,1,1,1,1,1,1,1,1,1,1,1,1,1,1,1,1,1,1,1,1,1,1,1,1,1,1,1,1,1,1,1,1,1,1,1,1,1,1,1,1,1,1,1,1,1,1,1,1,1,1,1,1,1,1,1,1,1,1,1,1,1,1,1,1,1,1,1,1,1,1,1,1,1,1,1,1,1,1,1,1,1,1,1,1,1,1,1,1,1,1,1,1,1,1,1,1,1,115,1,1,1,1,1,1,1,1,1,1,1,1,1,1,1,1,1,1,1,1,1,1,1,1,1,1,1,1,1,1,1,1,1,1,1,1,1,1,1,1,1,1,1,1,1,1,1,1,1,1,1,1,1,1,1,1,1,1,1,1,1,1,1,1,1,1,1,1,1,1,1,1,1,1,1,1,1,1,1,1,1,1,1,1,1,1,1,1,1,1,1,1,1,1,1,1,1,1,1,1,1,1,1,1,1,1,1,1,1,1,1,1,1,1,1,1,1,1,1,1,1,1,1,1,1,1,1,1,1,1,1,1,1,1,1,1,1,1,1,1,1,1,1,1,1,1,1,1,1,1,1,1,1,1,1,1,1,1,1,1,1,1,1,1,1,1,1,1,1,1,1,1,1,1,1,1,1,1,1,1,1,1,1,1,1,1,1,1,1,1,1,1,1,1,1,1,1,1,1,1,1,1,1,1,1,1,1,1,1,1,1,1,1,1,1,1,1,1,1,1,1,1,1,1,1,1,1,1,1,1,1,1,1,1,1,1,1,1,1,1,1,1,1,1,1,1,1,1,1,1,1,1,1,1,1,1,1,1,1,1,1,1,1,1,1,1,1,1,1,1,1,1,1,1,1,1,1,1,1,1,1,1,1,1,430,1,1,1,1,1,1,1,1,1,1,1,1,1,1,1,1,1,1,1,1,1,1,1,1,1,1,1,1,1,1,1,1,1,1,1,1,1,1,1,1,1,1,1,1,1,1,1,1,1,1,1,1,1,1,1,1,1,1,1,1,1,1,1,1,1,1,1,1,1,1,1,1,1,1,1,1,1,1,1,1,1,1,1,1,1,1,1,1,1,1,1,1,1,1,1,1,130,1,1,1,1,1,1,1,1,1,1,1,1,1,1,1,1,1,1,1,1,1,1,1,1,1,1,1,1,1,1,1,1,1,1,1,1,1,1,1,1,1,1,1,1,1,1,1,1,1,1,1,1,1,1,1,1,1,1,1,1,1,1,1,1,1,1,1,1,1,1,1,1,1,1,1,1,1,1,1,1,1,1,1,1,1,1,1,1,1,1,1,1,1,1,1,1,1,1,1,1,1,1,1,1,1,1,1,1,1,1,1,1,1,1,1,1,1,1,1,1,1,1,1,1,1,1,1,1,1,1,1,1,1,1,1,1,1,1,1,1,1,1,1,1,180,1,1,1,1,1,1,1,1,1,1,1,1,1,1,1,1,1,1,1,1,1,1,1,1,1,1,1,1,1,1,1,1,1,1,1,1,1,1,1,1,1,1,1,1,1,1,1,1,1,1,1,124,1,1,1,1,1,1,1,1,1,1,1,1,1,1,1,1,1,1,1,1,1,1,1,1,1,1,1,1,1,1,1,1,1,1,1,1,1,1,1,1,1,1,1,1,1,1,1,1,1,1,1,1,1,1,1,1,1,1,1,1,1,1,1,1,1,1,1,1,1,1,1,1,1,1,1,1],\"type\":\"densitymapbox\"}],                        {\"template\":{\"data\":{\"histogram2dcontour\":[{\"type\":\"histogram2dcontour\",\"colorbar\":{\"outlinewidth\":0,\"ticks\":\"\"},\"colorscale\":[[0.0,\"#0d0887\"],[0.1111111111111111,\"#46039f\"],[0.2222222222222222,\"#7201a8\"],[0.3333333333333333,\"#9c179e\"],[0.4444444444444444,\"#bd3786\"],[0.5555555555555556,\"#d8576b\"],[0.6666666666666666,\"#ed7953\"],[0.7777777777777778,\"#fb9f3a\"],[0.8888888888888888,\"#fdca26\"],[1.0,\"#f0f921\"]]}],\"choropleth\":[{\"type\":\"choropleth\",\"colorbar\":{\"outlinewidth\":0,\"ticks\":\"\"}}],\"histogram2d\":[{\"type\":\"histogram2d\",\"colorbar\":{\"outlinewidth\":0,\"ticks\":\"\"},\"colorscale\":[[0.0,\"#0d0887\"],[0.1111111111111111,\"#46039f\"],[0.2222222222222222,\"#7201a8\"],[0.3333333333333333,\"#9c179e\"],[0.4444444444444444,\"#bd3786\"],[0.5555555555555556,\"#d8576b\"],[0.6666666666666666,\"#ed7953\"],[0.7777777777777778,\"#fb9f3a\"],[0.8888888888888888,\"#fdca26\"],[1.0,\"#f0f921\"]]}],\"heatmap\":[{\"type\":\"heatmap\",\"colorbar\":{\"outlinewidth\":0,\"ticks\":\"\"},\"colorscale\":[[0.0,\"#0d0887\"],[0.1111111111111111,\"#46039f\"],[0.2222222222222222,\"#7201a8\"],[0.3333333333333333,\"#9c179e\"],[0.4444444444444444,\"#bd3786\"],[0.5555555555555556,\"#d8576b\"],[0.6666666666666666,\"#ed7953\"],[0.7777777777777778,\"#fb9f3a\"],[0.8888888888888888,\"#fdca26\"],[1.0,\"#f0f921\"]]}],\"heatmapgl\":[{\"type\":\"heatmapgl\",\"colorbar\":{\"outlinewidth\":0,\"ticks\":\"\"},\"colorscale\":[[0.0,\"#0d0887\"],[0.1111111111111111,\"#46039f\"],[0.2222222222222222,\"#7201a8\"],[0.3333333333333333,\"#9c179e\"],[0.4444444444444444,\"#bd3786\"],[0.5555555555555556,\"#d8576b\"],[0.6666666666666666,\"#ed7953\"],[0.7777777777777778,\"#fb9f3a\"],[0.8888888888888888,\"#fdca26\"],[1.0,\"#f0f921\"]]}],\"contourcarpet\":[{\"type\":\"contourcarpet\",\"colorbar\":{\"outlinewidth\":0,\"ticks\":\"\"}}],\"contour\":[{\"type\":\"contour\",\"colorbar\":{\"outlinewidth\":0,\"ticks\":\"\"},\"colorscale\":[[0.0,\"#0d0887\"],[0.1111111111111111,\"#46039f\"],[0.2222222222222222,\"#7201a8\"],[0.3333333333333333,\"#9c179e\"],[0.4444444444444444,\"#bd3786\"],[0.5555555555555556,\"#d8576b\"],[0.6666666666666666,\"#ed7953\"],[0.7777777777777778,\"#fb9f3a\"],[0.8888888888888888,\"#fdca26\"],[1.0,\"#f0f921\"]]}],\"surface\":[{\"type\":\"surface\",\"colorbar\":{\"outlinewidth\":0,\"ticks\":\"\"},\"colorscale\":[[0.0,\"#0d0887\"],[0.1111111111111111,\"#46039f\"],[0.2222222222222222,\"#7201a8\"],[0.3333333333333333,\"#9c179e\"],[0.4444444444444444,\"#bd3786\"],[0.5555555555555556,\"#d8576b\"],[0.6666666666666666,\"#ed7953\"],[0.7777777777777778,\"#fb9f3a\"],[0.8888888888888888,\"#fdca26\"],[1.0,\"#f0f921\"]]}],\"mesh3d\":[{\"type\":\"mesh3d\",\"colorbar\":{\"outlinewidth\":0,\"ticks\":\"\"}}],\"scatter\":[{\"fillpattern\":{\"fillmode\":\"overlay\",\"size\":10,\"solidity\":0.2},\"type\":\"scatter\"}],\"parcoords\":[{\"type\":\"parcoords\",\"line\":{\"colorbar\":{\"outlinewidth\":0,\"ticks\":\"\"}}}],\"scatterpolargl\":[{\"type\":\"scatterpolargl\",\"marker\":{\"colorbar\":{\"outlinewidth\":0,\"ticks\":\"\"}}}],\"bar\":[{\"error_x\":{\"color\":\"#2a3f5f\"},\"error_y\":{\"color\":\"#2a3f5f\"},\"marker\":{\"line\":{\"color\":\"#E5ECF6\",\"width\":0.5},\"pattern\":{\"fillmode\":\"overlay\",\"size\":10,\"solidity\":0.2}},\"type\":\"bar\"}],\"scattergeo\":[{\"type\":\"scattergeo\",\"marker\":{\"colorbar\":{\"outlinewidth\":0,\"ticks\":\"\"}}}],\"scatterpolar\":[{\"type\":\"scatterpolar\",\"marker\":{\"colorbar\":{\"outlinewidth\":0,\"ticks\":\"\"}}}],\"histogram\":[{\"marker\":{\"pattern\":{\"fillmode\":\"overlay\",\"size\":10,\"solidity\":0.2}},\"type\":\"histogram\"}],\"scattergl\":[{\"type\":\"scattergl\",\"marker\":{\"colorbar\":{\"outlinewidth\":0,\"ticks\":\"\"}}}],\"scatter3d\":[{\"type\":\"scatter3d\",\"line\":{\"colorbar\":{\"outlinewidth\":0,\"ticks\":\"\"}},\"marker\":{\"colorbar\":{\"outlinewidth\":0,\"ticks\":\"\"}}}],\"scattermapbox\":[{\"type\":\"scattermapbox\",\"marker\":{\"colorbar\":{\"outlinewidth\":0,\"ticks\":\"\"}}}],\"scatterternary\":[{\"type\":\"scatterternary\",\"marker\":{\"colorbar\":{\"outlinewidth\":0,\"ticks\":\"\"}}}],\"scattercarpet\":[{\"type\":\"scattercarpet\",\"marker\":{\"colorbar\":{\"outlinewidth\":0,\"ticks\":\"\"}}}],\"carpet\":[{\"aaxis\":{\"endlinecolor\":\"#2a3f5f\",\"gridcolor\":\"white\",\"linecolor\":\"white\",\"minorgridcolor\":\"white\",\"startlinecolor\":\"#2a3f5f\"},\"baxis\":{\"endlinecolor\":\"#2a3f5f\",\"gridcolor\":\"white\",\"linecolor\":\"white\",\"minorgridcolor\":\"white\",\"startlinecolor\":\"#2a3f5f\"},\"type\":\"carpet\"}],\"table\":[{\"cells\":{\"fill\":{\"color\":\"#EBF0F8\"},\"line\":{\"color\":\"white\"}},\"header\":{\"fill\":{\"color\":\"#C8D4E3\"},\"line\":{\"color\":\"white\"}},\"type\":\"table\"}],\"barpolar\":[{\"marker\":{\"line\":{\"color\":\"#E5ECF6\",\"width\":0.5},\"pattern\":{\"fillmode\":\"overlay\",\"size\":10,\"solidity\":0.2}},\"type\":\"barpolar\"}],\"pie\":[{\"automargin\":true,\"type\":\"pie\"}]},\"layout\":{\"autotypenumbers\":\"strict\",\"colorway\":[\"#636efa\",\"#EF553B\",\"#00cc96\",\"#ab63fa\",\"#FFA15A\",\"#19d3f3\",\"#FF6692\",\"#B6E880\",\"#FF97FF\",\"#FECB52\"],\"font\":{\"color\":\"#2a3f5f\"},\"hovermode\":\"closest\",\"hoverlabel\":{\"align\":\"left\"},\"paper_bgcolor\":\"white\",\"plot_bgcolor\":\"#E5ECF6\",\"polar\":{\"bgcolor\":\"#E5ECF6\",\"angularaxis\":{\"gridcolor\":\"white\",\"linecolor\":\"white\",\"ticks\":\"\"},\"radialaxis\":{\"gridcolor\":\"white\",\"linecolor\":\"white\",\"ticks\":\"\"}},\"ternary\":{\"bgcolor\":\"#E5ECF6\",\"aaxis\":{\"gridcolor\":\"white\",\"linecolor\":\"white\",\"ticks\":\"\"},\"baxis\":{\"gridcolor\":\"white\",\"linecolor\":\"white\",\"ticks\":\"\"},\"caxis\":{\"gridcolor\":\"white\",\"linecolor\":\"white\",\"ticks\":\"\"}},\"coloraxis\":{\"colorbar\":{\"outlinewidth\":0,\"ticks\":\"\"}},\"colorscale\":{\"sequential\":[[0.0,\"#0d0887\"],[0.1111111111111111,\"#46039f\"],[0.2222222222222222,\"#7201a8\"],[0.3333333333333333,\"#9c179e\"],[0.4444444444444444,\"#bd3786\"],[0.5555555555555556,\"#d8576b\"],[0.6666666666666666,\"#ed7953\"],[0.7777777777777778,\"#fb9f3a\"],[0.8888888888888888,\"#fdca26\"],[1.0,\"#f0f921\"]],\"sequentialminus\":[[0.0,\"#0d0887\"],[0.1111111111111111,\"#46039f\"],[0.2222222222222222,\"#7201a8\"],[0.3333333333333333,\"#9c179e\"],[0.4444444444444444,\"#bd3786\"],[0.5555555555555556,\"#d8576b\"],[0.6666666666666666,\"#ed7953\"],[0.7777777777777778,\"#fb9f3a\"],[0.8888888888888888,\"#fdca26\"],[1.0,\"#f0f921\"]],\"diverging\":[[0,\"#8e0152\"],[0.1,\"#c51b7d\"],[0.2,\"#de77ae\"],[0.3,\"#f1b6da\"],[0.4,\"#fde0ef\"],[0.5,\"#f7f7f7\"],[0.6,\"#e6f5d0\"],[0.7,\"#b8e186\"],[0.8,\"#7fbc41\"],[0.9,\"#4d9221\"],[1,\"#276419\"]]},\"xaxis\":{\"gridcolor\":\"white\",\"linecolor\":\"white\",\"ticks\":\"\",\"title\":{\"standoff\":15},\"zerolinecolor\":\"white\",\"automargin\":true,\"zerolinewidth\":2},\"yaxis\":{\"gridcolor\":\"white\",\"linecolor\":\"white\",\"ticks\":\"\",\"title\":{\"standoff\":15},\"zerolinecolor\":\"white\",\"automargin\":true,\"zerolinewidth\":2},\"scene\":{\"xaxis\":{\"backgroundcolor\":\"#E5ECF6\",\"gridcolor\":\"white\",\"linecolor\":\"white\",\"showbackground\":true,\"ticks\":\"\",\"zerolinecolor\":\"white\",\"gridwidth\":2},\"yaxis\":{\"backgroundcolor\":\"#E5ECF6\",\"gridcolor\":\"white\",\"linecolor\":\"white\",\"showbackground\":true,\"ticks\":\"\",\"zerolinecolor\":\"white\",\"gridwidth\":2},\"zaxis\":{\"backgroundcolor\":\"#E5ECF6\",\"gridcolor\":\"white\",\"linecolor\":\"white\",\"showbackground\":true,\"ticks\":\"\",\"zerolinecolor\":\"white\",\"gridwidth\":2}},\"shapedefaults\":{\"line\":{\"color\":\"#2a3f5f\"}},\"annotationdefaults\":{\"arrowcolor\":\"#2a3f5f\",\"arrowhead\":0,\"arrowwidth\":1},\"geo\":{\"bgcolor\":\"white\",\"landcolor\":\"#E5ECF6\",\"subunitcolor\":\"white\",\"showland\":true,\"showlakes\":true,\"lakecolor\":\"white\"},\"title\":{\"x\":0.05},\"mapbox\":{\"style\":\"light\"}}},\"mapbox\":{\"domain\":{\"x\":[0.0,1.0],\"y\":[0.0,1.0]},\"center\":{\"lat\":40.802,\"lon\":-73.963},\"zoom\":13,\"style\":\"stamen-terrain\"},\"coloraxis\":{\"colorbar\":{\"title\":{\"text\":\"bikes_out\"}},\"colorscale\":[[0.0,\"#0d0887\"],[0.1111111111111111,\"#46039f\"],[0.2222222222222222,\"#7201a8\"],[0.3333333333333333,\"#9c179e\"],[0.4444444444444444,\"#bd3786\"],[0.5555555555555556,\"#d8576b\"],[0.6666666666666666,\"#ed7953\"],[0.7777777777777778,\"#fb9f3a\"],[0.8888888888888888,\"#fdca26\"],[1.0,\"#f0f921\"]]},\"legend\":{\"tracegroupgap\":0},\"margin\":{\"t\":60},\"height\":1000},                        {\"responsive\": true}                    ).then(function(){\n",
       "                            \n",
       "var gd = document.getElementById('5724c13d-cdcc-463b-80a9-ec3e034afb48');\n",
       "var x = new MutationObserver(function (mutations, observer) {{\n",
       "        var display = window.getComputedStyle(gd).display;\n",
       "        if (!display || display === 'none') {{\n",
       "            console.log([gd, 'removed!']);\n",
       "            Plotly.purge(gd);\n",
       "            observer.disconnect();\n",
       "        }}\n",
       "}});\n",
       "\n",
       "// Listen for the removal of the full notebook cells\n",
       "var notebookContainer = gd.closest('#notebook-container');\n",
       "if (notebookContainer) {{\n",
       "    x.observe(notebookContainer, {childList: true});\n",
       "}}\n",
       "\n",
       "// Listen for the clearing of the current output cell\n",
       "var outputEl = gd.closest('.output');\n",
       "if (outputEl) {{\n",
       "    x.observe(outputEl, {childList: true});\n",
       "}}\n",
       "\n",
       "                        })                };                });            </script>        </div>"
      ]
     },
     "metadata": {},
     "output_type": "display_data"
    }
   ],
   "source": [
    "fig = px.density_mapbox(map_df, lat='start_lat', lon='start_lng', z='bikes_out', radius=15,\n",
    "                        center=dict(lat=40.802, lon=-73.963), zoom=13, height=1000,\n",
    "                        mapbox_style=\"stamen-terrain\")\n",
    "fig.show()"
   ]
  },
  {
   "cell_type": "markdown",
   "id": "a0284fa2-3dde-4dea-b8ba-e608bbbaa87a",
   "metadata": {},
   "source": [
    " treeSummary_df = pd.merge(treeSummary_df, b_df[['borocode']], how=\"right\", on=[\"borocode\"])\n",
    " \n",
    " df = pd.DataFrame({'time': ['2022-01-01 01:14:00', '2022-01-01 01:24:15',\n",
    "                            '2022-01-01 02:52:19', '2022-01-01 02:54:00',\n",
    "                            '2022-01-01 04:05:10', '2022-01-01 05:35:09'],\n",
    "                   'sales': [18, 20, 15, 14, 10, 9]})\n",
    "                   \n",
    "                   \n",
    "                   "
   ]
  },
  {
   "cell_type": "code",
   "execution_count": null,
   "id": "b62ee4c6-c7da-4502-950d-0898c69d66b6",
   "metadata": {},
   "outputs": [],
   "source": [
    "station_lst = ['7646.04','7619.05','7631.23','7617.07','7606.01','7577.27','7595.17','7602.05','7643.18','7658.13']"
   ]
  },
  {
   "cell_type": "code",
   "execution_count": 38,
   "id": "06e8a569-6380-4911-9715-3cddcc3849a0",
   "metadata": {},
   "outputs": [
    {
     "data": {
      "text/html": [
       "<div>\n",
       "<style scoped>\n",
       "    .dataframe tbody tr th:only-of-type {\n",
       "        vertical-align: middle;\n",
       "    }\n",
       "\n",
       "    .dataframe tbody tr th {\n",
       "        vertical-align: top;\n",
       "    }\n",
       "\n",
       "    .dataframe thead th {\n",
       "        text-align: right;\n",
       "    }\n",
       "</style>\n",
       "<table border=\"1\" class=\"dataframe\">\n",
       "  <thead>\n",
       "    <tr style=\"text-align: right;\">\n",
       "      <th></th>\n",
       "      <th>start_station_id</th>\n",
       "      <th>start_lat</th>\n",
       "      <th>start_lng</th>\n",
       "    </tr>\n",
       "  </thead>\n",
       "  <tbody>\n",
       "    <tr>\n",
       "      <th>132105</th>\n",
       "      <td>7617.07</td>\n",
       "      <td>40.799624</td>\n",
       "      <td>-73.955892</td>\n",
       "    </tr>\n",
       "    <tr>\n",
       "      <th>138545</th>\n",
       "      <td>7631.23</td>\n",
       "      <td>40.801694</td>\n",
       "      <td>-73.957145</td>\n",
       "    </tr>\n",
       "    <tr>\n",
       "      <th>138554</th>\n",
       "      <td>7577.27</td>\n",
       "      <td>40.795590</td>\n",
       "      <td>-73.961884</td>\n",
       "    </tr>\n",
       "    <tr>\n",
       "      <th>138699</th>\n",
       "      <td>7643.18</td>\n",
       "      <td>40.802535</td>\n",
       "      <td>-73.953242</td>\n",
       "    </tr>\n",
       "    <tr>\n",
       "      <th>180376</th>\n",
       "      <td>7658.13</td>\n",
       "      <td>40.803865</td>\n",
       "      <td>-73.955931</td>\n",
       "    </tr>\n",
       "    <tr>\n",
       "      <th>181327</th>\n",
       "      <td>7646.04</td>\n",
       "      <td>40.802558</td>\n",
       "      <td>-73.962727</td>\n",
       "    </tr>\n",
       "    <tr>\n",
       "      <th>182768</th>\n",
       "      <td>7606.01</td>\n",
       "      <td>40.798186</td>\n",
       "      <td>-73.960591</td>\n",
       "    </tr>\n",
       "    <tr>\n",
       "      <th>185239</th>\n",
       "      <td>7619.05</td>\n",
       "      <td>40.799774</td>\n",
       "      <td>-73.962261</td>\n",
       "    </tr>\n",
       "    <tr>\n",
       "      <th>188352</th>\n",
       "      <td>7602.05</td>\n",
       "      <td>40.798786</td>\n",
       "      <td>-73.952300</td>\n",
       "    </tr>\n",
       "    <tr>\n",
       "      <th>188444</th>\n",
       "      <td>7595.17</td>\n",
       "      <td>40.796935</td>\n",
       "      <td>-73.964341</td>\n",
       "    </tr>\n",
       "  </tbody>\n",
       "</table>\n",
       "</div>"
      ],
      "text/plain": [
       "       start_station_id  start_lat  start_lng\n",
       "132105          7617.07  40.799624 -73.955892\n",
       "138545          7631.23  40.801694 -73.957145\n",
       "138554          7577.27  40.795590 -73.961884\n",
       "138699          7643.18  40.802535 -73.953242\n",
       "180376          7658.13  40.803865 -73.955931\n",
       "181327          7646.04  40.802558 -73.962727\n",
       "182768          7606.01  40.798186 -73.960591\n",
       "185239          7619.05  40.799774 -73.962261\n",
       "188352          7602.05  40.798786 -73.952300\n",
       "188444          7595.17  40.796935 -73.964341"
      ]
     },
     "execution_count": 38,
     "metadata": {},
     "output_type": "execute_result"
    }
   ],
   "source": [
    "fltr_df = df[(df['start_station_id'].isin(station_lst))].copy()\n",
    "fltr_df = fltr_df[['start_station_id','start_lat','start_lng']].drop_duplicates('start_station_id')\n",
    "fltr_df"
   ]
  },
  {
   "cell_type": "code",
   "execution_count": 40,
   "id": "1ceeb5a0-591e-49d3-864f-a3cec0917620",
   "metadata": {},
   "outputs": [
    {
     "data": {
      "text/html": [
       "<div>\n",
       "<style scoped>\n",
       "    .dataframe tbody tr th:only-of-type {\n",
       "        vertical-align: middle;\n",
       "    }\n",
       "\n",
       "    .dataframe tbody tr th {\n",
       "        vertical-align: top;\n",
       "    }\n",
       "\n",
       "    .dataframe thead th {\n",
       "        text-align: right;\n",
       "    }\n",
       "</style>\n",
       "<table border=\"1\" class=\"dataframe\">\n",
       "  <thead>\n",
       "    <tr style=\"text-align: right;\">\n",
       "      <th></th>\n",
       "      <th>start_station_id</th>\n",
       "      <th>start_station_name</th>\n",
       "      <th>started_date</th>\n",
       "      <th>bikes_out</th>\n",
       "    </tr>\n",
       "  </thead>\n",
       "  <tbody>\n",
       "    <tr>\n",
       "      <th>0</th>\n",
       "      <td>7577.27</td>\n",
       "      <td>Central Park W &amp; W 103 St</td>\n",
       "      <td>2023-02-01</td>\n",
       "      <td>7</td>\n",
       "    </tr>\n",
       "    <tr>\n",
       "      <th>1</th>\n",
       "      <td>7577.27</td>\n",
       "      <td>Central Park W &amp; W 103 St</td>\n",
       "      <td>2023-02-02</td>\n",
       "      <td>16</td>\n",
       "    </tr>\n",
       "    <tr>\n",
       "      <th>2</th>\n",
       "      <td>7577.27</td>\n",
       "      <td>Central Park W &amp; W 103 St</td>\n",
       "      <td>2023-02-03</td>\n",
       "      <td>10</td>\n",
       "    </tr>\n",
       "    <tr>\n",
       "      <th>3</th>\n",
       "      <td>7577.27</td>\n",
       "      <td>Central Park W &amp; W 103 St</td>\n",
       "      <td>2023-02-04</td>\n",
       "      <td>5</td>\n",
       "    </tr>\n",
       "    <tr>\n",
       "      <th>4</th>\n",
       "      <td>7577.27</td>\n",
       "      <td>Central Park W &amp; W 103 St</td>\n",
       "      <td>2023-02-05</td>\n",
       "      <td>12</td>\n",
       "    </tr>\n",
       "    <tr>\n",
       "      <th>...</th>\n",
       "      <td>...</td>\n",
       "      <td>...</td>\n",
       "      <td>...</td>\n",
       "      <td>...</td>\n",
       "    </tr>\n",
       "    <tr>\n",
       "      <th>274</th>\n",
       "      <td>7658.13</td>\n",
       "      <td>Frederick Douglass Blvd &amp; W 115 St</td>\n",
       "      <td>2023-02-24</td>\n",
       "      <td>5</td>\n",
       "    </tr>\n",
       "    <tr>\n",
       "      <th>275</th>\n",
       "      <td>7658.13</td>\n",
       "      <td>Frederick Douglass Blvd &amp; W 115 St</td>\n",
       "      <td>2023-02-25</td>\n",
       "      <td>6</td>\n",
       "    </tr>\n",
       "    <tr>\n",
       "      <th>276</th>\n",
       "      <td>7658.13</td>\n",
       "      <td>Frederick Douglass Blvd &amp; W 115 St</td>\n",
       "      <td>2023-02-26</td>\n",
       "      <td>9</td>\n",
       "    </tr>\n",
       "    <tr>\n",
       "      <th>277</th>\n",
       "      <td>7658.13</td>\n",
       "      <td>Frederick Douglass Blvd &amp; W 115 St</td>\n",
       "      <td>2023-02-27</td>\n",
       "      <td>3</td>\n",
       "    </tr>\n",
       "    <tr>\n",
       "      <th>278</th>\n",
       "      <td>7658.13</td>\n",
       "      <td>Frederick Douglass Blvd &amp; W 115 St</td>\n",
       "      <td>2023-02-28</td>\n",
       "      <td>2</td>\n",
       "    </tr>\n",
       "  </tbody>\n",
       "</table>\n",
       "<p>279 rows × 4 columns</p>\n",
       "</div>"
      ],
      "text/plain": [
       "    start_station_id                  start_station_name started_date  \\\n",
       "0            7577.27           Central Park W & W 103 St   2023-02-01   \n",
       "1            7577.27           Central Park W & W 103 St   2023-02-02   \n",
       "2            7577.27           Central Park W & W 103 St   2023-02-03   \n",
       "3            7577.27           Central Park W & W 103 St   2023-02-04   \n",
       "4            7577.27           Central Park W & W 103 St   2023-02-05   \n",
       "..               ...                                 ...          ...   \n",
       "274          7658.13  Frederick Douglass Blvd & W 115 St   2023-02-24   \n",
       "275          7658.13  Frederick Douglass Blvd & W 115 St   2023-02-25   \n",
       "276          7658.13  Frederick Douglass Blvd & W 115 St   2023-02-26   \n",
       "277          7658.13  Frederick Douglass Blvd & W 115 St   2023-02-27   \n",
       "278          7658.13  Frederick Douglass Blvd & W 115 St   2023-02-28   \n",
       "\n",
       "     bikes_out  \n",
       "0            7  \n",
       "1           16  \n",
       "2           10  \n",
       "3            5  \n",
       "4           12  \n",
       "..         ...  \n",
       "274          5  \n",
       "275          6  \n",
       "276          9  \n",
       "277          3  \n",
       "278          2  \n",
       "\n",
       "[279 rows x 4 columns]"
      ]
     },
     "execution_count": 40,
     "metadata": {},
     "output_type": "execute_result"
    }
   ],
   "source": []
  },
  {
   "cell_type": "code",
   "execution_count": null,
   "id": "616864a1-fde8-4f69-be14-7142e07b4ccc",
   "metadata": {},
   "outputs": [],
   "source": []
  },
  {
   "cell_type": "code",
   "execution_count": 39,
   "id": "fb1a181e-9b5d-4ed8-a269-954cc30e5de2",
   "metadata": {},
   "outputs": [
    {
     "data": {
      "text/html": [
       "<div>\n",
       "<style scoped>\n",
       "    .dataframe tbody tr th:only-of-type {\n",
       "        vertical-align: middle;\n",
       "    }\n",
       "\n",
       "    .dataframe tbody tr th {\n",
       "        vertical-align: top;\n",
       "    }\n",
       "\n",
       "    .dataframe thead th {\n",
       "        text-align: right;\n",
       "    }\n",
       "</style>\n",
       "<table border=\"1\" class=\"dataframe\">\n",
       "  <thead>\n",
       "    <tr style=\"text-align: right;\">\n",
       "      <th></th>\n",
       "      <th>start_station_id</th>\n",
       "      <th>start_station_name</th>\n",
       "      <th>started_date</th>\n",
       "      <th>bikes_out</th>\n",
       "      <th>start_lat</th>\n",
       "      <th>start_lng</th>\n",
       "    </tr>\n",
       "  </thead>\n",
       "  <tbody>\n",
       "    <tr>\n",
       "      <th>0</th>\n",
       "      <td>7577.27</td>\n",
       "      <td>Central Park W &amp; W 103 St</td>\n",
       "      <td>2023-02-01</td>\n",
       "      <td>7</td>\n",
       "      <td>40.795590</td>\n",
       "      <td>-73.961884</td>\n",
       "    </tr>\n",
       "    <tr>\n",
       "      <th>1</th>\n",
       "      <td>7577.27</td>\n",
       "      <td>Central Park W &amp; W 103 St</td>\n",
       "      <td>2023-02-02</td>\n",
       "      <td>16</td>\n",
       "      <td>40.795590</td>\n",
       "      <td>-73.961884</td>\n",
       "    </tr>\n",
       "    <tr>\n",
       "      <th>2</th>\n",
       "      <td>7577.27</td>\n",
       "      <td>Central Park W &amp; W 103 St</td>\n",
       "      <td>2023-02-03</td>\n",
       "      <td>10</td>\n",
       "      <td>40.795590</td>\n",
       "      <td>-73.961884</td>\n",
       "    </tr>\n",
       "    <tr>\n",
       "      <th>3</th>\n",
       "      <td>7577.27</td>\n",
       "      <td>Central Park W &amp; W 103 St</td>\n",
       "      <td>2023-02-04</td>\n",
       "      <td>5</td>\n",
       "      <td>40.795590</td>\n",
       "      <td>-73.961884</td>\n",
       "    </tr>\n",
       "    <tr>\n",
       "      <th>4</th>\n",
       "      <td>7577.27</td>\n",
       "      <td>Central Park W &amp; W 103 St</td>\n",
       "      <td>2023-02-05</td>\n",
       "      <td>12</td>\n",
       "      <td>40.795590</td>\n",
       "      <td>-73.961884</td>\n",
       "    </tr>\n",
       "    <tr>\n",
       "      <th>...</th>\n",
       "      <td>...</td>\n",
       "      <td>...</td>\n",
       "      <td>...</td>\n",
       "      <td>...</td>\n",
       "      <td>...</td>\n",
       "      <td>...</td>\n",
       "    </tr>\n",
       "    <tr>\n",
       "      <th>274</th>\n",
       "      <td>7658.13</td>\n",
       "      <td>Frederick Douglass Blvd &amp; W 115 St</td>\n",
       "      <td>2023-02-24</td>\n",
       "      <td>5</td>\n",
       "      <td>40.803865</td>\n",
       "      <td>-73.955931</td>\n",
       "    </tr>\n",
       "    <tr>\n",
       "      <th>275</th>\n",
       "      <td>7658.13</td>\n",
       "      <td>Frederick Douglass Blvd &amp; W 115 St</td>\n",
       "      <td>2023-02-25</td>\n",
       "      <td>6</td>\n",
       "      <td>40.803865</td>\n",
       "      <td>-73.955931</td>\n",
       "    </tr>\n",
       "    <tr>\n",
       "      <th>276</th>\n",
       "      <td>7658.13</td>\n",
       "      <td>Frederick Douglass Blvd &amp; W 115 St</td>\n",
       "      <td>2023-02-26</td>\n",
       "      <td>9</td>\n",
       "      <td>40.803865</td>\n",
       "      <td>-73.955931</td>\n",
       "    </tr>\n",
       "    <tr>\n",
       "      <th>277</th>\n",
       "      <td>7658.13</td>\n",
       "      <td>Frederick Douglass Blvd &amp; W 115 St</td>\n",
       "      <td>2023-02-27</td>\n",
       "      <td>3</td>\n",
       "      <td>40.803865</td>\n",
       "      <td>-73.955931</td>\n",
       "    </tr>\n",
       "    <tr>\n",
       "      <th>278</th>\n",
       "      <td>7658.13</td>\n",
       "      <td>Frederick Douglass Blvd &amp; W 115 St</td>\n",
       "      <td>2023-02-28</td>\n",
       "      <td>2</td>\n",
       "      <td>40.803865</td>\n",
       "      <td>-73.955931</td>\n",
       "    </tr>\n",
       "  </tbody>\n",
       "</table>\n",
       "<p>279 rows × 6 columns</p>\n",
       "</div>"
      ],
      "text/plain": [
       "    start_station_id                  start_station_name started_date  \\\n",
       "0            7577.27           Central Park W & W 103 St   2023-02-01   \n",
       "1            7577.27           Central Park W & W 103 St   2023-02-02   \n",
       "2            7577.27           Central Park W & W 103 St   2023-02-03   \n",
       "3            7577.27           Central Park W & W 103 St   2023-02-04   \n",
       "4            7577.27           Central Park W & W 103 St   2023-02-05   \n",
       "..               ...                                 ...          ...   \n",
       "274          7658.13  Frederick Douglass Blvd & W 115 St   2023-02-24   \n",
       "275          7658.13  Frederick Douglass Blvd & W 115 St   2023-02-25   \n",
       "276          7658.13  Frederick Douglass Blvd & W 115 St   2023-02-26   \n",
       "277          7658.13  Frederick Douglass Blvd & W 115 St   2023-02-27   \n",
       "278          7658.13  Frederick Douglass Blvd & W 115 St   2023-02-28   \n",
       "\n",
       "     bikes_out  start_lat  start_lng  \n",
       "0            7  40.795590 -73.961884  \n",
       "1           16  40.795590 -73.961884  \n",
       "2           10  40.795590 -73.961884  \n",
       "3            5  40.795590 -73.961884  \n",
       "4           12  40.795590 -73.961884  \n",
       "..         ...        ...        ...  \n",
       "274          5  40.803865 -73.955931  \n",
       "275          6  40.803865 -73.955931  \n",
       "276          9  40.803865 -73.955931  \n",
       "277          3  40.803865 -73.955931  \n",
       "278          2  40.803865 -73.955931  \n",
       "\n",
       "[279 rows x 6 columns]"
      ]
     },
     "execution_count": 39,
     "metadata": {},
     "output_type": "execute_result"
    }
   ],
   "source": [
    "#fltr_df = pd.DataFrame({'start_station_id': station_lst})\n",
    "d1 = pd.merge(start_df, fltr_df, how=\"left\", on=[\"start_station_id\"])\n",
    "d1"
   ]
  },
  {
   "cell_type": "code",
   "execution_count": null,
   "id": "0694e2e8-9a80-484d-a240-e48563768f42",
   "metadata": {},
   "outputs": [],
   "source": [
    "df = pd.DataFrame({'time': ['2022-01-01 01:14:00', '2022-01-01 01:24:15',\n",
    "                            '2022-01-01 02:52:19', '2022-01-01 02:54:00',\n",
    "                            '2022-01-01 04:05:10', '2022-01-01 05:35:09'],\n",
    "                   'sales': [18, 20, 15, 14, 10, 9]})"
   ]
  },
  {
   "cell_type": "code",
   "execution_count": null,
   "id": "f57d9729-a76c-4b7b-a4b4-a770146ab21e",
   "metadata": {},
   "outputs": [],
   "source": []
  }
 ],
 "metadata": {
  "kernelspec": {
   "display_name": "Python 3 (ipykernel)",
   "language": "python",
   "name": "python3"
  },
  "language_info": {
   "codemirror_mode": {
    "name": "ipython",
    "version": 3
   },
   "file_extension": ".py",
   "mimetype": "text/x-python",
   "name": "python",
   "nbconvert_exporter": "python",
   "pygments_lexer": "ipython3",
   "version": "3.10.10"
  }
 },
 "nbformat": 4,
 "nbformat_minor": 5
}
